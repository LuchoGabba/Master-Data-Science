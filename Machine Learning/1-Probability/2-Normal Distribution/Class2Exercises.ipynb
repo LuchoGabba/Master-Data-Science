{
  "nbformat": 4,
  "nbformat_minor": 0,
  "metadata": {
    "colab": {
      "provenance": [],
      "toc_visible": true
    },
    "kernelspec": {
      "name": "python3",
      "display_name": "Python 3"
    },
    "language_info": {
      "name": "python"
    }
  },
  "cells": [
    {
      "cell_type": "markdown",
      "source": [
        "#<font color='#97171e'>AIT - Master in Data Science</font> 📈\n",
        "# **Module 8: Class 2-Exercises**"
      ],
      "metadata": {
        "id": "G5rv-GvWIUBV"
      }
    },
    {
      "cell_type": "markdown",
      "source": [
        "## **<font color='#97171e'>Ejercicio 1</font>**\n",
        "\n",
        "El menor tiempo logrado por une atleta en una carrera de 400m es llamado su \"personal best\" (PB). Los PBs de les atletas en un club siguen una distribución normal con esperanza de 49.2 segundos y std de 2.8 segundos.\n"
      ],
      "metadata": {
        "id": "spLvt1EERLoX"
      }
    },
    {
      "cell_type": "markdown",
      "source": [
        "### Hallar la probabilidad de que une atleta de este club tenga un PB entre 46 y 53 segundos."
      ],
      "metadata": {
        "id": "QikteQj_NAOJ"
      }
    },
    {
      "cell_type": "code",
      "source": [],
      "metadata": {
        "id": "EKpUX83VMg-c"
      },
      "execution_count": null,
      "outputs": []
    },
    {
      "cell_type": "markdown",
      "source": [
        "### Se sabe que el 92% de les atletas de este club tienen PBs de más de t segundos. Hallar el valor de t."
      ],
      "metadata": {
        "id": "Clpb1L4KNfBk"
      }
    },
    {
      "cell_type": "code",
      "source": [],
      "metadata": {
        "id": "Ykngwo_QNcFU"
      },
      "execution_count": null,
      "outputs": []
    },
    {
      "cell_type": "markdown",
      "source": [
        "### Tres atletas del club son seleccionades al azar. Calcular la probabilidad de que exactamente 2 tengan PBs menores a 46 segundos⭐️"
      ],
      "metadata": {
        "id": "MreooVoOHUVH"
      }
    },
    {
      "cell_type": "code",
      "source": [],
      "metadata": {
        "id": "6Lrf_Ei-HUVH"
      },
      "execution_count": null,
      "outputs": []
    },
    {
      "cell_type": "markdown",
      "source": [
        "## **<font color='#97171e'>Ejercicio 2</font>** ⭐️\n",
        "\n",
        "El volumen de tinta de un tipo de cartucho tiene una distribución normal con esperanza 30ml y std 1.5ml. La gente de la oficina usa un total de 8 cartuchos de este estilo por mes. Calcular la cantidad de cartuchos por mes que contienen menos de 28.9ml de tinta.\n"
      ],
      "metadata": {
        "id": "K5Rpu2rKHMy_"
      }
    },
    {
      "cell_type": "code",
      "source": [],
      "metadata": {
        "id": "XgDutiqeHMzE"
      },
      "execution_count": null,
      "outputs": []
    },
    {
      "cell_type": "markdown",
      "source": [
        "## **<font color='#97171e'>Ejercicio 3</font>**\n",
        "\n",
        "El diámetro de las manzanas de una huerta tienen distribución normal con esperanza 5.7cm y std 0.8 cm. Aquellas manzanas que tienen diámetro entre 4.1 cm y 5cm pueden ser utilizadas para hacer manzanas caramelizadas.\n"
      ],
      "metadata": {
        "id": "_AvMEsRMIbGf"
      }
    },
    {
      "cell_type": "markdown",
      "source": [
        "### Hallar la probabilidad de que una manzana seleccionada al azar pueda ser utilizada para hacerse caramelizada."
      ],
      "metadata": {
        "id": "zmriHMEIHMzE"
      }
    },
    {
      "cell_type": "code",
      "source": [],
      "metadata": {
        "id": "DdauHJyaHMzE"
      },
      "execution_count": null,
      "outputs": []
    },
    {
      "cell_type": "markdown",
      "source": [
        "### 250 manzanas son elegidas al azar. Usar una aproximación apropiada para calcular la probabilidad de que menos de 50 de ellas puedan ser utilizadas para ser caramelizadas."
      ],
      "metadata": {
        "id": "9peatjHUJCN3"
      }
    },
    {
      "cell_type": "code",
      "source": [],
      "metadata": {
        "id": "7OPppBqqJCN3"
      },
      "execution_count": null,
      "outputs": []
    }
  ]
}