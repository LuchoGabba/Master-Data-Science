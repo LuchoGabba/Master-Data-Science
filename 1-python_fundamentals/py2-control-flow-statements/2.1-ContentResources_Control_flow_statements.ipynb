{
 "cells": [
  {
   "cell_type": "markdown",
   "id": "d4d62e2e",
   "metadata": {},
   "source": [
    "# ContentResources: Control Flow Statements\n",
    "\n",
    "# Conditionals, loops and other stuff\n",
    "\n",
    "by [Luciano Gabbanelli](https://www.linkedin.com/in/luciano-gabbanelli-ph-d-75302218)"
   ]
  },
  {
   "cell_type": "markdown",
   "id": "a4e66536",
   "metadata": {},
   "source": [
    "<img style=\"margin-right: 50px;\" width=80 src=\"https://media.giphy.com/media/KAq5w47R9rmTuvWOWa/giphy.gif\">\n",
    "\n",
    "<img width=80 src=\"../../logos/Assembler.png\">\n",
    "\n",
    "***"
   ]
  },
  {
   "cell_type": "markdown",
   "id": "eb101adf",
   "metadata": {},
   "source": [
    "## Warm up!\n",
    "\n",
    "Some unseen operators"
   ]
  },
  {
   "cell_type": "markdown",
   "id": "843fe7a3",
   "metadata": {},
   "source": [
    "### Logical operators\n",
    "\n",
    "The input is boolean, and so is the output\n",
    "\n",
    "<img width=500 src=\"https://i.stack.imgur.com/nl0W8.jpg\">"
   ]
  },
  {
   "cell_type": "code",
   "execution_count": null,
   "id": "b8887002",
   "metadata": {},
   "outputs": [],
   "source": [
    "# Try some code here:\n",
    "\n"
   ]
  },
  {
   "cell_type": "markdown",
   "id": "af87b95c",
   "metadata": {},
   "source": [
    "Do parentheses matter as in math?"
   ]
  },
  {
   "cell_type": "code",
   "execution_count": null,
   "id": "7bccd8d2",
   "metadata": {},
   "outputs": [],
   "source": [
    "# Try some code here:\n",
    "\n"
   ]
  },
  {
   "cell_type": "markdown",
   "id": "b07e3b85",
   "metadata": {},
   "source": [
    "### Assignment operators\n",
    "\n",
    "`==` is a comparison operator, while `=` is an assignment operator...\n",
    "\n",
    "<img width=200 style=\"float: center;\" src=\"https://media.giphy.com/media/APqEbxBsVlkWSuFpth/giphy-downsized-large.gif\">"
   ]
  },
  {
   "cell_type": "markdown",
   "id": "bd7f4981",
   "metadata": {},
   "source": [
    "| Assignment  Operators | Description  |\n",
    "| :---: | :---: |\n",
    "| `=` | assign value of right side of expression to left side operand |\n",
    "| `+=` | add and assign |\n",
    "| `-=` | subtract and assign |\n",
    "| `/=, %=, **=, //= ` | and so on, and so forth |"
   ]
  },
  {
   "cell_type": "code",
   "execution_count": null,
   "id": "559de80d",
   "metadata": {},
   "outputs": [],
   "source": [
    "# Try some code here:\n",
    "\n"
   ]
  },
  {
   "cell_type": "markdown",
   "id": "64c40ef9",
   "metadata": {},
   "source": [
    "And you can already imagine how it turns out for other arithmetic operators. Try it for yourself!"
   ]
  },
  {
   "cell_type": "markdown",
   "id": "01c4732d",
   "metadata": {},
   "source": [
    "### Relational operators (the return)\n",
    "\n",
    "Do you remember the relational operators, which compare numbers or strings and decide the relationship between them?\n",
    "\n",
    "These operators return `1`, which represents `True`, or `0`, which represents `False`.\n",
    "\n",
    "| Relational Operators | Description  |\n",
    "| :---: | :---: |\n",
    "| `==` | equal to. If the values are equal, then True |\n",
    "| `!=` | NOT equal to. If values of two operands are not equal, then condition becomes True.  |\n",
    "| `< , >` | smaller than, greater than |\n",
    "| `<= , >=` | smaller than or equal to, greater than or equal to |\n",
    "\n",
    "These logical conditions from mathematics can be used in several ways, most commonly in \"if statements\" and loops."
   ]
  },
  {
   "cell_type": "markdown",
   "id": "3e8ac8ba",
   "metadata": {},
   "source": [
    "## Control Flow"
   ]
  },
  {
   "cell_type": "markdown",
   "id": "e0af9905",
   "metadata": {},
   "source": [
    "A program’s control flow is the order in which the program’s code executes. It is regulated by conditional statements, loops statements and transfer statements.\n",
    "\n",
    "<img src=\"Images/python-flow-control-statements.png\">\n",
    "\n",
    "<p style=\"text-align: center;\"><font size=3> <b>Python control flow statements</b></font></p>"
   ]
  },
  {
   "cell_type": "markdown",
   "id": "29142765",
   "metadata": {},
   "source": [
    "### The `if`, `elif` and `else` statements"
   ]
  },
  {
   "cell_type": "markdown",
   "id": "e669fb0d",
   "metadata": {},
   "source": [
    "The `if` executes some `statement(s)` only if some condition holds, or chooses `statement(s)` to be executed depending on several mutually exclusive conditions (using logical operators for instance). It uses `if`, `elif`, and `else` clauses (the last two are optional). \n",
    "\n",
    "> **Syntax**:\n",
    ">\n",
    "> if *expression*:\n",
    "> <pre><i> statement(s)</i></pre>\n",
    ">\n",
    "> elif *expression*:\n",
    ">\n",
    "> <pre><i> statement(s)</i></pre> \n",
    ">\n",
    "> elif *expression*:\n",
    "> <pre><i> statement(s)</i></pre> \n",
    "> ...\n",
    ">else:\n",
    "> <pre><i> statement(s)</i></pre>"
   ]
  },
  {
   "cell_type": "markdown",
   "id": "192721af",
   "metadata": {},
   "source": [
    "**Warning! Be careful with the indentation.** Python relies on indentation (whitespace at the beginning of a line) to define scope in the code. Other programming languages often use curly-brackets for this purpose. If statement, without indentation will raise an error.\n",
    "\n",
    "The keyword `elif`, which means \"if the previous conditions were not true, then try this condition\", is short for `else if`. This is,\n",
    "\n",
    "> ...\n",
    ">\n",
    "> else:\n",
    "> <pre>if <i>expression</i>:</pre>\n",
    "> <pre><i>     statement(s)</pre> \n",
    "\n",
    "and is useful to avoid excessive indentation.\n",
    "\n",
    "The `statement(s)` belonging to the `else` are executed **if and only if** all the conditions in the `if` and `elif` are not met.\n",
    "\n",
    "<img width=\"300\" src=\"Images/If-Statement-Control-Flow-in-Java.png\">\n",
    "\n"
   ]
  },
  {
   "cell_type": "markdown",
   "id": "80261884",
   "metadata": {},
   "source": [
    "**Task:** What does the following code print? \n",
    "\n",
    "<pre>        <b>Do not cheat! Don't excecute it!! :p</b> </pre>"
   ]
  },
  {
   "cell_type": "code",
   "execution_count": null,
   "id": "8740fac1",
   "metadata": {},
   "outputs": [],
   "source": [
    "list_of_I_dont_know = ['fish', 'bar', 'Buzz']\n",
    "if 'fisk' in list_of_I_dont_know:\n",
    "    print(1)\n",
    "    if 10 < 20:       \n",
    "        print('Hi!')\n",
    "    \n",
    "    print(30)\n",
    "elif 'bar' in list_of_I_dont_know:\n",
    "    if 10 >= 20:       \n",
    "        print(list_of_I_dont_know)       \n",
    "    \n",
    "    print(5, 50, sep = '33')\n",
    "elif 'Buzz' in list_of_I_dont_know:\n",
    "\n",
    "    if 'a' in 'banana':\n",
    "        print('Bye!')\n",
    "        \n",
    "    print(list_of_I_dont_know)\n",
    "\n",
    "else:\n",
    "    print(6)\n",
    "    \n",
    "print('Now what?')"
   ]
  },
  {
   "cell_type": "markdown",
   "id": "97456829",
   "metadata": {},
   "source": [
    "**Task:** Ask for a number and classify it according to whether it is positive, negative or zero."
   ]
  },
  {
   "cell_type": "code",
   "execution_count": null,
   "id": "498d7eb7",
   "metadata": {},
   "outputs": [],
   "source": [
    "# Type the code here:\n",
    "\n"
   ]
  },
  {
   "cell_type": "markdown",
   "id": "41672bac",
   "metadata": {},
   "source": [
    "### Short hand `if` ... `else` and how to use logical operators"
   ]
  },
  {
   "cell_type": "code",
   "execution_count": null,
   "id": "bf3da738",
   "metadata": {},
   "outputs": [],
   "source": [
    "# Type the code here:\n",
    "\n"
   ]
  },
  {
   "cell_type": "markdown",
   "id": "9a8c1668",
   "metadata": {},
   "source": [
    "### The `pass` statement\n",
    "\n",
    "`if` statements cannot be empty, but if you for some reason have an `if` statement with no content, put in the `pass` statement to avoid getting an error."
   ]
  },
  {
   "cell_type": "code",
   "execution_count": null,
   "id": "9dce2a50",
   "metadata": {},
   "outputs": [],
   "source": [
    "# Type the code here:\n",
    "\n"
   ]
  },
  {
   "cell_type": "markdown",
   "id": "ee18c54d",
   "metadata": {},
   "source": [
    "### The `for` statement"
   ]
  },
  {
   "cell_type": "markdown",
   "id": "561e8c31",
   "metadata": {},
   "source": [
    "Python’s `for` statement iterates over the items of any sequence (a string, a list, a tuple, a set, or a dictionary), in the order that they appear in the sequence.\n",
    "\n",
    "The `for` loop does not require an indexing variable to set beforehand."
   ]
  },
  {
   "cell_type": "markdown",
   "id": "cead7714",
   "metadata": {},
   "source": [
    "**Prediction:** without excecuting the code, can you guess the result of the following algorithm?"
   ]
  },
  {
   "cell_type": "code",
   "execution_count": null,
   "id": "138b0590",
   "metadata": {},
   "outputs": [],
   "source": [
    "total = 0\n",
    "for num in range(3):\n",
    "    total = total + num + 1\n",
    "print(total)"
   ]
  },
  {
   "cell_type": "markdown",
   "id": "304a236e",
   "metadata": {},
   "source": [
    "**Task:** Extract vowels from a name introduced as input and print them separated by hyphens (-).\n",
    "\n",
    "\n",
    "**Tip:** We must iterate through a string!\n",
    "\n",
    "<img width=350 src=\"https://media.giphy.com/media/h2j4loCwuNalWAmwFU/giphy.gif\">"
   ]
  },
  {
   "cell_type": "code",
   "execution_count": null,
   "id": "03a53a3e",
   "metadata": {},
   "outputs": [],
   "source": [
    "# Press shift + tab inside the parenthesis"
   ]
  },
  {
   "cell_type": "code",
   "execution_count": null,
   "id": "ccf3f24a",
   "metadata": {
    "scrolled": true
   },
   "outputs": [],
   "source": [
    "string_vowels.join()"
   ]
  },
  {
   "cell_type": "code",
   "execution_count": null,
   "id": "fd28cde3",
   "metadata": {},
   "outputs": [],
   "source": [
    "# Type the code here:\n",
    "\n"
   ]
  },
  {
   "cell_type": "markdown",
   "id": "44115759",
   "metadata": {},
   "source": [
    "The `del()` keyword is used to **delete objects**. In Python everything is an object, so the `del()` keyword can also be used to delete variables, lists, or parts of a list, etc. Parenthesis are optional."
   ]
  },
  {
   "cell_type": "code",
   "execution_count": null,
   "id": "43edb5ab",
   "metadata": {},
   "outputs": [],
   "source": [
    "# Type the code here:\n",
    "\n"
   ]
  },
  {
   "cell_type": "markdown",
   "id": "c627c993",
   "metadata": {},
   "source": [
    "**Lists** are one of the 4 built-in data types used to store collections of data; they are created using square brackets.\n",
    "\n",
    "**Task:** Iterate over the following list and print the longer word."
   ]
  },
  {
   "cell_type": "code",
   "execution_count": null,
   "id": "631328cf",
   "metadata": {},
   "outputs": [],
   "source": [
    "words = ['cat', 'window', 'defenestrate', 'map']\n",
    "\n",
    "# Type the code here:\n",
    "\n"
   ]
  },
  {
   "cell_type": "markdown",
   "id": "81fe8b4e",
   "metadata": {},
   "source": [
    "### The `range()` function"
   ]
  },
  {
   "cell_type": "markdown",
   "id": "c129f833",
   "metadata": {},
   "source": [
    "If you do need to iterate over a sequence of numbers, the built-in function `range()` comes in handy. It generates arithmetic progressions, starting at 0 by default, incrementing by 1 (by default), and ending at a specified number.\n",
    "\n",
    "**Task:** Print the numbers from 3 to 9 (both included) next to their squares. "
   ]
  },
  {
   "cell_type": "code",
   "execution_count": null,
   "id": "2f09e043",
   "metadata": {},
   "outputs": [],
   "source": [
    "# Type some code here:\n",
    "\n"
   ]
  },
  {
   "cell_type": "markdown",
   "id": "0c38df84",
   "metadata": {},
   "source": [
    "### The `break` statement"
   ]
  },
  {
   "cell_type": "markdown",
   "id": "3e1223b5",
   "metadata": {},
   "source": [
    "The `break` statement exits the innermost `for` or `while` loop before it has looped through all the items."
   ]
  },
  {
   "cell_type": "markdown",
   "id": "21f78e8d",
   "metadata": {},
   "source": [
    "**Task:** Make a program that prints the words from the list previously defined as `words`, but stops when it finds a word that contains the letter 'e' and prints it (note the difference when you put the break before or after the print)."
   ]
  },
  {
   "cell_type": "code",
   "execution_count": null,
   "id": "aaf7a2c6",
   "metadata": {},
   "outputs": [],
   "source": [
    "words"
   ]
  },
  {
   "cell_type": "code",
   "execution_count": null,
   "id": "d3a79243",
   "metadata": {},
   "outputs": [],
   "source": [
    "# Type some code here:\n",
    "\n"
   ]
  },
  {
   "cell_type": "markdown",
   "id": "6aa4acc5",
   "metadata": {},
   "source": [
    "### The `continue` statement\n",
    "\n",
    "With the continue statement we can stop the current iteration, and continue with the next one."
   ]
  },
  {
   "cell_type": "markdown",
   "id": "cd6cbcd7",
   "metadata": {},
   "source": [
    "**Task:** If we now want to print all the words in the same list that do not contain the letter 'e', then we must not break the conditional but finish the iteration and move on to the next one."
   ]
  },
  {
   "cell_type": "code",
   "execution_count": null,
   "id": "c08a00af",
   "metadata": {},
   "outputs": [],
   "source": [
    "words"
   ]
  },
  {
   "cell_type": "code",
   "execution_count": null,
   "id": "8d915f19",
   "metadata": {},
   "outputs": [],
   "source": [
    "# Type some code here:\n",
    "\n"
   ]
  },
  {
   "cell_type": "markdown",
   "id": "b20fb99b",
   "metadata": {},
   "source": [
    "### `else` in `for` loop\n",
    "\n",
    "The `else` keyword in a `for` loop specifies a block of code to be executed when the loop is finished.\n",
    "\n",
    "**Task:** Print the numbers from 0 to 5. Report when the algorithm is done using `else`."
   ]
  },
  {
   "cell_type": "code",
   "execution_count": null,
   "id": "13ea8c2e",
   "metadata": {},
   "outputs": [],
   "source": [
    "# Type some code here:\n",
    "\n"
   ]
  },
  {
   "cell_type": "markdown",
   "id": "1e674ff2",
   "metadata": {},
   "source": [
    "**Important:** The `else` block will NOT be executed if the loop is stopped by a `break` statement.\n",
    "\n",
    "**Task:** Do the same as before, but using a `break` statement."
   ]
  },
  {
   "cell_type": "code",
   "execution_count": null,
   "id": "902d48e6",
   "metadata": {},
   "outputs": [],
   "source": [
    "# Type some code here:\n",
    "\n"
   ]
  },
  {
   "cell_type": "markdown",
   "id": "055b0847",
   "metadata": {},
   "source": [
    "### The `pass` statement\n",
    "\n",
    "`for` loops cannot be empty, but if you for some reason have a `for` loop with no content, put in the `pass` statement to avoid getting an error.\n",
    "\n",
    "**Task:** Iterate over the indices of a sequence combining `range()` and `len()`."
   ]
  },
  {
   "cell_type": "code",
   "execution_count": null,
   "id": "5d17c64b",
   "metadata": {},
   "outputs": [],
   "source": [
    "words"
   ]
  },
  {
   "cell_type": "code",
   "execution_count": null,
   "id": "ed030b91",
   "metadata": {},
   "outputs": [],
   "source": [
    "# Type some code here:\n",
    "\n"
   ]
  },
  {
   "cell_type": "markdown",
   "id": "9125ad8c",
   "metadata": {},
   "source": [
    "### The `while` statement"
   ]
  },
  {
   "cell_type": "markdown",
   "id": "fe09c778",
   "metadata": {},
   "source": [
    "The `while` statement supports repeated execution of a statement or block of statements (loop body) that is controlled by a conditional expression.\n",
    "\n",
    "> **Syntax**:\n",
    "> while *expression*:\n",
    "> <pre><i> statement(s)</i> </pre>"
   ]
  },
  {
   "cell_type": "markdown",
   "id": "ebdc7b55",
   "metadata": {},
   "source": [
    "**Task:** Print numbers from 0 to 25 that are multiples of 3, except for 12 and 21."
   ]
  },
  {
   "cell_type": "code",
   "execution_count": null,
   "id": "9e94850e",
   "metadata": {},
   "outputs": [],
   "source": [
    "# Type some code here:\n",
    "\n"
   ]
  },
  {
   "cell_type": "markdown",
   "id": "782b20b4",
   "metadata": {},
   "source": [
    "**<center><font size=\"5\">Be careful: remember to increment n.</font></center>**\n",
    "\n",
    "<center><font size=\"3\">Otherwise your code can get stuck and never get out of the loop!!!</font></center>\n",
    "\n",
    "<center>(assignment operators are particularly useful)</center>\n",
    "\n",
    "<img width=350 src=\"https://media.giphy.com/media/RKiOMSy7LLcA0/giphy.gif\">\n",
    "\n"
   ]
  },
  {
   "cell_type": "markdown",
   "id": "9e947977",
   "metadata": {},
   "source": [
    "**Task:** Create a counter that counts from 5 to 0, taking one second between printing and printing.\n",
    "\n",
    "- **Tip 1:** The function time.sleep() will be useful\n",
    "\n",
    "- **Tip 2:** In command (Esc.) mode, the kernel will break if the 'i' key is pressed twice."
   ]
  },
  {
   "cell_type": "code",
   "execution_count": null,
   "id": "649fada7",
   "metadata": {},
   "outputs": [],
   "source": [
    "# Type some code here:\n",
    "\n"
   ]
  },
  {
   "cell_type": "markdown",
   "id": "e961377a",
   "metadata": {},
   "source": [
    "**Task:** Do the same as before, but break the code at number 3."
   ]
  },
  {
   "cell_type": "code",
   "execution_count": null,
   "id": "aaae0d1c",
   "metadata": {},
   "outputs": [],
   "source": [
    "# Type some code here:\n",
    "\n"
   ]
  },
  {
   "cell_type": "markdown",
   "id": "9bc5a879",
   "metadata": {},
   "source": [
    "**Note:** You can also use the `continue` statement ot the `else` statement, as we have done in the `for` loop. Essentially, they are used the same.\n",
    "\n",
    "**Task:** Now do not break in number 3, but just do not print this value and continue with the next iteration. Finish the code printing something with an `else`."
   ]
  },
  {
   "cell_type": "code",
   "execution_count": null,
   "id": "46f26b41",
   "metadata": {},
   "outputs": [],
   "source": [
    "# Type some code here:\n",
    "\n"
   ]
  },
  {
   "cell_type": "markdown",
   "id": "2eee53fc",
   "metadata": {},
   "source": [
    "### The `os` module\n",
    "\n",
    "This module provides a portable way of using operating system dependent functionality.\n",
    "\n",
    "More insights in [os—Miscellaneous operating system interfaces](https://docs.python.org/3/library/os.html)"
   ]
  },
  {
   "cell_type": "code",
   "execution_count": null,
   "id": "f30d1417",
   "metadata": {},
   "outputs": [],
   "source": [
    "import os\n",
    "print(f'Hi, {os.getlogin()}! How are you?')"
   ]
  }
 ],
 "metadata": {
  "kernelspec": {
   "display_name": "Python 3 (ipykernel)",
   "language": "python",
   "name": "python3"
  },
  "language_info": {
   "codemirror_mode": {
    "name": "ipython",
    "version": 3
   },
   "file_extension": ".py",
   "mimetype": "text/x-python",
   "name": "python",
   "nbconvert_exporter": "python",
   "pygments_lexer": "ipython3",
   "version": "3.9.12"
  },
  "toc": {
   "base_numbering": 1,
   "nav_menu": {},
   "number_sections": true,
   "sideBar": true,
   "skip_h1_title": true,
   "title_cell": "Table of Contents",
   "title_sidebar": "Contents",
   "toc_cell": false,
   "toc_position": {
    "height": "calc(100% - 180px)",
    "left": "10px",
    "top": "150px",
    "width": "205.663px"
   },
   "toc_section_display": true,
   "toc_window_display": true
  }
 },
 "nbformat": 4,
 "nbformat_minor": 5
}
