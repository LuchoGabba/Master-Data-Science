{
 "cells": [
  {
   "cell_type": "markdown",
   "metadata": {},
   "source": [
    "## Python OOP in Action: Building a Media Library\n",
    "\n",
    "In this workshop, you'll create a system of classes representing different types of media content, such as books, movies, and podcasts. This setup will allow you to explore and demonstrate key concepts in Object-Oriented Programming (OOP), particularly polymorphism, inheritance, and method overriding.\n",
    "\n",
    "**Resources:**\n",
    "\n",
    "* Python Polymorphism Tutorial: Gain insights into how polymorphism works in Python, with examples and explanations. [Programiz Python Polymorphism](https://www.programiz.com/python-programming/polymorphism)\n",
    "\n",
    "* Python Official Documentation on Classes: [Python 3.10.4 Documentation](https://docs.python.org/3/tutorial/classes.html)"
   ]
  },
  {
   "cell_type": "markdown",
   "metadata": {},
   "source": [
    "**Tentative Roadmap:**\n",
    "\n",
    "1. Create a Base Class 'Media' and define its methods:\n",
    "\n",
    "    * **Base class constructor** initializes the `title` attribute.\n",
    "\n",
    "    * **Abstract Method** - `display_info()`: Include an abstract method `display_info()`. This method should be declared but not implemented, raising a `NotImplementedError(\"Subclasses must implement this method\")`. This design enforces that each subclass must provide its own specific implementation of this method, illustrating the concept of abstract methods in classes.\n",
    "\n",
    "    * **Method** - `media_type()`: This method should dynamically return the type of the media based on the class/subclass it's called from. This can be achieved using the `__class__` attribute, which provides the class of the instance. The `.__name__` attribute of the class can then be used to get the class name as a string, which will be 'Book', 'Movie', or 'Podcast' for instances of these classes.\n",
    "    \n",
    "    * **Method** - `display_title()`: This method should return the title of the media item. It provides a standard way to access the title attribute across all subclasses. For example, \"Book Title: 1984\".\n",
    "\n",
    "<br>\n",
    "    \n",
    "2. Define Subclasses with Specific Implementations:\n",
    "\n",
    "    * Create subclasses `Book`, `Movie`, and `Podcast`, inheriting from the `Media` class.\n",
    "\n",
    "    * In each subclass, implement the constructor to initialize class-specific attributes along with the `title` (add at least 2 more attributes).\n",
    "\n",
    "    * Override the `display_info()` method in each subclass to display information relevant to that particular media type, demonstrating method overriding and how subclasses can provide specific implementations of a general method provided by the base class.\n",
    "\n",
    "<br>\n",
    "\n",
    "3. Explore Polymorphism:\n",
    "\n",
    "    * Understand and demonstrate polymorphism by implementing a function that takes a list of `Media` objects (which could be instances of `Book`, `Movie`, or `Podcast`) and calls the `display_info()` method on each.\n",
    "\n",
    "    * This function will highlight polymorphism, where the same method name (`display_info()`) behaves differently depending on the class of the object it's invoked on."
   ]
  },
  {
   "cell_type": "markdown",
   "metadata": {},
   "source": [
    "### 1. Define, inicialize and explore the `Media` class"
   ]
  },
  {
   "cell_type": "code",
   "execution_count": null,
   "metadata": {},
   "outputs": [],
   "source": [
    "# Type your code here:\n",
    "\n"
   ]
  },
  {
   "cell_type": "markdown",
   "metadata": {},
   "source": [
    "### 2. Define, inicialize and explore all subclasses: `Book`, `Movie` and `Podcast`"
   ]
  },
  {
   "cell_type": "code",
   "execution_count": null,
   "metadata": {},
   "outputs": [],
   "source": [
    "# Type your code here:\n",
    "\n"
   ]
  },
  {
   "cell_type": "code",
   "execution_count": null,
   "metadata": {},
   "outputs": [],
   "source": [
    "# Creating instances of each media type\n",
    "book_Orwell = Book(\"1984\", \"George Orwell\", 328)\n",
    "movie_Nolan = Movie(\"Inception\", \"Christopher Nolan\", 148)\n",
    "podcast_Zukerman = Podcast(\"Science Vs\", \"Wendy Zukerman\", 200)"
   ]
  },
  {
   "cell_type": "markdown",
   "metadata": {},
   "source": [
    "### 3. Explore Polymorphism"
   ]
  },
  {
   "cell_type": "code",
   "execution_count": null,
   "metadata": {},
   "outputs": [],
   "source": [
    "# Type your code here:\n",
    "\n"
   ]
  }
 ],
 "metadata": {
  "kernelspec": {
   "display_name": "Assembler",
   "language": "python",
   "name": "python3"
  },
  "language_info": {
   "codemirror_mode": {
    "name": "ipython",
    "version": 3
   },
   "file_extension": ".py",
   "mimetype": "text/x-python",
   "name": "python",
   "nbconvert_exporter": "python",
   "pygments_lexer": "ipython3",
   "version": "3.11.5"
  }
 },
 "nbformat": 4,
 "nbformat_minor": 2
}
