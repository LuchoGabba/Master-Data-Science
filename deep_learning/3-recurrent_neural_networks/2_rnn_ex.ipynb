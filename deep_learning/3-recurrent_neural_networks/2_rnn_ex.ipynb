{
  "cells": [
    {
      "cell_type": "markdown",
      "id": "8db8c522",
      "metadata": {
        "id": "8db8c522"
      },
      "source": [
        "# DL - RNN - Ejercicio 01\n",
        "\n",
        "Using the dataframe named `gplay_reviews.csv` predict if a review is positive, negative or neutral using the RNN."
      ]
    }
  ],
  "metadata": {
    "kernelspec": {
      "display_name": "Python 3 (ipykernel)",
      "language": "python",
      "name": "python3"
    },
    "language_info": {
      "codemirror_mode": {
        "name": "ipython",
        "version": 3
      },
      "file_extension": ".py",
      "mimetype": "text/x-python",
      "name": "python",
      "nbconvert_exporter": "python",
      "pygments_lexer": "ipython3",
      "version": "3.9.7"
    },
    "colab": {
      "provenance": []
    }
  },
  "nbformat": 4,
  "nbformat_minor": 5
}