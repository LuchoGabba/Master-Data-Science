{
  "cells": [
    {
      "cell_type": "markdown",
      "metadata": {
        "id": "jBWq9bBRQRDy"
      },
      "source": [
        "#<font color='#97171e'>AIT - Master in Data Science</font> 📈\n",
        "# **Module 9**\n",
        "# Exercises 01 - Tensorflow I"
      ]
    },
    {
      "cell_type": "code",
      "execution_count": null,
      "metadata": {
        "id": "HK7TF9C1QRD0"
      },
      "outputs": [],
      "source": [
        "from __future__ import print_function\n",
        "import tensorflow as tf\n",
        "import numpy as np"
      ]
    },
    {
      "cell_type": "markdown",
      "metadata": {
        "id": "nD3HD64MQRD2"
      },
      "source": [
        "NOTE on notation\n",
        "* _x, _y, _z, ...: NumPy 0-d or 1-d arrays\n",
        "* _X, _Y, _Z, ...: NumPy 2-d or higer dimensional arrays\n",
        "* x, y, z, ...: 0-d or 1-d tensors\n",
        "* X, Y, Z, ...: 2-d or higher dimensional tensors"
      ]
    },
    {
      "cell_type": "markdown",
      "metadata": {
        "id": "XOFACBQfQRD3"
      },
      "source": [
        "## Casting"
      ]
    },
    {
      "cell_type": "markdown",
      "metadata": {
        "id": "zRpv9araQRD5"
      },
      "source": [
        "Q2. Let X be a tensor [[1, 2], [3, 4]] of int32. Convert the data type of X to float64."
      ]
    },
    {
      "cell_type": "code",
      "execution_count": null,
      "metadata": {
        "id": "TlJ8vj54QRD5"
      },
      "outputs": [],
      "source": []
    },
    {
      "cell_type": "markdown",
      "metadata": {
        "id": "BnSFLd7RQRD6"
      },
      "source": [
        "Q3. Let X be a tensor [[1, 2], [3, 4]] of int32. Convert the data type of X to float32."
      ]
    },
    {
      "cell_type": "code",
      "execution_count": null,
      "metadata": {
        "id": "y3QGkvP-QRD6"
      },
      "outputs": [],
      "source": []
    },
    {
      "cell_type": "markdown",
      "metadata": {
        "id": "cdOIdu6UQRD7"
      },
      "source": [
        "Q4. Let X be a tensor [[1, 2], [3, 4]] of float32. Convert the data type of X to int32."
      ]
    },
    {
      "cell_type": "code",
      "execution_count": null,
      "metadata": {
        "id": "tRuuXX1YQRD7"
      },
      "outputs": [],
      "source": []
    },
    {
      "cell_type": "markdown",
      "metadata": {
        "id": "X3GDfL6lQRD7"
      },
      "source": [
        "Q5. Let X be a tensor [[1, 2], [3, 4]] of float32. Convert the data type of X to int64."
      ]
    },
    {
      "cell_type": "code",
      "execution_count": null,
      "metadata": {
        "id": "ecx8-WYaQRD7"
      },
      "outputs": [],
      "source": []
    },
    {
      "cell_type": "markdown",
      "metadata": {
        "id": "O_xn-w_VQRD7"
      },
      "source": [
        "## Shapes and Shaping"
      ]
    },
    {
      "cell_type": "markdown",
      "metadata": {
        "id": "QfgmT9ZBQRD8"
      },
      "source": [
        "Q6. Let X be a tensor of [[[1, 2], [3, 4]], [[5, 6], [7, 8]], [[9, 10], [11, 12]]]. Create a tensor representing the shape of X."
      ]
    },
    {
      "cell_type": "code",
      "execution_count": null,
      "metadata": {
        "id": "55j1WaYsQRD8"
      },
      "outputs": [],
      "source": []
    },
    {
      "cell_type": "markdown",
      "metadata": {
        "id": "eG0qOJ0ZQRD9"
      },
      "source": [
        "Q8. Let X be a tensor of [[[1, 2], [3, 4]], [[5, 6], [7, 8]], [[9, 10], [11, 12]]]. Create a tensor representing the size (=total number of elements) of X."
      ]
    },
    {
      "cell_type": "code",
      "execution_count": null,
      "metadata": {
        "id": "QmKtHXYrQRD9"
      },
      "outputs": [],
      "source": []
    },
    {
      "cell_type": "markdown",
      "metadata": {
        "id": "QDwoBamnQREA"
      },
      "source": [
        "## Slicing and Joining"
      ]
    },
    {
      "cell_type": "markdown",
      "metadata": {
        "id": "wbR8B2zGQREE"
      },
      "source": [
        "Q19. Lex X be a tensor <br/>\n",
        "[[ 1 2 3]<br/>\n",
        " [ 4 5 6].<br/>\n",
        "and Y be a tensor<br/>\n",
        "[[ 7 8 9]<br/>\n",
        " [10 11 12]].<br/>\n",
        "Concatenate X and Y so that the new tensor looks like [[1, 2, 3, 7, 8, 9], [4, 5, 6, 10, 11, 12]]."
      ]
    },
    {
      "cell_type": "code",
      "execution_count": null,
      "metadata": {
        "id": "Fpsn4yA9QREE"
      },
      "outputs": [],
      "source": []
    },
    {
      "cell_type": "markdown",
      "metadata": {
        "id": "J6Zahn8qQREI"
      },
      "source": [
        "Q27. Let x be a tensor [2, 2, 1, 5, 4, 5, 1, 2, 3]. Get the tensors of unique elements and their counts."
      ]
    },
    {
      "cell_type": "code",
      "execution_count": null,
      "metadata": {
        "id": "ag9FxwQKQREI"
      },
      "outputs": [],
      "source": []
    },
    {
      "cell_type": "markdown",
      "metadata": {
        "id": "7vFDItm4QREK"
      },
      "source": [
        "Q31. Let x be a tensor [[0, 5, 3], [4, 2, 1]]. Convert X into one-hot."
      ]
    },
    {
      "cell_type": "code",
      "execution_count": null,
      "metadata": {
        "id": "pm209wBcQREK"
      },
      "outputs": [],
      "source": []
    }
  ],
  "metadata": {
    "anaconda-cloud": {},
    "kernelspec": {
      "display_name": "Python 3 (ipykernel)",
      "language": "python",
      "name": "python3"
    },
    "language_info": {
      "codemirror_mode": {
        "name": "ipython",
        "version": 3
      },
      "file_extension": ".py",
      "mimetype": "text/x-python",
      "name": "python",
      "nbconvert_exporter": "python",
      "pygments_lexer": "ipython3",
      "version": "3.9.7"
    },
    "colab": {
      "provenance": []
    }
  },
  "nbformat": 4,
  "nbformat_minor": 0
}