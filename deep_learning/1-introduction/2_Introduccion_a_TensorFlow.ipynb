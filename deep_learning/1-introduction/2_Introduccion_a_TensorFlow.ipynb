{
  "cells": [
    {
      "cell_type": "markdown",
      "metadata": {
        "id": "8VPOqzBXwYey"
      },
      "source": [
        "#<font color='#97171e'>AIT - Master in Data Science</font> 📈\n",
        "# **Module 9**\n",
        "# DL : Introduction to Tensorflow\n",
        "\n",
        "## Installing the libraries"
      ]
    },
    {
      "cell_type": "code",
      "execution_count": 7,
      "metadata": {},
      "outputs": [],
      "source": [
        "# %pip install tensorflow-gpu==2.0.0"
      ]
    },
    {
      "cell_type": "markdown",
      "metadata": {},
      "source": [
        "\n",
        "## Import the libraries"
      ]
    },
    {
      "cell_type": "code",
      "execution_count": 8,
      "metadata": {
        "id": "M-IE6YU7wYe4"
      },
      "outputs": [],
      "source": [
        "import tensorflow as tf\n",
        "import numpy as np"
      ]
    },
    {
      "cell_type": "code",
      "execution_count": 9,
      "metadata": {
        "id": "qdm3rYokwYe8",
        "outputId": "b04a5ef2-0c97-4c18-9699-671a8d1d2a21"
      },
      "outputs": [
        {
          "data": {
            "text/plain": [
              "'2.16.1'"
            ]
          },
          "execution_count": 9,
          "metadata": {},
          "output_type": "execute_result"
        }
      ],
      "source": [
        "tf.__version__"
      ]
    },
    {
      "cell_type": "markdown",
      "metadata": {
        "id": "_EgQSf6gwYe_"
      },
      "source": [
        "## Tensors\n",
        "\n",
        "**What's a tensor?**\n",
        "\n",
        "Tensors are multi-dimensional arrays with a uniform type (called a dtype). You can see all supported dtypes at tf.dtypes.DType.\n",
        "\n",
        "If you're familiar with NumPy, tensors are (kind of) like np.arrays.\n",
        "\n",
        "All tensors are immutable like Python numbers and strings: you can never update the contents of a tensor, only create a new one.\n"
      ]
    },
    {
      "cell_type": "markdown",
      "metadata": {
        "id": "aLArt17lwYfA"
      },
      "source": [
        "### Constants\n",
        "\n",
        "#### Define\n",
        "\n",
        "constant() is used to create a Tensor from tensor like objects like list.\n",
        "\n",
        "`tf.constant(\n",
        "    value, dtype=None, shape=None, name='Const'\n",
        ")`\n",
        "\n",
        "If the argument `dtype` is not specified, then the type is inferred from the type of value, but if `dtype` is specified, the resulting tensor values are cast to the requested dtype."
      ]
    },
    {
      "cell_type": "code",
      "execution_count": 10,
      "metadata": {
        "colab": {
          "base_uri": "https://localhost:8080/"
        },
        "id": "SygS25hAwYfB",
        "outputId": "1acd6a5e-62cd-49c0-87d4-dd15de632876"
      },
      "outputs": [
        {
          "data": {
            "text/plain": [
              "<tf.Tensor: shape=(2, 2), dtype=int32, numpy=\n",
              "array([[23,  4],\n",
              "       [32, 51]])>"
            ]
          },
          "execution_count": 10,
          "metadata": {},
          "output_type": "execute_result"
        }
      ],
      "source": [
        "tensor_20 = tf.constant([[23, 4], [32, 51]])\n",
        "tensor_20"
      ]
    },
    {
      "cell_type": "markdown",
      "metadata": {
        "id": "NsmoLxrDwYfD"
      },
      "source": [
        "If shape is set, the value is reshaped to match. Scalars are expanded to fill the shape.\n",
        "\n",
        "`tf.constant(0, shape=(2, 3))`\n",
        "\n",
        "`tf.constant([1, 2, 3, 4, 5, 6], shape=[2, 3])`\n",
        "\n"
      ]
    },
    {
      "cell_type": "code",
      "execution_count": 11,
      "metadata": {
        "colab": {
          "base_uri": "https://localhost:8080/"
        },
        "id": "ooYDmpkbod49",
        "outputId": "fe183f74-c437-4b9a-c4e0-173b816dc253"
      },
      "outputs": [
        {
          "data": {
            "text/plain": [
              "<tf.Tensor: shape=(2, 3), dtype=int32, numpy=\n",
              "array([[0, 0, 0],\n",
              "       [0, 0, 0]])>"
            ]
          },
          "execution_count": 11,
          "metadata": {},
          "output_type": "execute_result"
        }
      ],
      "source": [
        "tf.constant(0, shape=(2, 3))"
      ]
    },
    {
      "cell_type": "code",
      "execution_count": 12,
      "metadata": {
        "colab": {
          "base_uri": "https://localhost:8080/"
        },
        "id": "s1z4a1xSomyg",
        "outputId": "70c723c3-c15c-428c-e1f7-3c1888ed3aa8"
      },
      "outputs": [
        {
          "data": {
            "text/plain": [
              "<tf.Tensor: shape=(2, 3), dtype=int32, numpy=\n",
              "array([[1, 2, 3],\n",
              "       [4, 5, 6]])>"
            ]
          },
          "execution_count": 12,
          "metadata": {},
          "output_type": "execute_result"
        }
      ],
      "source": [
        "tf.constant([1, 2, 3, 4, 5, 6], shape=[2, 3])"
      ]
    },
    {
      "cell_type": "markdown",
      "metadata": {
        "id": "DC2-_qDKokuf"
      },
      "source": [
        "The size of a tensor can be retrieved with .shape()"
      ]
    },
    {
      "cell_type": "code",
      "execution_count": 13,
      "metadata": {
        "id": "tOPk7tiRwYfE",
        "outputId": "3de5e0d5-6a92-47d3-fbb5-f99696a4f741"
      },
      "outputs": [
        {
          "data": {
            "text/plain": [
              "TensorShape([2, 2])"
            ]
          },
          "execution_count": 13,
          "metadata": {},
          "output_type": "execute_result"
        }
      ],
      "source": [
        "# Obtener el tamaño de un tensor\n",
        "tensor_20.shape"
      ]
    },
    {
      "cell_type": "markdown",
      "metadata": {
        "id": "2z4zdIhCwYfF"
      },
      "source": [
        "#### Get the values of a constant"
      ]
    },
    {
      "cell_type": "code",
      "execution_count": 14,
      "metadata": {
        "id": "6R-IypfWwYfH",
        "outputId": "09faae86-d64c-42b8-b418-89825e01e8ae"
      },
      "outputs": [
        {
          "data": {
            "text/plain": [
              "array([[23,  4],\n",
              "       [32, 51]])"
            ]
          },
          "execution_count": 14,
          "metadata": {},
          "output_type": "execute_result"
        }
      ],
      "source": [
        "tensor_20.numpy()"
      ]
    },
    {
      "cell_type": "markdown",
      "metadata": {
        "id": "a7BFEKrRwYfJ"
      },
      "source": [
        "We can convert an array of numpy to a TensorFlow tensor directly"
      ]
    },
    {
      "cell_type": "code",
      "execution_count": 15,
      "metadata": {
        "id": "2JYJ071mwYfL",
        "outputId": "f51cc6e2-c822-4893-9933-fd7805337d43"
      },
      "outputs": [
        {
          "data": {
            "text/plain": [
              "<tf.Tensor: shape=(2, 2), dtype=int32, numpy=\n",
              "array([[23,  4],\n",
              "       [32, 51]])>"
            ]
          },
          "execution_count": 15,
          "metadata": {},
          "output_type": "execute_result"
        }
      ],
      "source": [
        "numpy_tensor = np.array([[23,  4], [32, 51]])\n",
        "tensor_from_numpy = tf.constant(numpy_tensor)\n",
        "tensor_from_numpy"
      ]
    },
    {
      "cell_type": "markdown",
      "metadata": {
        "id": "8v3ty8IswYfM"
      },
      "source": [
        "### Variables\n",
        "#### Define a variable"
      ]
    },
    {
      "cell_type": "code",
      "execution_count": 16,
      "metadata": {
        "id": "xkCjKORHwYfN",
        "outputId": "dc874a79-82f4-4979-f159-1f413af6e58f"
      },
      "outputs": [
        {
          "data": {
            "text/plain": [
              "<tf.Variable 'Variable:0' shape=(2, 3) dtype=float32, numpy=\n",
              "array([[1., 2., 3.],\n",
              "       [4., 5., 6.]], dtype=float32)>"
            ]
          },
          "execution_count": 16,
          "metadata": {},
          "output_type": "execute_result"
        }
      ],
      "source": [
        "tf2_variable = tf.Variable([[1., 2., 3.], [4., 5., 6.]])\n",
        "tf2_variable"
      ]
    },
    {
      "cell_type": "markdown",
      "metadata": {
        "id": "8j4RE4WXwYfO"
      },
      "source": [
        "#### Query the values of a variable"
      ]
    },
    {
      "cell_type": "code",
      "execution_count": 17,
      "metadata": {
        "id": "i1a2EDpHwYfP",
        "outputId": "eca60967-5ba2-48d8-d0e4-273e410b3a8a"
      },
      "outputs": [
        {
          "data": {
            "text/plain": [
              "array([[1., 2., 3.],\n",
              "       [4., 5., 6.]], dtype=float32)"
            ]
          },
          "execution_count": 17,
          "metadata": {},
          "output_type": "execute_result"
        }
      ],
      "source": [
        "tf2_variable.numpy()"
      ]
    },
    {
      "cell_type": "markdown",
      "metadata": {
        "id": "Uz1_JvB3wYfQ"
      },
      "source": [
        "#### Changing a specific value of a variable"
      ]
    },
    {
      "cell_type": "code",
      "execution_count": 18,
      "metadata": {
        "id": "_4fVg6FqwYfS",
        "outputId": "5f884511-c3de-4e04-9b80-7321a7dca2cd"
      },
      "outputs": [
        {
          "data": {
            "text/plain": [
              "<tf.Variable 'Variable:0' shape=(2, 3) dtype=float32, numpy=\n",
              "array([[  1.,   2., 100.],\n",
              "       [  4.,   5.,   6.]], dtype=float32)>"
            ]
          },
          "execution_count": 18,
          "metadata": {},
          "output_type": "execute_result"
        }
      ],
      "source": [
        "tf2_variable[0, 2].assign(100)\n",
        "tf2_variable"
      ]
    },
    {
      "cell_type": "markdown",
      "metadata": {
        "id": "5jxdOXAdwYfT"
      },
      "source": [
        "## Tensor operations"
      ]
    },
    {
      "cell_type": "code",
      "execution_count": 19,
      "metadata": {
        "colab": {
          "base_uri": "https://localhost:8080/"
        },
        "id": "zAs0ca_ewYfT",
        "outputId": "7bf9fbdd-f320-4f60-993d-34f7fdd3d7c7"
      },
      "outputs": [
        {
          "data": {
            "text/plain": [
              "<tf.Tensor: shape=(2, 2), dtype=int32, numpy=\n",
              "array([[1, 2],\n",
              "       [3, 4]])>"
            ]
          },
          "execution_count": 19,
          "metadata": {},
          "output_type": "execute_result"
        }
      ],
      "source": [
        "tensor = tf.constant([[1, 2], [3, 4]])\n",
        "tensor"
      ]
    },
    {
      "cell_type": "markdown",
      "metadata": {
        "id": "bSiD8GzbwYfU"
      },
      "source": [
        "#### Adding a scalar to a tensor"
      ]
    },
    {
      "cell_type": "code",
      "execution_count": 20,
      "metadata": {
        "id": "32r0SRNAwYfV",
        "outputId": "08855ce3-fbf3-4d87-a485-d84d85875609"
      },
      "outputs": [
        {
          "data": {
            "text/plain": [
              "<tf.Tensor: shape=(2, 2), dtype=int32, numpy=\n",
              "array([[3, 4],\n",
              "       [5, 6]])>"
            ]
          },
          "execution_count": 20,
          "metadata": {},
          "output_type": "execute_result"
        }
      ],
      "source": [
        "tensor + 2"
      ]
    },
    {
      "cell_type": "markdown",
      "metadata": {
        "id": "av6VyKeOwYfW"
      },
      "source": [
        "#### Multiplying a scalar by a tensor"
      ]
    },
    {
      "cell_type": "code",
      "execution_count": 21,
      "metadata": {
        "id": "CbjXhQZHwYfW",
        "outputId": "8de22948-f65d-45a2-c22f-1eb0d8496ab7"
      },
      "outputs": [
        {
          "data": {
            "text/plain": [
              "<tf.Tensor: shape=(2, 2), dtype=int32, numpy=\n",
              "array([[ 5, 10],\n",
              "       [15, 20]])>"
            ]
          },
          "execution_count": 21,
          "metadata": {},
          "output_type": "execute_result"
        }
      ],
      "source": [
        "tensor * 5"
      ]
    },
    {
      "cell_type": "markdown",
      "metadata": {
        "id": "r3qKseRwwYfY"
      },
      "source": [
        "### Using Numpy functions on TensorFlow tensors\n",
        "\n",
        "#### Get the squares of all the numbers of a tensor from TensorFlow"
      ]
    },
    {
      "cell_type": "code",
      "execution_count": 22,
      "metadata": {
        "id": "qYBZZQPIwYfZ",
        "outputId": "426cb39a-b0f2-4ee8-d9f4-9d804176802f"
      },
      "outputs": [
        {
          "data": {
            "text/plain": [
              "array([[ 1,  4],\n",
              "       [ 9, 16]])"
            ]
          },
          "execution_count": 22,
          "metadata": {},
          "output_type": "execute_result"
        }
      ],
      "source": [
        "np.square(tensor)"
      ]
    },
    {
      "cell_type": "markdown",
      "metadata": {
        "id": "Fdx7kZctwYfZ"
      },
      "source": [
        "#### Get the square root of all numbers of a tensor from TensorFlow"
      ]
    },
    {
      "cell_type": "code",
      "execution_count": 23,
      "metadata": {
        "id": "Y1BmARfywYfa",
        "outputId": "59b85687-0875-4c14-8d10-e9dc6338f900"
      },
      "outputs": [
        {
          "data": {
            "text/plain": [
              "array([[1.        , 1.41421356],\n",
              "       [1.73205081, 2.        ]])"
            ]
          },
          "execution_count": 23,
          "metadata": {},
          "output_type": "execute_result"
        }
      ],
      "source": [
        "np.sqrt(tensor)"
      ]
    },
    {
      "cell_type": "markdown",
      "metadata": {
        "id": "KN6t4A75wYfb"
      },
      "source": [
        "#### Scalar product between two tensors"
      ]
    },
    {
      "cell_type": "code",
      "execution_count": 24,
      "metadata": {
        "id": "MzKX7mEKwYfb",
        "outputId": "ab1c2139-49b9-4ce8-d56a-fb6f48bcb4a4"
      },
      "outputs": [
        {
          "data": {
            "text/plain": [
              "array([[ 87, 106],\n",
              "       [197, 216]])"
            ]
          },
          "execution_count": 24,
          "metadata": {},
          "output_type": "execute_result"
        }
      ],
      "source": [
        " np.dot(tensor, tensor_20)"
      ]
    },
    {
      "cell_type": "markdown",
      "metadata": {
        "id": "yYdOHpQffyIg"
      },
      "source": [
        "### Get the tensors of unique elements and their counts.\n"
      ]
    },
    {
      "cell_type": "code",
      "execution_count": 25,
      "metadata": {
        "id": "z6tzBNO_qUUs"
      },
      "outputs": [],
      "source": [
        "tensor = tf.constant([1, 2, 3, 4])"
      ]
    },
    {
      "cell_type": "code",
      "execution_count": 26,
      "metadata": {
        "colab": {
          "base_uri": "https://localhost:8080/"
        },
        "id": "L6oY_oupqV9M",
        "outputId": "a1fa4fe8-dc16-4d26-cd08-9c8f0cb3096b"
      },
      "outputs": [
        {
          "data": {
            "text/plain": [
              "UniqueWithCounts(y=<tf.Tensor: shape=(4,), dtype=int32, numpy=array([1, 2, 3, 4])>, idx=<tf.Tensor: shape=(4,), dtype=int32, numpy=array([0, 1, 2, 3])>, count=<tf.Tensor: shape=(4,), dtype=int32, numpy=array([1, 1, 1, 1])>)"
            ]
          },
          "execution_count": 26,
          "metadata": {},
          "output_type": "execute_result"
        }
      ],
      "source": [
        "tf.unique_with_counts(tensor)"
      ]
    },
    {
      "cell_type": "code",
      "execution_count": 27,
      "metadata": {
        "colab": {
          "base_uri": "https://localhost:8080/"
        },
        "id": "1hryeczlfzzx",
        "outputId": "9909a5ce-85b7-4248-e55a-d21fdd107cbc"
      },
      "outputs": [
        {
          "name": "stdout",
          "output_type": "stream",
          "text": [
            "[1 2 3 4] [1 1 1 1]\n"
          ]
        }
      ],
      "source": [
        "out1, _, out2 = tf.unique_with_counts(tensor)\n",
        "print(out1.numpy(), out2.numpy())"
      ]
    },
    {
      "cell_type": "markdown",
      "metadata": {
        "id": "CEBp8KpvgpKs"
      },
      "source": [
        "### Concatenate two tensors"
      ]
    },
    {
      "cell_type": "code",
      "execution_count": 28,
      "metadata": {
        "id": "Z9QFyFP-q3yu"
      },
      "outputs": [],
      "source": [
        "tensor = tf.constant([[1, 2], [3, 4]])"
      ]
    },
    {
      "cell_type": "code",
      "execution_count": 29,
      "metadata": {
        "colab": {
          "base_uri": "https://localhost:8080/"
        },
        "id": "hmDSqUDprOJs",
        "outputId": "a8aa383e-55ff-4135-f9e6-0ba470ad2c84"
      },
      "outputs": [
        {
          "data": {
            "text/plain": [
              "array([[23,  4],\n",
              "       [32, 51]])"
            ]
          },
          "execution_count": 29,
          "metadata": {},
          "output_type": "execute_result"
        }
      ],
      "source": [
        "tensor_20.numpy()"
      ]
    },
    {
      "cell_type": "code",
      "execution_count": 30,
      "metadata": {
        "id": "iIgedb1ZgfIQ"
      },
      "outputs": [],
      "source": [
        "out = tf.concat([tensor, tensor_20], 1)"
      ]
    },
    {
      "cell_type": "code",
      "execution_count": 31,
      "metadata": {
        "colab": {
          "base_uri": "https://localhost:8080/"
        },
        "id": "41wfU0JurA4x",
        "outputId": "a4031389-e65c-4bd9-ec8c-dc0da544aa7f"
      },
      "outputs": [
        {
          "data": {
            "text/plain": [
              "array([[ 1,  2, 23,  4],\n",
              "       [ 3,  4, 32, 51]])"
            ]
          },
          "execution_count": 31,
          "metadata": {},
          "output_type": "execute_result"
        }
      ],
      "source": [
        "out.numpy()"
      ]
    },
    {
      "cell_type": "markdown",
      "metadata": {
        "id": "kajmB8pTg4yJ"
      },
      "source": [
        " ### Casting tensors data types"
      ]
    },
    {
      "cell_type": "code",
      "execution_count": 32,
      "metadata": {
        "colab": {
          "base_uri": "https://localhost:8080/"
        },
        "id": "-XZ21QF1g7aN",
        "outputId": "8cb72d13-0302-4414-f09b-d6eebfa0b2ab"
      },
      "outputs": [
        {
          "data": {
            "text/plain": [
              "array([[1., 2.],\n",
              "       [3., 4.]])"
            ]
          },
          "execution_count": 32,
          "metadata": {},
          "output_type": "execute_result"
        }
      ],
      "source": [
        "out1 = tf.cast(tensor, tf.float64)\n",
        "out1.numpy()"
      ]
    },
    {
      "cell_type": "markdown",
      "metadata": {
        "id": "_xQrxnKchiYc"
      },
      "source": [
        "### One hot encoding"
      ]
    },
    {
      "cell_type": "code",
      "execution_count": 33,
      "metadata": {
        "id": "C8xZqwTbhj8u"
      },
      "outputs": [],
      "source": [
        "X = tf.constant([[0, 5, 3], [4, 2, 1]])\n",
        "out = tf.one_hot(X, 6)"
      ]
    },
    {
      "cell_type": "code",
      "execution_count": 34,
      "metadata": {
        "colab": {
          "base_uri": "https://localhost:8080/"
        },
        "id": "05owmSpHrfeX",
        "outputId": "db5b0afd-c11c-4829-82bc-78d3f0016130"
      },
      "outputs": [
        {
          "data": {
            "text/plain": [
              "<tf.Tensor: shape=(2, 3, 6), dtype=float32, numpy=\n",
              "array([[[1., 0., 0., 0., 0., 0.],\n",
              "        [0., 0., 0., 0., 0., 1.],\n",
              "        [0., 0., 0., 1., 0., 0.]],\n",
              "\n",
              "       [[0., 0., 0., 0., 1., 0.],\n",
              "        [0., 0., 1., 0., 0., 0.],\n",
              "        [0., 1., 0., 0., 0., 0.]]], dtype=float32)>"
            ]
          },
          "execution_count": 34,
          "metadata": {},
          "output_type": "execute_result"
        }
      ],
      "source": [
        "out"
      ]
    }
  ],
  "metadata": {
    "colab": {
      "provenance": []
    },
    "kernelspec": {
      "display_name": "Python 3 (ipykernel)",
      "language": "python",
      "name": "python3"
    },
    "language_info": {
      "codemirror_mode": {
        "name": "ipython",
        "version": 3
      },
      "file_extension": ".py",
      "mimetype": "text/x-python",
      "name": "python",
      "nbconvert_exporter": "python",
      "pygments_lexer": "ipython3",
      "version": "3.11.8"
    }
  },
  "nbformat": 4,
  "nbformat_minor": 0
}
