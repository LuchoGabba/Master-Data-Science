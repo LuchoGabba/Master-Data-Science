{
 "cells": [
  {
   "cell_type": "markdown",
   "metadata": {},
   "source": [
    "# Exercise 3 - Deccision Tree Regressor\n",
    "\n",
    "Take this data as inputs"
   ]
  },
  {
   "cell_type": "code",
   "execution_count": 5,
   "metadata": {},
   "outputs": [],
   "source": [
    "# Random Data\n",
    "X = np.linspace(-5 , 5, 1000).reshape(1000, 1)\n",
    "y_clean = np.sin(3 * X) + X\n",
    "\n",
    "# Add some noise to generate a non perfect function\n",
    "y_noise = np.random.normal(size=len(X)).reshape(y_clean.shape)\n",
    "y = y_clean + y_noise"
   ]
  },
  {
   "cell_type": "markdown",
   "metadata": {},
   "source": [
    "Perform multiple Decission Tree Regressors in each model use the following values for the parameter max_depth:\n",
    "* 3\n",
    "* 4\n",
    "* 5\n",
    "* 7\n",
    "* 30\n",
    "* 50\n",
    "\n",
    "Check for training and test when the model starts to produce overfitting\n",
    "\n",
    "## SOLUTION"
   ]
  },
  {
   "cell_type": "code",
   "execution_count": 4,
   "metadata": {},
   "outputs": [],
   "source": [
    "# Type your code here:"
   ]
  }
 ],
 "metadata": {
  "kernelspec": {
   "display_name": "Python 3",
   "language": "python",
   "name": "python3"
  },
  "language_info": {
   "codemirror_mode": {
    "name": "ipython",
    "version": 3
   },
   "file_extension": ".py",
   "mimetype": "text/x-python",
   "name": "python",
   "nbconvert_exporter": "python",
   "pygments_lexer": "ipython3",
   "version": "3.7.6"
  }
 },
 "nbformat": 4,
 "nbformat_minor": 4
}
