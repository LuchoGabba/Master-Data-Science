{
  "nbformat": 4,
  "nbformat_minor": 0,
  "metadata": {
    "colab": {
      "provenance": []
    },
    "kernelspec": {
      "name": "python3",
      "display_name": "Python 3"
    },
    "language_info": {
      "name": "python"
    }
  },
  "cells": [
    {
      "cell_type": "markdown",
      "source": [
        "#<font color='#97171e'>AIT - Master in Data Science</font> 📈\n",
        "# **Module 8: Class 3-Exercises**\n",
        "\n",
        "Using a data set with relevant variables to predict a heart disease (heart.csv), your goal will be to follow all the steps to preprocess the data.\n"
      ],
      "metadata": {
        "id": "F6kyuVxBa4mg"
      }
    },
    {
      "cell_type": "markdown",
      "source": [
        "## **<font color='#97171e'>Ejercicio 1</font>**\n",
        "\n",
        "* Load the data.\n",
        "\n",
        "* Check the main metrics.\n",
        "\n",
        "* Check the data types.\n",
        "\n",
        "* Decide which are the independent variables and which one is the target variable. Store the names of the variables in two different lists."
      ],
      "metadata": {
        "id": "5zbvlUXIa9eD"
      }
    },
    {
      "cell_type": "markdown",
      "source": [
        "## **<font color='#97171e'>Ejercicio 2</font>**\n",
        "\n",
        "There's a variable that is and object but could be a binary 0, 1 column. Find it and make the proper replacement."
      ],
      "metadata": {
        "id": "XhWxx01DhbNB"
      }
    },
    {
      "cell_type": "markdown",
      "source": [
        "## **<font color='#97171e'>Ejercicio 3</font>**\n",
        "\n",
        "* Check the distribution of the numerical variables using graphs.\n",
        "* Run tests to decide if the numerical columns are normal distributed or not.\n"
      ],
      "metadata": {
        "id": "F22bSnpFnHfU"
      }
    },
    {
      "cell_type": "markdown",
      "source": [
        "## **<font color='#97171e'>Ejercicio 4</font>**\n",
        "\n",
        "Standarize the numerical columns"
      ],
      "metadata": {
        "id": "EjQvQLuQroZO"
      }
    },
    {
      "cell_type": "markdown",
      "source": [
        "## **<font color='#97171e'>Ejercicio 5</font>**\n",
        "\n",
        "Check the correlation between the numerical independent variables"
      ],
      "metadata": {
        "id": "mAAdGACwr2El"
      }
    },
    {
      "cell_type": "markdown",
      "source": [
        "## **<font color='#97171e'>Ejercicio 6</font>**\n",
        "\n",
        "Change the data type of the categorical variables by a more suitable one."
      ],
      "metadata": {
        "id": "RREA5R5tjip6"
      }
    },
    {
      "cell_type": "markdown",
      "source": [
        "## **<font color='#97171e'>Ejercicio 7</font>**\n",
        "\n",
        "Make dummy variables from the categorical columns."
      ],
      "metadata": {
        "id": "GxXLxY0ykjry"
      }
    }
  ]
}