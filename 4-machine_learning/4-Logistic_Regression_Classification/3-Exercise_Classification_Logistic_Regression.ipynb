{
  "cells": [
    {
      "cell_type": "markdown",
      "id": "081e5489",
      "metadata": {
        "id": "081e5489"
      },
      "source": [
        "#<font color='#97171e'>AIT - Master in Data Science</font> 📈\n",
        "# **Module 8: Class 6 - Introduction to classification and Logistic Regression**\n",
        "# Exercise Heart Disease\n",
        "\n",
        "In our case, the problem we will be exploring is binary classification (a sample can only be one of two things), we're going to predict when a person have heart disease or not\n",
        "\n",
        "Original data can be found here: https://archive.ics.uci.edu/ml/datasets/heart+Disease\n",
        "\n",
        "Also there is a reduced version (of columns) and formatted in: https://www.kaggle.com/datasets/sumaiyatasmeem/heart-disease-classification-dataset\n",
        "\n",
        "The data contains the following columns\n",
        "\n",
        "* age: Displays the age of the individual.\n",
        "\n",
        "* sex: Displays the gender of the individual using the following format : 1 = male 0 = female\n",
        "\n",
        "* cp- Chest-pain type: displays the type of chest-pain experienced by the individual using the following format : 0 = typical angina 1 = atypical angina 2 = non — anginal pain 3 = asymptotic\n",
        "\n",
        "* trestbps- Resting Blood Pressure: displays the resting blood pressure value of an individual in mmHg (unit). anything above 130-140 is typically cause for concern.\n",
        "\n",
        "* chol- Serum Cholestrol: displays the serum cholesterol in mg/dl (unit)\n",
        "\n",
        "* fbs- Fasting Blood Sugar: compares the fasting blood sugar value of an individual with 120mg/dl. If fasting blood sugar > 120mg/dl then : 1 (true) else : 0 (false) '>126' mg/dL signals diabetes\n",
        "\n",
        "* restecg- Resting ECG : displays resting electrocardiographic results 0 = normal 1 = having ST-T wave abnormality 2 = left ventricular hyperthrophy\n",
        "\n",
        "* thalach- Max heart rate achieved : displays the max heart rate achieved by an individual.\n",
        "\n",
        "* exang- Exercise induced angina : 1 = yes 0 = no\n",
        "\n",
        "* oldpeak- ST depression induced by exercise relative to rest: displays the value which is an integer or float.\n",
        "\n",
        "* slope- Slope of the peak exercise ST segment : 0 = upsloping: better heart rate with excercise (uncommon) 1 = flat: minimal change (typical healthy heart) 2 = downsloping: signs of unhealthy heart\n",
        "\n",
        "* ca- Number of major vessels (0–3) colored by flourosopy : displays the value as integer or float.\n",
        "\n",
        "* thal : Displays the thalassemia : 1,3 = normal 6 = fixed defect 7 = reversible defect: no proper blood movement when excercising\n",
        "\n",
        "* target : Displays whether the individual is suffering from heart disease or not : 1 = yes 0 = no\n",
        "\n",
        "The objectives in this exersice are:\n",
        "* Explore the dataset\n",
        "* Perform the data pre-processing\n",
        "* Implement a Logistic Regression model.\n",
        "* Evaluate the performance of the model."
      ]
    },
    {
      "cell_type": "markdown",
      "source": [
        "## Solution"
      ],
      "metadata": {
        "id": "2Jdv8fOmdant"
      },
      "id": "2Jdv8fOmdant"
    }
  ],
  "metadata": {
    "kernelspec": {
      "display_name": "Python 3",
      "language": "python",
      "name": "python3"
    },
    "language_info": {
      "codemirror_mode": {
        "name": "ipython",
        "version": 3
      },
      "file_extension": ".py",
      "mimetype": "text/x-python",
      "name": "python",
      "nbconvert_exporter": "python",
      "pygments_lexer": "ipython3",
      "version": "3.7.6"
    },
    "colab": {
      "provenance": []
    }
  },
  "nbformat": 4,
  "nbformat_minor": 5
}