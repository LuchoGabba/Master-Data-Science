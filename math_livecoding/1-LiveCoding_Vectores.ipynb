{
 "cells": [
  {
   "cell_type": "markdown",
   "id": "930cf3cd",
   "metadata": {},
   "source": [
    "# Vectores\n",
    "\n",
    "El concepto de vector tiene dos significados ligeramente diferentes si lo observamos desde el punto de vista de la matemática o desde el punto de vista de la computación. Cuando hacemos ciencia de datos, solemos tomarnos la libertad de llamar vectores a ciertas estructuras de datos que, si lo analizamos estrictamente desde el sentido matemático, no lo son."
   ]
  },
  {
   "cell_type": "markdown",
   "id": "45beab77",
   "metadata": {},
   "source": [
    "\n",
    "## Definición matemática\n",
    "\n",
    "En matemática, un vector es un **segmento de recta orientado**, que depende de un **sistema de coordenadas**.\n",
    "\n",
    "Los vectores son muy usados en física para representar a las llamadas magnitudes vectoriales, que son aquellas que están dotadas de intensidad (o módulo), dirección y sentido. Un ejemplo es el caso de la fuerza, la velocidad o el desplazamiento. Ese rasgo de contar con dirección es el que distingue a las magnitudes vectoriales de las escalares.\n",
    "\n",
    "### Características geométricas\n",
    "\n",
    "- **Dirección**: la dirección de un vector corresponde a la dirección de la recta que contiene el vector o cualquier recta paralela a ella. Dicho con otras palabras, la dirección de un vector es la línea recta sobre la que está situado.\n",
    "\n",
    "- **Sentido**: el sentido de un vector es la orientación de dicho vector, lo indica su flecha.\n",
    "\n",
    "- **Módulo**: el módulo de un vector es su longitud, y corresponde al valor numérico del vector. Por lo tanto, cuanto mayor sea el vector significa que más grande es la magnitud vectorial que representa.\n",
    "\n",
    "- **Punto de aplicación**: el punto de aplicación de un vector es el origen de dicho vector.\n",
    "\n",
    "\n",
    "<img width=250 src=\"./Images/Vectores.png\">\n",
    "\n",
    "<img src=\"Images/Vectores.png\" alt=\"Descripción de la imagen\" width=\"250\">\n",
    "\n",
    "![](Images\\Vectores.png)\n",
    "\n",
    "\n",
    "Nota: por convención, los vectores generalmente se presentan en forma de columnas."
   ]
  },
  {
   "cell_type": "markdown",
   "id": "ef41c492",
   "metadata": {},
   "source": [
    "##  Definición en computación\n",
    "\n",
    "En computación se le suele llamar vector a los arreglos unidimensionales que son un tipo de datos estructurado que está formado por una colección **finita y ordenada** de datos **del mismo tipo**. \n",
    "\n",
    "Los vectores computacionales son muy usados en machine learning, sobre todo para representar **observaciones** y **predicciones**. Por ejemplo, supongamos que construimos un sistema de aprendizaje automático para clasificar videos en 3 categorías (bueno, spam, clickbait) según lo que sabemos sobre ellos. Para cada video, podríamos construir un vector que representa lo que sabemos sobre él:\n",
    "\n",
    "**video** $= \\begin{pmatrix}\n",
    "10.5 \\\\\n",
    "5.2 \\\\\n",
    "3.25 \\\\\n",
    "7.0\n",
    "\\end{pmatrix}$\n",
    "\n",
    "Este vector podría representar un video que dura 10.5 minutos, pero solo el 5.2% de los espectadores miran más de un minuto; obtiene un promedio de 3.25 vistas por día y se marcó 7 veces como spam. **Cada componente puede tener un significado diferente**.\n",
    "\n",
    "Según este vector, nuestro sistema de aprendizaje automático puede predecir que existe un 80% de probabilidad de que sea un video no deseado, un 18% de que sea clickbait y un 2% de que sea un buen video. Esto podría representarse como el siguiente vector:\n",
    "\n",
    "**probabilidades_de_clase** $= \\begin{pmatrix}\n",
    "0.80 \\\\\n",
    "0.18 \\\\\n",
    "0.02\n",
    "\\end{pmatrix}$"
   ]
  },
  {
   "cell_type": "markdown",
   "id": "53c67933",
   "metadata": {},
   "source": [
    "## Vectores en python\n",
    "\n",
    "En python, un vector se puede representar de muchas maneras, la más simple es una lista de números de python:"
   ]
  },
  {
   "cell_type": "code",
   "execution_count": 1,
   "id": "3c91e9e1",
   "metadata": {},
   "outputs": [
    {
     "data": {
      "text/plain": [
       "[10.5, 5.2, 3.25, 7.0]"
      ]
     },
     "execution_count": 1,
     "metadata": {},
     "output_type": "execute_result"
    }
   ],
   "source": [
    "[10.5, 5.2, 3.25, 7.0]"
   ]
  },
  {
   "cell_type": "markdown",
   "id": "12998a75",
   "metadata": {},
   "source": [
    "Dado que planeamos hacer una gran cantidad de cálculos científicos, es mucho mejor usar `nparray` de NumPy, que proporciona muchas implementaciones convenientes y optimizadas de operaciones matemáticas esenciales en vectores. Por ejemplo:"
   ]
  },
  {
   "cell_type": "code",
   "execution_count": 2,
   "id": "5aef8454",
   "metadata": {},
   "outputs": [
    {
     "data": {
      "text/plain": [
       "array([10.5 ,  5.2 ,  3.25,  7.  ])"
      ]
     },
     "execution_count": 2,
     "metadata": {},
     "output_type": "execute_result"
    }
   ],
   "source": [
    "import numpy as np\n",
    "video = np.array([10.5, 5.2, 3.25, 7.0])\n",
    "video"
   ]
  },
  {
   "cell_type": "code",
   "execution_count": 3,
   "id": "40361a6a",
   "metadata": {},
   "outputs": [
    {
     "data": {
      "text/plain": [
       "4"
      ]
     },
     "execution_count": 3,
     "metadata": {},
     "output_type": "execute_result"
    }
   ],
   "source": [
    "video.size"
   ]
  },
  {
   "cell_type": "code",
   "execution_count": 4,
   "id": "07f7e024",
   "metadata": {},
   "outputs": [
    {
     "data": {
      "text/plain": [
       "5.2"
      ]
     },
     "execution_count": 4,
     "metadata": {},
     "output_type": "execute_result"
    }
   ],
   "source": [
    "video[1]"
   ]
  },
  {
   "cell_type": "markdown",
   "id": "f0bc6d42",
   "metadata": {},
   "source": [
    "El iésimo elemento (en la posición i) de un vector $\\textbf{v}$ se anota como $\\textbf{v}_i$.\n",
    "\n",
    "Nota: Tenga en cuenta que los índices en matemáticas generalmente comienzan en 1, pero en programación generalmente comienzan en 0.\n",
    "\n",
    "### Graficar vectores\n",
    "\n",
    "Para graficar vectores usaremos matplotlib, así que comencemos importándolo, creando dos vectores bidimensionales y representándolos como puntos:"
   ]
  },
  {
   "cell_type": "code",
   "execution_count": 5,
   "id": "ab433e9e",
   "metadata": {},
   "outputs": [
    {
     "data": {
      "image/png": "[encoded data removed]",
      "text/plain": [
       "<Figure size 640x480 with 1 Axes>"
      ]
     },
     "metadata": {},
     "output_type": "display_data"
    }
   ],
   "source": [
    "%matplotlib inline\n",
    "import matplotlib.pyplot as plt\n",
    "\n",
    "u = np.array([2, 5])\n",
    "v = np.array([3, 1])\n",
    "\n",
    "x_coords, y_coords = zip(u, v)\n",
    "plt.scatter(x_coords, y_coords, color=[\"r\",\"b\"])\n",
    "plt.axis([0, 9, 0, 6])\n",
    "plt.grid()\n",
    "plt.show()"
   ]
  },
  {
   "cell_type": "markdown",
   "id": "00427877",
   "metadata": {},
   "source": [
    "Los vectores también se pueden representar como flechas. Vamos a crear una pequeña función para dibujar las flechas:"
   ]
  },
  {
   "cell_type": "code",
   "execution_count": 12,
   "id": "d9cbaad1",
   "metadata": {},
   "outputs": [],
   "source": [
    "def plot_vector2d(vector2d, origin=[0, 0], **options):\n",
    "    return plt.arrow(origin[0], origin[1], vector2d[0], vector2d[1],\n",
    "              head_width=0.2, head_length=0.3, length_includes_head=True,\n",
    "              **options)"
   ]
  },
  {
   "cell_type": "markdown",
   "id": "b112c75a",
   "metadata": {},
   "source": [
    "Notemos la flexibilidad para definir el origen del vector."
   ]
  },
  {
   "cell_type": "code",
   "execution_count": 17,
   "id": "b6b91c0c",
   "metadata": {},
   "outputs": [
    {
     "data": {
      "image/png": "[encoded data removed]",
      "text/plain": [
       "<Figure size 640x480 with 1 Axes>"
      ]
     },
     "metadata": {},
     "output_type": "display_data"
    }
   ],
   "source": [
    "plot_vector2d(u, origin=[1,1], color=\"r\") # Este vector tiene un punto de aplicación no trivial.\n",
    "plot_vector2d(v, color=\"b\")\n",
    "#plt.scatter(x_coords, y_coords, color=[\"r\",\"b\"])\n",
    "plt.axis([0, 9, 0, 6])\n",
    "plt.grid()\n",
    "plt.show()"
   ]
  },
  {
   "cell_type": "markdown",
   "id": "4f0d9492",
   "metadata": {},
   "source": [
    "### Vectores 3D\n",
    "\n",
    "Dibujar vectores 3D usando `Axes3D` de matplotlib:"
   ]
  },
  {
   "cell_type": "code",
   "execution_count": 22,
   "id": "559f1d32",
   "metadata": {},
   "outputs": [],
   "source": [
    "a = np.array([1, 2, 8])\n",
    "b = np.array([5, 6, 3])"
   ]
  },
  {
   "cell_type": "markdown",
   "id": "3b09f00b",
   "metadata": {},
   "source": [
    "Agreguemos algunas líneas verticales y horizontales para visualizar. Crearemos una pequeña función para trazar una lista de vectores 3D con líneas perpendiculares a los ejes:"
   ]
  },
  {
   "cell_type": "code",
   "execution_count": 27,
   "id": "c4273ff8",
   "metadata": {},
   "outputs": [
    {
     "data": {
      "image/png": "[encoded data removed]",
      "text/plain": [
       "<Figure size 640x480 with 1 Axes>"
      ]
     },
     "metadata": {},
     "output_type": "display_data"
    }
   ],
   "source": [
    "def plot_vectors3d(ax, vectors3d, z0, **options):\n",
    "    for v in vectors3d:\n",
    "        x, y, z = v\n",
    "        ax.plot([x,x], [y,y], [z0, z], color=\"gray\", linestyle='dotted', marker=\".\")\n",
    "        ax.plot([0,x], [y,y], [z, z], color=\"gray\", linestyle='dotted', marker=\".\")\n",
    "    x_coords, y_coords, z_coords = zip(*vectors3d)\n",
    "    ax.scatter(x_coords, y_coords, z_coords, **options)\n",
    "\n",
    "subplot3d = plt.subplot(111, projection='3d')\n",
    "subplot3d.set_zlim([0, 9])\n",
    "plot_vectors3d(subplot3d, [a,b], 0, color=(\"r\",\"b\"))\n",
    "plt.show()"
   ]
  },
  {
   "cell_type": "markdown",
   "id": "7154a088",
   "metadata": {},
   "source": [
    "## Propiedades \n",
    "\n",
    "### Norma\n",
    "\n",
    "La norma de un vector $\\textbf{u}$, anotada $\\left \\Vert \\textbf{u} \\right \\|$, es una medida de la longitud (también conocida como la magnitud) de $\\textbf{u}$. Hay múltiples normas posibles, pero la más común (y la única que discutiremos aquí) es la norma euclidiana, que se define como:\n",
    "\n",
    "$\\left \\Vert \\textbf{u} \\right \\| = \\sqrt{\\sum_{i}{\\textbf{u}_i}^2}$\n",
    "\n",
    "Podríamos implementar esto fácilmente en Python puro, recordando que $\\sqrt x = x^{\\frac{1}{2}}$"
   ]
  },
  {
   "cell_type": "code",
   "execution_count": 12,
   "id": "d2fa832a",
   "metadata": {},
   "outputs": [
    {
     "data": {
      "text/plain": [
       "array([2, 5])"
      ]
     },
     "execution_count": 12,
     "metadata": {},
     "output_type": "execute_result"
    }
   ],
   "source": [
    "u"
   ]
  },
  {
   "cell_type": "code",
   "execution_count": 30,
   "id": "0fce97c6",
   "metadata": {},
   "outputs": [
    {
     "name": "stdout",
     "output_type": "stream",
     "text": [
      "|| [2 5] || = 5.385164807134504\n"
     ]
    }
   ],
   "source": [
    "def vector_norm(vector):\n",
    "    squares = [element**2 for element in vector]\n",
    "    #print(squares)\n",
    "    return sum(squares)**0.5\n",
    "\n",
    "print(\"||\", u, \"|| =\", vector_norm(u))"
   ]
  },
  {
   "cell_type": "markdown",
   "id": "435afb9a",
   "metadata": {},
   "source": [
    "**Reminder:** $\\quad \\sqrt[b]{x^a} = x^{\\frac{a}{b}}$"
   ]
  },
  {
   "cell_type": "code",
   "execution_count": 15,
   "id": "09e3dadf",
   "metadata": {},
   "outputs": [
    {
     "data": {
      "text/plain": [
       "5.385164807134504"
      ]
     },
     "execution_count": 15,
     "metadata": {},
     "output_type": "execute_result"
    }
   ],
   "source": [
    "import numpy.linalg as LA\n",
    "LA.norm(u)"
   ]
  },
  {
   "cell_type": "markdown",
   "id": "bca379ea",
   "metadata": {},
   "source": [
    "**Plotiemos** un pequeño gráfico para confirmar que la longitud del vector $\\textbf{v}$ es de hecho $\\approx5.4$:"
   ]
  },
  {
   "cell_type": "code",
   "execution_count": 14,
   "id": "62063529",
   "metadata": {},
   "outputs": [
    {
     "data": {
      "image/png": "[encoded data removed]",
      "text/plain": [
       "<Figure size 432x288 with 1 Axes>"
      ]
     },
     "metadata": {
      "needs_background": "light"
     },
     "output_type": "display_data"
    }
   ],
   "source": [
    "radius = LA.norm(u)\n",
    "plt.gca().add_artist(plt.Circle((0,0), radius, color=\"#DDDDDD\"))\n",
    "plot_vector2d(u, color=\"r\")\n",
    "plt.axis([0, 8.7, 0, 6])\n",
    "plt.grid()\n",
    "plt.show()"
   ]
  },
  {
   "cell_type": "markdown",
   "id": "d4730699",
   "metadata": {},
   "source": [
    "**Nota:** Hay infinitos vectores de norma $5\\sim5.39$, pero uno solo con inicio trivial y extremo en (2,5). "
   ]
  },
  {
   "cell_type": "markdown",
   "id": "27e60faa",
   "metadata": {},
   "source": [
    "### Adición y sustracción de vectores\n",
    "\n",
    "Se pueden sumar vectores del mismo tamaño. La suma se realiza *elemento a elemento*:"
   ]
  },
  {
   "cell_type": "code",
   "execution_count": 19,
   "id": "f5bb49fc",
   "metadata": {},
   "outputs": [
    {
     "name": "stdout",
     "output_type": "stream",
     "text": [
      "  [2 5]\n",
      "+ [3 1]\n",
      "+ [4 2]\n",
      "----------\n"
     ]
    },
    {
     "data": {
      "text/plain": [
       "array([9, 8])"
      ]
     },
     "execution_count": 19,
     "metadata": {},
     "output_type": "execute_result"
    }
   ],
   "source": [
    "w = np.array([4, 2])\n",
    "print(\" \", u)\n",
    "print(\"+\", v)\n",
    "print(\"+\", w)\n",
    "print(\"-\"*10)\n",
    "u + v + w"
   ]
  },
  {
   "cell_type": "markdown",
   "id": "88b5a6cb",
   "metadata": {},
   "source": [
    "Veamos cómo se ve gráficamente la suma de 2 vectores:"
   ]
  },
  {
   "cell_type": "code",
   "execution_count": 18,
   "id": "c6f73bfb",
   "metadata": {},
   "outputs": [
    {
     "data": {
      "image/png": "[encoded data removed]",
      "text/plain": [
       "<Figure size 432x288 with 1 Axes>"
      ]
     },
     "metadata": {
      "needs_background": "light"
     },
     "output_type": "display_data"
    }
   ],
   "source": [
    "plot_vector2d(u, color=\"r\")\n",
    "plot_vector2d(v, color=\"b\")\n",
    "plot_vector2d(v, origin=u, color=\"b\", linestyle=\"dotted\")\n",
    "plot_vector2d(u, origin=v, color=\"r\", linestyle=\"dotted\")\n",
    "plot_vector2d(u+v, color=\"g\")\n",
    "plt.axis([0, 9, 0, 7])\n",
    "plt.text(0.7, 3, \"u\", color=\"r\", fontsize=18)\n",
    "plt.text(4, 3, \"u\", color=\"r\", fontsize=18)\n",
    "plt.text(1.8, 0.2, \"v\", color=\"b\", fontsize=18)\n",
    "plt.text(3.1, 5.6, \"v\", color=\"b\", fontsize=18)\n",
    "plt.text(2.4, 2.5, \"u+v\", color=\"g\", fontsize=18)\n",
    "plt.grid()\n",
    "plt.show()"
   ]
  },
  {
   "cell_type": "code",
   "execution_count": 17,
   "id": "d7aa1a10",
   "metadata": {},
   "outputs": [
    {
     "data": {
      "text/plain": [
       "array([5, 6])"
      ]
     },
     "execution_count": 17,
     "metadata": {},
     "output_type": "execute_result"
    }
   ],
   "source": [
    "u+v"
   ]
  },
  {
   "cell_type": "markdown",
   "id": "cfb3e612",
   "metadata": {},
   "source": [
    "La suma de vectores es **conmutativa**, lo que significa que $\\textbf{u} + \\textbf{v} = \\textbf{v} + \\textbf{u}$. Puedes verlo en la imagen anterior: siguiendo $\\textbf{u}$ *luego* $\\textbf{v}$ lleva al mismo punto que siguiendo $\\textbf{v}$ *luego* $\\textbf{u} $\n",
    "\n",
    "La suma de vectores también es **asociativa**, lo que significa que $\\textbf{u} + (\\textbf{v} + \\textbf{w}) = (\\textbf{u} + \\textbf{v}) + \\textbf{ w}$."
   ]
  },
  {
   "cell_type": "markdown",
   "id": "f647fa14",
   "metadata": {},
   "source": [
    "Finalmente, restar un vector es como sumar el vector opuesto."
   ]
  },
  {
   "cell_type": "code",
   "execution_count": 20,
   "id": "d6a7f677",
   "metadata": {},
   "outputs": [
    {
     "data": {
      "image/png": "[encoded data removed]",
      "text/plain": [
       "<Figure size 432x288 with 1 Axes>"
      ]
     },
     "metadata": {
      "needs_background": "light"
     },
     "output_type": "display_data"
    }
   ],
   "source": [
    "plot_vector2d(w, color=\"r\")\n",
    "plot_vector2d(v, origin=w, color=\"b\", linestyle=\"dotted\")\n",
    "plot_vector2d(-v, origin=w, color=\"b\", linestyle=\"dotted\")\n",
    "plot_vector2d(w+v, color=\"g\")\n",
    "plot_vector2d(w-v, color=\"g\")\n",
    "plt.axis([0, 8, 0, 4])\n",
    "plt.text(1.6, 1, \"w\", color=\"r\", fontsize=18)\n",
    "plt.text(5, 2.5, \"v\", color=\"b\", fontsize=18)\n",
    "plt.text(2, 1.5, \"-v\", color=\"b\", fontsize=18)\n",
    "plt.text(4, 1.5, \"w+v\", color=\"g\", fontsize=18)\n",
    "plt.text(0.25, 0.5, \"w-v\", color=\"g\", fontsize=18)\n",
    "plt.grid()\n",
    "plt.show()"
   ]
  },
  {
   "cell_type": "code",
   "execution_count": 21,
   "id": "9a0324e1",
   "metadata": {},
   "outputs": [
    {
     "data": {
      "text/plain": [
       "(array([4, 2]), array([3, 1]))"
      ]
     },
     "execution_count": 21,
     "metadata": {},
     "output_type": "execute_result"
    }
   ],
   "source": [
    "w + (-v)\n",
    "\n",
    "(-v) + w "
   ]
  },
  {
   "cell_type": "markdown",
   "id": "8ff54cf3",
   "metadata": {},
   "source": [
    "## Multiplicación por un escalar\n",
    "\n",
    "Los vectores se pueden multiplicar por escalares. Todos los elementos del vector se multiplican por ese número, por ejemplo:"
   ]
  },
  {
   "cell_type": "code",
   "execution_count": 23,
   "id": "75a122a2",
   "metadata": {},
   "outputs": [
    {
     "name": "stdout",
     "output_type": "stream",
     "text": [
      "2 * [2 5] = [ 4 10]\n"
     ]
    }
   ],
   "source": [
    "result = 2 * u\n",
    "print(\"2 *\", u, \"=\", result)"
   ]
  },
  {
   "cell_type": "code",
   "execution_count": 22,
   "id": "318b6eda",
   "metadata": {},
   "outputs": [
    {
     "data": {
      "text/plain": [
       "array([ 4, 10])"
      ]
     },
     "execution_count": 22,
     "metadata": {},
     "output_type": "execute_result"
    }
   ],
   "source": [
    "u * 2"
   ]
  },
  {
   "cell_type": "markdown",
   "id": "8c9c09a1",
   "metadata": {},
   "source": [
    "Gráficamente, la multiplicación por escalar da como resultado cambiar la escala de una figura, de ahí el nombre *escalar*. La distancia desde el origen (el punto en coordenadas iguales a cero) también se multiplica por el escalar.\n",
    "\n",
    "Como puedes suponer, dividir un vector por un escalar es equivalente a multiplicar por su inverso multiplicativo:\n",
    "$\\dfrac{\\textbf{u}}{\\lambda} = \\dfrac{1}{\\lambda} \\times \\textbf{u}$\n",
    "\n",
    "Nota: en este caso, estaría disminuyendo la escala!\n",
    "\n",
    "<br>\n",
    "\n",
    "La multiplicación por escalar es **conmutativa**: $\\lambda \\times \\textbf{u} = \\textbf{u} \\times \\lambda$.\n",
    "\n",
    "También es **asociativa**: $\\lambda_1 \\times (\\lambda_2 \\times \\textbf{u}) = (\\lambda_1 \\times \\lambda_2) \\times \\textbf{u}$.\n",
    "\n",
    "Finalmente, es **distributiva** sobre la suma de vectores: $\\lambda \\times (\\textbf{u} + \\textbf{v}) = \\lambda \\times \\textbf{u} + \\lambda \\times \\textbf{ v}$."
   ]
  },
  {
   "cell_type": "markdown",
   "id": "8a41c574",
   "metadata": {},
   "source": [
    "## Vectores nulos, unitarios y normalizados\n",
    "\n",
    "* Un **vector nulo** es un vector lleno de ceros.\n",
    "\n",
    "\n",
    "* Un **vector unitario** es un vector con una norma igual a 1.\n",
    "\n",
    "\n",
    "* El **vector normalizado** de un vector no nulo $\\textbf{u}$, anotado $\\hat{\\textbf{u}}$, es el vector unitario (o versor) que apunta en la misma dirección que $\\textbf{u}$. Es igual a: $\\hat{\\textbf{u}} = \\dfrac{\\textbf{u}}{\\left \\Vert \\textbf{u} \\right \\|}$"
   ]
  },
  {
   "cell_type": "code",
   "execution_count": 26,
   "id": "3e33a902",
   "metadata": {},
   "outputs": [
    {
     "data": {
      "text/plain": [
       "array([0, 0, 0])"
      ]
     },
     "execution_count": 26,
     "metadata": {},
     "output_type": "execute_result"
    }
   ],
   "source": [
    "np.array([0, 0, 0])*5"
   ]
  },
  {
   "cell_type": "code",
   "execution_count": 25,
   "id": "ca166921",
   "metadata": {},
   "outputs": [
    {
     "data": {
      "text/plain": [
       "array([0., 0., 0.])"
      ]
     },
     "execution_count": 25,
     "metadata": {},
     "output_type": "execute_result"
    }
   ],
   "source": [
    "np.zeros(3)"
   ]
  },
  {
   "cell_type": "code",
   "execution_count": 26,
   "id": "0318bcb7",
   "metadata": {},
   "outputs": [
    {
     "data": {
      "image/png": "[encoded data removed]",
      "text/plain": [
       "<Figure size 432x288 with 1 Axes>"
      ]
     },
     "metadata": {
      "needs_background": "light"
     },
     "output_type": "display_data"
    }
   ],
   "source": [
    "plt.gca().add_artist(plt.Circle((0,0),1,color='c'))\n",
    "plt.plot(0, 0, \"ko\")\n",
    "plot_vector2d(v / LA.norm(v), color=\"k\")\n",
    "plot_vector2d(v, color=\"b\", linestyle=\":\")\n",
    "plt.text(0.3, 0.3, \"$\\hat{u}$\", color=\"k\", fontsize=18)\n",
    "plt.text(1.5, 0.7, \"$u$\", color=\"b\", fontsize=18)\n",
    "plt.axis([-1.5, 5.5, -1.5, 3.5])\n",
    "plt.grid()\n",
    "plt.show()"
   ]
  },
  {
   "cell_type": "markdown",
   "id": "1f937877",
   "metadata": {},
   "source": [
    "## Producto escalar\n",
    "\n",
    "### Definición\n",
    "\n",
    "El producto punto (también llamado *producto escalar*) de dos vectores $\\textbf{u}$ y $\\textbf{v}$ es una operación útil que surge con bastante frecuencia en álgebra lineal. Se anota $\\textbf{u} \\cdot \\textbf{v}$, o a veces $⟨\\textbf{u}|\\textbf{v}⟩$ o $(\\textbf{u}|\\textbf{v}) $, y se define como:\n",
    "\n",
    "$\\textbf{u} \\cdot \\textbf{v} = \\left \\Vert \\textbf{u} \\right \\| \\times \\left \\Vert \\textbf{v} \\right \\| \\times cos(\\theta)$\n",
    "\n",
    "donde $\\theta$ es el ángulo entre $\\textbf{u}$ y $\\textbf{v}$.\n",
    "\n",
    "Otra forma de calcular el producto escalar es:\n",
    "\n",
    "$\\textbf{u} \\cdot \\textbf{v} = \\sum_i{\\textbf{u}_i \\times \\textbf{v}_i}$\n",
    "\n",
    "### En python\n",
    "El producto punto es bastante simple de implementar:"
   ]
  },
  {
   "cell_type": "code",
   "execution_count": 32,
   "id": "59e1229d",
   "metadata": {},
   "outputs": [
    {
     "name": "stdout",
     "output_type": "stream",
     "text": [
      "[2 5] . [3 1]\n"
     ]
    }
   ],
   "source": [
    "print(u,\".\",v)"
   ]
  },
  {
   "cell_type": "code",
   "execution_count": 30,
   "id": "2f20110b",
   "metadata": {},
   "outputs": [
    {
     "data": {
      "text/plain": [
       "11"
      ]
     },
     "execution_count": 30,
     "metadata": {},
     "output_type": "execute_result"
    }
   ],
   "source": [
    "def dot_product(v1, v2):\n",
    "    return sum(v1i * v2i for v1i, v2i in zip(v1, v2))\n",
    "\n",
    "dot_product(u, v)"
   ]
  },
  {
   "cell_type": "markdown",
   "id": "6116d1f3",
   "metadata": {},
   "source": [
    "Pero NumPy proporciona una implementación *mucho* más eficiente con la función `dot`:"
   ]
  },
  {
   "cell_type": "code",
   "execution_count": 31,
   "id": "06035a31",
   "metadata": {},
   "outputs": [
    {
     "data": {
      "text/plain": [
       "11"
      ]
     },
     "execution_count": 31,
     "metadata": {},
     "output_type": "execute_result"
    }
   ],
   "source": [
    "np.dot(u,v)"
   ]
  },
  {
   "cell_type": "markdown",
   "id": "e433c59c",
   "metadata": {},
   "source": [
    "De manera equivalente, se puede usar el método `dot` de `ndarray`s:"
   ]
  },
  {
   "cell_type": "code",
   "execution_count": 32,
   "id": "6919e42a",
   "metadata": {},
   "outputs": [
    {
     "data": {
      "text/plain": [
       "11"
      ]
     },
     "execution_count": 32,
     "metadata": {},
     "output_type": "execute_result"
    }
   ],
   "source": [
    "u.dot(v)"
   ]
  },
  {
   "cell_type": "markdown",
   "id": "be4ef4d3",
   "metadata": {},
   "source": [
    "**Precaución**: el operador `*` realizará una multiplicación *elemento a elemento*, *NO* un producto escalar:"
   ]
  },
  {
   "cell_type": "code",
   "execution_count": 29,
   "id": "521b3f85",
   "metadata": {},
   "outputs": [
    {
     "name": "stdout",
     "output_type": "stream",
     "text": [
      "   [2 5]\n",
      "*  [3 1] (NOT a dot product)\n",
      "----------\n"
     ]
    },
    {
     "data": {
      "text/plain": [
       "array([6, 5])"
      ]
     },
     "execution_count": 29,
     "metadata": {},
     "output_type": "execute_result"
    }
   ],
   "source": [
    "print(\"  \",u)\n",
    "print(\"* \",v, \"(NOT a dot product)\")\n",
    "print(\"-\"*10)\n",
    "\n",
    "u * v"
   ]
  },
  {
   "cell_type": "raw",
   "id": "f354ab07",
   "metadata": {},
   "source": [
    "Recuerda que el producto escalar es la suma de la multiplicación de los elementos; i.e."
   ]
  },
  {
   "cell_type": "code",
   "execution_count": 34,
   "id": "f73b75e5",
   "metadata": {},
   "outputs": [
    {
     "data": {
      "text/plain": [
       "11"
      ]
     },
     "execution_count": 34,
     "metadata": {},
     "output_type": "execute_result"
    }
   ],
   "source": [
    "sum(u*v)"
   ]
  },
  {
   "cell_type": "markdown",
   "id": "50b43b94",
   "metadata": {},
   "source": [
    "### Propiedades principales\n",
    "\n",
    "* El producto escalar es **conmutativo**: $\\textbf{u} \\cdot \\textbf{v} = \\textbf{v} \\cdot \\textbf{u}$.\n",
    "\n",
    "\n",
    "* El producto escalar solo se define entre dos vectores, no entre un escalar y un vector. Esto significa que no podemos encadenar productos punto: por ejemplo, la expresión $\\textbf{u} \\cdot \\textbf{v} \\cdot \\textbf{w}$ no está definida ya que $\\textbf{u} \\cdot \\textbf{ v}$ es un escalar y $\\textbf{w}$ es un vector.\n",
    "\n",
    "\n",
    "* Esto también significa que el producto escalar **NO es asociativo**: $(\\textbf{u} \\cdot \\textbf{v}) \\cdot \\textbf{w} ≠ \\textbf{u} \\cdot (\\textbf{ v} \\cdot \\textbf{w})$ ya que ninguno está definido.\n",
    "\n",
    "\n",
    "* Sin embargo, el producto escalar es **asociativo con respecto a la multiplicación escalar**: $\\lambda \\times (\\textbf{u} \\cdot \\textbf{v}) = (\\lambda \\times \\textbf{u}) \\cdot \\textbf{v} = \\textbf{u} \\cdot (\\lambda \\times \\textbf{v})$\n",
    "\n",
    "\n",
    "* Finalmente, el producto escalar es **distributivo** sobre la suma de vectores: $\\textbf{u} \\cdot (\\textbf{v} + \\textbf{w}) = \\textbf{u} \\cdot \\textbf{v } + \\textbf{u} \\cdot \\textbf{w}$.\n",
    "\n",
    "Notaza: si $\\textbf{u} \\cdot \\textbf{v} = 0$, se sigue que $\\theta = \\dfrac{π}{2}$. En otras palabras, si el producto escalar de dos vectores no nulos es cero, significa que son ortogonales.\n"
   ]
  },
  {
   "cell_type": "markdown",
   "id": "24b614eb",
   "metadata": {},
   "source": [
    "### Proyectar un punto sobre un eje\n",
    "\n",
    "El producto escalar también es muy útil para proyectar puntos en un eje. La proyección del vector $\\textbf{v}$ sobre el eje de $\\textbf{u}$ viene dada por esta fórmula:\n",
    "\n",
    "$\\textbf{proj}_{\\textbf{u}}{\\textbf{v}} = \\dfrac{\\textbf{u} \\cdot \\textbf{v}}{\\left \\Vert \\textbf{u} \\right \\| ^2} \\times \\textbf{u}$\n",
    "\n",
    "Lo cual es equivalente a:\n",
    "\n",
    "$\\textbf{proj}_{\\textbf{u}}{\\textbf{v}} = (\\textbf{v} \\cdot \\hat{\\textbf{u}}) \\times \\hat{\\textbf{u}}$\n"
   ]
  },
  {
   "cell_type": "code",
   "execution_count": 35,
   "id": "1af183f4",
   "metadata": {
    "scrolled": true
   },
   "outputs": [
    {
     "data": {
      "image/png": "[encoded data removed]",
      "text/plain": [
       "<Figure size 432x288 with 1 Axes>"
      ]
     },
     "metadata": {
      "needs_background": "light"
     },
     "output_type": "display_data"
    }
   ],
   "source": [
    "u_normalized = u / LA.norm(u)\n",
    "proj = v.dot(u_normalized) * u_normalized\n",
    "\n",
    "plot_vector2d(u, color=\"r\")\n",
    "plot_vector2d(v, color=\"b\")\n",
    "\n",
    "plot_vector2d(proj, color=\"k\", linestyle=\":\")\n",
    "plt.plot(proj[0], proj[1], \"ko\")\n",
    "\n",
    "plt.plot([proj[0], v[0]], [proj[1], v[1]], \"b:\")\n",
    "\n",
    "plt.text(1, 2, \"$proj_u v$\", color=\"k\", fontsize=18)\n",
    "plt.text(1.8, 0.2, \"$v$\", color=\"b\", fontsize=18)\n",
    "plt.text(0.8, 3, \"$u$\", color=\"r\", fontsize=18)\n",
    "\n",
    "plt.axis([0, 8, 0, 5.5])\n",
    "plt.grid()\n",
    "plt.show()"
   ]
  },
  {
   "cell_type": "markdown",
   "id": "067be435",
   "metadata": {},
   "source": [
    "## Aplicaciones de vectores al Machine Learning\n",
    "\n",
    "### Embedding de personalidad: ¿Cómo somos?\n",
    "\n",
    "¿Alguna vez ha realizado una prueba de personalidad como la prueba de los Cinco Grandes Rasgos de la Personalidad? Si no lo has hecho, estas son pruebas que te hacen una lista de preguntas, y luego te califican en una serie de ejes, siendo la introversión/extraversión uno de ellos.\n",
    "\n",
    "En una escala de 0 a 100, ¿qué tan introvertido/extrovertido eres (donde 0 es el más introvertido y 100 es el más extrovertido)?\n",
    "\n",
    "Imaginemos que Jay obtuvo una puntuación de 38/100 en el rasgo introversión/extraversión. Podemos graficar eso de esta manera:\n",
    "\n",
    "<img width=350 src=\"Images/introversion-extraversion-100.png\">\n",
    "\n",
    "Supongamos que, además de ese, también contemplamos otro de los 5 rasgos (traits) y que las escalas de 0 a 100 son reemplazadas por una escala de -1 a 1. Así obtendríamos un vector que represente a Jay de la siguiente manera (ejemplo para dos features para poder graficarlo en el plano): \n",
    "\n",
    "<img width=450 src=\"Images/two-traits-vector.png\">\n",
    "\n",
    "Ahora podemos decir que este vector representa parcialmente la personalidad de Jay. La utilidad de tal representación viene cuando lo comparo con otras dos personas. Digamos que lo atropella un autobús y necesita ser reemplazado por alguien con una personalidad similar. En la siguiente figura, ¿cuál de las dos personas se parece más a Jay?\n",
    "\n",
    "<img width=550 src=\"Images/personality-two-persons.png\">\n",
    "\n",
    "Podemos ver que la persona n° 1 es más parecida a Jay porque gráficamente su vector está más \"cerca\" al de Jay. Ahora supongamos que tenemos un vector con los 5 rasgos... el análisis gráfico no es una opción. Sin embargo, podemos calcular la similaridad a través del ángulo entre los vectores (que se calcula utilizando el coseno como ya vimos) para obtener una métrica que facilite la comparación.\n",
    "\n",
    "<img width=550 src=\"Images/embeddings-cosine-personality.png\">\n",
    "\n",
    "Seguimos viendo que la persona más parecida es la n°1, pero ahora tenemos una métrica para saber cuán mejor reemplazo es con respecto a la otra persona."
   ]
  },
  {
   "cell_type": "markdown",
   "id": "43a17aa1",
   "metadata": {},
   "source": [
    "#### Cálculo del ángulo entre vectores\n",
    "\n",
    "Uno de los muchos usos del producto escalar es calcular el ángulo entre dos vectores no nulos. Mirando la definición del producto escalar, podemos deducir la siguiente fórmula:\n",
    "\n",
    "Si $\\textbf{u} \\cdot \\textbf{v} = \\left \\Vert \\textbf{u} \\right \\| \\times \\left \\Vert \\textbf{v} \\right \\| \\times cos(\\theta)$\n",
    "\n",
    "Entonces,\n",
    "\n",
    "$\\theta = \\arccos{\\left ( \\dfrac{\\textbf{u} \\cdot \\textbf{v}}{\\left \\Vert \\textbf{u} \\right \\| \\times \\left \\Vert \\textbf{v } \\right \\|} \\right ) }$\n",
    "\n",
    "Nota: Siempre dos vectores generan un plano."
   ]
  },
  {
   "cell_type": "code",
   "execution_count": 37,
   "id": "b29f979f",
   "metadata": {},
   "outputs": [
    {
     "name": "stdout",
     "output_type": "stream",
     "text": [
      "Angle with Person #1 = 0.519146114246523 radians\n",
      "                     = 29.74488129694223 degrees\n",
      "\n",
      "Angle with Person #2 = 1.7818896600176433 radians\n",
      "                     = 102.09475707701212 degrees\n"
     ]
    }
   ],
   "source": [
    "u = np.array([-0.4, 0.8])\n",
    "\n",
    "v = np.array([-0.3, 0.2])\n",
    "\n",
    "w = np.array([-0.5,-0.4])\n",
    "\n",
    "def vector_angle(u, v):\n",
    "    cos_theta = u.dot(v) / LA.norm(u) / LA.norm(v)\n",
    "    return np.arccos(np.clip(cos_theta, -1, 1))\n",
    "\n",
    "theta1 = vector_angle(u, v)\n",
    "print(\"Angle with Person #1 =\", theta1, \"radians\")\n",
    "print(\"                     =\", theta1 * 180 / np.pi, \"degrees\")\n",
    "print()\n",
    "\n",
    "theta2 = vector_angle(u, w)\n",
    "print(\"Angle with Person #2 =\", theta2, \"radians\")\n",
    "print(\"                     =\", theta2 * 180 / np.pi, \"degrees\")"
   ]
  },
  {
   "cell_type": "code",
   "execution_count": 38,
   "id": "e1b903a2",
   "metadata": {},
   "outputs": [
    {
     "data": {
      "text/plain": [
       "0.28"
      ]
     },
     "execution_count": 38,
     "metadata": {},
     "output_type": "execute_result"
    }
   ],
   "source": [
    "u.dot(v)"
   ]
  },
  {
   "cell_type": "code",
   "execution_count": 39,
   "id": "06eb2a01",
   "metadata": {},
   "outputs": [
    {
     "data": {
      "text/plain": [
       "-0.12000000000000002"
      ]
     },
     "execution_count": 39,
     "metadata": {},
     "output_type": "execute_result"
    }
   ],
   "source": [
    "u.dot(w)"
   ]
  },
  {
   "cell_type": "markdown",
   "id": "fe629942",
   "metadata": {},
   "source": [
    "También podríamos ver la distancia entre las puntas de las flechas."
   ]
  },
  {
   "cell_type": "markdown",
   "id": "e2087061",
   "metadata": {},
   "source": [
    "### Embedding de palabras: ¿Cómo codificamos el significado?\n",
    "\n",
    "Para que las palabras sean procesadas por modelos de aprendizaje automático, necesitan alguna forma de representación numérica que los modelos puedan usar en sus cálculos: los vectores! \n",
    "\n",
    "Podemos proceder a observar ejemplos de vectores de palabras entrenados (también llamados embeddings de palabras).\n",
    "\n",
    "Word2Vec fue el primer algoritmo en demostrar que podemos usar un vector para representar correctamente las palabras de una manera que capturara las relaciones semánticas o de significado. Por ejemplo, al analizar estos vectores podemos saber si las palabras son similares u opuestas (analizando la dirección y el sentido del vector), o que un par de palabras como “Estocolmo” y “Suecia” tienen entre ellas la misma relación que tienen “El Cairo” y “Egipto” (analizando las distancias entre los vectores), o también relaciones sintácticas o basadas en la gramática (por ejemplo, la relación entre “tenía” y “tengo” es la misma que entre “era” y “es”).\n",
    "\n",
    "Este es un embedding para la palabra \"rey\" (vector GloVe entrenado en Wikipedia):\n",
    "\n",
    "$$[ 0.50451 , 0.68607 , -0.59517 , -0.022801, 0.60046 , -0.13498 , -0.08813 , 0.47377 , -0.61798 , -0.31012 , -0.076666, 1.493 , -0.034189, -0.98173 , 0.68229 , 0.81722 , -0.51874 , -0.31503 , -0.55809 , 0.66421 , 0.1961 , -0.13495 , -0.11476 , -0.30344 , 0.41177 , -2.223 , -1.0756 , -1.0783 , -0.34354 , 0.33505 , 1.9927 , -0.04234 , -0.64319 , 0.71125 , 0.49159 , 0.16754 , 0.34344 , -0.25663 , -0.8523 , 0.1661 , 0.40102 , 1.1685 , -1.0137 , -0.21585 , -0.15155 , 0.78321 , -0.91241 , -1.6106 , -0.64426 , -0.51042 ] $$\n",
    "\n",
    "El algoritmo codificó este vector como el mejor vector para representar la palabra rey. La Red Neuronal logró asignar un significado a cada una de estas 50 dimensiones; y crear vectores para cada una de las palabras con las que fue entrenada."
   ]
  },
  {
   "cell_type": "markdown",
   "id": "c38b3aab",
   "metadata": {},
   "source": [
    "Pero visualicémoslo un poco para poder compararlo con otros vectores de palabras. Pongamos todos estos números en una fila y codifiquemos por colores las celdas según sus valores (rojo si están cerca de 2, blanco si están cerca de 0, azul si están cerca de -2):\n",
    "\n",
    "<img width=950 src=\"Images/king-colored-embedding.png\">\n",
    "\n",
    "Ahora comparemos \"Rey\" con otras palabras:\n",
    "\n",
    "<img width=450 src=\"Images/comparingwords.png\">\n",
    "\n",
    "\n",
    "\n",
    "Algunas cosas para señalar:\n",
    "\n",
    "* Hay una columna roja recta a través de todas estas palabras diferentes. Son similares a lo largo de esa dimensión (y no sabemos qué codifica cada dimensión)\n",
    "\n",
    "\n",
    "* Todas menos la última palabra son palabras que representan personas. Podemos, por ejemplo, ver que la columna azul va hacia abajo y se detiene antes del embedding de \"agua\".\n",
    "\n",
    "\n",
    "* Hay lugares claros donde \"rey\" y \"reina\" son similares entre sí y distintos de todos los demás. ¿Podrían estar codificando un concepto vago de realeza? ¿De tamaños de camas? ¿De piezas de ajedrez? ¿Y si miro la palabra alfil?\n",
    "\n",
    "\n",
    "* Puedes ver cómo \"mujer\" y \"niña\" son similares entre sí en muchos lugares. Lo mismo con \"hombre\" y \"niño\"\n",
    "\n",
    "\n",
    "* “niño” y “niña” también tienen lugares donde son similares entre sí, pero diferentes de “mujer” u “hombre”. ¿Podrían estar codificando una vaga concepción de la juventud?"
   ]
  },
  {
   "cell_type": "markdown",
   "id": "8c66650d",
   "metadata": {},
   "source": [
    "Otro ejemplo más que prueba lo poderosos que son estos embeddings es el concepto de las analogías. Podemos sumar y restar embeddings de palabras y llegar a resultados interesantes. El ejemplo más famoso es la fórmula: \"rey\" - \"hombre\" + \"mujer\":\n",
    "\n",
    "<img width=450 src=\"Images/king-analogy-viz.png\">\n",
    "\n",
    "El vector resultante de \"rey-hombre+mujer\" no es exactamente igual a \"reina\", pero \"reina\" es la palabra más cercana de los 400 000 embeddings de palabras que tenemos en esta colección."
   ]
  },
  {
   "cell_type": "markdown",
   "id": "9813326e",
   "metadata": {},
   "source": [
    "Algo importante que debe quedar claro es que, en contraste con los embeddings de personalidad que analizamos anteriormente, ***no sabemos que codifica cada dimensión del vector***. Podemos hacer conjeturas y experimentos que nos permitan validar que estos vectores están modelando de alguna u otra forma la semántica, pero esta codificación de los datos es la que a la red le pareció la más eficiente durante el entrenamiento. Para mayor información sobre los embeddings pueden consultar [este artículo](http://jalammar.github.io/illustrated-word2vec/) en el cual estuvo basado esta sección de la clase."
   ]
  },
  {
   "cell_type": "markdown",
   "id": "2fa69826",
   "metadata": {},
   "source": [
    "### Regresión Lineal Simple\n",
    "\n",
    "La regresión lineal simple permite definir un modelo de recta que mejor se ajusta a una nube de puntos dada. \n",
    "\n",
    "<img width=250 src=\"Images/image003.jpg\">\n",
    "\n",
    "Es decir, dada una serie de observaciones de una variable independiente $x$ podemos encontrar una función lineal (una recta) para encontrar el valor de una variable dependiente $y$.\n",
    "\n",
    "$$ y = \\beta_0 + \\beta_1 x + e$$\n",
    "\n",
    "donde $\\beta_0$ es la ordenada al origen de la recta, $\\beta_1$ es la pendiente de la recta y $e$ es la distancia del punto a la recta.\n",
    "\n",
    "El error de nuestro modelo está dado por el valor $e$ que es la diferencia entre el valor observado o real de la variable dependiente ($y$) y el valor predicho por la recta estimada ($\\hat{y}$). Por lo tanto:\n",
    "\n",
    "$$ \\hat{y} = \\beta_0 + \\beta_1 x$$\n",
    "\n",
    "$$ e = y - \\hat{y} $$"
   ]
  },
  {
   "cell_type": "markdown",
   "id": "ce70a6b1",
   "metadata": {},
   "source": [
    "Supongamos que tenemos $n$ observaciones para las variables $x$ e $y$ y para cada observación queremos calcular con nuestro modelo una predicción del valor de la variable dependiente $\\hat{y}$. Nos conviene replantear las variables y las predicciones como vectores de la siguiente manera.\n",
    "\n",
    "$$ \\boldsymbol{x} = [x_1, x_2,...,x_n]$$\n",
    "$$ \\boldsymbol{y} = [y_1,y_2,...,y_n]$$\n",
    "$$ \\boldsymbol{\\hat{y}} = [\\hat{y}_1,\\hat{y}_2,...,\\hat{y}_n]$$\n",
    "\n",
    "Y luego reformular las fórmulas anteriores usando operaciones entre vectores.\n",
    "\n",
    "$$ \\boldsymbol{\\beta_0} = [\\beta_0,  \\beta_0, ..., \\beta_0]$$\n",
    "$$ \\boldsymbol{\\hat{y}} = \\boldsymbol{\\beta_0} + \\beta_1 \\boldsymbol{x}$$\n",
    "\n",
    "Nota: $\\beta_1 x$ es un escalar; la operación es un producto por un escalar con $\\boldsymbol{x}$"
   ]
  },
  {
   "cell_type": "markdown",
   "id": "c0b17397",
   "metadata": {},
   "source": [
    "Los valores de las variables $\\boldsymbol{x}$  e $\\boldsymbol{y}$ ya los tenemos en nuestra nube de puntos para la que queremos calcular la recta. Lo que variará en la ecuación de la recta que seleccionemos serán los coeficientes del modelo, $\\beta_0$ y $\\beta_1$ . \\\n",
    "¿Y qué coeficientes nos interesan? Lógicamente, aquellos con los que el el error sea lo menor posible. Dicho de otra forma, queremos la ecuación con un valor de la suma de residuos lo más bajo posible."
   ]
  },
  {
   "cell_type": "markdown",
   "id": "b218cf12",
   "metadata": {},
   "source": [
    "Sin embargo, el error $e$ debe ser reformulado ya que ahora tanto $\\boldsymbol{\\hat{y}}$ como $\\boldsymbol{y}$ son vectores.\n",
    "\n",
    "$$ \\boldsymbol{e} = \\boldsymbol{y}-\\boldsymbol{\\hat{y}}$$\n",
    "$$ e = \\sum_{i=1}^{n}\\boldsymbol{e}_{i}$$\n",
    "\n",
    "Ademas este error $e$ tiene otro problema y es que en ocasiones $\\boldsymbol{e}_{i}$ será positivo (cuando $y$ sea mayor que $ \\hat{y}$) y en otras será negativo (cuando $ \\hat{y}$ sea mayor que $y$). Queremos contemplar todo error; el error debe sumar siempre! Por lo tanto, elevaremos cada resta al cuadrado para eliminar el problema del signo o, lo que es equivalente:\n",
    "\n",
    "$$ \\boldsymbol{e} = (\\boldsymbol{y}-\\boldsymbol{\\hat{y}})$$\n",
    "$$ e = \\sum_{i=1}^{m}\\boldsymbol{e}_{i}^2$$\n",
    "\n",
    "Algo equivalente es hacer el producto punto del vector $e$ consigo mismo.\n",
    "\n",
    "$$e=\\boldsymbol{e} \\cdot \\boldsymbol{e}$$\n",
    "\n",
    "Nota: Esto es mucho más eficiente dado que usamos la librería NumPy."
   ]
  },
  {
   "cell_type": "markdown",
   "id": "5cbb2ed3",
   "metadata": {},
   "source": [
    "Al definir el error como la suma de los cuadrados de las diferencias entre los valores observados y predichos, el problema de encontrar los $\\beta_0$ y $\\beta_1$ óptimos se transforma en encontrar los **\"mínimos cuadrados\"**. Estos $\\beta_0$ y $\\beta_1$  óptimos se pueden encontrar utilizando derivadas que es un concepto que veremos dentro de algunas clases. Lo importante es que la fórmula para encontrarlos es la siguiente: \n",
    "\n",
    "$$\\beta_1 = \\frac{\\sum_{i=1}^{n}(x_i-\\bar{x})(y_i-\\bar{y})}{\\sum_{i=1}^{n}(x_i-\\bar{x})^2}$$\n",
    "\n",
    "$$\\beta_0 = \\bar{y} - \\beta_1\\bar{x}$$\n",
    "\n",
    "Nota: Estas fórmulas parecen sacadas de la galera. Para obtener estas fórmulas, es necesario saber calcular derivadas. La derivada nos permite encontrar máximos y mínimos de funciones; en este caso la función es el error y queremos calcular su mínimo para obtener la recta optima que minimiza el error!"
   ]
  },
  {
   "cell_type": "markdown",
   "id": "2d2b9f67",
   "metadata": {},
   "source": [
    "La fórmula de $\\beta_1$ puede parecer algo compleja, pero si la analizamos en detalle podemos convertirla en productos escalares ya que son sumas de productos indexados.\n",
    "\n",
    "$$\\boldsymbol{\\bar{x}} = [\\bar{x},\\bar{x},...,\\bar{x}]$$\n",
    "$$\\boldsymbol{\\bar{y}} = [\\bar{y},\\bar{y},...,\\bar{y}]$$\n",
    "$$\\beta_1 = \\frac{(\\boldsymbol{x}-\\boldsymbol{\\bar{x}})\\cdot(\\boldsymbol{y}-\\boldsymbol{\\bar{y}})}{(\\boldsymbol{x}-\\boldsymbol{\\bar{x}})\\cdot(\\boldsymbol{x}-\\boldsymbol{\\bar{x}})}$$\n",
    "\n",
    "$$\\beta_0 = \\bar{y} - \\beta_1\\bar{x}$$"
   ]
  },
  {
   "cell_type": "markdown",
   "id": "84ab0837",
   "metadata": {},
   "source": [
    "#### Ejemplo práctico\n",
    "\n",
    "Supongamos que tenemos la siguiente nube de puntos"
   ]
  },
  {
   "cell_type": "code",
   "execution_count": 5,
   "id": "0a8e1472",
   "metadata": {},
   "outputs": [
    {
     "data": {
      "image/png": "[encoded data removed]",
      "text/plain": [
       "<Figure size 432x288 with 1 Axes>"
      ]
     },
     "metadata": {
      "needs_background": "light"
     },
     "output_type": "display_data"
    }
   ],
   "source": [
    "x = np.array([180, 157, 162,167,178,178,182,188])\n",
    "y = np.array([56,61,67,72,70,72,83,92])\n",
    "f, ax = plt.subplots(1)\n",
    "ax.scatter(x, y)\n",
    "ax.set_xlim(xmin=140, xmax=200)\n",
    "ax.set_ylim(ymin=40, ymax=100)\n",
    "plt.show(f)"
   ]
  },
  {
   "cell_type": "markdown",
   "id": "53b9ad89",
   "metadata": {},
   "source": [
    "Sai bien los puntos parecen tener una tendencia, vemos que existen outliers (puntos que nada que ver).\n",
    "\n",
    "Programemos las fórmulas de la regresión lineal y grafiquemos la recta que más se aproxima a esos puntos:"
   ]
  },
  {
   "cell_type": "code",
   "execution_count": 6,
   "id": "bb972c57",
   "metadata": {},
   "outputs": [
    {
     "data": {
      "image/png": "[encoded data removed]",
      "text/plain": [
       "<Figure size 432x288 with 1 Axes>"
      ]
     },
     "metadata": {
      "needs_background": "light"
     },
     "output_type": "display_data"
    }
   ],
   "source": [
    "# El broadcasting se activa cuando operamos un vector -x- con un escalar -x.mean()-\n",
    "# operando el escalar con cada elemento del vector\n",
    "# En matemáticas está mal, en Python está PERFECTO!!\n",
    "\n",
    "b1_num = (x - x.mean()).dot(y - y.mean())\n",
    "b1_den = (x - x.mean()).dot(x - x.mean())\n",
    "b1 = b1_num/b1_den\n",
    "b0 = y.mean() - b1*x.mean()\n",
    "y_hat = b0 + b1*x #nuestra predicción\n",
    "\n",
    "#Graficamos\n",
    "f, ax = plt.subplots(1)\n",
    "ax.scatter(x, y)\n",
    "ax.plot(x, y_hat, 'go--', linewidth=2)\n",
    "ax.set_xlim(xmin=140, xmax=200)\n",
    "ax.set_ylim(ymin=40, ymax=100)\n",
    "plt.show(f)"
   ]
  },
  {
   "cell_type": "markdown",
   "id": "20d0366d",
   "metadata": {},
   "source": [
    "Hubieses esperado una recta más alineada con los puntos de arriba? Eso se debe a que no hemos quitado los outliers y para minimizar el error para esos puntos, la recta se adaptó para tenerlos en cuenta.\n",
    "\n",
    "Una buena estrategia sería eliminar dichos outliers y plotear la recta sin tenerlos en cuenta.\n",
    "\n",
    "¿Cuál es el valor total del error?"
   ]
  },
  {
   "cell_type": "code",
   "execution_count": 7,
   "id": "e7bcf1f8",
   "metadata": {},
   "outputs": [
    {
     "data": {
      "text/plain": [
       "603.5033950617287"
      ]
     },
     "execution_count": 7,
     "metadata": {},
     "output_type": "execute_result"
    }
   ],
   "source": [
    "e_vec = y - y_hat\n",
    "e = np.dot(e_vec,e_vec)\n",
    "e"
   ]
  }
 ],
 "metadata": {
  "kernelspec": {
   "display_name": "Python 3 (ipykernel)",
   "language": "python",
   "name": "python3"
  },
  "language_info": {
   "codemirror_mode": {
    "name": "ipython",
    "version": 3
   },
   "file_extension": ".py",
   "mimetype": "text/x-python",
   "name": "python",
   "nbconvert_exporter": "python",
   "pygments_lexer": "ipython3",
   "version": "3.11.5"
  },
  "toc": {
   "base_numbering": 1,
   "nav_menu": {},
   "number_sections": true,
   "sideBar": true,
   "skip_h1_title": true,
   "title_cell": "Table of Contents",
   "title_sidebar": "Contents",
   "toc_cell": false,
   "toc_position": {},
   "toc_section_display": true,
   "toc_window_display": false
  }
 },
 "nbformat": 4,
 "nbformat_minor": 5
}
