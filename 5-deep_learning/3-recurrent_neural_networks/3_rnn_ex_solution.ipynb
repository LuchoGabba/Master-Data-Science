{
  "cells": [
    {
      "cell_type": "markdown",
      "id": "8db8c522",
      "metadata": {
        "id": "8db8c522"
      },
      "source": [
        "# DL - RNN - Exercice\n",
        "\n",
        "Using the dataframe named `gplay_reviews.csv` predict if a review is positive, negative or neutral using the RNN.\n",
        "\n",
        "## Import libraries"
      ]
    },
    {
      "cell_type": "code",
      "execution_count": 1,
      "id": "9eb51308",
      "metadata": {
        "id": "9eb51308",
        "outputId": "a1cac27b-abb0-46d9-e5ee-dbd07180c822"
      },
      "outputs": [
        {
          "data": {
            "text/plain": [
              "'2.16.1'"
            ]
          },
          "execution_count": 1,
          "metadata": {},
          "output_type": "execute_result"
        }
      ],
      "source": [
        "import pandas\n",
        "import tensorflow as tf\n",
        "import re\n",
        "import nltk\n",
        "import numpy\n",
        "\n",
        "from sklearn.model_selection import train_test_split\n",
        "from nltk.corpus import stopwords\n",
        "\n",
        "tf.__version__"
      ]
    },
    {
      "cell_type": "markdown",
      "id": "3c86087d",
      "metadata": {
        "id": "3c86087d"
      },
      "source": [
        "## Load the data"
      ]
    },
    {
      "cell_type": "code",
      "execution_count": 2,
      "id": "b5e7adb8",
      "metadata": {
        "id": "b5e7adb8",
        "outputId": "4e898c2e-61d1-420e-c61a-43827a31d0cb"
      },
      "outputs": [
        {
          "data": {
            "text/html": [
              "<div>\n",
              "<style scoped>\n",
              "    .dataframe tbody tr th:only-of-type {\n",
              "        vertical-align: middle;\n",
              "    }\n",
              "\n",
              "    .dataframe tbody tr th {\n",
              "        vertical-align: top;\n",
              "    }\n",
              "\n",
              "    .dataframe thead th {\n",
              "        text-align: right;\n",
              "    }\n",
              "</style>\n",
              "<table border=\"1\" class=\"dataframe\">\n",
              "  <thead>\n",
              "    <tr style=\"text-align: right;\">\n",
              "      <th></th>\n",
              "      <th>App</th>\n",
              "      <th>Translated_Review</th>\n",
              "      <th>Sentiment</th>\n",
              "      <th>Sentiment_Polarity</th>\n",
              "      <th>Sentiment_Subjectivity</th>\n",
              "    </tr>\n",
              "  </thead>\n",
              "  <tbody>\n",
              "    <tr>\n",
              "      <th>0</th>\n",
              "      <td>10 Best Foods for You</td>\n",
              "      <td>I like eat delicious food. That's I'm cooking ...</td>\n",
              "      <td>Positive</td>\n",
              "      <td>1.00</td>\n",
              "      <td>0.533333</td>\n",
              "    </tr>\n",
              "    <tr>\n",
              "      <th>1</th>\n",
              "      <td>10 Best Foods for You</td>\n",
              "      <td>This help eating healthy exercise regular basis</td>\n",
              "      <td>Positive</td>\n",
              "      <td>0.25</td>\n",
              "      <td>0.288462</td>\n",
              "    </tr>\n",
              "    <tr>\n",
              "      <th>2</th>\n",
              "      <td>10 Best Foods for You</td>\n",
              "      <td>NaN</td>\n",
              "      <td>NaN</td>\n",
              "      <td>NaN</td>\n",
              "      <td>NaN</td>\n",
              "    </tr>\n",
              "    <tr>\n",
              "      <th>3</th>\n",
              "      <td>10 Best Foods for You</td>\n",
              "      <td>Works great especially going grocery store</td>\n",
              "      <td>Positive</td>\n",
              "      <td>0.40</td>\n",
              "      <td>0.875000</td>\n",
              "    </tr>\n",
              "    <tr>\n",
              "      <th>4</th>\n",
              "      <td>10 Best Foods for You</td>\n",
              "      <td>Best idea us</td>\n",
              "      <td>Positive</td>\n",
              "      <td>1.00</td>\n",
              "      <td>0.300000</td>\n",
              "    </tr>\n",
              "  </tbody>\n",
              "</table>\n",
              "</div>"
            ],
            "text/plain": [
              "                     App                                  Translated_Review  \\\n",
              "0  10 Best Foods for You  I like eat delicious food. That's I'm cooking ...   \n",
              "1  10 Best Foods for You    This help eating healthy exercise regular basis   \n",
              "2  10 Best Foods for You                                                NaN   \n",
              "3  10 Best Foods for You         Works great especially going grocery store   \n",
              "4  10 Best Foods for You                                       Best idea us   \n",
              "\n",
              "  Sentiment  Sentiment_Polarity  Sentiment_Subjectivity  \n",
              "0  Positive                1.00                0.533333  \n",
              "1  Positive                0.25                0.288462  \n",
              "2       NaN                 NaN                     NaN  \n",
              "3  Positive                0.40                0.875000  \n",
              "4  Positive                1.00                0.300000  "
            ]
          },
          "execution_count": 2,
          "metadata": {},
          "output_type": "execute_result"
        }
      ],
      "source": [
        "dataframe = pandas.read_csv('./gplay_reviews.csv')\n",
        "dataframe.head()"
      ]
    },
    {
      "cell_type": "markdown",
      "id": "4817c0bd",
      "metadata": {
        "id": "4817c0bd"
      },
      "source": [
        "## Data Preprocesing\n",
        "\n",
        "Before preparing the data to be suitable for neural network input, rows containing `NaN` shall be removed."
      ]
    },
    {
      "cell_type": "code",
      "execution_count": 3,
      "id": "92edeba8",
      "metadata": {
        "id": "92edeba8",
        "outputId": "040c7ead-9c45-44b5-8acc-1bf4792888f6"
      },
      "outputs": [
        {
          "data": {
            "text/html": [
              "<div>\n",
              "<style scoped>\n",
              "    .dataframe tbody tr th:only-of-type {\n",
              "        vertical-align: middle;\n",
              "    }\n",
              "\n",
              "    .dataframe tbody tr th {\n",
              "        vertical-align: top;\n",
              "    }\n",
              "\n",
              "    .dataframe thead th {\n",
              "        text-align: right;\n",
              "    }\n",
              "</style>\n",
              "<table border=\"1\" class=\"dataframe\">\n",
              "  <thead>\n",
              "    <tr style=\"text-align: right;\">\n",
              "      <th></th>\n",
              "      <th>App</th>\n",
              "      <th>Translated_Review</th>\n",
              "      <th>Sentiment</th>\n",
              "      <th>Sentiment_Polarity</th>\n",
              "      <th>Sentiment_Subjectivity</th>\n",
              "    </tr>\n",
              "  </thead>\n",
              "  <tbody>\n",
              "    <tr>\n",
              "      <th>0</th>\n",
              "      <td>10 Best Foods for You</td>\n",
              "      <td>I like eat delicious food. That's I'm cooking ...</td>\n",
              "      <td>Positive</td>\n",
              "      <td>1.00</td>\n",
              "      <td>0.533333</td>\n",
              "    </tr>\n",
              "    <tr>\n",
              "      <th>1</th>\n",
              "      <td>10 Best Foods for You</td>\n",
              "      <td>This help eating healthy exercise regular basis</td>\n",
              "      <td>Positive</td>\n",
              "      <td>0.25</td>\n",
              "      <td>0.288462</td>\n",
              "    </tr>\n",
              "    <tr>\n",
              "      <th>3</th>\n",
              "      <td>10 Best Foods for You</td>\n",
              "      <td>Works great especially going grocery store</td>\n",
              "      <td>Positive</td>\n",
              "      <td>0.40</td>\n",
              "      <td>0.875000</td>\n",
              "    </tr>\n",
              "    <tr>\n",
              "      <th>4</th>\n",
              "      <td>10 Best Foods for You</td>\n",
              "      <td>Best idea us</td>\n",
              "      <td>Positive</td>\n",
              "      <td>1.00</td>\n",
              "      <td>0.300000</td>\n",
              "    </tr>\n",
              "    <tr>\n",
              "      <th>5</th>\n",
              "      <td>10 Best Foods for You</td>\n",
              "      <td>Best way</td>\n",
              "      <td>Positive</td>\n",
              "      <td>1.00</td>\n",
              "      <td>0.300000</td>\n",
              "    </tr>\n",
              "  </tbody>\n",
              "</table>\n",
              "</div>"
            ],
            "text/plain": [
              "                     App                                  Translated_Review  \\\n",
              "0  10 Best Foods for You  I like eat delicious food. That's I'm cooking ...   \n",
              "1  10 Best Foods for You    This help eating healthy exercise regular basis   \n",
              "3  10 Best Foods for You         Works great especially going grocery store   \n",
              "4  10 Best Foods for You                                       Best idea us   \n",
              "5  10 Best Foods for You                                           Best way   \n",
              "\n",
              "  Sentiment  Sentiment_Polarity  Sentiment_Subjectivity  \n",
              "0  Positive                1.00                0.533333  \n",
              "1  Positive                0.25                0.288462  \n",
              "3  Positive                0.40                0.875000  \n",
              "4  Positive                1.00                0.300000  \n",
              "5  Positive                1.00                0.300000  "
            ]
          },
          "execution_count": 3,
          "metadata": {},
          "output_type": "execute_result"
        }
      ],
      "source": [
        "dataframe = dataframe.dropna()\n",
        "dataframe.head()"
      ]
    },
    {
      "cell_type": "markdown",
      "id": "074768fa",
      "metadata": {
        "id": "074768fa"
      },
      "source": [
        "Before proceeding to data processing, a preliminary exploration of sentiment frequencies can be carried out by means of a bar chart:"
      ]
    },
    {
      "cell_type": "code",
      "execution_count": 4,
      "id": "22731c33",
      "metadata": {
        "id": "22731c33",
        "outputId": "cb4230ec-e075-47eb-fb47-443c272aa4ae"
      },
      "outputs": [
        {
          "data": {
            "text/plain": [
              "<Axes: xlabel='Sentiment'>"
            ]
          },
          "execution_count": 4,
          "metadata": {},
          "output_type": "execute_result"
        },
        {
          "data": {
            "image/png": "[encoded data removed]",
            "text/plain": [
              "<Figure size 640x480 with 1 Axes>"
            ]
          },
          "metadata": {},
          "output_type": "display_data"
        }
      ],
      "source": [
        "dataframe['Sentiment'].value_counts().plot(kind = 'bar')"
      ]
    },
    {
      "cell_type": "markdown",
      "id": "8079d72f",
      "metadata": {
        "id": "8079d72f"
      },
      "source": [
        "Now, from the message we want to predict the type of sentiment. To do this, we will take these two columns out of the dataframe:"
      ]
    },
    {
      "cell_type": "code",
      "execution_count": 5,
      "id": "e4002495",
      "metadata": {
        "id": "e4002495",
        "outputId": "9e79d95c-8a05-4271-d7ca-467dbd3c162b"
      },
      "outputs": [
        {
          "data": {
            "text/html": [
              "<div>\n",
              "<style scoped>\n",
              "    .dataframe tbody tr th:only-of-type {\n",
              "        vertical-align: middle;\n",
              "    }\n",
              "\n",
              "    .dataframe tbody tr th {\n",
              "        vertical-align: top;\n",
              "    }\n",
              "\n",
              "    .dataframe thead th {\n",
              "        text-align: right;\n",
              "    }\n",
              "</style>\n",
              "<table border=\"1\" class=\"dataframe\">\n",
              "  <thead>\n",
              "    <tr style=\"text-align: right;\">\n",
              "      <th></th>\n",
              "      <th>Translated_Review</th>\n",
              "      <th>Sentiment</th>\n",
              "    </tr>\n",
              "  </thead>\n",
              "  <tbody>\n",
              "    <tr>\n",
              "      <th>0</th>\n",
              "      <td>I like eat delicious food. That's I'm cooking ...</td>\n",
              "      <td>Positive</td>\n",
              "    </tr>\n",
              "    <tr>\n",
              "      <th>1</th>\n",
              "      <td>This help eating healthy exercise regular basis</td>\n",
              "      <td>Positive</td>\n",
              "    </tr>\n",
              "    <tr>\n",
              "      <th>3</th>\n",
              "      <td>Works great especially going grocery store</td>\n",
              "      <td>Positive</td>\n",
              "    </tr>\n",
              "    <tr>\n",
              "      <th>4</th>\n",
              "      <td>Best idea us</td>\n",
              "      <td>Positive</td>\n",
              "    </tr>\n",
              "    <tr>\n",
              "      <th>5</th>\n",
              "      <td>Best way</td>\n",
              "      <td>Positive</td>\n",
              "    </tr>\n",
              "  </tbody>\n",
              "</table>\n",
              "</div>"
            ],
            "text/plain": [
              "                                   Translated_Review Sentiment\n",
              "0  I like eat delicious food. That's I'm cooking ...  Positive\n",
              "1    This help eating healthy exercise regular basis  Positive\n",
              "3         Works great especially going grocery store  Positive\n",
              "4                                       Best idea us  Positive\n",
              "5                                           Best way  Positive"
            ]
          },
          "execution_count": 5,
          "metadata": {},
          "output_type": "execute_result"
        }
      ],
      "source": [
        "dataframe = dataframe[['Translated_Review','Sentiment']]\n",
        "dataframe.head()"
      ]
    },
    {
      "cell_type": "markdown",
      "id": "fe07905a",
      "metadata": {
        "id": "fe07905a"
      },
      "source": [
        "In principle, we have three classes, so we can choose one of two ways:\n",
        "\n",
        "* Consider a binary classification. We will remove from the dataframe those samples that belong to the `Neutral` category. We will convert the vector `Sentiment` to 0 or 1 depending on whether it is, respectively, negative or positive.\n",
        "* Consider the classification with the three types. In this case, we will have to formulate an *one-hot* representation.\n",
        "\n",
        "Starting from the columns we are interested in, the following steps must be carried out in order to unify all the sentences:\n",
        "- Put all the letters in lower case.\n",
        "- Remove punctuation marks, converting all the words that were together into separate words.\n",
        "- Eliminate *stop words*: Short words that have no meaning on their own, such as conjunctions or prepositions.\n",
        "\n",
        "We define a function that will take care of this, given the phrase `sen` for input:"
      ]
    },
    {
      "cell_type": "code",
      "execution_count": 6,
      "id": "d819b53f",
      "metadata": {
        "id": "d819b53f"
      },
      "outputs": [],
      "source": [
        "def preprocess_text(sen):\n",
        "    # Remove punctuation symbols and numbers\n",
        "    sentence = re.sub('[^a-zA-Z]', ' ', sen)\n",
        "\n",
        "    # Remove single characters\n",
        "    sentence = re.sub(r\"\\s+[a-zA-Z]\\s+\", ' ', sentence)\n",
        "\n",
        "    # Eliminate excess space\n",
        "    sentence = re.sub(r'\\s+', ' ', sentence)\n",
        "\n",
        "    # Convert to lower case\n",
        "    sentence = sentence.lower()\n",
        "\n",
        "    # Eliminate stopwords.\n",
        "    words = sentence.split()\n",
        "    filtered_words = [word for word in words if word not in stopwords.words('english')]\n",
        "\n",
        "    return ' '.join(filtered_words)"
      ]
    },
    {
      "cell_type": "markdown",
      "id": "a8d8c88d",
      "metadata": {
        "id": "a8d8c88d"
      },
      "source": [
        "In the above function you are referring to the `re` library, which is loaded by default in Python. It is a dedicated library for processing regular expressions. Therefore, we will have to apply the above function to each element of the `Translated_Review` column of the dataframe."
      ]
    },
    {
      "cell_type": "code",
      "execution_count": 7,
      "id": "193c6309",
      "metadata": {
        "id": "193c6309",
        "outputId": "eddb479b-a11f-43ab-844b-90224c47e313"
      },
      "outputs": [
        {
          "data": {
            "text/html": [
              "<div>\n",
              "<style scoped>\n",
              "    .dataframe tbody tr th:only-of-type {\n",
              "        vertical-align: middle;\n",
              "    }\n",
              "\n",
              "    .dataframe tbody tr th {\n",
              "        vertical-align: top;\n",
              "    }\n",
              "\n",
              "    .dataframe thead th {\n",
              "        text-align: right;\n",
              "    }\n",
              "</style>\n",
              "<table border=\"1\" class=\"dataframe\">\n",
              "  <thead>\n",
              "    <tr style=\"text-align: right;\">\n",
              "      <th></th>\n",
              "      <th>Translated_Review</th>\n",
              "      <th>Sentiment</th>\n",
              "    </tr>\n",
              "  </thead>\n",
              "  <tbody>\n",
              "    <tr>\n",
              "      <th>0</th>\n",
              "      <td>like eat delicious food cooking food case best...</td>\n",
              "      <td>Positive</td>\n",
              "    </tr>\n",
              "    <tr>\n",
              "      <th>1</th>\n",
              "      <td>help eating healthy exercise regular basis</td>\n",
              "      <td>Positive</td>\n",
              "    </tr>\n",
              "    <tr>\n",
              "      <th>3</th>\n",
              "      <td>works great especially going grocery store</td>\n",
              "      <td>Positive</td>\n",
              "    </tr>\n",
              "    <tr>\n",
              "      <th>4</th>\n",
              "      <td>best idea us</td>\n",
              "      <td>Positive</td>\n",
              "    </tr>\n",
              "    <tr>\n",
              "      <th>5</th>\n",
              "      <td>best way</td>\n",
              "      <td>Positive</td>\n",
              "    </tr>\n",
              "    <tr>\n",
              "      <th>...</th>\n",
              "      <td>...</td>\n",
              "      <td>...</td>\n",
              "    </tr>\n",
              "    <tr>\n",
              "      <th>64222</th>\n",
              "      <td>ads older many agents much owner posted detail...</td>\n",
              "      <td>Positive</td>\n",
              "    </tr>\n",
              "    <tr>\n",
              "      <th>64223</th>\n",
              "      <td>photos posted portal load fit purpose sure sto...</td>\n",
              "      <td>Positive</td>\n",
              "    </tr>\n",
              "    <tr>\n",
              "      <th>64226</th>\n",
              "      <td>dumb app wanted post property rent give option...</td>\n",
              "      <td>Negative</td>\n",
              "    </tr>\n",
              "    <tr>\n",
              "      <th>64227</th>\n",
              "      <td>property business got link sms happy performan...</td>\n",
              "      <td>Positive</td>\n",
              "    </tr>\n",
              "    <tr>\n",
              "      <th>64230</th>\n",
              "      <td>useless app searched flats kondapur hyderabad ...</td>\n",
              "      <td>Negative</td>\n",
              "    </tr>\n",
              "  </tbody>\n",
              "</table>\n",
              "<p>37427 rows × 2 columns</p>\n",
              "</div>"
            ],
            "text/plain": [
              "                                       Translated_Review Sentiment\n",
              "0      like eat delicious food cooking food case best...  Positive\n",
              "1             help eating healthy exercise regular basis  Positive\n",
              "3             works great especially going grocery store  Positive\n",
              "4                                           best idea us  Positive\n",
              "5                                               best way  Positive\n",
              "...                                                  ...       ...\n",
              "64222  ads older many agents much owner posted detail...  Positive\n",
              "64223  photos posted portal load fit purpose sure sto...  Positive\n",
              "64226  dumb app wanted post property rent give option...  Negative\n",
              "64227  property business got link sms happy performan...  Positive\n",
              "64230  useless app searched flats kondapur hyderabad ...  Negative\n",
              "\n",
              "[37427 rows x 2 columns]"
            ]
          },
          "execution_count": 7,
          "metadata": {},
          "output_type": "execute_result"
        }
      ],
      "source": [
        "dataframe['Translated_Review'] = dataframe['Translated_Review'].apply(lambda sen: preprocess_text(sen))\n",
        "dataframe"
      ]
    },
    {
      "cell_type": "markdown",
      "id": "dac46e24",
      "metadata": {
        "id": "dac46e24"
      },
      "source": [
        "## Vectorial representation of the text\n",
        "\n",
        "In this section we will aim to convert a text string into a vector, so that it can be treated by the neural network. First, in order to generate the training and validation sets, we will separate the dataframe into two independent variables so that they can be treated separately:"
      ]
    },
    {
      "cell_type": "code",
      "execution_count": 8,
      "id": "648277e7",
      "metadata": {
        "id": "648277e7"
      },
      "outputs": [],
      "source": [
        "def determine_class(label):\n",
        "  if label == 'Positive':\n",
        "    return 0\n",
        "  elif label == 'Neutral':\n",
        "    return 1\n",
        "  elif label == 'Negative':\n",
        "    return 2"
      ]
    },
    {
      "cell_type": "markdown",
      "id": "0b85aed5",
      "metadata": {
        "id": "0b85aed5"
      },
      "source": [
        "Set the variable to True if you want to remove neutral comments.Otherwise, neutrals will be converted to negative."
      ]
    },
    {
      "cell_type": "code",
      "execution_count": 9,
      "id": "12a08362",
      "metadata": {
        "id": "12a08362"
      },
      "outputs": [],
      "source": [
        "REMOVE_NEUTRAL = False"
      ]
    },
    {
      "cell_type": "markdown",
      "id": "7631bca6",
      "metadata": {
        "id": "7631bca6"
      },
      "source": [
        "Set the variable to True (as long as the previous one is False) to consider the classes 'Negative' and 'Neutral' equal."
      ]
    },
    {
      "cell_type": "code",
      "execution_count": 10,
      "id": "bcbe8225",
      "metadata": {
        "id": "bcbe8225"
      },
      "outputs": [],
      "source": [
        "MERGE_NEGATIVE_NEUTRAL = False"
      ]
    },
    {
      "cell_type": "code",
      "execution_count": 11,
      "id": "c5a0d419",
      "metadata": {
        "id": "c5a0d419"
      },
      "outputs": [],
      "source": [
        "if REMOVE_NEUTRAL:\n",
        "  indexNames = dataframe[dataframe['Sentiment'] == 'Neutral'].index\n",
        "  dataframe.drop(indexNames , inplace=True)\n",
        "\n",
        "  y = dataframe['Sentiment'].apply(lambda x: 1 if x == 'Positive' else 0).to_numpy()\n",
        "  #y = tf.one_hot(y, 2)\n",
        "else:\n",
        "  if MERGE_NEGATIVE_NEUTRAL:\n",
        "    y = dataframe['Sentiment'].apply(lambda x: 1 if x == 'Positive' else 0).to_numpy()\n",
        "    #y = tf.one_hot(y, 2)\n",
        "  else:\n",
        "    y = dataframe['Sentiment'].apply(lambda x: determine_class(x)).to_numpy()\n",
        "    #y = tf.one_hot(y, 3)\n",
        "\n",
        "X = dataframe['Translated_Review']\n",
        "y = y.astype(numpy.uint8)"
      ]
    },
    {
      "cell_type": "code",
      "execution_count": 12,
      "id": "b7f8ffe9",
      "metadata": {
        "id": "b7f8ffe9",
        "outputId": "a1b34da7-a768-42e1-e387-45667cb7acf2"
      },
      "outputs": [
        {
          "data": {
            "text/plain": [
              "[]"
            ]
          },
          "execution_count": 12,
          "metadata": {},
          "output_type": "execute_result"
        },
        {
          "data": {
            "image/png": "[encoded data removed]",
            "text/plain": [
              "<Figure size 640x480 with 1 Axes>"
            ]
          },
          "metadata": {},
          "output_type": "display_data"
        }
      ],
      "source": [
        "import matplotlib.pyplot as plt\n",
        "\n",
        "plt.hist(y)\n",
        "plt.plot()"
      ]
    },
    {
      "cell_type": "markdown",
      "id": "a1202a98",
      "metadata": {
        "id": "a1202a98"
      },
      "source": [
        "From the `sklearn` library we can separate into two disjoint sets, containing 80% of the samples for the training set and the remaining for the validation set."
      ]
    },
    {
      "cell_type": "code",
      "execution_count": 13,
      "id": "931155e2",
      "metadata": {
        "id": "931155e2"
      },
      "outputs": [],
      "source": [
        "X_train, X_test, y_train, y_test = train_test_split(X, y, test_size=0.20, random_state=42)"
      ]
    },
    {
      "cell_type": "markdown",
      "id": "68092a5d",
      "metadata": {
        "id": "68092a5d"
      },
      "source": [
        "The next step is to determine the maximum number of words to be used (i.e. the $n$ most frequent first words) and the maximum length of each vector."
      ]
    },
    {
      "cell_type": "code",
      "execution_count": 15,
      "id": "006e69af",
      "metadata": {
        "id": "006e69af"
      },
      "outputs": [],
      "source": [
        "from tensorflow.keras.preprocessing.text import Tokenizer\n",
        "\n",
        "NUMBER_OF_WORDS = 20000\n",
        "MAX_LEN = 100\n",
        "\n",
        "tokenizer = Tokenizer(num_words = NUMBER_OF_WORDS)\n",
        "tokenizer.fit_on_texts(X_train)\n",
        "\n",
        "X_train = tokenizer.texts_to_sequences(X_train)\n",
        "X_test = tokenizer.texts_to_sequences(X_test)"
      ]
    },
    {
      "cell_type": "markdown",
      "id": "ac746fc6",
      "metadata": {
        "id": "ac746fc6"
      },
      "source": [
        "Then, for those sentences that have words that are not among the most frequent, the `padding` technique is used, filling in with zeros those words that are not so frequent and do not appear.\n"
      ]
    },
    {
      "cell_type": "code",
      "execution_count": 17,
      "id": "dccb2adb",
      "metadata": {
        "id": "dccb2adb"
      },
      "outputs": [],
      "source": [
        "from keras_preprocessing.sequence import pad_sequences\n",
        "\n",
        "X_train = pad_sequences(X_train, padding='post', maxlen=MAX_LEN)\n",
        "X_test = pad_sequences(X_test, padding='post', maxlen=MAX_LEN)"
      ]
    },
    {
      "cell_type": "markdown",
      "id": "dbf4b1dc",
      "metadata": {
        "id": "dbf4b1dc"
      },
      "source": [
        "## Generate the RNN model"
      ]
    },
    {
      "cell_type": "code",
      "execution_count": 18,
      "id": "97b5d6d0",
      "metadata": {
        "id": "97b5d6d0"
      },
      "outputs": [],
      "source": [
        "VOCABULARY_SIZE = NUMBER_OF_WORDS\n",
        "EMBEDDING_SIZE = 128"
      ]
    },
    {
      "cell_type": "code",
      "execution_count": 19,
      "id": "713becba",
      "metadata": {
        "id": "713becba",
        "outputId": "37a35f77-e109-49a6-ca6e-4fc47ca52709"
      },
      "outputs": [
        {
          "name": "stderr",
          "output_type": "stream",
          "text": [
            "c:\\Users\\Luciano Gabbanelli\\anaconda3\\envs\\Assembler2\\Lib\\site-packages\\keras\\src\\layers\\core\\embedding.py:89: UserWarning: Do not pass an `input_shape`/`input_dim` argument to a layer. When using Sequential models, prefer using an `Input(shape)` object as the first layer in the model instead.\n",
            "  super().__init__(**kwargs)\n"
          ]
        },
        {
          "data": {
            "text/html": [
              "<pre style=\"white-space:pre;overflow-x:auto;line-height:normal;font-family:Menlo,'DejaVu Sans Mono',consolas,'Courier New',monospace\"><span style=\"font-weight: bold\">Model: \"sequential\"</span>\n",
              "</pre>\n"
            ],
            "text/plain": [
              "\u001b[1mModel: \"sequential\"\u001b[0m\n"
            ]
          },
          "metadata": {},
          "output_type": "display_data"
        },
        {
          "data": {
            "text/html": [
              "<pre style=\"white-space:pre;overflow-x:auto;line-height:normal;font-family:Menlo,'DejaVu Sans Mono',consolas,'Courier New',monospace\">┏━━━━━━━━━━━━━━━━━━━━━━━━━━━━━━━━━┳━━━━━━━━━━━━━━━━━━━━━━━━┳━━━━━━━━━━━━━━━┓\n",
              "┃<span style=\"font-weight: bold\"> Layer (type)                    </span>┃<span style=\"font-weight: bold\"> Output Shape           </span>┃<span style=\"font-weight: bold\">       Param # </span>┃\n",
              "┡━━━━━━━━━━━━━━━━━━━━━━━━━━━━━━━━━╇━━━━━━━━━━━━━━━━━━━━━━━━╇━━━━━━━━━━━━━━━┩\n",
              "│ embedding (<span style=\"color: #0087ff; text-decoration-color: #0087ff\">Embedding</span>)           │ (<span style=\"color: #00d7ff; text-decoration-color: #00d7ff\">None</span>, <span style=\"color: #00af00; text-decoration-color: #00af00\">100</span>, <span style=\"color: #00af00; text-decoration-color: #00af00\">128</span>)       │     <span style=\"color: #00af00; text-decoration-color: #00af00\">2,560,000</span> │\n",
              "├─────────────────────────────────┼────────────────────────┼───────────────┤\n",
              "│ lstm (<span style=\"color: #0087ff; text-decoration-color: #0087ff\">LSTM</span>)                     │ (<span style=\"color: #00d7ff; text-decoration-color: #00d7ff\">None</span>, <span style=\"color: #00af00; text-decoration-color: #00af00\">128</span>)            │       <span style=\"color: #00af00; text-decoration-color: #00af00\">131,584</span> │\n",
              "├─────────────────────────────────┼────────────────────────┼───────────────┤\n",
              "│ dense (<span style=\"color: #0087ff; text-decoration-color: #0087ff\">Dense</span>)                   │ (<span style=\"color: #00d7ff; text-decoration-color: #00d7ff\">None</span>, <span style=\"color: #00af00; text-decoration-color: #00af00\">3</span>)              │           <span style=\"color: #00af00; text-decoration-color: #00af00\">387</span> │\n",
              "└─────────────────────────────────┴────────────────────────┴───────────────┘\n",
              "</pre>\n"
            ],
            "text/plain": [
              "┏━━━━━━━━━━━━━━━━━━━━━━━━━━━━━━━━━┳━━━━━━━━━━━━━━━━━━━━━━━━┳━━━━━━━━━━━━━━━┓\n",
              "┃\u001b[1m \u001b[0m\u001b[1mLayer (type)                   \u001b[0m\u001b[1m \u001b[0m┃\u001b[1m \u001b[0m\u001b[1mOutput Shape          \u001b[0m\u001b[1m \u001b[0m┃\u001b[1m \u001b[0m\u001b[1m      Param #\u001b[0m\u001b[1m \u001b[0m┃\n",
              "┡━━━━━━━━━━━━━━━━━━━━━━━━━━━━━━━━━╇━━━━━━━━━━━━━━━━━━━━━━━━╇━━━━━━━━━━━━━━━┩\n",
              "│ embedding (\u001b[38;5;33mEmbedding\u001b[0m)           │ (\u001b[38;5;45mNone\u001b[0m, \u001b[38;5;34m100\u001b[0m, \u001b[38;5;34m128\u001b[0m)       │     \u001b[38;5;34m2,560,000\u001b[0m │\n",
              "├─────────────────────────────────┼────────────────────────┼───────────────┤\n",
              "│ lstm (\u001b[38;5;33mLSTM\u001b[0m)                     │ (\u001b[38;5;45mNone\u001b[0m, \u001b[38;5;34m128\u001b[0m)            │       \u001b[38;5;34m131,584\u001b[0m │\n",
              "├─────────────────────────────────┼────────────────────────┼───────────────┤\n",
              "│ dense (\u001b[38;5;33mDense\u001b[0m)                   │ (\u001b[38;5;45mNone\u001b[0m, \u001b[38;5;34m3\u001b[0m)              │           \u001b[38;5;34m387\u001b[0m │\n",
              "└─────────────────────────────────┴────────────────────────┴───────────────┘\n"
            ]
          },
          "metadata": {},
          "output_type": "display_data"
        },
        {
          "data": {
            "text/html": [
              "<pre style=\"white-space:pre;overflow-x:auto;line-height:normal;font-family:Menlo,'DejaVu Sans Mono',consolas,'Courier New',monospace\"><span style=\"font-weight: bold\"> Total params: </span><span style=\"color: #00af00; text-decoration-color: #00af00\">2,691,971</span> (10.27 MB)\n",
              "</pre>\n"
            ],
            "text/plain": [
              "\u001b[1m Total params: \u001b[0m\u001b[38;5;34m2,691,971\u001b[0m (10.27 MB)\n"
            ]
          },
          "metadata": {},
          "output_type": "display_data"
        },
        {
          "data": {
            "text/html": [
              "<pre style=\"white-space:pre;overflow-x:auto;line-height:normal;font-family:Menlo,'DejaVu Sans Mono',consolas,'Courier New',monospace\"><span style=\"font-weight: bold\"> Trainable params: </span><span style=\"color: #00af00; text-decoration-color: #00af00\">2,691,971</span> (10.27 MB)\n",
              "</pre>\n"
            ],
            "text/plain": [
              "\u001b[1m Trainable params: \u001b[0m\u001b[38;5;34m2,691,971\u001b[0m (10.27 MB)\n"
            ]
          },
          "metadata": {},
          "output_type": "display_data"
        },
        {
          "data": {
            "text/html": [
              "<pre style=\"white-space:pre;overflow-x:auto;line-height:normal;font-family:Menlo,'DejaVu Sans Mono',consolas,'Courier New',monospace\"><span style=\"font-weight: bold\"> Non-trainable params: </span><span style=\"color: #00af00; text-decoration-color: #00af00\">0</span> (0.00 B)\n",
              "</pre>\n"
            ],
            "text/plain": [
              "\u001b[1m Non-trainable params: \u001b[0m\u001b[38;5;34m0\u001b[0m (0.00 B)\n"
            ]
          },
          "metadata": {},
          "output_type": "display_data"
        },
        {
          "name": "stdout",
          "output_type": "stream",
          "text": [
            "Epoch 1/3\n",
            "\u001b[1m234/234\u001b[0m \u001b[32m━━━━━━━━━━━━━━━━━━━━\u001b[0m\u001b[37m\u001b[0m \u001b[1m46s\u001b[0m 189ms/step - loss: 0.9073 - sparse_categorical_accuracy: 0.6256\n",
            "Epoch 2/3\n",
            "\u001b[1m234/234\u001b[0m \u001b[32m━━━━━━━━━━━━━━━━━━━━\u001b[0m\u001b[37m\u001b[0m \u001b[1m42s\u001b[0m 181ms/step - loss: 0.8967 - sparse_categorical_accuracy: 0.6398\n",
            "Epoch 3/3\n",
            "\u001b[1m234/234\u001b[0m \u001b[32m━━━━━━━━━━━━━━━━━━━━\u001b[0m\u001b[37m\u001b[0m \u001b[1m41s\u001b[0m 173ms/step - loss: 0.8978 - sparse_categorical_accuracy: 0.6366\n"
          ]
        },
        {
          "data": {
            "text/plain": [
              "<keras.src.callbacks.history.History at 0x1ee536c2e10>"
            ]
          },
          "execution_count": 19,
          "metadata": {},
          "output_type": "execute_result"
        }
      ],
      "source": [
        "model = tf.keras.Sequential()\n",
        "model.add(tf.keras.layers.Embedding(VOCABULARY_SIZE,\n",
        "                                    EMBEDDING_SIZE,\n",
        "                                    input_shape=(X_train.shape[1],)))\n",
        "\n",
        "model.add(tf.keras.layers.LSTM(units=128, activation='tanh'))\n",
        "\n",
        "#In units, it must be specified how many classes we have.\n",
        "model.add(tf.keras.layers.Dense(units=numpy.unique(y_train).shape[0],\n",
        "                                activation='sigmoid'))\n",
        "\n",
        "model.compile(optimizer='rmsprop',\n",
        "                loss='sparse_categorical_crossentropy',\n",
        "                metrics=['sparse_categorical_accuracy'])\n",
        "\n",
        "model.summary()\n",
        "\n",
        "model.fit(X_train, y_train, epochs=3, batch_size=128)"
      ]
    },
    {
      "cell_type": "markdown",
      "id": "900fbc9e",
      "metadata": {
        "id": "900fbc9e"
      },
      "source": [
        "## Test the model"
      ]
    },
    {
      "cell_type": "code",
      "execution_count": 20,
      "id": "b3572a07",
      "metadata": {
        "id": "b3572a07",
        "outputId": "b53a28d8-ee8c-4ce8-d486-dadd001b939a"
      },
      "outputs": [
        {
          "name": "stdout",
          "output_type": "stream",
          "text": [
            "\u001b[1m234/234\u001b[0m \u001b[32m━━━━━━━━━━━━━━━━━━━━\u001b[0m\u001b[37m\u001b[0m \u001b[1m6s\u001b[0m 26ms/step - loss: 0.9054 - sparse_categorical_accuracy: 0.6307\n",
            "Test accuracy: 0.6390596032142639\n"
          ]
        }
      ],
      "source": [
        "test_loss, test_acurracy = model.evaluate(X_test, y_test)\n",
        "print(\"Test accuracy: {}\".format(test_acurracy))"
      ]
    }
  ],
  "metadata": {
    "colab": {
      "provenance": []
    },
    "kernelspec": {
      "display_name": "Python 3 (ipykernel)",
      "language": "python",
      "name": "python3"
    },
    "language_info": {
      "codemirror_mode": {
        "name": "ipython",
        "version": 3
      },
      "file_extension": ".py",
      "mimetype": "text/x-python",
      "name": "python",
      "nbconvert_exporter": "python",
      "pygments_lexer": "ipython3",
      "version": "3.11.8"
    }
  },
  "nbformat": 4,
  "nbformat_minor": 5
}
