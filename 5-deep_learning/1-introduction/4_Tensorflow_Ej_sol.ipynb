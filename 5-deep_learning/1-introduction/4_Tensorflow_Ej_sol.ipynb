{
  "cells": [
    {
      "cell_type": "markdown",
      "metadata": {
        "id": "IqJtnBUZQR21"
      },
      "source": [
        "#<font color='#97171e'>AIT - Master in Data Science</font> 📈\n",
        "# **Module 9**\n",
        "# Tensor Transformations"
      ]
    },
    {
      "cell_type": "code",
      "execution_count": 1,
      "metadata": {
        "id": "rYDvf6t4QR23"
      },
      "outputs": [],
      "source": [
        "from __future__ import print_function\n",
        "import tensorflow as tf\n",
        "import numpy as np"
      ]
    },
    {
      "cell_type": "markdown",
      "metadata": {
        "id": "tfMUllyZQR25"
      },
      "source": [
        "NOTE on notation\n",
        "* _x, _y, _z, ...: NumPy 0-d or 1-d arrays\n",
        "* _X, _Y, _Z, ...: NumPy 2-d or higer dimensional arrays\n",
        "* x, y, z, ...: 0-d or 1-d tensors\n",
        "* X, Y, Z, ...: 2-d or higher dimensional tensors"
      ]
    },
    {
      "cell_type": "markdown",
      "metadata": {
        "id": "OrkHxBmEQR26"
      },
      "source": [
        "## Casting"
      ]
    },
    {
      "cell_type": "markdown",
      "metadata": {
        "id": "q33us2E1QR3O"
      },
      "source": [
        "Q2. Let X be a tensor [[1, 2], [3, 4]] of int32. Convert the data type of X to float64."
      ]
    },
    {
      "cell_type": "code",
      "execution_count": 2,
      "metadata": {
        "id": "tnyYt54lQR3O",
        "outputId": "e5e2e70d-97bf-49d2-a022-740246317e30"
      },
      "outputs": [
        {
          "name": "stdout",
          "output_type": "stream",
          "text": [
            "[[1. 2.]\n",
            " [3. 4.]]\n"
          ]
        }
      ],
      "source": [
        "_X = np.array([[1, 2], [3, 4]], dtype=np.int32)\n",
        "X = tf.constant(_X)\n",
        "out = tf.cast(X, tf.float64)\n",
        "print(out.numpy())"
      ]
    },
    {
      "cell_type": "markdown",
      "metadata": {
        "id": "U93ww3ynQR3P"
      },
      "source": [
        "Q3. Let X be a tensor [[1, 2], [3, 4]] of int32. Convert the data type of X to float32."
      ]
    },
    {
      "cell_type": "code",
      "execution_count": 3,
      "metadata": {
        "id": "DMEndD8GQR3Q",
        "outputId": "1a2c0e8f-fef5-4916-bea2-6abc41436292"
      },
      "outputs": [
        {
          "name": "stdout",
          "output_type": "stream",
          "text": [
            "[[1. 2.]\n",
            " [3. 4.]]\n"
          ]
        }
      ],
      "source": [
        "_X = np.array([[1, 2], [3, 4]], dtype=np.int32)\n",
        "X = tf.constant(_X)\n",
        "out = tf.cast(X, tf.float32)\n",
        "print(out.numpy())"
      ]
    },
    {
      "cell_type": "markdown",
      "metadata": {
        "id": "5EU40Pi6QR3S"
      },
      "source": [
        "Q4. Let X be a tensor [[1, 2], [3, 4]] of float32. Convert the data type of X to int32."
      ]
    },
    {
      "cell_type": "code",
      "execution_count": 4,
      "metadata": {
        "id": "5grp4AgiQR3T",
        "outputId": "7111f933-18e5-4827-a109-562e64d443d0"
      },
      "outputs": [
        {
          "name": "stdout",
          "output_type": "stream",
          "text": [
            "[[1 2]\n",
            " [3 4]]\n"
          ]
        }
      ],
      "source": [
        "_X = np.array([[1, 2], [3, 4]], dtype=np.float32)\n",
        "X = tf.constant(_X)\n",
        "out = tf.cast(X, tf.int32)\n",
        "print(out.numpy())"
      ]
    },
    {
      "cell_type": "markdown",
      "metadata": {
        "id": "cmxWrbCZQR3U"
      },
      "source": [
        "Q5. Let X be a tensor [[1, 2], [3, 4]] of float32. Convert the data type of X to int64."
      ]
    },
    {
      "cell_type": "code",
      "execution_count": 5,
      "metadata": {
        "id": "fmcY-AFZQR3U",
        "outputId": "12954fac-9873-4a4c-d17a-c70aac04fd14"
      },
      "outputs": [
        {
          "name": "stdout",
          "output_type": "stream",
          "text": [
            "[[1 2]\n",
            " [3 4]]\n"
          ]
        }
      ],
      "source": [
        "_X = np.array([[1, 2], [3, 4]], dtype=np.float32)\n",
        "X = tf.constant(_X)\n",
        "out = tf.cast(X, tf.int64)\n",
        "print(out.numpy())"
      ]
    },
    {
      "cell_type": "markdown",
      "metadata": {
        "id": "LwAxQaPyQR3V"
      },
      "source": [
        "## Shapes and Shaping"
      ]
    },
    {
      "cell_type": "markdown",
      "metadata": {
        "id": "4WXawivRQR3W"
      },
      "source": [
        "Q6. Let X be a tensor of [[[1, 2], [3, 4]], [[5, 6], [7, 8]], [[9, 10], [11, 12]]]. Create a tensor representing the shape of X."
      ]
    },
    {
      "cell_type": "code",
      "execution_count": 6,
      "metadata": {
        "id": "H6wNDJvKQR3W",
        "outputId": "99e131e9-250f-476a-af67-147b680564a4"
      },
      "outputs": [
        {
          "name": "stdout",
          "output_type": "stream",
          "text": [
            "[3 2 2]\n"
          ]
        }
      ],
      "source": [
        "_X = np.array([[[1, 2], [3, 4]], [[5, 6], [7, 8]], [[9, 10], [11, 12]]])\n",
        "X = tf.constant(_X)\n",
        "out = tf.shape(X)\n",
        "print(out.numpy())"
      ]
    },
    {
      "cell_type": "markdown",
      "metadata": {
        "id": "Mhi0pA8AQR3Y"
      },
      "source": [
        "Q8. Let X be a tensor of [[[1, 2], [3, 4]], [[5, 6], [7, 8]], [[9, 10], [11, 12]]]. Create a tensor representing the size (=total number of elements) of X."
      ]
    },
    {
      "cell_type": "code",
      "execution_count": 7,
      "metadata": {
        "id": "UQN022pzQR3Y",
        "outputId": "97313951-33bd-4448-e50d-fac7bd0a5c66"
      },
      "outputs": [
        {
          "name": "stdout",
          "output_type": "stream",
          "text": [
            "12\n"
          ]
        }
      ],
      "source": [
        "_X = np.array([[[1, 2], [3, 4]], [[5, 6], [7, 8]], [[9, 10], [11, 12]]])\n",
        "X = tf.constant(_X)\n",
        "out = tf.size(X)\n",
        "print(out.numpy())"
      ]
    },
    {
      "cell_type": "markdown",
      "metadata": {
        "id": "0eGk1I7OQR3d"
      },
      "source": [
        "## Slicing and Joining"
      ]
    },
    {
      "cell_type": "markdown",
      "metadata": {
        "id": "UdOyXZycQR3h"
      },
      "source": [
        "Q19. Lex X be a tensor <br/>\n",
        "[[ 1 2 3]<br/>\n",
        " [ 4 5 6].<br/>\n",
        "and Y be a tensor<br/>\n",
        "[[ 7 8 9]<br/>\n",
        " [10 11 12]].<br/>\n",
        "Concatenate X and Y so that the new tensor looks like [[1, 2, 3, 7, 8, 9], [4, 5, 6, 10, 11, 12]]."
      ]
    },
    {
      "cell_type": "code",
      "execution_count": 8,
      "metadata": {
        "id": "6gj96awaQR3h",
        "outputId": "fb20ec5f-5084-4093-9cb4-152e33a82f08"
      },
      "outputs": [
        {
          "name": "stdout",
          "output_type": "stream",
          "text": [
            "[[ 1  2  3  7  8  9]\n",
            " [ 4  5  6 10 11 12]]\n"
          ]
        }
      ],
      "source": [
        "_X = np.array([[1, 2, 3], [4, 5, 6]])\n",
        "_Y = np.array([[7, 8, 9], [10, 11, 12]])\n",
        "X = tf.constant(_X)\n",
        "Y = tf.constant(_Y)\n",
        "out = tf.concat([X, Y], 1)\n",
        "print(out.numpy())\n"
      ]
    },
    {
      "cell_type": "markdown",
      "metadata": {
        "id": "-c38M737QR3q"
      },
      "source": [
        "Q27. Let x be a tensor [2, 2, 1, 5, 4, 5, 1, 2, 3]. Get the tensors of unique elements and their counts."
      ]
    },
    {
      "cell_type": "code",
      "execution_count": 9,
      "metadata": {
        "id": "HssXB_EGQR3q",
        "outputId": "78930f36-5eaf-4a87-a595-fd3ddcce118c"
      },
      "outputs": [
        {
          "name": "stdout",
          "output_type": "stream",
          "text": [
            "[2 1 5 4 3] [3 2 2 1 1]\n"
          ]
        }
      ],
      "source": [
        "x = tf.constant([2, 2, 1, 5, 4, 5, 1, 2, 3])\n",
        "out1, _, out2 = tf.unique_with_counts(x)\n",
        "print(out1.numpy(), out2.numpy())"
      ]
    },
    {
      "cell_type": "markdown",
      "metadata": {
        "id": "xS9TQk6TQR3s"
      },
      "source": [
        "Q31. Let X be a tensor [[0, 5, 3], [4, 2, 1]]. Convert X into one-hot."
      ]
    },
    {
      "cell_type": "code",
      "execution_count": 10,
      "metadata": {
        "id": "ItqoRR7fQR3s",
        "outputId": "6d1e2646-b0e1-4c37-b004-dd72da64f790"
      },
      "outputs": [
        {
          "name": "stdout",
          "output_type": "stream",
          "text": [
            "[[0. 0. 1. 0. 0. 0.]\n",
            " [0. 0. 1. 0. 0. 0.]\n",
            " [0. 1. 0. 0. 0. 0.]\n",
            " [0. 0. 0. 0. 0. 1.]\n",
            " [0. 0. 0. 0. 1. 0.]\n",
            " [0. 0. 0. 0. 0. 1.]\n",
            " [0. 1. 0. 0. 0. 0.]\n",
            " [0. 0. 1. 0. 0. 0.]\n",
            " [0. 0. 0. 1. 0. 0.]]\n"
          ]
        }
      ],
      "source": [
        "X = tf.constant([[0, 5, 3], [4, 2, 1]])\n",
        "out = tf.one_hot(x, 6)\n",
        "print(out.numpy())"
      ]
    }
  ],
  "metadata": {
    "anaconda-cloud": {},
    "colab": {
      "provenance": []
    },
    "kernelspec": {
      "display_name": "Python 3 (ipykernel)",
      "language": "python",
      "name": "python3"
    },
    "language_info": {
      "codemirror_mode": {
        "name": "ipython",
        "version": 3
      },
      "file_extension": ".py",
      "mimetype": "text/x-python",
      "name": "python",
      "nbconvert_exporter": "python",
      "pygments_lexer": "ipython3",
      "version": "3.11.8"
    }
  },
  "nbformat": 4,
  "nbformat_minor": 0
}
