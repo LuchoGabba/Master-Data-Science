{
 "cells": [
  {
   "cell_type": "markdown",
   "metadata": {
    "id": "GEYVoinMFEmr"
   },
   "source": [
    "# EdPuzzle: Cómo abrir archivos de texto con la función .open()\n",
    "\n",
    "by [Luciano Gabbanelli](https://www.linkedin.com/in/luciano-gabbanelli)"
   ]
  },
  {
   "cell_type": "markdown",
   "metadata": {},
   "source": [
    "<img style=\"margin-right: 50px;\" width=80 src=\"https://media.giphy.com/media/KAq5w47R9rmTuvWOWa/giphy.gif\">\n",
    "\n",
    "<img width=80 src=\"../../logos/Assembler.png\">\n",
    "\n",
    "***"
   ]
  },
  {
   "cell_type": "markdown",
   "metadata": {},
   "source": [
    "This notebook goes along with this video:\n",
    "\n",
    "https://www.youtube.com/watch?v=89CKpZpi6qs"
   ]
  },
  {
   "cell_type": "code",
   "execution_count": null,
   "metadata": {
    "colab": {
     "base_uri": "https://localhost:8080/"
    },
    "id": "WrFOkYcb-gup",
    "outputId": "f5b7370f-a695-49ab-c260-ee0136006e93"
   },
   "outputs": [
    {
     "name": "stdout",
     "output_type": "stream",
     "text": [
      "Hell\n"
     ]
    }
   ],
   "source": [
    "fileref = open(\"Assembler_School.txt\", \"r\")\n",
    "texto = fileref.read()\n",
    "print(texto[:4])\n",
    "fileref.close()"
   ]
  },
  {
   "cell_type": "code",
   "execution_count": null,
   "metadata": {
    "colab": {
     "base_uri": "https://localhost:8080/"
    },
    "id": "64B7Q6y0DzFY",
    "outputId": "13ed302f-fc5a-42df-9508-9e699332ef7e"
   },
   "outputs": [
    {
     "name": "stdout",
     "output_type": "stream",
     "text": [
      "['Hello! Welcome to Assembler_School.txt    .\\n', 'This file is for testing purposes.\\n', '\\n', 'Hope you enjoy programming :)\\n']\n"
     ]
    }
   ],
   "source": [
    "fileref = open(\"Assembler_School.txt\", \"r\")\n",
    "texto = fileref.readlines()\n",
    "print(texto[:4])\n",
    "fileref.close()"
   ]
  },
  {
   "cell_type": "code",
   "execution_count": null,
   "metadata": {
    "colab": {
     "base_uri": "https://localhost:8080/"
    },
    "id": "DS7nmQKOHsdz",
    "outputId": "a6579756-6a17-406d-bdf0-82e83ecc50ed"
   },
   "outputs": [
    {
     "name": "stdout",
     "output_type": "stream",
     "text": [
      "<_io.TextIOWrapper name='Assembler_School.txt' mode='r' encoding='UTF-8'>\n"
     ]
    }
   ],
   "source": [
    "fileref = open(\"Assembler_School.txt\", \"r\")\n",
    "\n",
    "print(fileref)\n",
    "\n",
    "fileref.close()"
   ]
  },
  {
   "cell_type": "markdown",
   "metadata": {
    "id": "OqDzfttVE7Jj"
   },
   "source": [
    "# To conclude, an optional cell:"
   ]
  },
  {
   "cell_type": "code",
   "execution_count": null,
   "metadata": {
    "colab": {
     "base_uri": "https://localhost:8080/"
    },
    "id": "FB_9Om4AMEy1",
    "outputId": "5e460e5b-93a5-421a-cc4b-53ff5791dbe6"
   },
   "outputs": [
    {
     "name": "stdout",
     "output_type": "stream",
     "text": [
      "The number of characters in the text below is 131\n",
      "\n",
      "Hello! Welcome to Assembler_School.txt    \n",
      "This file is for testing purposes.       \n",
      "\n",
      "Hope you enjoy programming :)    \n",
      "\n",
      "Good Luck!\n",
      "\n",
      "------------------------------------------------------\n",
      "\n",
      "The number of characters in the first line is 43\n",
      "Hello! Welcome to Assembler_School.txt    \n",
      "\n",
      "------------------------------------------------------\n",
      "\n",
      "The number of lines is 6\n",
      "['Hello! Welcome to Assembler_School.txt    \\n', 'This file is for testing purposes.       \\n', '\\n', 'Hope you enjoy programming :)    \\n', '\\n', 'Good Luck!']\n",
      "\n",
      "------------------------------------------------------\n",
      "\n",
      "object of type '_io.TextIOWrapper' has no len()\n",
      "\n",
      "------------------------------------------------------\n",
      "\n",
      "Do you understand all the code? ;)\n"
     ]
    }
   ],
   "source": [
    "fileref = open(\"Assembler_School.txt\", \"r\")\n",
    "texto1 = fileref.read()\n",
    "fileref.close()\n",
    "\n",
    "fileref = open(\"Assembler_School.txt\", \"r\")\n",
    "texto2 = fileref.readline()\n",
    "fileref.close()\n",
    "\n",
    "fileref = open(\"Assembler_School.txt\", \"r\")\n",
    "texto3 = fileref.readlines()\n",
    "fileref.close()\n",
    "\n",
    "print('The number of characters in the text below is', len(texto1),end='\\n\\n')\n",
    "print(texto1)\n",
    "print('\\n------------------------------------------------------\\n')\n",
    "print('The number of characters in the first line is', len(texto2))\n",
    "print(texto2)\n",
    "print('------------------------------------------------------\\n')\n",
    "print('The number of lines is',len(texto3))\n",
    "print(texto3)\n",
    "print('\\n------------------------------------------------------\\n')\n",
    "\n",
    "try:\n",
    "    print(len(fileref))\n",
    "except Exception as e:\n",
    "    print(e)\n",
    "\n",
    "print('\\n------------------------------------------------------\\n')\n",
    "print('Do you understand all the code? ;)')\n"
   ]
  },
  {
   "cell_type": "code",
   "execution_count": null,
   "metadata": {
    "colab": {
     "base_uri": "https://localhost:8080/"
    },
    "id": "Y1Q3cjNdojNs",
    "outputId": "83e80dee-bf5a-4479-8e73-b5cf93019994"
   },
   "outputs": [
    {
     "name": "stdout",
     "output_type": "stream",
     "text": [
      "<_io.TextIOWrapper name='Assembler_School.txt' mode='r' encoding='UTF-8'>\n"
     ]
    },
    {
     "data": {
      "text/plain": [
       "<_io.TextIOWrapper name='Assembler_School.txt' mode='r' encoding='UTF-8'>"
      ]
     },
     "execution_count": 3,
     "metadata": {},
     "output_type": "execute_result"
    }
   ],
   "source": [
    "with open(\"Assembler_School.txt\", \"r\") as nuevo_archivo:\n",
    "    print(nuevo_archivo)\n",
    "\n",
    "nuevo_archivo"
   ]
  }
 ],
 "metadata": {
  "colab": {
   "provenance": []
  },
  "kernelspec": {
   "display_name": "Python 3 (ipykernel)",
   "language": "python",
   "name": "python3"
  },
  "language_info": {
   "codemirror_mode": {
    "name": "ipython",
    "version": 3
   },
   "file_extension": ".py",
   "mimetype": "text/x-python",
   "name": "python",
   "nbconvert_exporter": "python",
   "pygments_lexer": "ipython3",
   "version": "3.9.12"
  },
  "toc": {
   "base_numbering": 1,
   "nav_menu": {},
   "number_sections": true,
   "sideBar": true,
   "skip_h1_title": false,
   "title_cell": "Table of Contents",
   "title_sidebar": "Contents",
   "toc_cell": false,
   "toc_position": {},
   "toc_section_display": true,
   "toc_window_display": false
  }
 },
 "nbformat": 4,
 "nbformat_minor": 1
}
