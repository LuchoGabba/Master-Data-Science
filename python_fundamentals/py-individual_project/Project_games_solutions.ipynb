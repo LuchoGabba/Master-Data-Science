{
 "cells": [
  {
   "cell_type": "markdown",
   "id": "4ca2ac13",
   "metadata": {
    "id": "e135ce2c"
   },
   "source": [
    "# Individual Project: Games in Python\n",
    "\n",
    "by [Luciano Gabbanelli](https://www.linkedin.com/in/luciano-gabbanelli)"
   ]
  },
  {
   "cell_type": "markdown",
   "id": "4db2ba4f",
   "metadata": {},
   "source": [
    "<img style=\"margin-right: 50px;\" width=80 src=\"https://media.giphy.com/media/KAq5w47R9rmTuvWOWa/giphy.gif\" style=\"margin-right: 30px;\">\n",
    "\n",
    "<img width=80 src=\"../../logos/Assembler.png\">\n",
    "\n",
    "***"
   ]
  },
  {
   "cell_type": "markdown",
   "id": "e135ce2c",
   "metadata": {
    "id": "e135ce2c"
   },
   "source": [
    "Application challenges.\n",
    "\n",
    "**Create the following games in Python:**\n",
    "\n",
    "1. Guess a number from one to ten! The user tries numbers from one to ten and the program tells him whether he guessed or not. The program ends when the user guesses.\n",
    "\n",
    "2. Rock, paper, scissors.\n",
    "\n",
    "3. Variation for the brave (optional): rock, paper, scissors, lizard and spock."
   ]
  },
  {
   "cell_type": "code",
   "execution_count": 1,
   "id": "d7e48eb3",
   "metadata": {},
   "outputs": [],
   "source": [
    "import random"
   ]
  },
  {
   "cell_type": "markdown",
   "id": "9adb7dfe",
   "metadata": {
    "id": "9adb7dfe"
   },
   "source": [
    "## Guess a number from one to ten!"
   ]
  },
  {
   "cell_type": "code",
   "execution_count": null,
   "id": "620c2674",
   "metadata": {
    "id": "620c2674",
    "outputId": "83a32c80-a346-4636-cc8a-c91b846147b0"
   },
   "outputs": [
    {
     "name": "stdout",
     "output_type": "stream",
     "text": [
      "Hello! I am an algorithm. I already thought number. Why don't you guess which one? \n",
      "\n",
      "Let's see in how many attempts you can guess it!\n",
      "\n",
      "Choose a number between 1 and 10: 1\n",
      "\n",
      "No, no, no. Try again!\n",
      "\n",
      "Let's see if you are luckier! Choose a number between 1 and 10: 2\n",
      "\n",
      "No, no, no. Try again!\n",
      "\n",
      "Let's see if you are luckier! Choose a number between 1 and 10: 3\n",
      "\n",
      "No, no, no. Try again!\n",
      "\n",
      "Let's see if you are luckier! Choose a number between 1 and 10: 4\n",
      "\n",
      "No, no, no. Try again!\n",
      "\n",
      "Let's see if you are luckier! Choose a number between 1 and 10: 5\n",
      "\n",
      "No, no, no. Try again!\n",
      "\n",
      "You have already tried 5 times. Come on, dude!! It is not that hard :p\n",
      "\n",
      "Let's see if you are luckier! Choose a number between 1 and 10: 6\n",
      "\n",
      "No, no, no. Try again!\n",
      "\n",
      "Let's see if you are luckier! Choose a number between 1 and 10: 7\n",
      "\n",
      "No, no, no. Try again!\n",
      "\n",
      "Let's see if you are luckier! Choose a number between 1 and 10: 8\n",
      "\n",
      "No, no, no. Try again!\n",
      "\n",
      "Let's see if you are luckier! Choose a number between 1 and 10: 9\n",
      "\n",
      "Lucky one! You have won! You have needed 9 attempts to guess.\n"
     ]
    }
   ],
   "source": [
    "# Type the code here:\n",
    "\n",
    "print('''Hello! I am an algorithm. I already thought number. Why don\\'t you guess which one? \n",
    "\\nLet's see in how many attempts you can guess it!''')\n",
    "\n",
    "program_choice = random.randint(1, 10)\n",
    "user_input = int(input('\\nChoose a number between 1 and 10: '))\n",
    "count = 1\n",
    "\n",
    "while user_input != program_choice:\n",
    "    print('\\nNo, no, no. Try again!')\n",
    "    if count == 5: print('\\nYou have already tried 5 times. Come on, dude!! It is not that hard :p')\n",
    "    count +=1\n",
    "    \n",
    "    user_input = int(input('\\nLet\\'s see if you are luckier! Choose a number between 1 and 10: '))\n",
    "\n",
    "print(f'\\nLucky one! You have won! You have needed {count} attempts to guess.')"
   ]
  },
  {
   "cell_type": "code",
   "execution_count": null,
   "id": "8b8b061a",
   "metadata": {
    "id": "8b8b061a",
    "outputId": "072c3ccd-c203-4346-b9f0-4868cf3dbffc"
   },
   "outputs": [
    {
     "name": "stdout",
     "output_type": "stream",
     "text": [
      "Hello! I am an algorithm. I already thought number. Why don't you guess which one? \n",
      "\n",
      "Let's see in how many attempts you can guess it!\n",
      "\n",
      "Choose a number between 1 and 10: 1\n",
      "\n",
      "No, no, no. Try again!\n",
      "\n",
      "Choose a number between 1 and 10: 2\n",
      "\n",
      "No, no, no. Try again!\n",
      "\n",
      "Choose a number between 1 and 10: 3\n",
      "\n",
      "No, no, no. Try again!\n",
      "\n",
      "Choose a number between 1 and 10: 4\n",
      "\n",
      "Lucky one! You have won! You have needed 4 attempts to guess.\n"
     ]
    }
   ],
   "source": [
    "import random\n",
    "\n",
    "print('''Hello! I am an algorithm. I already thought number. Why don\\'t you guess which one? \n",
    "\\nLet's see in how many attempts you can guess it!''')\n",
    "\n",
    "run = True\n",
    "program_choice = random.randint(1, 10)\n",
    "count = 1\n",
    "\n",
    "while run:\n",
    "    user_input = int(input('\\nChoose a number between 1 and 10: '))\n",
    "    if user_input == program_choice:\n",
    "        print(f'\\nLucky one! You have won! You have needed {count} attempts to guess.')\n",
    "        run = False\n",
    "    else:\n",
    "        print('\\nNo, no, no. Try again!')\n",
    "        if count == 5: print('\\nYou already tried 5 times. Come on, dude!! It is not that hard :p')\n",
    "        count +=1\n",
    "        continue"
   ]
  },
  {
   "cell_type": "markdown",
   "id": "0644ba03",
   "metadata": {
    "id": "0644ba03"
   },
   "source": [
    "## Rock paper scissors"
   ]
  },
  {
   "cell_type": "code",
   "execution_count": 4,
   "id": "463eec08",
   "metadata": {
    "id": "463eec08",
    "outputId": "00470461-a1b9-4ff3-aaa6-bffeb8797725"
   },
   "outputs": [
    {
     "name": "stdout",
     "output_type": "stream",
     "text": [
      "Enter a choice: rock, paper or scissors? rock\n",
      "\n",
      "You chose rock, I chose paper.\n",
      "\n",
      "Paper covers rock! You lose.\n"
     ]
    }
   ],
   "source": [
    "from random import choice\n",
    "\n",
    "possible_choices = [\"rock\", \"paper\", \"scissors\"]\n",
    "\n",
    "computer_choice = choice(possible_choices)\n",
    "\n",
    "\n",
    "user_choice = input(\"Enter a choice: rock, paper or scissors? \").lower()\n",
    "\n",
    "\n",
    "print(f\"\\nYou chose {user_choice}, I chose {computer_choice}.\\n\")\n",
    "\n",
    "if user_choice == computer_choice:\n",
    "    print(f\"Both of us selected {user_choice}. It's a tie!\")\n",
    "elif user_choice == \"rock\":\n",
    "    if computer_choice == \"scissors\":\n",
    "        print(\"Rock crashes scissors! You win!\")\n",
    "    else:\n",
    "        print(\"Paper covers rock! You lose.\")\n",
    "elif user_choice == \"paper\":\n",
    "    if computer_choice == \"rock\":\n",
    "        print(\"Paper covers rock! You win!\")\n",
    "    else:\n",
    "        print(\"Scissors cuts paper! You lose.\")\n",
    "elif user_choice == \"scissors\":\n",
    "    if computer_choice == \"paper\":\n",
    "        print(\"Scissors cuts paper! You win!\")\n",
    "    else:\n",
    "        print(\"Rock crashes scissors! You lose.\")\n",
    "else:\n",
    "    print('But your choice is not one of the available options! Come on! I want to play seriously :/')\n"
   ]
  },
  {
   "cell_type": "markdown",
   "id": "cbfd5fd0",
   "metadata": {
    "id": "cbfd5fd0"
   },
   "source": [
    "## Rock paper scissors lizard spock"
   ]
  },
  {
   "cell_type": "markdown",
   "id": "c0ab9ae2",
   "metadata": {},
   "source": [
    "Run the following functions to load the game:"
   ]
  },
  {
   "cell_type": "code",
   "execution_count": 2,
   "id": "2f5f6c9f",
   "metadata": {},
   "outputs": [],
   "source": [
    "def get_game_rules():\n",
    "    \"\"\"\n",
    "    Return the game rules as a dictionary.\n",
    "    \n",
    "    Returns:\n",
    "        dict: A dictionary containing the game rules.\n",
    "    \"\"\"\n",
    "    return {\n",
    "        \"rock\": {\"crushes\": [\"scissors\", \"lizard\"]},\n",
    "        \"paper\": {\"covers\": [\"rock\"], \"disproves\": [\"spock\"]},\n",
    "        \"scissors\": {\"cuts\": [\"paper\"], \"decapitates\": [\"lizard\"]},\n",
    "        \"lizard\": {\"eats\": [\"paper\"], \"poisons\": [\"spock\"]},\n",
    "        \"spock\": {\"smashes\": [\"scissors\"], \"vaporizes\": [\"rock\"]}\n",
    "    }"
   ]
  },
  {
   "cell_type": "code",
   "execution_count": 3,
   "id": "bb7a4e48",
   "metadata": {},
   "outputs": [],
   "source": [
    "def get_user_choice():\n",
    "    \"\"\"\n",
    "    Prompt the user for their choice and return it.\n",
    "    \n",
    "    Returns:\n",
    "        str: The user's choice.\n",
    "    \"\"\"\n",
    "    choice_prompt = \"Enter your choice: \" + \", \".join(get_game_rules().keys()) + \"? \"\n",
    "    user_input = input(choice_prompt).lower()\n",
    "    while user_input not in get_game_rules():\n",
    "        print(f\"{user_input} is an invalid choice. Enter your choice: \" + \", \".join(get_game_rules().keys()) + \"?\\n \")\n",
    "        user_input = input(choice_prompt).lower()\n",
    "    return user_input"
   ]
  },
  {
   "cell_type": "code",
   "execution_count": 4,
   "id": "a93f3671",
   "metadata": {},
   "outputs": [],
   "source": [
    "def get_computer_choice():\n",
    "    \"\"\"\n",
    "    Randomly choose and return an option for the computer.\n",
    "    \n",
    "    Returns:\n",
    "        str: The computer's choice.\n",
    "    \"\"\"\n",
    "    return random.choice(list(get_game_rules().keys()))"
   ]
  },
  {
   "cell_type": "code",
   "execution_count": 10,
   "id": "7ba5b99f",
   "metadata": {},
   "outputs": [],
   "source": [
    "def determine_winner(user_choice, computer_choice):\n",
    "    \"\"\"\n",
    "    Determine the winner based on user's and computer's choices.\n",
    "    \n",
    "    Parameters:\n",
    "        user_choice (str): The user's choice.\n",
    "        computer_choice (str): The computer's choice.\n",
    "        \n",
    "    Returns:\n",
    "        str: The result of the match.\n",
    "    \"\"\"\n",
    "    rules = get_game_rules()\n",
    "    if user_choice == computer_choice:\n",
    "        return \"It's a tie!\\n\"\n",
    "    for action, affected_choices in rules[user_choice].items():\n",
    "        if computer_choice in affected_choices:\n",
    "            return f\"You win! {user_choice.capitalize()} {action} {computer_choice.capitalize()}.\\n\"\n",
    "    for action, affected_choices in rules[computer_choice].items():\n",
    "        if user_choice in affected_choices:\n",
    "            return f\"You lose! {computer_choice.capitalize()} {action} {user_choice.capitalize()}. Mue je je\\n\"\n"
   ]
  },
  {
   "cell_type": "code",
   "execution_count": 8,
   "id": "c4c0aa8e",
   "metadata": {},
   "outputs": [],
   "source": [
    "def play_rpsls():\n",
    "    \"\"\"\n",
    "    Main function to orchestrate the game.\n",
    "    \"\"\"\n",
    "    while True:\n",
    "        user_choice = get_user_choice()\n",
    "        computer_choice = get_computer_choice()\n",
    "        print(f\"User chose: {user_choice.capitalize()}\")\n",
    "        print(f\"Computer chose: {computer_choice.capitalize()}\")\n",
    "        print(determine_winner(user_choice, computer_choice))\n",
    "        \n",
    "        # Check if the user wants to play again\n",
    "        play_again = input(\"Do you want to play again? (yes/no): \").lower()\n",
    "        while play_again not in [\"yes\", \"no\"]:\n",
    "            print(f\"{play_again} is an invalid choice. Please answer with 'yes' or 'no'.\\n\")\n",
    "            play_again = input(\"Do you want to play again? (yes/no): \").lower()\n",
    "        \n",
    "        if play_again == \"no\":\n",
    "            print(\"Goodbye! Have a good day :)\")\n",
    "            break"
   ]
  },
  {
   "cell_type": "markdown",
   "id": "f731a448",
   "metadata": {},
   "source": [
    "Play a game round:"
   ]
  },
  {
   "cell_type": "code",
   "execution_count": 11,
   "id": "f236488d",
   "metadata": {},
   "outputs": [
    {
     "name": "stdout",
     "output_type": "stream",
     "text": [
      "hoola is an invalid choice. Enter your choice: rock, paper, scissors, lizard, spock?\n",
      " \n",
      "User chose: Paper\n",
      "Computer chose: Lizard\n",
      "You lose! Lizard eats Paper. Mue je je\n",
      "\n",
      "hi is an invalid choice. Please answer with 'yes' or 'no'.\n",
      "\n",
      "User chose: Rock\n",
      "Computer chose: Paper\n",
      "You lose! Paper covers Rock. Mue je je\n",
      "\n",
      "User chose: Rock\n",
      "Computer chose: Spock\n",
      "You lose! Spock vaporizes Rock. Mue je je\n",
      "\n",
      "Goodbye! Have a good day :)\n"
     ]
    }
   ],
   "source": [
    "play_rpsls()"
   ]
  },
  {
   "cell_type": "markdown",
   "id": "0b853a82",
   "metadata": {},
   "source": [
    "## Rock paper scissors lizard spock (Optional)"
   ]
  },
  {
   "cell_type": "code",
   "execution_count": 3,
   "id": "854bae00",
   "metadata": {},
   "outputs": [],
   "source": [
    "from rpsls_game import play_rpsls"
   ]
  },
  {
   "cell_type": "markdown",
   "id": "6e4acd76",
   "metadata": {},
   "source": [
    "Now, the notebook simply acts as an interface to the game, while all the underlying mechanics are neatly packaged in the external file. \n",
    "\n",
    "It's a more professional setup and is especially useful if the game or project grows in complexity."
   ]
  },
  {
   "cell_type": "code",
   "execution_count": 4,
   "id": "d1551b21",
   "metadata": {},
   "outputs": [
    {
     "name": "stdout",
     "output_type": "stream",
     "text": [
      "covers is an invalid choice. Enter your choice: rock, paper, scissors, lizard, spock?\n",
      " \n",
      "crushes is an invalid choice. Enter your choice: rock, paper, scissors, lizard, spock?\n",
      " \n",
      "User chose: Rock\n",
      "Computer chose: Lizard\n",
      "You win! Rock crushes Lizard.\n",
      "\n",
      "Goodbye! Have a good day :)\n"
     ]
    }
   ],
   "source": [
    "play_rpsls()"
   ]
  },
  {
   "cell_type": "markdown",
   "id": "78f204b8",
   "metadata": {},
   "source": [
    "**In the vast realm of code and play, a `.py` file keeps the clutter at bay!**"
   ]
  }
 ],
 "metadata": {
  "colab": {
   "provenance": []
  },
  "kernelspec": {
   "display_name": "Python 3 (ipykernel)",
   "language": "python",
   "name": "python3"
  },
  "language_info": {
   "codemirror_mode": {
    "name": "ipython",
    "version": 3
   },
   "file_extension": ".py",
   "mimetype": "text/x-python",
   "name": "python",
   "nbconvert_exporter": "python",
   "pygments_lexer": "ipython3",
   "version": "3.11.5"
  },
  "toc": {
   "base_numbering": 1,
   "nav_menu": {},
   "number_sections": true,
   "sideBar": true,
   "skip_h1_title": true,
   "title_cell": "Table of Contents",
   "title_sidebar": "Contents",
   "toc_cell": false,
   "toc_position": {},
   "toc_section_display": true,
   "toc_window_display": false
  }
 },
 "nbformat": 4,
 "nbformat_minor": 5
}
