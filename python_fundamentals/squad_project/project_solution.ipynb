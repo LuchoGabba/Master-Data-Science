{
 "cells": [
  {
   "cell_type": "markdown",
   "id": "c42e999c",
   "metadata": {},
   "source": [
    "# Experimento de tiempo de reacción\n",
    "\n",
    "Automatización de procesos: realizamos un experimento, hacemos un mínimo análisis de datos y producimos un reporte en un documento de word o pdf\n",
    "\n",
    "repr --> representation. Format strings will help to see data in a nice manner :)\n",
    "\n",
    "Poner picture del output y sugerir que intenten algo bonito con f-strings\n",
    "\n",
    "\n",
    "-----\n",
    "\n",
    "\n",
    "Segunda clase, la clae experimento debe llamar a la clase Subjet. Las clases se aprovechan entre si!\n",
    "\n",
    "Ten cuidado al definir al sujeto. su atributo debe ser \n",
    "self.subject or self.Subject\n",
    "\n",
    "What do you want to do? Apply the experiment to a particular person or apply the experiment to a class?"
   ]
  },
  {
   "cell_type": "code",
   "execution_count": null,
   "id": "e6899df4",
   "metadata": {},
   "outputs": [
    {
     "name": "stderr",
     "output_type": "stream",
     "text": [
      "WARNING: Package(s) not found: python-docx\n"
     ]
    }
   ],
   "source": [
    "# pip show python-docx\n"
   ]
  },
  {
   "cell_type": "markdown",
   "id": "235f81dc",
   "metadata": {},
   "source": [
    "## Subject class\n",
    "\n",
    "Create a class for defining the *experimental subject* of an experiment."
   ]
  },
  {
   "cell_type": "code",
   "execution_count": 1,
   "id": "03a59423",
   "metadata": {},
   "outputs": [],
   "source": [
    "class Subject():\n",
    "    '''\n",
    "    Class for an experimental subject.\n",
    "    The 'info' attribute contains preliminary data, such as sociodemographic information.\n",
    "    The 'results' attribute will store the outcomes of the tests.\n",
    "    '''\n",
    "    \n",
    "    def __init__(self, subject_id: int, info: dict) -> None:\n",
    "        '''Initialize a new experimental subject.\n",
    "        \n",
    "        Parameters:\n",
    "        - subject_id (int): The ID of the subject.\n",
    "        - info (dict): A dictionary containing preliminary information.\n",
    "        '''\n",
    "        self.id = subject_id\n",
    "        self.info = info\n",
    "        self.results = dict()\n",
    "        \n",
    "    def __repr__(self) -> str:\n",
    "        '''Magic method to display the subject's data.\n",
    "        \n",
    "        The ':<20' pads the string with spaces to ensure a consistent display width.\n",
    "        \n",
    "        Returns:\n",
    "        - str: A formatted string displaying the subject's information and results.\n",
    "        '''\n",
    "        s = f'Data for ID {self.id:<20}\\n\\n'\n",
    "        # We iterate the (key,value)-pair of info dict for getting personal data.\n",
    "        for k, v in self.info.items():\n",
    "            s += f\"{k:<20} {v:<20}\\n\"\n",
    "        # We iterate the results dict for getting\n",
    "        for k, v in self.results.items():\n",
    "            s += f\"{k:<20} {v:<20}\\n\"\n",
    "        return s"
   ]
  },
  {
   "cell_type": "markdown",
   "id": "16f27258",
   "metadata": {},
   "source": [
    "Let's see how our class works:"
   ]
  },
  {
   "cell_type": "code",
   "execution_count": 2,
   "id": "d2605166",
   "metadata": {},
   "outputs": [
    {
     "name": "stdout",
     "output_type": "stream",
     "text": [
      "Data for ID 123456789           \n",
      "\n",
      "name                 Luciano Gabbanelli  \n",
      "age                  122                 \n",
      "birth_date           01-01-1908          \n",
      "years_of_education   60                  \n",
      "\n"
     ]
    }
   ],
   "source": [
    "# Creating data\n",
    "info_subj1 = {'name': 'Luciano Gabbanelli', 'age': 122, 'birth_date': '01-01-1908', 'years_of_education': 60}\n",
    "# Instantiate a subject\n",
    "subject_1 = Subject('123456789', info_subj1)\n",
    "\n",
    "print(subject_1)"
   ]
  },
  {
   "cell_type": "markdown",
   "id": "9cefcf45",
   "metadata": {},
   "source": [
    "## Experiment class\n",
    "\n",
    "Let us define an abstract class to then conduct different type of experiments. This class should be general enough such different experiments can be performed.\n",
    "\n",
    "The class will have three methods:\n",
    "* `instructions`: will provide guidelines on how to conduct the experiment.\n",
    "* `correct_data`: will take raw data and calculate a result.\n",
    "* `conduct_experiment`: will carry out the experiment.\n"
   ]
  },
  {
   "cell_type": "code",
   "execution_count": 3,
   "id": "6bb47dce",
   "metadata": {},
   "outputs": [],
   "source": [
    "from typing import List, Any\n",
    "\n",
    "class Experiment():\n",
    "    '''Class to represent and manage an experimental procedure.'''\n",
    "    \n",
    "    def __init__(self, subject: Subject, name: str = 'Experiment', instructions: str = 'Attention!') -> None:\n",
    "        '''\n",
    "        Initialize a new experiment.\n",
    "\n",
    "        Parameters:\n",
    "        - subject (Subject): The subject participating in the experiment.\n",
    "        - name (str): The name of the experiment. Default is 'Experiment'.\n",
    "        - instructions (str): The guidelines for the experiment. Default is 'Attention!'.\n",
    "        '''\n",
    "        self.name = name\n",
    "        self.subject = subject\n",
    "        self.instructions = instructions\n",
    "        self.data = []  # List to store the data collected during the experiment.\n",
    "        \n",
    "    def display_instructions(self) -> None:\n",
    "        '''Display the instructions for the experiment.'''\n",
    "        print(self.instructions)\n",
    "    \n",
    "    def correct_data(self) -> None:\n",
    "        '''\n",
    "        Process and correct the raw data collected during the experiment.\n",
    "        This method is intended to be overridden by subclasses to provide specific data correction for each experiment.\n",
    "        '''\n",
    "        pass\n",
    "    \n",
    "    def conduct_experiment(self) -> None:\n",
    "        '''\n",
    "        Execute the experimental procedure.\n",
    "        This method is intended to be overridden by subclasses to provide specific steps or details for each experiment.\n",
    "        '''\n",
    "        pass"
   ]
  },
  {
   "cell_type": "markdown",
   "id": "f171114c",
   "metadata": {},
   "source": [
    "Let us instantiate a general experiment for Luciano:"
   ]
  },
  {
   "cell_type": "code",
   "execution_count": 4,
   "id": "41584d4b",
   "metadata": {},
   "outputs": [],
   "source": [
    "general_exp = Experiment(subject_1)"
   ]
  },
  {
   "cell_type": "markdown",
   "id": "d69cd220",
   "metadata": {},
   "source": [
    "Let us see some of its attributes:"
   ]
  },
  {
   "cell_type": "code",
   "execution_count": 5,
   "id": "7732f58c",
   "metadata": {},
   "outputs": [
    {
     "name": "stdout",
     "output_type": "stream",
     "text": [
      "An instance for the abstract Experiment class:\n",
      "Name:          Experiment\n",
      "Instructions:  Attention!\n",
      "\n",
      "For the subject instance:\n",
      "subject: Data for ID 123456789           \n",
      "\n",
      "name                 Luciano Gabbanelli  \n",
      "age                  122                 \n",
      "birth_date           01-01-1908          \n",
      "years_of_education   60                  \n",
      "\n"
     ]
    }
   ],
   "source": [
    "# Create the format stringx\n",
    "format_string = \"{:<15}{:>10}\"\n",
    "\n",
    "# Print the details using the format string\n",
    "print('An instance for the abstract Experiment class:')\n",
    "print(format_string.format(\"Name:\", general_exp.name))\n",
    "print(format_string.format(\"Instructions:\", general_exp.instructions))\n",
    "print()\n",
    "print('For the subject instance:')\n",
    "print(\"subject:\", general_exp.subject)"
   ]
  },
  {
   "cell_type": "markdown",
   "id": "4eff3d0a",
   "metadata": {},
   "source": [
    "## Let us dive into the first experiment!\n",
    "\n",
    "### Reaction Time function\n",
    "\n",
    "To conduct the first experiment, we will use two modules/libraries: `time` and `random`:\n",
    "* `time` will help us measure time during our experiment.\n",
    "* `random` will allow us to generate random numbers.\n",
    "\n",
    "\n",
    "Let us create a function called *conduct_experiment* that executes a reaction time test. For this, it takes an argument `pause_range`, which is the maximum range of seconds that can elapse between one stimulus and the next.\n",
    "\n",
    "Using:\n",
    "\n",
    "* The function `time.time()` to return the current time in seconds.\n",
    "* The function `random.random()` to generate a random number between 0 and 1 and vary the pause duration.\n",
    "* The function `time.sleep(s)` to pause for *s* seconds, with *s* being an integer such $s\\in[5;10]$.\n",
    "* The function `input()` that waits for a user input, halting execution until the ENTER key is pressed.\n",
    "\n",
    "**Warning:** We are not interested in the user's input; we are measuring reaction times. The user should press ENTER as quickly as possible.\n",
    "\n",
    "**Hint in pseudocode:**\n",
    "\n",
    "```\n",
    "Given an empty list [] \n",
    "\n",
    "Given an integer \"n_trials\"\n",
    "\n",
    "Do \"n_trials\" times:\n",
    "  Take a time 0\n",
    "  Wait some random time (pause)\n",
    "  Print what to do, something like \"Press ENTER:\"\n",
    "  Ask for input \n",
    "  Take a time 1\n",
    "  Calculate the difference between times\n",
    "  Add the difference to the list\n",
    "  Take a random time pause\n",
    "\n",
    "```\n",
    "\n",
    "Two points are woth to be mentioned:\n",
    "\n",
    "1. You are only interesed in the time between when the instructions appear and the input is excecuted.\n",
    "2. The empty list will be the attriute called \"data\" in our `Experiment` class.\n",
    "3. The printed instructions by hand will be replaced by the attriute called `instructions` in our `Experiment` class."
   ]
  },
  {
   "cell_type": "code",
   "execution_count": 6,
   "id": "f7f8414b",
   "metadata": {},
   "outputs": [],
   "source": [
    "import time\n",
    "import random\n",
    "\n",
    "def reaction_time_experiment(n_trials: int, pause_range: int = 10) -> List[float]:\n",
    "    \"\"\"\n",
    "    Conduct a reaction time experiment.\n",
    "    \n",
    "    This function measures the time taken by the user to press ENTER after a random pause. \n",
    "    The pause duration is randomly chosen within the provided `pause_range`.\n",
    "\n",
    "    Parameters:\n",
    "    - n_trials (int): The number of times the test will be repeated.\n",
    "    - pause_range (int): The maximum range (in seconds) for the random pause. Default is 10 seconds.\n",
    "\n",
    "    Returns:\n",
    "    - List[float]: A list of reaction times recorded during the experiment.\n",
    "    \"\"\"\n",
    "    my_data = []\n",
    "\n",
    "    for _ in range(n_trials):\n",
    "        # Record the start time\n",
    "        t0 = time.time()\n",
    "        # Generate a random pause duration within the provided range\n",
    "        pause = random.random() * pause_range\n",
    "        # Pause for the randomly determined duration\n",
    "        time.sleep(pause)\n",
    "        # Prompt the user to press ENTER\n",
    "        print(\"Press ENTER:\")\n",
    "        input()\n",
    "        # Calculate the reaction time, adjusting for the pause\n",
    "        t1 = time.time() - t0 - pause\n",
    "        # Add the calculated reaction time to the list\n",
    "        my_data.append(t1)\n",
    "\n",
    "    return my_data"
   ]
  },
  {
   "cell_type": "markdown",
   "id": "4451e32f",
   "metadata": {},
   "source": [
    "Let us try our experiment individually:"
   ]
  },
  {
   "cell_type": "code",
   "execution_count": 7,
   "id": "37164bc2",
   "metadata": {},
   "outputs": [
    {
     "name": "stdout",
     "output_type": "stream",
     "text": [
      "Press ENTER:\n",
      "Press ENTER:\n",
      "Press ENTER:\n"
     ]
    },
    {
     "data": {
      "text/plain": [
       "[0.41796379158099795, 0.3345411076397251, 0.42630576149396937]"
      ]
     },
     "execution_count": 7,
     "metadata": {},
     "output_type": "execute_result"
    }
   ],
   "source": [
    "reaction_time_experiment(3,7)"
   ]
  },
  {
   "cell_type": "markdown",
   "id": "79a7cb5a",
   "metadata": {},
   "source": [
    "A more sophisticated experiment would solicit input through a graphical interface using tools like Tkinter, Kivy, or others. We could even use these interfaces to display a red circle on your screen instead of a prompt. However,  I'll leave these enhancements for you to explore and experiment with at your leisure. This aspect won't be evaluated, so feel free to delve into it only if your Squad has some spare time :)"
   ]
  },
  {
   "cell_type": "markdown",
   "id": "21768f34",
   "metadata": {},
   "source": [
    "### Inherit a new class from `Experiment` with our function\n",
    "\n",
    "Now we are ready to use our function `reaction_time_experiment` as a method for a new subclass inherited from the `Experiment` class. In this manner, we can lunch our recently created experiment as a mathod of this new subclass that we will call `ReactionTime`. \n",
    "\n",
    "So let us create this new subclass called `ReactionTime` inherited from the class `Experiment`. Instead of taking external variables like in our function, such as `my_data` or the instructions on what to do, it will use the atributes from the superclass, such as `data` or `instructions`. Besides, we will have to override the two empty methos belonging to the superclass.\n",
    "\n",
    "For this particular experiment of reaction time we will use:\n",
    "\n",
    "* `correct_data`: will provide the mean and variance of the taken timen in the experiment and store the data in the dictionary called `results`. This can be done with these two lines: `self.sujeto.results['MedinReaccion'] = mu` and `self.sujet.results['VarianceReaccion'] = var` (but no with uppercase, `Subject`, as we are calling an instance of this class).\n",
    "* `conduct_experiment`: we will use the same code from the \"reaction_time\" function.\n",
    "\n",
    "**Note:** As you can notice, this class has the `Suject` class inherited from the `Experiment` class."
   ]
  },
  {
   "cell_type": "code",
   "execution_count": 8,
   "id": "ce45b683",
   "metadata": {},
   "outputs": [],
   "source": [
    "class ReactionTime(Experiment): \n",
    "    '''Inherits from the \"Experiment\" class, starting with its methods and attributes.'''\n",
    "    \n",
    "    def __init__(self, *args, **kwargs):\n",
    "        '''\n",
    "        Initialize the ReactionTime class.\n",
    "        Note:\n",
    "            super() calls the constructor of the parent \"Experiment\" class.\n",
    "        '''\n",
    "        super().__init__(*args, **kwargs)\n",
    "        \n",
    "    def correct_data(self) -> None:\n",
    "        '''\n",
    "        Process and correct the raw data collected with conduct_experiment method; i.e. the reaction time experiment.\n",
    "        Calculates mean and variance of the collected data and updates the subject's results.\n",
    "        '''\n",
    "        mu = sum(self.data) / len(self.data)\n",
    "        var = sum([(x - mu)**2 for x in self.data]) / len(self.data)\n",
    "        self.subject.results['MedinReaccion'] = mu\n",
    "        self.subject.results['VarianceReaccion'] = var\n",
    "\n",
    "    def conduct_experiment(self, n_trials: int, pause_range: int = 10) -> None:\n",
    "        '''\n",
    "        Conduct the reaction time experiment.\n",
    "        \n",
    "        The procedure involves prompting the participant after a random pause.\n",
    "        The reaction time is calculated as the time taken by the participant to press ENTER after the prompt.\n",
    "        \n",
    "        Args:\n",
    "            n_trials (int): The number of times the test will be repeated.\n",
    "            pause_range (int): The maximum range (in seconds) for the random pause. Default is 10 seconds.\n",
    "        '''\n",
    "        for _ in range(n_trials):\n",
    "            t0 = time.time()  # Record the start time\n",
    "            pause = random.random() * pause_range  # Generate a random pause duration within the provided range\n",
    "            time.sleep(pause)  # Pause for the randomly determined duration\n",
    "            self.display_instructions()  # Display instructions\n",
    "            input()  # Wait for the user's reaction\n",
    "            t1 = time.time() - t0 - pause  # Calculate the reaction time, adjusting for the pause\n",
    "            self.data.append(t1)  # Store the reaction time\n",
    "        \n",
    "        self.correct_data()  # Process the collected data and compute the results for the subject."
   ]
  },
  {
   "cell_type": "markdown",
   "id": "1f083763",
   "metadata": {},
   "source": [
    "OLD CODE: \n",
    "\n",
    "reciclar instrucciones en el markdown\n",
    "\n",
    "\n",
    "\n",
    "    class ReactionTime(Experiment): \n",
    "        '''Hereda la clase \"Experiment\", parte teniendo los métodos y atributos de esta clase'''\n",
    "        \n",
    "        def __init__(self, *args, **kwargs):\n",
    "            # Remember that with super we call the function de la cual estamos heredando\n",
    "            # In this case, we take the __init__ from Experiment class and we pass *args and **kwargs\n",
    "            super().__init__(*args, **kwargs)\n",
    "            \n",
    "        def correct_data(self):\n",
    "            mu = sum(self.data) / len(self.data)\n",
    "            var = sum([(x - mu)**2 for x in self.data]) / len(self.data)\n",
    "            self.subject.results['MedinReaccion'] = mu\n",
    "            self.subject.results['VarianceReaccion'] = var\n",
    "\n",
    "        # Usamos la función \"reaction_time_experiment\", esta vez con self en los argumentos,\n",
    "        # y guarda el resultado del experimento en self.data en lugar de en nuestra empty list!\n",
    "        # Al final del experimento, llamar a la función \"correct_data\"\n",
    "        def conduct_experiment(self,n_trials: int, pause_range: int = 10):\n",
    "            for _ in range(n_trials):\n",
    "                t0 = time.time()\n",
    "                pause = random.random() * pause_range\n",
    "                time.sleep(pause)\n",
    "                self.display_instructions()  # Repeat instructions\n",
    "                input()\n",
    "                t1 = time.time() - t0 - pause\n",
    "                self.data.append(t1)\n",
    "            \n",
    "            self.correct_data() # \"correct_data method\" to use the data taken and compute the results for the subject.\n",
    "\n"
   ]
  },
  {
   "cell_type": "markdown",
   "id": "e92c5e1b",
   "metadata": {},
   "source": [
    "### Instantiate the new class `ReactionTime` and run the experiment\n",
    "\n",
    "Steps:\n",
    "\n",
    "1. Create a random string ID with 9 digits. You can use the following line: `subject_id = str(random.random())[2:]`\n",
    "2. Understand why the prevous line generates a valid ID.\n",
    "3. Instantiate a new subject. Invent one!\n",
    "4. Instantiate the experiment `ReactionTime`.\n",
    "5. Call the `conduct_experiment` method belonging to your new and recently instantiated class."
   ]
  },
  {
   "cell_type": "code",
   "execution_count": 9,
   "id": "62d82542",
   "metadata": {},
   "outputs": [
    {
     "name": "stdout",
     "output_type": "stream",
     "text": [
      "Data for ID 639426798           \n",
      "\n",
      "name                 Arquímedes de Siracusa\n",
      "age                  2310                \n",
      "birth_date           287 a. C.           \n",
      "years_of_education   75                  \n",
      "\n"
     ]
    }
   ],
   "source": [
    "# Set a seed for reproducibility\n",
    "random.seed(42)\n",
    "\n",
    "# Generate a random string as ID\n",
    "subject_id = str(random.random())[2:11]\n",
    "len(subject_id)\n",
    "\n",
    "# Instantiate Subject\n",
    "new_info = {'name': 'Arquímedes de Siracusa', 'age': 2310, 'birth_date': '287 a. C.', 'years_of_education': 75}\n",
    "amazing_subject = Subject(subject_id, new_info)\n",
    "print(amazing_subject)\n",
    "\n",
    "# Instantiate ReactionTime\n",
    "reaction_test = ReactionTime(amazing_subject, name = 'Reaction Time', instructions = 'NOW! Press ENTER!')"
   ]
  },
  {
   "cell_type": "code",
   "execution_count": 10,
   "id": "ca5bf626",
   "metadata": {},
   "outputs": [
    {
     "name": "stdout",
     "output_type": "stream",
     "text": [
      "NOW! Press ENTER!\n",
      "NOW! Press ENTER!\n",
      "NOW! Press ENTER!\n",
      "NOW! Press ENTER!\n",
      "NOW! Press ENTER!\n"
     ]
    }
   ],
   "source": [
    "# Call the conduct_experiment method\n",
    "reaction_test.conduct_experiment(n_trials=5, pause_range=4)"
   ]
  },
  {
   "cell_type": "markdown",
   "id": "b2befe0c",
   "metadata": {},
   "source": [
    "### Let us now see which data we have generated:\n",
    "\n",
    "You can notice that the subject that performs the experiment has new data associated in the empty result dictionary generated when created!!"
   ]
  },
  {
   "cell_type": "code",
   "execution_count": 11,
   "id": "d37dab6e",
   "metadata": {},
   "outputs": [
    {
     "name": "stdout",
     "output_type": "stream",
     "text": [
      "The instance for the Reaction Time Experiment:\n",
      "Name:          Reaction Time\n",
      "Instructions:  NOW! Press ENTER!\n",
      "Collected data:\n",
      " [1.56523016865401, 0.31408279404366457, 0.344856079234543, 0.39115604452803243, 0.272075064758428]\n",
      "\n",
      "\n",
      "\n",
      "The atributes of the subject instance are accesible from my new instance of the experiment:\n",
      "\n",
      "subject: Data for ID 639426798           \n",
      "\n",
      "name                 Arquímedes de Siracusa\n",
      "age                  2310                \n",
      "birth_date           287 a. C.           \n",
      "years_of_education   75                  \n",
      "MedinReaccion        0.5774800302437356  \n",
      "VarianceReaccion     0.24542623262930938 \n",
      "\n"
     ]
    }
   ],
   "source": [
    "# Create the format stringx\n",
    "format_string = \"{:<15}{:>10}\"\n",
    "\n",
    "# Call the attributes of our instance of the reaction time experiment\n",
    "print('The instance for the Reaction Time Experiment:')\n",
    "print(format_string.format(\"Name:\", reaction_test.name))\n",
    "print(format_string.format(\"Instructions:\", reaction_test.instructions))\n",
    "print(\"Collected data:\\n\", reaction_test.data)\n",
    "print('\\n\\n')\n",
    "print('The atributes of the subject instance are accesible from my new instance of the experiment:\\n')\n",
    "print(\"subject:\", reaction_test.subject)"
   ]
  },
  {
   "cell_type": "markdown",
   "id": "fc2a0a39",
   "metadata": {},
   "source": [
    "## The second experiment!\n",
    "\n",
    "How the subject is feeling when performing the Reaction Time experiment?\n",
    "\n",
    "### Create a Questionnaire\n",
    "\n",
    "Create a code that creates a \"questionnaire.txt\" with the following content:\n",
    "\n",
    "1. I feel calm.\n",
    "2. I feel secure.\n",
    "3. I am tense.\n",
    "4. I am upset.\n",
    "5. I feel at ease.\n",
    "\n",
    "Each question will have a rating from 0 to 3 that the user will enter after conducting the Reaction Time experiment.\n",
    "\n",
    "Note: Are you up to a little reaseach on measuring anxiety? You can start with the questionnaire of anxiety called STAI."
   ]
  },
  {
   "cell_type": "code",
   "execution_count": 13,
   "id": "222b3a04",
   "metadata": {},
   "outputs": [],
   "source": [
    "import os\n",
    "\n",
    "directory = 'Files'\n",
    "if not os.path.exists(directory):\n",
    "    os.makedirs(directory)\n",
    "\n",
    "with open('Files/questionnaire.txt', 'w') as out:\n",
    "    out.write(\n",
    "'''1. I feel calm.\n",
    "2. I feel secure.\n",
    "3. I am tense.\n",
    "4. I am upset.\n",
    "5. I feel at ease.''')"
   ]
  },
  {
   "cell_type": "markdown",
   "id": "a1e428f3",
   "metadata": {},
   "source": [
    "### Questionnaire Experiment\n",
    "\n",
    "Create a subclass named Questionnaire that inherits from Experiment:\n",
    "\n",
    "\n",
    "* It should have an initialization method `__init__` that inherits the attributes from `Experiment`.\n",
    "* Additionally, it should have an attribute named `path_questionnaire` which holds the path to the questionnaire to be administered.\n",
    "* Implement a method called `load_questions(self, path)` that takes in this path (`path_questionnaire`) and loads the questions into a list. The list should be stored in a `self.questions` attribute.\n",
    "* Update the `correct_data` method inherited from the superclass `Experiment`. This method should calculate the sum of all the scores assigned to each questionnaire question (as mentioned earlier, the answers to the questions are numerical) and save it in the `results` dictionary of the subject instance under the key `'Total'`.\n",
    "* Update the `conduct_experiment(self)` method so that it executes the experiment.\n",
    "\n",
    "    **Pseudocode hint:**\n",
    "\n",
    "        Display the instruction\n",
    "        Take each question using input()\n",
    "        Cast the input to an integer\n",
    "        Store the response in self.data\n",
    "        At the end, execute correct_data\n",
    "\n",
    "    **Bonus:** add a check to ensure the response is valid and is an integer.\n",
    "\n",
    "    **Idea:** How about using a `Try`, `Except` approach to re-prompt for a response if needed?"
   ]
  },
  {
   "cell_type": "code",
   "execution_count": 14,
   "id": "a7011ea6",
   "metadata": {},
   "outputs": [],
   "source": [
    "class Questionnaire(Experiment):\n",
    "    '''\n",
    "    Another test case that inherits from Experiment. This time, during initialization, \n",
    "    questions are loaded into the self.questions attribute.\n",
    "    '''\n",
    "    def __init__(self, path_questionnaire: str, *args, **kwargs) -> None:\n",
    "        '''\n",
    "        Initialize the Questionnaire subclass, inheriting attributes from the superclass, Experiment.\n",
    "\n",
    "        Args:\n",
    "            path_questionnaire (str): Path to the file containing the questions.\n",
    "        '''\n",
    "        super().__init__(*args, **kwargs)\n",
    "        self.load_questions(path_questionnaire)\n",
    "        \n",
    "    def load_questions(self, path: str) -> None:\n",
    "        '''\n",
    "        Load questions from a specified file and store them in the self.questions attribute.\n",
    "    \n",
    "        Each line in the file is treated as a separate question. The method reads the file, \n",
    "        splits it by lines, and assigns the resulting list of questions to self.questions.\n",
    "\n",
    "        Args:\n",
    "            path (str): Path to the file containing the questions.\n",
    "        '''\n",
    "        # Función que lee el txt y guarda cada renglón en self.preguntas\n",
    "        with open(path, 'r') as f:\n",
    "            questions = f.read().split('\\n') # Split by lines\n",
    "        self.questions = questions\n",
    "        \n",
    "    def correct_data(self) -> None:\n",
    "        '''\n",
    "        Process and correct the raw data collected during the questionnaire.\n",
    "        Calculates the total score from the questionnaire and updates the subject's results.\n",
    "        '''\n",
    "        self.subject.results[f'Total{self.name}'] = sum(self.data)\n",
    "        \n",
    "    def tomar_experimento(self):\n",
    "        '''\n",
    "        Conduct the questionnaire experiment.\n",
    "        \n",
    "        The procedure involves displaying each question and recording the participant's answer.\n",
    "        '''\n",
    "        self.instructions()\n",
    "        for qtn in self.questions:\n",
    "            while True:  # Keep asking until a valid integer is provided\n",
    "                try:\n",
    "                    answer = int(input(pre))\n",
    "                    break  # Exit the loop once a valid integer is provided\n",
    "                except ValueError:  # Handle non-integer inputs\n",
    "                    print(\"Invalid input. Please enter a valid integer.\")\n",
    "            self.data.append(answer)\n",
    "        self.correct_data()"
   ]
  },
  {
   "cell_type": "markdown",
   "id": "8a192b4a",
   "metadata": {},
   "source": [
    "### Take the Questionnaire Experiment\n"
   ]
  },
  {
   "cell_type": "code",
   "execution_count": 15,
   "id": "fa7bb5c4",
   "metadata": {},
   "outputs": [],
   "source": [
    "instruction = '''Below are some statements that people use to describe themselves. \n",
    "Read each statement and press the number that indicates how you feel right now, being \n",
    "0 = NO, 1 = A LITTLE, 2 = QUITE A BIT, 3 = VERY MUCH.'''\n",
    "\n",
    "stai_test = Questionnaire('Files/questionnaire.txt', amazing_subject, instructions=instruction, name='Questionnaire')\n",
    "\n",
    "# stai = Cuestionario('cuestionario.txt', sujeto, consigna = consigna, nombre='Cuestionario')"
   ]
  },
  {
   "cell_type": "code",
   "execution_count": null,
   "id": "c319b379",
   "metadata": {},
   "outputs": [],
   "source": []
  }
 ],
 "metadata": {
  "kernelspec": {
   "display_name": "Python 3 (ipykernel)",
   "language": "python",
   "name": "python3"
  },
  "language_info": {
   "codemirror_mode": {
    "name": "ipython",
    "version": 3
   },
   "file_extension": ".py",
   "mimetype": "text/x-python",
   "name": "python",
   "nbconvert_exporter": "python",
   "pygments_lexer": "ipython3",
   "version": "3.9.18"
  },
  "toc": {
   "base_numbering": 1,
   "nav_menu": {},
   "number_sections": true,
   "sideBar": true,
   "skip_h1_title": true,
   "title_cell": "Table of Contents",
   "title_sidebar": "Contents",
   "toc_cell": false,
   "toc_position": {},
   "toc_section_display": true,
   "toc_window_display": false
  }
 },
 "nbformat": 4,
 "nbformat_minor": 5
}
