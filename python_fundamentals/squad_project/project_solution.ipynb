{
 "cells": [
  {
   "cell_type": "markdown",
   "id": "c42e999c",
   "metadata": {},
   "source": [
    "# Do we have a subject? Let's conduct some experiments\n",
    "\n",
    "In our journey through Process Automation, we'll explore the fundamentals of conducting an experiment, analyzing the data, and subsequently generating a comprehensive report in Word or PDF format.\n",
    "\n",
    "To achieve this, we will design two intertwined classes:\n",
    "\n",
    "1. `Subject`: This class is responsible for instantiating an individual or subject who will undergo an experiment. It will house attributes and methods specific to the subject's details and responses.\n",
    "\n",
    "2. `Experiment`: This is an abstract class that lays out the blueprint for various types of experiments. It provides generic guidelines and structures, ensuring flexibility and consistency across different experimental designs.\n",
    "\n",
    "\n",
    "Let us create these two classes following the provided gudelines."
   ]
  },
  {
   "cell_type": "markdown",
   "id": "235f81dc",
   "metadata": {},
   "source": [
    "## Subject class\n",
    "\n",
    "Create a class for defining the *experimental subject* of an experiment.\n",
    "\n",
    "`__init__` --> 2 parameters: `subject_id` and `info`.\n",
    "\n",
    "`__repr__` --> Representation method. Format strings will help to see data in a nice manner :)"
   ]
  },
  {
   "cell_type": "code",
   "execution_count": 1,
   "id": "03a59423",
   "metadata": {},
   "outputs": [],
   "source": [
    "class Subject():\n",
    "    \"\"\"\n",
    "    Represents an experimental subject.\n",
    "    \n",
    "    Attributes:\n",
    "        id (str): 9-digit identifier for the subject.\n",
    "        info (dict): Preliminary data, e.g., sociodemographic details.\n",
    "        results (dict): Outcomes of the tests conducted on the subject.\n",
    "    \"\"\"\n",
    "    \n",
    "    def __init__(self, subject_id: str, info: dict) -> None:\n",
    "        \"\"\"\n",
    "        Initialize a new experimental subject.\n",
    "        \n",
    "        Parameters:\n",
    "            subject_id (str): The ID of the subject.\n",
    "            info (dict): A dictionary containing preliminary information.\n",
    "        \"\"\"\n",
    "        self.id = subject_id\n",
    "        self.info = info\n",
    "        self.results = dict()\n",
    "        \n",
    "    def __repr__(self) -> str:\n",
    "        \"\"\"\n",
    "        Magic method to display the subject's data.\n",
    "        \n",
    "        The ':<20' pads the string with spaces to ensure a consistent display width.\n",
    "        \n",
    "        Returns:\n",
    "        - str: A formatted string displaying the subject's information and results.\n",
    "        \"\"\"\n",
    "        s = f'Data for ID {self.id:<20}\\n\\n'\n",
    "        # We iterate the (key,value)-pair of info dict for getting personal data.\n",
    "        for k, v in self.info.items():\n",
    "            s += f\"{k:<20} {v:<20}\\n\"\n",
    "        # We iterate the results dict for getting\n",
    "        for k, v in self.results.items():\n",
    "            s += f\"{k:<20} {v:<20}\\n\"\n",
    "        return s"
   ]
  },
  {
   "cell_type": "markdown",
   "id": "16f27258",
   "metadata": {},
   "source": [
    "Let's see how our class works:"
   ]
  },
  {
   "cell_type": "code",
   "execution_count": 2,
   "id": "d2605166",
   "metadata": {},
   "outputs": [],
   "source": [
    "# Creating data\n",
    "info_subj1 = {'name': 'Luciano Gabbanelli', 'age': 122, 'birth_date': '01-01-1908', 'years_of_education': 60}\n",
    "# Instantiate a subject\n",
    "subject_1 = Subject('123456789', info_subj1)"
   ]
  },
  {
   "cell_type": "code",
   "execution_count": 3,
   "id": "0e3aef07",
   "metadata": {},
   "outputs": [
    {
     "data": {
      "text/plain": [
       "Data for ID 123456789           \n",
       "\n",
       "name                 Luciano Gabbanelli  \n",
       "age                  122                 \n",
       "birth_date           01-01-1908          \n",
       "years_of_education   60                  "
      ]
     },
     "execution_count": 3,
     "metadata": {},
     "output_type": "execute_result"
    }
   ],
   "source": [
    "subject_1"
   ]
  },
  {
   "cell_type": "code",
   "execution_count": 4,
   "id": "a1612dae",
   "metadata": {},
   "outputs": [
    {
     "data": {
      "text/plain": [
       "'123456789'"
      ]
     },
     "execution_count": 4,
     "metadata": {},
     "output_type": "execute_result"
    }
   ],
   "source": [
    "subject_1.id"
   ]
  },
  {
   "cell_type": "code",
   "execution_count": 5,
   "id": "3ab1ca2c",
   "metadata": {},
   "outputs": [
    {
     "data": {
      "text/plain": [
       "{'name': 'Luciano Gabbanelli',\n",
       " 'age': 122,\n",
       " 'birth_date': '01-01-1908',\n",
       " 'years_of_education': 60}"
      ]
     },
     "execution_count": 5,
     "metadata": {},
     "output_type": "execute_result"
    }
   ],
   "source": [
    "subject_1.info"
   ]
  },
  {
   "cell_type": "code",
   "execution_count": 6,
   "id": "cc92fe26",
   "metadata": {},
   "outputs": [
    {
     "data": {
      "text/plain": [
       "{}"
      ]
     },
     "execution_count": 6,
     "metadata": {},
     "output_type": "execute_result"
    }
   ],
   "source": [
    "subject_1.results"
   ]
  },
  {
   "cell_type": "code",
   "execution_count": 7,
   "id": "a322b100",
   "metadata": {},
   "outputs": [
    {
     "data": {
      "text/plain": [
       "<bound method Subject.__repr__ of Data for ID 123456789           \n",
       "\n",
       "name                 Luciano Gabbanelli  \n",
       "age                  122                 \n",
       "birth_date           01-01-1908          \n",
       "years_of_education   60                  \n",
       ">"
      ]
     },
     "execution_count": 7,
     "metadata": {},
     "output_type": "execute_result"
    }
   ],
   "source": [
    "subject_1.__repr__"
   ]
  },
  {
   "cell_type": "markdown",
   "id": "9cefcf45",
   "metadata": {},
   "source": [
    "## Experiment class\n",
    "\n",
    "Let us define an abstract class to then conduct different type of experiments. This class should be general enough such different experiments can be performed.\n",
    "\n",
    "The class will have 4 methods:\n",
    "* `__init__`: constructor. 4 attributes.\n",
    "* `instructions`: will provide guidelines on how to conduct the experiment.\n",
    "* `correct_data`: will take raw data and calculate a result.\n",
    "* `conduct_experiment`: will carry out the experiment."
   ]
  },
  {
   "cell_type": "code",
   "execution_count": 8,
   "id": "6bb47dce",
   "metadata": {},
   "outputs": [],
   "source": [
    "from typing import List, Any\n",
    "\n",
    "class Experiment():\n",
    "    \"\"\"\n",
    "    Represents and manages an experimental procedure.\n",
    "    \n",
    "    Attributes:\n",
    "        name (str): Name of the experiment.\n",
    "        subject (Subject): The participant of the experiment.\n",
    "        instructions (str): Guidelines for the experiment.\n",
    "        data (List[Any]): Data collected during the experiment.\n",
    "    \"\"\"\n",
    "\n",
    "    def __init__(self, subject: Subject, exp_name: str = 'Experiment', exp_instructions: str = 'Attention!') -> None:\n",
    "        \"\"\"\n",
    "        Initialize a new experiment.\n",
    "\n",
    "        Parameters:\n",
    "            subject (Subject): The subject participating in the experiment.\n",
    "            exp_name (str, optional): The name of the experiment. Default is 'Experiment'.\n",
    "            exp_instructions (str, optional): The guidelines for the experiment. Default is 'Attention!'.\n",
    "        \"\"\"\n",
    "        self.exp_name = exp_name\n",
    "        self.subject = subject\n",
    "        self.exp_instructions = exp_instructions\n",
    "        self.data = []  # List to store the data collected during the experiment.\n",
    "        \n",
    "    def display_instructions(self) -> None:\n",
    "        \"\"\"Display the instructions for the experiment.\"\"\"\n",
    "        print(self.exp_instructions)\n",
    "    \n",
    "    def correct_data(self) -> None:\n",
    "        \"\"\"\n",
    "        Process and correct the raw data collected during the experiment.\n",
    "        This method is intended to be overridden by subclasses to provide specific data correction for each experiment.\n",
    "        \"\"\"\n",
    "        pass\n",
    "    \n",
    "    def conduct_experiment(self) -> None:\n",
    "        \"\"\"\n",
    "        Execute the experimental procedure.\n",
    "        This method is intended to be overridden by subclasses to provide specific steps or details for each experiment.\n",
    "        \"\"\"\n",
    "        pass"
   ]
  },
  {
   "cell_type": "markdown",
   "id": "f171114c",
   "metadata": {},
   "source": [
    "Let us instantiate a general experiment for Luciano:"
   ]
  },
  {
   "cell_type": "code",
   "execution_count": 9,
   "id": "41584d4b",
   "metadata": {},
   "outputs": [],
   "source": [
    "general_exp = Experiment(subject_1)"
   ]
  },
  {
   "cell_type": "markdown",
   "id": "d69cd220",
   "metadata": {},
   "source": [
    "Let us see some of its attributes:"
   ]
  },
  {
   "cell_type": "code",
   "execution_count": 10,
   "id": "7732f58c",
   "metadata": {},
   "outputs": [
    {
     "name": "stdout",
     "output_type": "stream",
     "text": [
      "An instance for the abstract Experiment class:\n",
      "Name:          Experiment\n",
      "Instructions:  Attention!\n",
      "List:                  []\n",
      "\n",
      "For the subject instance:\n",
      "subject: Data for ID 123456789           \n",
      "\n",
      "name                 Luciano Gabbanelli  \n",
      "age                  122                 \n",
      "birth_date           01-01-1908          \n",
      "years_of_education   60                  \n",
      "\n"
     ]
    }
   ],
   "source": [
    "# Create the format string\n",
    "format_string = \"{:<15}{:>10}\"\n",
    "\n",
    "# Print the details using the format string\n",
    "print('An instance for the abstract Experiment class:')\n",
    "print(format_string.format(\"Name:\", general_exp.exp_name))\n",
    "print(format_string.format(\"Instructions:\", general_exp.exp_instructions))\n",
    "print(format_string.format(\"List:\", str(general_exp.data))) # Convert the list to a string\n",
    "print()\n",
    "print('For the subject instance:')\n",
    "print(\"subject:\", general_exp.subject)"
   ]
  },
  {
   "cell_type": "markdown",
   "id": "82cfec73",
   "metadata": {},
   "source": [
    "**Now we are ready to prepare our first experiment!**"
   ]
  },
  {
   "cell_type": "markdown",
   "id": "4eff3d0a",
   "metadata": {},
   "source": [
    "## Let us dive into the first experiment!\n",
    "\n",
    "### Reaction Time function\n",
    "\n",
    "To conduct the first experiment, we will use two modules/libraries: `time` and `random`:\n",
    "* `time` will help us measure time during our experiment.\n",
    "* `random` will allow us to generate random numbers.\n",
    "\n",
    "\n",
    "Let us create a function called `reaction_time_experiment` that executes a reaction time test. The function should be called with two parameters:\n",
    "\n",
    "* `n_trials` (int): defines the number of times a stinulus appears in the experiment.\n",
    "* `pause_range` (int): defines the maximum range of seconds that can elapse between one stimulus and the next one.\n",
    "\n",
    "Using:\n",
    "\n",
    "* The function `time.time()` to return the current time in seconds.\n",
    "* The function `random.random()` to generate a random number between 0 and 1 and vary the pause duration.\n",
    "* The function `time.sleep(pause)` to pause for `pause` seconds.\n",
    "* The function `input()` that waits for a user input, halting execution until the ENTER key is pressed.\n",
    "\n",
    "**Warning:** We are not interested in the user's input; we are measuring reaction times. The user should press ENTER as quickly as possible.\n",
    "\n",
    "**Hint in pseudocode:**\n",
    "\n",
    "```\n",
    "Given an empty list [] \n",
    "\n",
    "Given an integer \"n_trials\"\n",
    "\n",
    "Do \"n_trials\" times:\n",
    "  Take a time 0\n",
    "  Wait some random time (pause)\n",
    "  Print what to do, something like \"Press ENTER:\"\n",
    "  Ask for input \n",
    "  Take a time 1\n",
    "  Calculate the difference between times\n",
    "  Add the difference to the list\n",
    "\n",
    "```\n",
    "\n",
    "Three points are worth to be mentioned:\n",
    "\n",
    "1. You are only interested in the time between when the instructions appear and the input is executed.\n",
    "2. The empty list will be the attribute called `data` in our `Experiment` class.\n",
    "3. The printed instructions by hand will be replaced by the attribute called `instructions` in our `Experiment` class."
   ]
  },
  {
   "cell_type": "code",
   "execution_count": 11,
   "id": "f7f8414b",
   "metadata": {},
   "outputs": [],
   "source": [
    "import time\n",
    "import random\n",
    "\n",
    "def reaction_time_experiment(n_trials: int, pause_range: int = 10) -> List[float]:\n",
    "    \"\"\"\n",
    "    Conduct a reaction time experiment.\n",
    "    \n",
    "    This function measures the time taken by the user to press ENTER after a random pause. \n",
    "    The pause duration is randomly chosen within the provided `pause_range`.\n",
    "\n",
    "    Parameters:\n",
    "        n_trials (int): The number of times the test will be repeated.\n",
    "        pause_range (int): The maximum range (in seconds) for the random pause. Default is 10 seconds.\n",
    "\n",
    "    Returns:\n",
    "        List[float]: A list of reaction times recorded during the experiment.\n",
    "    \"\"\"\n",
    "    my_data = []\n",
    "\n",
    "    for _ in range(n_trials):\n",
    "        # Record the start time\n",
    "        t0 = time.time()\n",
    "        # Generate a random pause duration within the provided range\n",
    "        pause = random.random() * pause_range\n",
    "        # Pause for the randomly determined duration\n",
    "        time.sleep(pause)\n",
    "        # Prompt the user to press ENTER\n",
    "        print(\"Press ENTER as quickly as possible!\")\n",
    "        input()\n",
    "        # Calculate the reaction time, adjusting for the pause\n",
    "        t1 = time.time() - t0 - pause\n",
    "        # Add the calculated reaction time to the list\n",
    "        my_data.append(t1)\n",
    "\n",
    "    return my_data"
   ]
  },
  {
   "cell_type": "markdown",
   "id": "4451e32f",
   "metadata": {},
   "source": [
    "Let us try our experiment individually:"
   ]
  },
  {
   "cell_type": "code",
   "execution_count": 19,
   "id": "37164bc2",
   "metadata": {},
   "outputs": [
    {
     "name": "stdout",
     "output_type": "stream",
     "text": [
      "Press ENTER as quickly as possible!\n",
      "Press ENTER as quickly as possible!\n",
      "Press ENTER as quickly as possible!\n"
     ]
    },
    {
     "data": {
      "text/plain": [
       "[0.41106327345773597, 0.39836325689020935, 0.34143475758198694]"
      ]
     },
     "execution_count": 19,
     "metadata": {},
     "output_type": "execute_result"
    }
   ],
   "source": [
    "reaction_time_experiment(3,7)"
   ]
  },
  {
   "cell_type": "markdown",
   "id": "79a7cb5a",
   "metadata": {},
   "source": [
    "A more sophisticated experiment would solicit input through a graphical interface using tools like Tkinter, Kivy, or others. We could even use these interfaces to display a red circle on your screen instead of a prompt. However,  I'll leave these enhancements for you to explore and experiment with at your leisure. This aspect won't be evaluated, so feel free to delve into it only if your Squad has some spare time :)"
   ]
  },
  {
   "cell_type": "markdown",
   "id": "21768f34",
   "metadata": {},
   "source": [
    "### Inherit a new class from `Experiment` with our function\n",
    "\n",
    "Now we are ready to use our function `reaction_time_experiment` as a method for a new subclass inherited from the `Experiment` class. In this manner, we can lunch our recently created experiment as a mathod of this new subclass that we will call `ReactionTime`. \n",
    "\n",
    "So let us create this new subclass called `ReactionTime` inherited from the class `Experiment`. Instead of taking external variables like in our function, such as `my_data` or the instructions on what to do, it will use the atributes from the superclass, such as `data` or `instructions`. Besides, we will have to override the two empty methos belonging to the superclass.\n",
    "\n",
    "For this particular experiment of reaction time we will use:\n",
    "\n",
    "* `correct_data`: will provide the mean and variance of the taken timen in the experiment and store the data in the dictionary called `results`. This can be done with these two lines: `self.sujeto.results['MedinReaccion'] = mu` and `self.sujet.results['VarianceReaccion'] = var` (but no with uppercase, `Subject`, as we are calling an instance of this class).\n",
    "* `conduct_experiment`: we will use the same code from the \"reaction_time\" function.\n",
    "\n",
    "**Note:** As you can notice, this class has the `Suject` class inherited from the `Experiment` class."
   ]
  },
  {
   "cell_type": "code",
   "execution_count": 12,
   "id": "ce45b683",
   "metadata": {},
   "outputs": [],
   "source": [
    "class ReactionTime(Experiment): \n",
    "    \"\"\"\n",
    "    A subclass derived from the \"Experiment\" class, tailored to measure a participant's reaction time.\n",
    "    Inherits all methods and attributes of the parent class.\n",
    "    \"\"\"\n",
    "\n",
    "    \n",
    "    def __init__(self, *args, **kwargs):\n",
    "        \"\"\"\n",
    "        Initialize the \"ReactionTime\" subclass.\n",
    "        Utilizes the super() function to inherit the properties and behaviors from the parent \"Experiment\" class.\n",
    "        \"\"\"\n",
    "        super().__init__(*args, **kwargs)\n",
    "        \n",
    "    def correct_data(self) -> None:\n",
    "        \"\"\"\n",
    "        Process and correct the raw data collected with conduct_experiment method; i.e. the reaction time experiment.\n",
    "        Computes the mean and variance of the collected data and updates the associated subject's results (dict) with these statistics.\n",
    "        \"\"\"\n",
    "        mu = sum(self.data) / len(self.data)\n",
    "        var = sum([(x - mu)**2 for x in self.data]) / len(self.data)\n",
    "        self.subject.results['MeanReaccion'] = mu\n",
    "        self.subject.results['VarianceReaccion'] = var\n",
    "\n",
    "    def conduct_experiment(self, n_trials: int, pause_range: int = 10) -> None:\n",
    "        \"\"\"\n",
    "        Administer the reaction time experiment.\n",
    "        \n",
    "        The experiment works as follows:\n",
    "            1. Introduce a random pause.\n",
    "            2. Present a prompt to the participant with the instructions.\n",
    "            3. Measure the time taken by the participant to respond (by pressing ENTER).\n",
    "\n",
    "        Parameters:\n",
    "            n_trials (int): Number of repetitions of the experiment.\n",
    "            pause_range (int, optional): Mean duration (in seconds) for the random pause before each prompt. Defaults to 10 seconds.\n",
    "        \"\"\"\n",
    "        for _ in range(n_trials):\n",
    "            t0 = time.time()  # Record the start time\n",
    "            pause = random.random() * pause_range  # Generate a random pause duration within the provided range\n",
    "            time.sleep(pause)  # Pause for the randomly determined duration\n",
    "            self.display_instructions()  # Display instructions\n",
    "            input()  # Wait for the user's reaction\n",
    "            t1 = time.time() - t0 - pause  # Calculate the reaction time, adjusting for the pause\n",
    "            self.data.append(t1)  # Store the reaction time\n",
    "        \n",
    "        self.correct_data()  # Process the collected data and compute the results for the subject."
   ]
  },
  {
   "cell_type": "markdown",
   "id": "e92c5e1b",
   "metadata": {},
   "source": [
    "### Instantiate the new class `ReactionTime` and run the experiment\n",
    "\n",
    "Steps:\n",
    "\n",
    "1. Create a random string ID with 9 digits. You can use the following line: `subject_id = str(random.random())[2:]`\n",
    "2. Understand why the previous line generates a valid ID.\n",
    "3. Instantiate a new subject. Invent one!\n",
    "4. Instantiate the experiment `ReactionTime`.\n",
    "5. Call the `conduct_experiment` method belonging to your new and recently instantiated class."
   ]
  },
  {
   "cell_type": "code",
   "execution_count": 14,
   "id": "62d82542",
   "metadata": {},
   "outputs": [
    {
     "name": "stdout",
     "output_type": "stream",
     "text": [
      "9\n",
      "Data for ID 639426798           \n",
      "\n",
      "name                 Arquímedes de Siracusa\n",
      "age                  2310                \n",
      "birth_date           287 a. C.           \n",
      "years_of_education   75                  \n",
      "\n"
     ]
    }
   ],
   "source": [
    "# Set a seed for reproducibility\n",
    "random.seed(42)\n",
    "\n",
    "# Generate a random string as ID\n",
    "subject_id = str(random.random())[2:11]\n",
    "print(len(subject_id))\n",
    "\n",
    "# Instantiate Subject\n",
    "new_info = {'name': 'Arquímedes de Siracusa', 'age': 2310, 'birth_date': '287 a. C.', 'years_of_education': 75}\n",
    "amazing_subject = Subject(subject_id, new_info)\n",
    "print(amazing_subject)\n",
    "\n",
    "# Instantiate ReactionTime\n",
    "reaction_test = ReactionTime(amazing_subject, exp_name = 'Reaction Time', exp_instructions = 'Press ENTER as quickly as possible!')"
   ]
  },
  {
   "cell_type": "code",
   "execution_count": 16,
   "id": "ca5bf626",
   "metadata": {},
   "outputs": [
    {
     "name": "stdout",
     "output_type": "stream",
     "text": [
      "Press ENTER as quickly as possible!\n",
      "Press ENTER as quickly as possible!\n",
      "Press ENTER as quickly as possible!\n",
      "Press ENTER as quickly as possible!\n",
      "Press ENTER as quickly as possible!\n"
     ]
    }
   ],
   "source": [
    "# Call the conduct_experiment method\n",
    "reaction_test.conduct_experiment(n_trials=5, pause_range=4)"
   ]
  },
  {
   "cell_type": "markdown",
   "id": "b2befe0c",
   "metadata": {},
   "source": [
    "### Let us now see which data we have generated:\n",
    "\n",
    "You can notice that the subject that performs the experiment has new data associated in the empty result dictionary generated when created!!"
   ]
  },
  {
   "cell_type": "code",
   "execution_count": 18,
   "id": "d37dab6e",
   "metadata": {},
   "outputs": [
    {
     "name": "stdout",
     "output_type": "stream",
     "text": [
      "The instance for the Reaction Time Experiment:\n",
      "Name:          Reaction Time\n",
      "Instructions:  Press ENTER as quickly as possible!\n",
      "Collected data:\n",
      " [0.7425871270432922, 0.4256285952063843, 0.472788150920334, 0.46495136313154806, 0.37019408522046415, 0.5577618317196809, 0.5264535966368764, 0.35927069092444563, 0.4730741055698622, 0.4141369988721344]\n",
      "\n",
      "\n",
      "\n",
      "The atributes of the subject instance are accesible from my new instance of the experiment:\n",
      "\n",
      "subject: Data for ID 639426798           \n",
      "\n",
      "name                 Arquímedes de Siracusa\n",
      "age                  2310                \n",
      "birth_date           287 a. C.           \n",
      "years_of_education   75                  \n",
      "MeanReaccion         0.48068465452450226 \n",
      "VarianceReaccion     0.011140568070320813\n",
      "\n"
     ]
    }
   ],
   "source": [
    "# Create the format string\n",
    "format_string = \"{:<15}{:>10}\"\n",
    "\n",
    "# Call the attributes of our instance of the reaction time experiment\n",
    "print('The instance for the Reaction Time Experiment:')\n",
    "print(format_string.format(\"Name:\", reaction_test.exp_name))\n",
    "print(format_string.format(\"Instructions:\", reaction_test.exp_instructions))\n",
    "print(\"Collected data:\\n\", reaction_test.data)\n",
    "print('\\n\\n')\n",
    "print('The atributes of the subject instance are accesible from my new instance of the experiment:\\n')\n",
    "print(\"subject:\", reaction_test.subject)"
   ]
  },
  {
   "cell_type": "markdown",
   "id": "fc2a0a39",
   "metadata": {},
   "source": [
    "## The second experiment!\n",
    "\n",
    "How the subject is feeling when performing the Reaction Time experiment?\n",
    "\n",
    "### Create a Questionnaire\n",
    "\n",
    "Create a code that creates a \"questionnaire.txt\" with the following content:\n",
    "\n",
    "1. I feel calm.\n",
    "2. I feel secure.\n",
    "3. I am tense.\n",
    "4. I am upset.\n",
    "5. I feel at ease.\n",
    "\n",
    "Each question will have a rating from 0 to 3 that the user will enter after conducting the Reaction Time experiment.\n",
    "\n",
    "Note: Are you up to a little reseach on measuring anxiety? You can start with the questionnaire of anxiety called STAI."
   ]
  },
  {
   "cell_type": "code",
   "execution_count": 12,
   "id": "222b3a04",
   "metadata": {},
   "outputs": [],
   "source": [
    "import os\n",
    "\n",
    "directory = 'Files'\n",
    "if not os.path.exists(directory):\n",
    "    os.makedirs(directory)\n",
    "\n",
    "with open('Files/questionnaire.txt', 'w') as out:\n",
    "    out.write(\n",
    "'''1. I feel calm.\n",
    "2. I feel secure.\n",
    "3. I am tense.\n",
    "4. I am upset.\n",
    "5. I feel at ease.''')"
   ]
  },
  {
   "cell_type": "markdown",
   "id": "a1e428f3",
   "metadata": {},
   "source": [
    "### Questionnaire Experiment\n",
    "\n",
    "Create a subclass named Questionnaire that inherits from Experiment:\n",
    "\n",
    "\n",
    "* It should have an initialization method `__init__` that inherits the attributes from `Experiment`.\n",
    "* Additionally, it should have an attribute named `path_questionnaire` which holds the path to the questionnaire to be administered.\n",
    "* Implement a method called `load_questions(self, path)` that takes in this path (`path_questionnaire`) and loads the questions into a list. The list should be stored in a `self.questions` attribute.\n",
    "* Update the `correct_data` method inherited from the superclass `Experiment`. This method should calculate the sum of all the scores assigned to each questionnaire question (as mentioned earlier, the answers to the questions are numerical) and save it in the `results` dictionary of the subject instance under the key `'Total'`.\n",
    "* Update the `conduct_experiment(self)` method so that it executes the experiment.\n",
    "\n",
    "    **Pseudocode hint:**\n",
    "\n",
    "        Display the instruction\n",
    "        Take each question using input()\n",
    "        Cast the input to an integer\n",
    "        Store the response in self.data\n",
    "        At the end, execute correct_data\n",
    "\n",
    "    **Bonus:** add a check to ensure the response is valid and is an integer.\n",
    "\n",
    "    **Idea:** How about using a `Try`, `Except` approach to re-prompt for a response if needed?"
   ]
  },
  {
   "cell_type": "code",
   "execution_count": 32,
   "id": "a7011ea6",
   "metadata": {},
   "outputs": [],
   "source": [
    "class Questionnaire(Experiment):\n",
    "    '''\n",
    "    Another test case that inherits from Experiment. This time, during initialization, \n",
    "    questions are loaded into the self.questions attribute.\n",
    "    '''\n",
    "    def __init__(self, path_questionnaire: str, *args, **kwargs) -> None:\n",
    "        '''\n",
    "        Initialize the Questionnaire subclass, inheriting attributes from the superclass, Experiment.\n",
    "\n",
    "        Args:\n",
    "            path_questionnaire (str): Path to the file containing the questions.\n",
    "        '''\n",
    "        super().__init__(*args, **kwargs)\n",
    "        self.load_questions(path_questionnaire)\n",
    "        \n",
    "    def load_questions(self, path: str) -> None:\n",
    "        '''\n",
    "        Load questions from a specified file and store them in the self.questions attribute.\n",
    "    \n",
    "        Each line in the file is treated as a separate question. The method reads the file, \n",
    "        splits it by lines, and assigns the resulting list of questions to self.questions.\n",
    "\n",
    "        Args:\n",
    "            path (str): Path to the file containing the questions.\n",
    "        '''\n",
    "        # Función que lee el txt y guarda cada renglón en self.preguntas\n",
    "        with open(path, 'r') as f:\n",
    "            questions = f.read().split('\\n') # Split by lines\n",
    "        self.questions = questions\n",
    "        \n",
    "    def correct_data(self) -> None:\n",
    "        '''\n",
    "        Process and correct the raw data collected during the questionnaire.\n",
    "        Calculates the total score from the questionnaire and updates the subject's results.\n",
    "        '''\n",
    "        self.subject.results[f'Total{self.name}'] = sum(self.data)\n",
    "\n",
    "    def conduct_experiment(self):\n",
    "        '''\n",
    "        Conduct the questionnaire experiment.\n",
    "        \n",
    "        The procedure involves displaying each question and recording the participant's answer.\n",
    "        '''\n",
    "        self.display_instructions()\n",
    "        for qtn in self.questions:\n",
    "            while True:  # Keep asking until a valid integer between 0 and 3 is provided\n",
    "                try:\n",
    "                    answer = int(input(qtn))\n",
    "                    if 0 <= answer <= 3:  # Check if the answer is within the allowed range\n",
    "                        break  # Exit the loop once a valid integer is provided\n",
    "                    else:\n",
    "                        print(\"Invalid input. Please enter a number between 0 and 3.\")\n",
    "                except ValueError:  # Handle non-integer inputs\n",
    "                    print(\"Invalid input. Please enter a valid integer.\")\n",
    "            self.data.append(answer)\n",
    "        self.correct_data()"
   ]
  },
  {
   "cell_type": "markdown",
   "id": "8a192b4a",
   "metadata": {},
   "source": [
    "### Take the Questionnaire Experiment\n",
    "\n",
    "The only ingredient left is the instruction for the experiment. Here I left it for you:\n",
    "\n",
    "Below are some statements that people use to describe themselves. \n",
    "Read each statement and press the number that indicates how you feel right now, being \n",
    "0 = NO, 1 = A LITTLE, 2 = QUITE A BIT, 3 = VERY MUCH.\n",
    "\n",
    "Instantiate the class `Questionnaire` and take the test for our `amazing_subject`"
   ]
  },
  {
   "cell_type": "code",
   "execution_count": 33,
   "id": "fa7bb5c4",
   "metadata": {},
   "outputs": [],
   "source": [
    "instruction = '''Below are some statements that people use to describe themselves. \n",
    "Read each statement and press the number that indicates how you feel right now, being \n",
    "0 = NO, 1 = A LITTLE, 2 = QUITE A BIT, 3 = VERY MUCH.'''\n",
    "\n",
    "stai_test = Questionnaire('Files/questionnaire.txt', amazing_subject, instructions=instruction, name='Questionnaire')"
   ]
  },
  {
   "cell_type": "code",
   "execution_count": 40,
   "id": "c319b379",
   "metadata": {},
   "outputs": [
    {
     "name": "stdout",
     "output_type": "stream",
     "text": [
      "Below are some statements that people use to describe themselves. \n",
      "Read each statement and press the number that indicates how you feel right now, being \n",
      "0 = NO, 1 = A LITTLE, 2 = QUITE A BIT, 3 = VERY MUCH.\n"
     ]
    }
   ],
   "source": [
    "stai_test.conduct_experiment()"
   ]
  },
  {
   "cell_type": "code",
   "execution_count": 41,
   "id": "3992c7d4",
   "metadata": {},
   "outputs": [
    {
     "data": {
      "text/plain": [
       "Data for ID 639426798           \n",
       "\n",
       "name                 Arquímedes de Siracusa\n",
       "age                  2310                \n",
       "birth_date           287 a. C.           \n",
       "years_of_education   75                  \n",
       "MedinReaccion        0.8919886114052347  \n",
       "VarianceReaccion     0.3502240149325104  \n",
       "TotalQuestionnaire   17                  "
      ]
     },
     "execution_count": 41,
     "metadata": {},
     "output_type": "execute_result"
    }
   ],
   "source": [
    "amazing_subject"
   ]
  },
  {
   "cell_type": "markdown",
   "id": "1e74446e",
   "metadata": {},
   "source": [
    "## Report\n",
    "\n",
    "Una vez realizado el ejercicio vamos a generar una clase para realizar el reporte del experimento.\n",
    "\n",
    "La clase Reporte va a generar un documento que contendrá: \n",
    "- Un método para analizar los datos resultado del experimento;\n",
    "- Un método para crear gráficos a partir de los resultados.\n",
    "- Un método para para generar el informe final\n",
    "\n",
    "\n",
    "https://python-docx.readthedocs.io/en/latest/\n"
   ]
  },
  {
   "cell_type": "code",
   "execution_count": 75,
   "id": "c443e086",
   "metadata": {},
   "outputs": [],
   "source": [
    "# !pip install python-docx\n",
    "# !pip install matplotlib\n",
    "# !pip install seaborn\n"
   ]
  },
  {
   "cell_type": "code",
   "execution_count": 76,
   "id": "ba986693",
   "metadata": {},
   "outputs": [],
   "source": [
    "from docx import Document\n",
    "from docx.shared import Cm\n",
    "\n",
    "import matplotlib.pyplot as plt\n",
    "import seaborn as sns\n",
    "\n"
   ]
  },
  {
   "cell_type": "code",
   "execution_count": 80,
   "id": "c5b0e913",
   "metadata": {},
   "outputs": [],
   "source": [
    "class Report():\n",
    "    '''This class generates a report for an instantited subject that has taken some Experiments'''\n",
    "    def __init__(self, subject: Subject, experiment: Experiment, img_path = 'Images/tmp.png'):\n",
    "        self.subj = subject\n",
    "        self.exp = experiment\n",
    "        self.img_path = img_path\n",
    "    \n",
    "    def create_graphics(self):\n",
    "        '''Genera un gráfico de lineas y un histograma para \n",
    "        los datos de los experimentos'''\n",
    "        fig, ax = plt.subplots(1,2, figsize=(11,4))\n",
    "        ax[0].plot(self.exp.data)\n",
    "        ax[0].set_ylabel('Error (ms)')\n",
    "        ax[0].set_xlabel('Trials')\n",
    "        sns.distplot(self.exp.data, ax=ax[1])\n",
    "        ax[1].set_ylabel('Frequencia')\n",
    "        ax[1].set_xlabel('Error (ms)')\n",
    "        return ax\n",
    "        \n",
    "    def generate_report(self):\n",
    "        '''Función que genera un documento de Word en base a los datos\n",
    "        de Sujeto y Experimento. Ver más en: \n",
    "        \n",
    "        '''\n",
    "        # Instanciamos un Documento\n",
    "        document = Document()\n",
    "        \n",
    "        # Agregamos un Titulo\n",
    "        document.add_heading(f'Informe de Resultados', 0)\n",
    "        # Info del sujeto\n",
    "        p = document.add_paragraph(f'Subject ID: ')\n",
    "        p.add_run(f'{self.subj.id}').bold = True\n",
    "        \n",
    "        # Agregamos una lista de items iterando\n",
    "        # el diccionario de info del Sujeto\n",
    "        for k, v in self.subj.info.items():\n",
    "            document.add_paragraph(f'{k}= {v}',\n",
    "                                   style='List Bullet')\n",
    "        \n",
    "        # Agregamos resultados, hay distintos estilos disponibles\n",
    "        p = document.add_paragraph(f'Resultados de {self.exp.name}', \n",
    "                                   style='Intense Quote')\n",
    "                \n",
    "        # iterar los resultados en self.suj.resultados\n",
    "        # agregando otra lista de items \n",
    "        for k, v in self.subj.results.items():\n",
    "            document.add_paragraph(f'{k}= {v}',\n",
    "                                   style='List Bullet')\n",
    "        \n",
    "        \n",
    "        # Agregamos los gráficos\n",
    "        ax = self.create_graphics()\n",
    "        plt.savefig(self.img_path) # usamos esta ruta provisorialmente\n",
    "        plt.close() # para no mostrar el plot y solo guardarlo\n",
    "        document.add_picture(self.img_path, width=Cm(14))\n",
    "\n",
    "        # Guardamos el archivo docx \n",
    "        fp = f'reporte_{self.subj.id}.docx'\n",
    "        document.save(fp)\n",
    "        return fp"
   ]
  },
  {
   "cell_type": "code",
   "execution_count": 81,
   "id": "239279bb",
   "metadata": {},
   "outputs": [],
   "source": [
    "# Instanciamos\n",
    "rep = Report(amazing_subject, reaction_test)"
   ]
  },
  {
   "cell_type": "code",
   "execution_count": 82,
   "id": "533affea",
   "metadata": {},
   "outputs": [
    {
     "name": "stderr",
     "output_type": "stream",
     "text": [
      "/var/folders/jb/mvgwgpp93wvdlx3m2f6tbc3m0000gn/T/ipykernel_32791/2401490309.py:15: UserWarning: \n",
      "\n",
      "`distplot` is a deprecated function and will be removed in seaborn v0.14.0.\n",
      "\n",
      "Please adapt your code to use either `displot` (a figure-level function with\n",
      "similar flexibility) or `histplot` (an axes-level function for histograms).\n",
      "\n",
      "For a guide to updating your code to use the new functions, please see\n",
      "https://gist.github.com/mwaskom/de44147ed2974457ad6372750bbe5751\n",
      "\n",
      "  sns.distplot(self.exp.data, ax=ax[1])\n"
     ]
    },
    {
     "ename": "FileNotFoundError",
     "evalue": "[Errno 2] No such file or directory: 'Images/tmp.png'",
     "output_type": "error",
     "traceback": [
      "\u001b[0;31m---------------------------------------------------------------------------\u001b[0m",
      "\u001b[0;31mFileNotFoundError\u001b[0m                         Traceback (most recent call last)",
      "\u001b[1;32m/Users/gabba/Documents/ECL/Assblr/master_data_science/python_fundamentals/squad_project/project_solution.ipynb Cell 38\u001b[0m line \u001b[0;36m2\n\u001b[1;32m      <a href='vscode-notebook-cell:/Users/gabba/Documents/ECL/Assblr/master_data_science/python_fundamentals/squad_project/project_solution.ipynb#X53sZmlsZQ%3D%3D?line=0'>1</a>\u001b[0m \u001b[39m# Generar reporte\u001b[39;00m\n\u001b[0;32m----> <a href='vscode-notebook-cell:/Users/gabba/Documents/ECL/Assblr/master_data_science/python_fundamentals/squad_project/project_solution.ipynb#X53sZmlsZQ%3D%3D?line=1'>2</a>\u001b[0m fp \u001b[39m=\u001b[39m rep\u001b[39m.\u001b[39;49mgenerate_report()\n",
      "\u001b[1;32m/Users/gabba/Documents/ECL/Assblr/master_data_science/python_fundamentals/squad_project/project_solution.ipynb Cell 38\u001b[0m line \u001b[0;36m5\n\u001b[1;32m     <a href='vscode-notebook-cell:/Users/gabba/Documents/ECL/Assblr/master_data_science/python_fundamentals/squad_project/project_solution.ipynb#X53sZmlsZQ%3D%3D?line=50'>51</a>\u001b[0m \u001b[39m# Agregamos los gráficos\u001b[39;00m\n\u001b[1;32m     <a href='vscode-notebook-cell:/Users/gabba/Documents/ECL/Assblr/master_data_science/python_fundamentals/squad_project/project_solution.ipynb#X53sZmlsZQ%3D%3D?line=51'>52</a>\u001b[0m ax \u001b[39m=\u001b[39m \u001b[39mself\u001b[39m\u001b[39m.\u001b[39mcreate_graphics()\n\u001b[0;32m---> <a href='vscode-notebook-cell:/Users/gabba/Documents/ECL/Assblr/master_data_science/python_fundamentals/squad_project/project_solution.ipynb#X53sZmlsZQ%3D%3D?line=52'>53</a>\u001b[0m plt\u001b[39m.\u001b[39;49msavefig(\u001b[39mself\u001b[39;49m\u001b[39m.\u001b[39;49mimg_path) \u001b[39m# usamos esta ruta provisorialmente\u001b[39;00m\n\u001b[1;32m     <a href='vscode-notebook-cell:/Users/gabba/Documents/ECL/Assblr/master_data_science/python_fundamentals/squad_project/project_solution.ipynb#X53sZmlsZQ%3D%3D?line=53'>54</a>\u001b[0m plt\u001b[39m.\u001b[39mclose() \u001b[39m# para no mostrar el plot y solo guardarlo\u001b[39;00m\n\u001b[1;32m     <a href='vscode-notebook-cell:/Users/gabba/Documents/ECL/Assblr/master_data_science/python_fundamentals/squad_project/project_solution.ipynb#X53sZmlsZQ%3D%3D?line=54'>55</a>\u001b[0m document\u001b[39m.\u001b[39madd_picture(\u001b[39mself\u001b[39m\u001b[39m.\u001b[39mimg_path, width\u001b[39m=\u001b[39mCm(\u001b[39m14\u001b[39m))\n",
      "File \u001b[0;32m~/opt/anaconda3/envs/Assembler/lib/python3.9/site-packages/matplotlib/pyplot.py:1119\u001b[0m, in \u001b[0;36msavefig\u001b[0;34m(*args, **kwargs)\u001b[0m\n\u001b[1;32m   1116\u001b[0m fig \u001b[39m=\u001b[39m gcf()\n\u001b[1;32m   1117\u001b[0m \u001b[39m# savefig default implementation has no return, so mypy is unhappy\u001b[39;00m\n\u001b[1;32m   1118\u001b[0m \u001b[39m# presumably this is here because subclasses can return?\u001b[39;00m\n\u001b[0;32m-> 1119\u001b[0m res \u001b[39m=\u001b[39m fig\u001b[39m.\u001b[39;49msavefig(\u001b[39m*\u001b[39;49margs, \u001b[39m*\u001b[39;49m\u001b[39m*\u001b[39;49mkwargs)  \u001b[39m# type: ignore[func-returns-value]\u001b[39;00m\n\u001b[1;32m   1120\u001b[0m fig\u001b[39m.\u001b[39mcanvas\u001b[39m.\u001b[39mdraw_idle()  \u001b[39m# Need this if 'transparent=True', to reset colors.\u001b[39;00m\n\u001b[1;32m   1121\u001b[0m \u001b[39mreturn\u001b[39;00m res\n",
      "File \u001b[0;32m~/opt/anaconda3/envs/Assembler/lib/python3.9/site-packages/matplotlib/figure.py:3390\u001b[0m, in \u001b[0;36mFigure.savefig\u001b[0;34m(self, fname, transparent, **kwargs)\u001b[0m\n\u001b[1;32m   3388\u001b[0m     \u001b[39mfor\u001b[39;00m ax \u001b[39min\u001b[39;00m \u001b[39mself\u001b[39m\u001b[39m.\u001b[39maxes:\n\u001b[1;32m   3389\u001b[0m         _recursively_make_axes_transparent(stack, ax)\n\u001b[0;32m-> 3390\u001b[0m \u001b[39mself\u001b[39;49m\u001b[39m.\u001b[39;49mcanvas\u001b[39m.\u001b[39;49mprint_figure(fname, \u001b[39m*\u001b[39;49m\u001b[39m*\u001b[39;49mkwargs)\n",
      "File \u001b[0;32m~/opt/anaconda3/envs/Assembler/lib/python3.9/site-packages/matplotlib/backend_bases.py:2187\u001b[0m, in \u001b[0;36mFigureCanvasBase.print_figure\u001b[0;34m(self, filename, dpi, facecolor, edgecolor, orientation, format, bbox_inches, pad_inches, bbox_extra_artists, backend, **kwargs)\u001b[0m\n\u001b[1;32m   2183\u001b[0m \u001b[39mtry\u001b[39;00m:\n\u001b[1;32m   2184\u001b[0m     \u001b[39m# _get_renderer may change the figure dpi (as vector formats\u001b[39;00m\n\u001b[1;32m   2185\u001b[0m     \u001b[39m# force the figure dpi to 72), so we need to set it again here.\u001b[39;00m\n\u001b[1;32m   2186\u001b[0m     \u001b[39mwith\u001b[39;00m cbook\u001b[39m.\u001b[39m_setattr_cm(\u001b[39mself\u001b[39m\u001b[39m.\u001b[39mfigure, dpi\u001b[39m=\u001b[39mdpi):\n\u001b[0;32m-> 2187\u001b[0m         result \u001b[39m=\u001b[39m print_method(\n\u001b[1;32m   2188\u001b[0m             filename,\n\u001b[1;32m   2189\u001b[0m             facecolor\u001b[39m=\u001b[39;49mfacecolor,\n\u001b[1;32m   2190\u001b[0m             edgecolor\u001b[39m=\u001b[39;49medgecolor,\n\u001b[1;32m   2191\u001b[0m             orientation\u001b[39m=\u001b[39;49morientation,\n\u001b[1;32m   2192\u001b[0m             bbox_inches_restore\u001b[39m=\u001b[39;49m_bbox_inches_restore,\n\u001b[1;32m   2193\u001b[0m             \u001b[39m*\u001b[39;49m\u001b[39m*\u001b[39;49mkwargs)\n\u001b[1;32m   2194\u001b[0m \u001b[39mfinally\u001b[39;00m:\n\u001b[1;32m   2195\u001b[0m     \u001b[39mif\u001b[39;00m bbox_inches \u001b[39mand\u001b[39;00m restore_bbox:\n",
      "File \u001b[0;32m~/opt/anaconda3/envs/Assembler/lib/python3.9/site-packages/matplotlib/backend_bases.py:2043\u001b[0m, in \u001b[0;36mFigureCanvasBase._switch_canvas_and_return_print_method.<locals>.<lambda>\u001b[0;34m(*args, **kwargs)\u001b[0m\n\u001b[1;32m   2039\u001b[0m     optional_kws \u001b[39m=\u001b[39m {  \u001b[39m# Passed by print_figure for other renderers.\u001b[39;00m\n\u001b[1;32m   2040\u001b[0m         \u001b[39m\"\u001b[39m\u001b[39mdpi\u001b[39m\u001b[39m\"\u001b[39m, \u001b[39m\"\u001b[39m\u001b[39mfacecolor\u001b[39m\u001b[39m\"\u001b[39m, \u001b[39m\"\u001b[39m\u001b[39medgecolor\u001b[39m\u001b[39m\"\u001b[39m, \u001b[39m\"\u001b[39m\u001b[39morientation\u001b[39m\u001b[39m\"\u001b[39m,\n\u001b[1;32m   2041\u001b[0m         \u001b[39m\"\u001b[39m\u001b[39mbbox_inches_restore\u001b[39m\u001b[39m\"\u001b[39m}\n\u001b[1;32m   2042\u001b[0m     skip \u001b[39m=\u001b[39m optional_kws \u001b[39m-\u001b[39m {\u001b[39m*\u001b[39minspect\u001b[39m.\u001b[39msignature(meth)\u001b[39m.\u001b[39mparameters}\n\u001b[0;32m-> 2043\u001b[0m     print_method \u001b[39m=\u001b[39m functools\u001b[39m.\u001b[39mwraps(meth)(\u001b[39mlambda\u001b[39;00m \u001b[39m*\u001b[39margs, \u001b[39m*\u001b[39m\u001b[39m*\u001b[39mkwargs: meth(\n\u001b[1;32m   2044\u001b[0m         \u001b[39m*\u001b[39;49margs, \u001b[39m*\u001b[39;49m\u001b[39m*\u001b[39;49m{k: v \u001b[39mfor\u001b[39;49;00m k, v \u001b[39min\u001b[39;49;00m kwargs\u001b[39m.\u001b[39;49mitems() \u001b[39mif\u001b[39;49;00m k \u001b[39mnot\u001b[39;49;00m \u001b[39min\u001b[39;49;00m skip}))\n\u001b[1;32m   2045\u001b[0m \u001b[39melse\u001b[39;00m:  \u001b[39m# Let third-parties do as they see fit.\u001b[39;00m\n\u001b[1;32m   2046\u001b[0m     print_method \u001b[39m=\u001b[39m meth\n",
      "File \u001b[0;32m~/opt/anaconda3/envs/Assembler/lib/python3.9/site-packages/matplotlib/backends/backend_agg.py:497\u001b[0m, in \u001b[0;36mFigureCanvasAgg.print_png\u001b[0;34m(self, filename_or_obj, metadata, pil_kwargs)\u001b[0m\n\u001b[1;32m    450\u001b[0m \u001b[39mdef\u001b[39;00m \u001b[39mprint_png\u001b[39m(\u001b[39mself\u001b[39m, filename_or_obj, \u001b[39m*\u001b[39m, metadata\u001b[39m=\u001b[39m\u001b[39mNone\u001b[39;00m, pil_kwargs\u001b[39m=\u001b[39m\u001b[39mNone\u001b[39;00m):\n\u001b[1;32m    451\u001b[0m \u001b[39m    \u001b[39m\u001b[39m\"\"\"\u001b[39;00m\n\u001b[1;32m    452\u001b[0m \u001b[39m    Write the figure to a PNG file.\u001b[39;00m\n\u001b[1;32m    453\u001b[0m \n\u001b[0;32m   (...)\u001b[0m\n\u001b[1;32m    495\u001b[0m \u001b[39m        *metadata*, including the default 'Software' key.\u001b[39;00m\n\u001b[1;32m    496\u001b[0m \u001b[39m    \"\"\"\u001b[39;00m\n\u001b[0;32m--> 497\u001b[0m     \u001b[39mself\u001b[39;49m\u001b[39m.\u001b[39;49m_print_pil(filename_or_obj, \u001b[39m\"\u001b[39;49m\u001b[39mpng\u001b[39;49m\u001b[39m\"\u001b[39;49m, pil_kwargs, metadata)\n",
      "File \u001b[0;32m~/opt/anaconda3/envs/Assembler/lib/python3.9/site-packages/matplotlib/backends/backend_agg.py:446\u001b[0m, in \u001b[0;36mFigureCanvasAgg._print_pil\u001b[0;34m(self, filename_or_obj, fmt, pil_kwargs, metadata)\u001b[0m\n\u001b[1;32m    441\u001b[0m \u001b[39m\u001b[39m\u001b[39m\"\"\"\u001b[39;00m\n\u001b[1;32m    442\u001b[0m \u001b[39mDraw the canvas, then save it using `.image.imsave` (to which\u001b[39;00m\n\u001b[1;32m    443\u001b[0m \u001b[39m*pil_kwargs* and *metadata* are forwarded).\u001b[39;00m\n\u001b[1;32m    444\u001b[0m \u001b[39m\"\"\"\u001b[39;00m\n\u001b[1;32m    445\u001b[0m FigureCanvasAgg\u001b[39m.\u001b[39mdraw(\u001b[39mself\u001b[39m)\n\u001b[0;32m--> 446\u001b[0m mpl\u001b[39m.\u001b[39;49mimage\u001b[39m.\u001b[39;49mimsave(\n\u001b[1;32m    447\u001b[0m     filename_or_obj, \u001b[39mself\u001b[39;49m\u001b[39m.\u001b[39;49mbuffer_rgba(), \u001b[39mformat\u001b[39;49m\u001b[39m=\u001b[39;49mfmt, origin\u001b[39m=\u001b[39;49m\u001b[39m\"\u001b[39;49m\u001b[39mupper\u001b[39;49m\u001b[39m\"\u001b[39;49m,\n\u001b[1;32m    448\u001b[0m     dpi\u001b[39m=\u001b[39;49m\u001b[39mself\u001b[39;49m\u001b[39m.\u001b[39;49mfigure\u001b[39m.\u001b[39;49mdpi, metadata\u001b[39m=\u001b[39;49mmetadata, pil_kwargs\u001b[39m=\u001b[39;49mpil_kwargs)\n",
      "File \u001b[0;32m~/opt/anaconda3/envs/Assembler/lib/python3.9/site-packages/matplotlib/image.py:1656\u001b[0m, in \u001b[0;36mimsave\u001b[0;34m(fname, arr, vmin, vmax, cmap, format, origin, dpi, metadata, pil_kwargs)\u001b[0m\n\u001b[1;32m   1654\u001b[0m pil_kwargs\u001b[39m.\u001b[39msetdefault(\u001b[39m\"\u001b[39m\u001b[39mformat\u001b[39m\u001b[39m\"\u001b[39m, \u001b[39mformat\u001b[39m)\n\u001b[1;32m   1655\u001b[0m pil_kwargs\u001b[39m.\u001b[39msetdefault(\u001b[39m\"\u001b[39m\u001b[39mdpi\u001b[39m\u001b[39m\"\u001b[39m, (dpi, dpi))\n\u001b[0;32m-> 1656\u001b[0m image\u001b[39m.\u001b[39;49msave(fname, \u001b[39m*\u001b[39;49m\u001b[39m*\u001b[39;49mpil_kwargs)\n",
      "File \u001b[0;32m~/opt/anaconda3/envs/Assembler/lib/python3.9/site-packages/PIL/Image.py:2410\u001b[0m, in \u001b[0;36mImage.save\u001b[0;34m(self, fp, format, **params)\u001b[0m\n\u001b[1;32m   2408\u001b[0m         fp \u001b[39m=\u001b[39m builtins\u001b[39m.\u001b[39mopen(filename, \u001b[39m\"\u001b[39m\u001b[39mr+b\u001b[39m\u001b[39m\"\u001b[39m)\n\u001b[1;32m   2409\u001b[0m     \u001b[39melse\u001b[39;00m:\n\u001b[0;32m-> 2410\u001b[0m         fp \u001b[39m=\u001b[39m builtins\u001b[39m.\u001b[39;49mopen(filename, \u001b[39m\"\u001b[39;49m\u001b[39mw+b\u001b[39;49m\u001b[39m\"\u001b[39;49m)\n\u001b[1;32m   2412\u001b[0m \u001b[39mtry\u001b[39;00m:\n\u001b[1;32m   2413\u001b[0m     save_handler(\u001b[39mself\u001b[39m, fp, filename)\n",
      "\u001b[0;31mFileNotFoundError\u001b[0m: [Errno 2] No such file or directory: 'Images/tmp.png'"
     ]
    },
    {
     "data": {
      "image/png": "[encoded data removed]",
      "text/plain": [
       "<Figure size 1100x400 with 2 Axes>"
      ]
     },
     "metadata": {},
     "output_type": "display_data"
    }
   ],
   "source": [
    "# Generar reporte\n",
    "fp = rep.generate_report()"
   ]
  },
  {
   "cell_type": "code",
   "execution_count": null,
   "id": "88d27aad",
   "metadata": {},
   "outputs": [],
   "source": []
  }
 ],
 "metadata": {
  "kernelspec": {
   "display_name": "Python 3 (ipykernel)",
   "language": "python",
   "name": "python3"
  },
  "language_info": {
   "codemirror_mode": {
    "name": "ipython",
    "version": 3
   },
   "file_extension": ".py",
   "mimetype": "text/x-python",
   "name": "python",
   "nbconvert_exporter": "python",
   "pygments_lexer": "ipython3",
   "version": "3.9.18"
  },
  "toc": {
   "base_numbering": 1,
   "nav_menu": {},
   "number_sections": true,
   "sideBar": true,
   "skip_h1_title": true,
   "title_cell": "Table of Contents",
   "title_sidebar": "Contents",
   "toc_cell": false,
   "toc_position": {},
   "toc_section_display": true,
   "toc_window_display": false
  }
 },
 "nbformat": 4,
 "nbformat_minor": 5
}
