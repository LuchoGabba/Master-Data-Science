{
 "cells": [
  {
   "cell_type": "markdown",
   "id": "eb8a28a5",
   "metadata": {},
   "source": [
    "# Named Tuples in Python\n",
    "\n",
    "**An overlooked data type in Python**\n",
    "\n",
    "Let us learn something new. [Here](https://towardsdatascience.com/what-are-named-tuples-in-python-59dc7bd15680#:~:text=A%20named%20tuple%20is%20an,named%20attribute%20of%20the%20elements.) you have an interesting article to complement these notes.\n",
    "\n",
    "Named tuple container datatype is an **alternative to the built-in** `tuple`.\n",
    "Named tuples lie in the intersection of dictionaries and tuples (and even classes!) since they facilitate both positional and attribute lookup. This means that this extension type enhances standard tuples so that their elements can be **accessed by** both their attribute **name** (key) **and** the positional **index**.\n",
    "\n",
    "\n",
    "### Let us prepare de dataset from the video.\n",
    "\n",
    "Named tuples are available in Python’s standard library `collections` module under the `namedtuple` utility."
   ]
  },
  {
   "cell_type": "code",
   "execution_count": 1,
   "id": "d35ddb41",
   "metadata": {},
   "outputs": [],
   "source": [
    "from collections import namedtuple"
   ]
  },
  {
   "cell_type": "markdown",
   "id": "2a386974",
   "metadata": {},
   "source": [
    "Let us create a `namedtuple` typename called `Scientist` that includes 4 distinct fields."
   ]
  },
  {
   "cell_type": "code",
   "execution_count": 6,
   "id": "c8ec7c51",
   "metadata": {},
   "outputs": [],
   "source": [
    "scientist = namedtuple(\n",
    "  'Scientist',\n",
    "  ['name', 'field', 'born', 'nobel']\n",
    ")"
   ]
  },
  {
   "cell_type": "markdown",
   "id": "ec281064",
   "metadata": {},
   "source": [
    "Now we can use the generated `namedtuple` typename to create named tuple records that correspond to scientists."
   ]
  },
  {
   "cell_type": "code",
   "execution_count": 3,
   "id": "f272c3f0",
   "metadata": {
    "scrolled": true
   },
   "outputs": [],
   "source": [
    "lovelace = scientist(name='Ada Lovelace', field='math', born=1815, nobel=False)"
   ]
  },
  {
   "cell_type": "code",
   "execution_count": 8,
   "id": "7e8eb7d2",
   "metadata": {},
   "outputs": [],
   "source": [
    "noether = scientist(name='Emmy Noether', field='math', born=1882, nobel=False)"
   ]
  },
  {
   "cell_type": "code",
   "execution_count": 9,
   "id": "afc70967",
   "metadata": {},
   "outputs": [],
   "source": [
    "curie = scientist(name='Marie Curie', field='physics', born=1867, nobel=True)"
   ]
  },
  {
   "cell_type": "code",
   "execution_count": 27,
   "id": "c4f7661d",
   "metadata": {},
   "outputs": [
    {
     "name": "stdout",
     "output_type": "stream",
     "text": [
      "Scientist(name='Ada Lovelace', field='math', born=1815, nobel=False)\n",
      "Scientist(name='Emmy Noether', field='math', born=1882, nobel=False)\n",
      "Scientist(name='Marie Curie', field='physics', born=1867, nobel=True)\n"
     ]
    }
   ],
   "source": [
    "print(lovelace)\n",
    "print(noether)\n",
    "print(curie)"
   ]
  },
  {
   "cell_type": "markdown",
   "id": "d0d797f9",
   "metadata": {},
   "source": [
    "Generate a tuple of scientists:"
   ]
  },
  {
   "cell_type": "code",
   "execution_count": 11,
   "id": "b3d4b968",
   "metadata": {},
   "outputs": [],
   "source": [
    "scientistsTuple = (lovelace,noether,curie)"
   ]
  },
  {
   "cell_type": "code",
   "execution_count": 12,
   "id": "caad682d",
   "metadata": {},
   "outputs": [
    {
     "name": "stdout",
     "output_type": "stream",
     "text": [
      "(Scientist(name='Ada Lovelace', field='math', born=1815, nobel=False),\n",
      " Scientist(name='Emmy Noether', field='math', born=1882, nobel=False),\n",
      " Scientist(name='Marie Curie', field='physics', born=1867, nobel=True))\n"
     ]
    }
   ],
   "source": [
    "from pprint import pprint\n",
    "pprint(scientistsTuple)"
   ]
  },
  {
   "cell_type": "markdown",
   "id": "56bea55f",
   "metadata": {},
   "source": [
    "    - Hey! What's that `pprint()`?\n",
    "\n",
    "    - I cannot solve all your problems! Consult Saint Google  🧙\n",
    "    \n",
    "I will solve the next one. What types of data do you have?"
   ]
  },
  {
   "cell_type": "markdown",
   "id": "f2f7ddba",
   "metadata": {},
   "source": [
    "### Dataset of all scientis and their ages"
   ]
  },
  {
   "cell_type": "code",
   "execution_count": 20,
   "id": "45c68dee",
   "metadata": {},
   "outputs": [
    {
     "name": "stdout",
     "output_type": "stream",
     "text": [
      "({'age': 208, 'name': 'Ada Lovelace'},\n",
      " {'age': 141, 'name': 'Emmy Noether'},\n",
      " {'age': 156, 'name': 'Marie Curie'})\n"
     ]
    }
   ],
   "source": [
    "names_and_ages = tuple({'name': x.name, 'age': 2023-x.born} for x in scientistsTuple)\n",
    "pprint(names_and_ages)"
   ]
  },
  {
   "cell_type": "markdown",
   "id": "46e358e3",
   "metadata": {},
   "source": [
    "Solution:"
   ]
  },
  {
   "cell_type": "code",
   "execution_count": 24,
   "id": "7a1d637b",
   "metadata": {},
   "outputs": [
    {
     "name": "stdout",
     "output_type": "stream",
     "text": [
      "We have a <class 'tuple'> of <class 'dict'>\n"
     ]
    }
   ],
   "source": [
    "print('We have a', type(names_and_ages), 'of', type(names_and_ages[0]))"
   ]
  },
  {
   "cell_type": "markdown",
   "id": "18c2ee55",
   "metadata": {},
   "source": [
    "### Total age of all scientists"
   ]
  },
  {
   "cell_type": "code",
   "execution_count": 17,
   "id": "85ee1c37",
   "metadata": {},
   "outputs": [
    {
     "data": {
      "text/plain": [
       "505"
      ]
     },
     "execution_count": 17,
     "metadata": {},
     "output_type": "execute_result"
    }
   ],
   "source": [
    "from functools import reduce\n",
    "\n",
    "total_age = reduce( lambda acc,val: acc + val['age'], names_and_ages, 0)\n",
    "\n",
    "total_age"
   ]
  },
  {
   "cell_type": "markdown",
   "id": "fa5cec67",
   "metadata": {},
   "source": [
    "Zero initialization is used here, as it has also been used in the Edpuzzle.\n",
    "\n",
    "If that initialization is not used, can you understand the error?"
   ]
  },
  {
   "cell_type": "markdown",
   "id": "7267061e",
   "metadata": {},
   "source": [
    "### Group scientist by field of research"
   ]
  },
  {
   "cell_type": "code",
   "execution_count": 25,
   "id": "32bcd2a9",
   "metadata": {},
   "outputs": [],
   "source": [
    "import collections"
   ]
  },
  {
   "cell_type": "code",
   "execution_count": 31,
   "id": "bd68f856",
   "metadata": {},
   "outputs": [],
   "source": [
    "def reducer(acc,val):\n",
    "    acc[val.field].append(val.name)\n",
    "    return acc\n",
    "\n",
    "scientists_by_field = reduce(reducer,scientistsTuple,collections.defaultdict(list))"
   ]
  },
  {
   "cell_type": "code",
   "execution_count": 32,
   "id": "1e07fbbb",
   "metadata": {},
   "outputs": [
    {
     "data": {
      "text/plain": [
       "defaultdict(list,\n",
       "            {'math': ['Ada Lovelace', 'Emmy Noether'],\n",
       "             'physics': ['Marie Curie']})"
      ]
     },
     "execution_count": 32,
     "metadata": {},
     "output_type": "execute_result"
    }
   ],
   "source": [
    "scientists_by_field"
   ]
  },
  {
   "cell_type": "markdown",
   "id": "fbc47e16",
   "metadata": {},
   "source": [
    "### Parenthesis: the magical defaultdict() thing"
   ]
  },
  {
   "cell_type": "code",
   "execution_count": 33,
   "id": "25b0f893",
   "metadata": {},
   "outputs": [],
   "source": [
    "dd = collections.defaultdict(list)"
   ]
  },
  {
   "cell_type": "code",
   "execution_count": 34,
   "id": "87523eda",
   "metadata": {},
   "outputs": [
    {
     "data": {
      "text/plain": [
       "defaultdict(list, {})"
      ]
     },
     "execution_count": 34,
     "metadata": {},
     "output_type": "execute_result"
    }
   ],
   "source": [
    "dd"
   ]
  },
  {
   "cell_type": "code",
   "execution_count": 35,
   "id": "934031cf",
   "metadata": {},
   "outputs": [
    {
     "data": {
      "text/plain": [
       "[]"
      ]
     },
     "execution_count": 35,
     "metadata": {},
     "output_type": "execute_result"
    }
   ],
   "source": [
    "dd['doesntexist']"
   ]
  },
  {
   "cell_type": "code",
   "execution_count": 36,
   "id": "147dbf6a",
   "metadata": {},
   "outputs": [
    {
     "data": {
      "text/plain": [
       "defaultdict(list, {'doesntexist': []})"
      ]
     },
     "execution_count": 36,
     "metadata": {},
     "output_type": "execute_result"
    }
   ],
   "source": [
    "dd"
   ]
  },
  {
   "cell_type": "code",
   "execution_count": 38,
   "id": "3ba8b003",
   "metadata": {},
   "outputs": [],
   "source": [
    "dd['Hello, how are yoy?'].extend(['Very well', 'And you?'])"
   ]
  },
  {
   "cell_type": "code",
   "execution_count": 39,
   "id": "15fdc9e3",
   "metadata": {},
   "outputs": [
    {
     "data": {
      "text/plain": [
       "defaultdict(list,\n",
       "            {'doesntexist': [],\n",
       "             'Hello, how are yoy?': ['Very well.', 'And you?']})"
      ]
     },
     "execution_count": 39,
     "metadata": {},
     "output_type": "execute_result"
    }
   ],
   "source": [
    "dd"
   ]
  },
  {
   "cell_type": "code",
   "execution_count": 42,
   "id": "7d801c45",
   "metadata": {},
   "outputs": [],
   "source": [
    "dd['doesntexist'].append(1)"
   ]
  },
  {
   "cell_type": "code",
   "execution_count": 43,
   "id": "4e486008",
   "metadata": {},
   "outputs": [
    {
     "data": {
      "text/plain": [
       "defaultdict(list,\n",
       "            {'doesntexist': [1, 1],\n",
       "             'Hello, how are yoy?': ['Very well.', 'And you?']})"
      ]
     },
     "execution_count": 43,
     "metadata": {},
     "output_type": "execute_result"
    }
   ],
   "source": [
    "dd"
   ]
  },
  {
   "cell_type": "code",
   "execution_count": null,
   "id": "4292a96d",
   "metadata": {},
   "outputs": [],
   "source": []
  }
 ],
 "metadata": {
  "kernelspec": {
   "display_name": "Python 3 (ipykernel)",
   "language": "python",
   "name": "python3"
  },
  "language_info": {
   "codemirror_mode": {
    "name": "ipython",
    "version": 3
   },
   "file_extension": ".py",
   "mimetype": "text/x-python",
   "name": "python",
   "nbconvert_exporter": "python",
   "pygments_lexer": "ipython3",
   "version": "3.9.12"
  },
  "toc": {
   "base_numbering": 1,
   "nav_menu": {},
   "number_sections": true,
   "sideBar": true,
   "skip_h1_title": true,
   "title_cell": "Table of Contents",
   "title_sidebar": "Contents",
   "toc_cell": false,
   "toc_position": {},
   "toc_section_display": true,
   "toc_window_display": true
  }
 },
 "nbformat": 4,
 "nbformat_minor": 5
}
