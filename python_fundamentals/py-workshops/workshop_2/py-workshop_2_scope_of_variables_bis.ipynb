{
 "cells": [
  {
   "cell_type": "markdown",
   "metadata": {},
   "source": [
    "# Workshop: Scope of variables\n",
    "\n",
    "by [Luciano Gabbanelli](https://www.linkedin.com/in/luciano-gabbanelli)\n",
    "\n",
    "<img style=\"margin-right: 50px;\" width=80 src=\"https://media.giphy.com/media/KAq5w47R9rmTuvWOWa/giphy.gif\">\n",
    "\n",
    "<img width=80 src=\"../../../logos/Assembler.png\">\n",
    "\n",
    "***"
   ]
  },
  {
   "cell_type": "markdown",
   "metadata": {},
   "source": []
  }
 ],
 "metadata": {
  "language_info": {
   "name": "python"
  }
 },
 "nbformat": 4,
 "nbformat_minor": 2
}
