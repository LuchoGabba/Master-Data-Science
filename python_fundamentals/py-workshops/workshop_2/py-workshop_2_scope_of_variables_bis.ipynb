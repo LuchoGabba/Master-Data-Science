{
 "cells": [
  {
   "cell_type": "markdown",
   "metadata": {},
   "source": [
    "# Workshop: Scope of variables\n",
    "\n",
    "by [Luciano Gabbanelli](https://www.linkedin.com/in/luciano-gabbanelli)\n",
    "\n",
    "<img style=\"margin-right: 50px;\" width=80 src=\"https://media.giphy.com/media/KAq5w47R9rmTuvWOWa/giphy.gif\">\n",
    "\n",
    "<img width=80 src=\"../../../logos/Assembler.png\">\n",
    "\n",
    "***"
   ]
  },
  {
   "cell_type": "markdown",
   "metadata": {},
   "source": [
    "## The `id()` function\n",
    "\n",
    "The `id()` function returns a unique id (unique integer -identity-) for the specified object.\n",
    "\n",
    "All objects in Python has its own unique id.\n",
    "\n",
    "The id is assigned to the object when it is created.\n",
    "\n",
    "The id of an object is its memory address, which will be different each time the program is run, with the exception of certain objects that have a constant unique id, such as integers from -5 to 256 due to integer interning, and some strings due to string interning.\n",
    "\n",
    "> **Syntax**: `id(object)`\n",
    ">\n",
    "> `object` can be a class, variable, list, tuple, set, etc."
   ]
  },
  {
   "cell_type": "markdown",
   "metadata": {},
   "source": [
    "Let us start by defining some lists to begin our discussion:"
   ]
  },
  {
   "cell_type": "code",
   "execution_count": null,
   "metadata": {},
   "outputs": [],
   "source": [
    "list_1 = [1,2,3]\n",
    "list_2 = [1,2,3]\n",
    "list_9 = [3,2,1]"
   ]
  },
  {
   "cell_type": "code",
   "execution_count": null,
   "metadata": {},
   "outputs": [],
   "source": [
    "print(id(list_1),id(list_2), id(list_9), sep='\\n')"
   ]
  },
  {
   "cell_type": "code",
   "execution_count": null,
   "metadata": {},
   "outputs": [],
   "source": [
    "print(list_1 == list_9[::-1])\n",
    "print(list_1 == list_2)\n",
    "print(list_1 is list_2)"
   ]
  },
  {
   "cell_type": "markdown",
   "metadata": {},
   "source": [
    "The last statement is **False** because the memory address is not the same!\n",
    "\n",
    "**They are not the same object!!**\n",
    "\n",
    "<div style=\"text-align: center;\">\n",
    "    <img width=\"250\" src=\"Images/id2.png\">\n",
    "</div>"
   ]
  },
  {
   "cell_type": "markdown",
   "metadata": {},
   "source": [
    "Now, let us define a new list equal to `list_1`"
   ]
  },
  {
   "cell_type": "code",
   "execution_count": null,
   "metadata": {},
   "outputs": [],
   "source": [
    "list_3 = list_1"
   ]
  },
  {
   "cell_type": "code",
   "execution_count": null,
   "metadata": {},
   "outputs": [],
   "source": [
    "print(id(list_3)==id(list_1))"
   ]
  },
  {
   "cell_type": "markdown",
   "metadata": {},
   "source": [
    "Clearly, both lists have the same content. Let us see what happens if we include new element into the list:"
   ]
  },
  {
   "cell_type": "code",
   "execution_count": null,
   "metadata": {},
   "outputs": [],
   "source": [
    "list_3.append(4)"
   ]
  },
  {
   "cell_type": "code",
   "execution_count": null,
   "metadata": {},
   "outputs": [],
   "source": [
    "print(list_3)"
   ]
  },
  {
   "cell_type": "code",
   "execution_count": null,
   "metadata": {},
   "outputs": [],
   "source": [
    "print(list_1)"
   ]
  },
  {
   "cell_type": "code",
   "execution_count": null,
   "metadata": {},
   "outputs": [],
   "source": [
    "print(id(list_1))\n",
    "print(id(list_3))\n",
    "print(id(list_2))"
   ]
  },
  {
   "cell_type": "code",
   "execution_count": null,
   "metadata": {},
   "outputs": [],
   "source": [
    "list_1 is list_3"
   ]
  },
  {
   "cell_type": "markdown",
   "metadata": {},
   "source": [
    "The last statement is **True** because the memory address is actally the same! \n",
    "\n",
    "**They are actually the same object!!**\n",
    "\n",
    "<div style=\"text-align: center;\">\n",
    "    <img width=\"300\" src=\"Images/id1.png\">\n",
    "</div>"
   ]
  },
  {
   "cell_type": "markdown",
   "metadata": {},
   "source": [
    "### Integer interning\n",
    "\n",
    "is a memory optimization technique that pre-allocates memory for integers in a certain range. This means that for these integers, Python will create a single integer object and all variables assigned with the same value within this range will reference the same object.\n",
    "\n",
    "These integers are used so frequently that this optimization helps save memory and eliminates the need to create a new object for each instance of these commonly used integers. It also improves performance because it allows Python to use faster identity comparisons (`is`) instead of equality comparisons (`==`) for integers in this range."
   ]
  },
  {
   "cell_type": "code",
   "execution_count": null,
   "metadata": {},
   "outputs": [],
   "source": [
    "a = 5\n",
    "b = 5\n",
    "c = 257\n",
    "d = 257"
   ]
  },
  {
   "cell_type": "code",
   "execution_count": null,
   "metadata": {},
   "outputs": [],
   "source": [
    "print(f'''a has the same id() as b? {a is b}\n",
    "c has the same id() than d? {c is d}''')"
   ]
  },
  {
   "cell_type": "code",
   "execution_count": null,
   "metadata": {},
   "outputs": [],
   "source": [
    "id(a)"
   ]
  },
  {
   "cell_type": "code",
   "execution_count": null,
   "metadata": {},
   "outputs": [],
   "source": [
    "a = a+1"
   ]
  },
  {
   "cell_type": "code",
   "execution_count": null,
   "metadata": {},
   "outputs": [],
   "source": [
    "id(a) == id(6)"
   ]
  },
  {
   "cell_type": "markdown",
   "metadata": {},
   "source": [
    "Other optimization technique is string interning, where strings that are identical to each other use the same memory space.\n",
    "\n",
    "Interning strings can lead to performance improvements, especially in programs that compare strings frequently, since identity checks are faster than string equality checks."
   ]
  },
  {
   "cell_type": "markdown",
   "metadata": {},
   "source": [
    "## Variable scope\n",
    "\n",
    "refers to the context in which a variable is defined and where it can be accessed or modified (the region where a variable is recognized).\n",
    "\n",
    "Python, like many other programming languages, has both local and global scopes.\n",
    "\n",
    "### Local variables\n",
    "\n",
    "is one that is declared inside a function (or block) and is only accessible within that function (or block).\n",
    "\n",
    "**Lifetime:** of a local variable is limited to the execution of the function (or block). Once the function execution is complete, the local variable is destroyed."
   ]
  },
  {
   "cell_type": "code",
   "execution_count": null,
   "metadata": {},
   "outputs": [],
   "source": [
    "def display_name():\n",
    "    # This is a local variable and has a local scope (available only indise this function)\n",
    "    name = 'Winona Ryder'\n",
    "    print(f'How are you, {name}?')\n",
    "\n",
    "# Executing the function prints the local variable's value\n",
    "display_name()"
   ]
  },
  {
   "cell_type": "markdown",
   "metadata": {},
   "source": [
    "`name` is only available within the function where it was created (local scope).\n",
    "\n",
    "**We cannot access local variables from outside the funcition!**"
   ]
  },
  {
   "cell_type": "code",
   "execution_count": null,
   "metadata": {},
   "outputs": [],
   "source": [
    "name"
   ]
  },
  {
   "cell_type": "markdown",
   "metadata": {},
   "source": [
    "### Global variables\n",
    "\n",
    "Global variables are declared outside of functions, within the module that we are currently working in."
   ]
  },
  {
   "cell_type": "code",
   "execution_count": null,
   "metadata": {},
   "outputs": [],
   "source": [
    "# This is a global variable and has a global scope (available inside and outside functions)\n",
    "name = 'Lucho'"
   ]
  },
  {
   "cell_type": "code",
   "execution_count": null,
   "metadata": {},
   "outputs": [],
   "source": [
    "print(name)"
   ]
  },
  {
   "cell_type": "markdown",
   "metadata": {},
   "source": [
    "Global variables are available inside and outside from any function:"
   ]
  },
  {
   "cell_type": "code",
   "execution_count": null,
   "metadata": {},
   "outputs": [],
   "source": [
    "def display_name_global():\n",
    "    print(f'My name is {name}!')\n",
    "\n",
    "# Executing the function prints the global variable's value\n",
    "# Recall that Winona Ryder has been distroyed after display_name() ends its execution\n",
    "display_name_global()"
   ]
  },
  {
   "cell_type": "markdown",
   "metadata": {},
   "source": [
    "Regarding best practices, relying on global variables can lead to code that is difficult to understand and maintain. \n",
    "\n",
    "* **Debugging Difficulty:** If `name` is altered in different parts of the program, it might be difficult to track where, how, and why its value is changing.\n",
    "\n",
    "* **Testing Challenges:** Functions that depend on global variables are harder to test because they depend on the external state.\n",
    "\n",
    "* **Lack of Reusability:** Functions that use global variables are less reusable in different contexts since they don't work independently of the surrounding code.\n",
    "\n",
    "* **Concurrency Issues:** In a multi-threaded environment, global variables can lead to race conditions and require careful synchronization.\n",
    "\n",
    "It would be better to do:"
   ]
  },
  {
   "cell_type": "code",
   "execution_count": null,
   "metadata": {},
   "outputs": [],
   "source": [
    "def display_name_global(my_name):\n",
    "    print(f'My name is {my_name}!')\n",
    "\n",
    "# Executing the function prints the global variable's value\n",
    "display_name_global(name)"
   ]
  },
  {
   "cell_type": "markdown",
   "metadata": {},
   "source": [
    "This way, `display_name_global()`  is more flexible and clear about its dependencies."
   ]
  },
  {
   "cell_type": "markdown",
   "metadata": {},
   "source": [
    "### Global and local variables toghether\n",
    "\n",
    "It is entirely possible to have both global and local versions of a variable with the same name.\n",
    "\n",
    "Let's say we have a global and a local variable, both named `name`.\n",
    "\n",
    "The global variable has been defined previously, and we can refer to it as follows:"
   ]
  },
  {
   "cell_type": "code",
   "execution_count": null,
   "metadata": {},
   "outputs": [],
   "source": [
    "name"
   ]
  },
  {
   "cell_type": "markdown",
   "metadata": {},
   "source": [
    "As can be seen, we have both a global and a local version of a variable named `name`:"
   ]
  },
  {
   "cell_type": "code",
   "execution_count": null,
   "metadata": {},
   "outputs": [],
   "source": [
    "display_name()"
   ]
  },
  {
   "cell_type": "markdown",
   "metadata": {},
   "source": [
    "Remember that the function containing a local variable named `name` has already been defined, as well as a global variable with the same name.\n",
    "\n",
    "> ``` \n",
    "> name = 'Lucho'   \n",
    "> # global scope (available inside and outside functions)\n",
    "> \n",
    ">\n",
    "> def display_name():\n",
    ">\n",
    ">       name = 'Winona Ryder'\n",
    ">       # local scope (available only indise this function)\n",
    ">\n",
    ">       print(f'How are you, {name}?')\n",
    ">```\n",
    "\n",
    "If both are used, the local version of the variable will always be utilized within the function's scope when available."
   ]
  },
  {
   "cell_type": "code",
   "execution_count": null,
   "metadata": {},
   "outputs": [],
   "source": [
    "print(f\"name's identifierier: {id(name)}\")"
   ]
  },
  {
   "cell_type": "code",
   "execution_count": null,
   "metadata": {},
   "outputs": [],
   "source": [
    "def my_name():\n",
    "    name = 'Winona Ryder'\n",
    "    print(f'How are you, {name}? Your variable identifier is {id(name)}')\n",
    "\n",
    "my_name()"
   ]
  },
  {
   "cell_type": "markdown",
   "metadata": {},
   "source": [
    "**If there is no local variable, Python will use the global version istead.**\n",
    "\n",
    "<div style=\"text-align: center;\">\n",
    "    <img align=\"left\" width=\"300\"  src=\"Images/Scope.png\">\n",
    "</div>"
   ]
  },
  {
   "cell_type": "markdown",
   "metadata": {},
   "source": [
    "Python uses the LEGB rule:\n",
    "\n",
    "> ```\n",
    ">      L = Local Scope\n",
    "> \n",
    ">      E = Enclosing (Nonlocal) Scope\n",
    ">\n",
    ">      G = Global (Module) Scope\n",
    ">\n",
    ">      B = Built-in Scope\n",
    "> ```  "
   ]
  },
  {
   "cell_type": "markdown",
   "metadata": {},
   "source": [
    "## Watch out!\n",
    "\n",
    "We can globalize variables:"
   ]
  },
  {
   "cell_type": "code",
   "execution_count": null,
   "metadata": {},
   "outputs": [],
   "source": [
    "hola = 'Una cosa global'\n",
    "\n",
    "def my_sum(my_list, *integers):\n",
    "\n",
    "    hola = 'Otra cosa local' # local scope (available only indise this function)\n",
    "    \n",
    "    result = 0\n",
    "\n",
    "    for item in my_list:\n",
    "        result += item\n",
    "        \n",
    "    for x in integers:\n",
    "        result += x\n",
    "    \n",
    "    print('Local variable named \"hola\":', hola, id(hola), end='\\n\\n')\n",
    "    print('''If we execute the function we will see its output (what it returns), \n",
    "unless we assign the output to new variables.\n",
    "If we want to use this output later, we should assign it to new variables''')\n",
    "\n",
    "    return result, hola"
   ]
  },
  {
   "cell_type": "code",
   "execution_count": null,
   "metadata": {},
   "outputs": [],
   "source": [
    "my_sum([1,2,3], 4,5)"
   ]
  },
  {
   "cell_type": "markdown",
   "metadata": {},
   "source": [
    "Clearly, we can not access the `result` variable because its scope is local to the function:"
   ]
  },
  {
   "cell_type": "code",
   "execution_count": null,
   "metadata": {},
   "outputs": [],
   "source": [
    "result"
   ]
  },
  {
   "cell_type": "markdown",
   "metadata": {},
   "source": [
    "Unless, we globalize the variable:"
   ]
  },
  {
   "cell_type": "code",
   "execution_count": null,
   "metadata": {},
   "outputs": [],
   "source": [
    "# We have the global variable called \"name\"\n",
    "print('Global variable:', hola, '-> with identifier:', id(hola), end='\\n\\n')\n",
    "\n",
    "# and we override our global variable with the output of the function\n",
    "result, hola = my_sum([1,2,3], 4)"
   ]
  },
  {
   "cell_type": "code",
   "execution_count": null,
   "metadata": {},
   "outputs": [],
   "source": [
    "print(\"We have 'globalized' our local variable:\", hola, '-> with identifier:', id(hola))\n",
    "print('Now, our variable \"hola\" has global scope with the id assigned to it when it was defined inside the function!')"
   ]
  }
 ],
 "metadata": {
  "language_info": {
   "name": "python"
  }
 },
 "nbformat": 4,
 "nbformat_minor": 2
}
