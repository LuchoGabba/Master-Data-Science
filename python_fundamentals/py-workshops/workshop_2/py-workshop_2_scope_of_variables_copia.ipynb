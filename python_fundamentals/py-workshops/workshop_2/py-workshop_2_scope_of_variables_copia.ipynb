{
 "cells": [
  {
   "cell_type": "markdown",
   "metadata": {},
   "source": [
    "Let us start by defining some lists to begin our discussion:"
   ]
  },
  {
   "cell_type": "code",
   "execution_count": null,
   "id": "1d85305f",
   "metadata": {},
   "outputs": [],
   "source": [
    "list_1 = [1,2,3]\n",
    "list_2 = [1,2,3]\n",
    "list_9 = [3,2,1]"
   ]
  },
  {
   "cell_type": "code",
   "execution_count": null,
   "id": "c797f600",
   "metadata": {},
   "outputs": [],
   "source": [
    "print(id(list_1),id(list_2), id(list_9), sep='\\n')"
   ]
  },
  {
   "cell_type": "code",
   "execution_count": null,
   "id": "a5c63b1c",
   "metadata": {},
   "outputs": [],
   "source": [
    "print(list_1 == list_9[::-1])\n",
    "print(list_1 == list_2)\n",
    "print(list_1 is list_2)"
   ]
  },
  {
   "cell_type": "markdown",
   "metadata": {},
   "source": [
    "Now, let us define a new list equal to `list_1`"
   ]
  },
  {
   "cell_type": "code",
   "execution_count": null,
   "id": "776eb3a6",
   "metadata": {},
   "outputs": [],
   "source": [
    "list_3 = list_1"
   ]
  },
  {
   "cell_type": "code",
   "execution_count": null,
   "id": "e5a9aff6",
   "metadata": {},
   "outputs": [],
   "source": [
    "print(id(list_3)==id(list_1))"
   ]
  },
  {
   "cell_type": "markdown",
   "metadata": {},
   "source": [
    "Clearly, both lists have the same content. Let us see what happens if we include new element into the list:"
   ]
  },
  {
   "cell_type": "code",
   "execution_count": null,
   "id": "e3858c67",
   "metadata": {},
   "outputs": [],
   "source": [
    "list_3.append(4)"
   ]
  },
  {
   "cell_type": "code",
   "execution_count": null,
   "id": "d79a5d45",
   "metadata": {},
   "outputs": [],
   "source": [
    "print(list_3)"
   ]
  },
  {
   "cell_type": "code",
   "execution_count": null,
   "id": "4b7fee6c",
   "metadata": {},
   "outputs": [],
   "source": [
    "print(list_1)"
   ]
  },
  {
   "cell_type": "code",
   "execution_count": null,
   "id": "b4472438",
   "metadata": {},
   "outputs": [],
   "source": [
    "print(id(list_1))\n",
    "print(id(list_3))\n",
    "print(id(list_2))"
   ]
  },
  {
   "cell_type": "code",
   "execution_count": null,
   "id": "b4296837",
   "metadata": {},
   "outputs": [],
   "source": [
    "list_1 is list_3"
   ]
  },
  {
   "cell_type": "markdown",
   "metadata": {},
   "source": [
    "### Integer interning\n",
    "\n",
    "is a memory optimization technique that pre-allocates memory for integers in a certain range. This means that for these integers, Python will create a single integer object and all variables assigned with the same value within this range will reference the same object.\n",
    "\n",
    "These integers are used so frequently that this optimization helps save memory and eliminates the need to create a new object for each instance of these commonly used integers. It also improves performance because it allows Python to use faster identity comparisons (`is`) instead of equality comparisons (`==`) for integers in this range."
   ]
  },
  {
   "cell_type": "code",
   "execution_count": null,
   "metadata": {},
   "outputs": [],
   "source": [
    "a = 5\n",
    "b = 5\n",
    "c = 257\n",
    "d = 257"
   ]
  },
  {
   "cell_type": "code",
   "execution_count": null,
   "metadata": {},
   "outputs": [],
   "source": [
    "print(f'''a has the same id() as b? {a is b}\n",
    "c has the same id() than d? {c is d}''')"
   ]
  },
  {
   "cell_type": "code",
   "execution_count": null,
   "metadata": {},
   "outputs": [],
   "source": [
    "id(a)"
   ]
  },
  {
   "cell_type": "code",
   "execution_count": null,
   "metadata": {},
   "outputs": [],
   "source": [
    "a = a+1"
   ]
  },
  {
   "cell_type": "code",
   "execution_count": null,
   "metadata": {},
   "outputs": [],
   "source": [
    "id(a) == id(6)"
   ]
  },
  {
   "cell_type": "markdown",
   "metadata": {},
   "source": [
    "Other optimization technique is string interning, where strings that are identical to each other use the same memory space.\n",
    "\n",
    "Interning strings can lead to performance improvements, especially in programs that compare strings frequently, since identity checks are faster than string equality checks."
   ]
  },
  {
   "cell_type": "markdown",
   "id": "0204fa79",
   "metadata": {},
   "source": [
    "## Variable scope\n",
    "\n",
    "refers to the context in which a variable is defined and where it can be accessed or modified (the region where a variable is recognized).\n",
    "\n",
    "Python, like many other programming languages, has both local and global scopes.\n",
    "\n",
    "### Local variables\n",
    "\n",
    "is one that is declared inside a function (or block) and is only accessible within that function (or block).\n",
    "\n",
    "**Lifetime:** of a local variable is limited to the execution of the function (or block). Once the function execution is complete, the local variable is destroyed."
   ]
  },
  {
   "cell_type": "code",
   "execution_count": null,
   "id": "fbd6a3d0",
   "metadata": {},
   "outputs": [],
   "source": [
    "def display_name():\n",
    "    # This is a local variable and has a local scope (available only indise this function)\n",
    "    name = 'Winona Ryder'\n",
    "    print(f'How are you, {name}?')\n",
    "\n",
    "# Executing the function prints the local variable's value\n",
    "display_name()"
   ]
  },
  {
   "cell_type": "markdown",
   "id": "fb1ef82d",
   "metadata": {},
   "source": [
    "`name` is only available within the function where it was created (local scope).\n",
    "\n",
    "**We cannot access local variables from outside the funcition!**"
   ]
  },
  {
   "cell_type": "markdown",
   "id": "13c85f26",
   "metadata": {},
   "source": [
    "### Global variables\n",
    "\n",
    "Global variables are declared outside of functions, within the module that we are currently working in."
   ]
  },
  {
   "cell_type": "code",
   "execution_count": null,
   "id": "49aa8722",
   "metadata": {},
   "outputs": [],
   "source": [
    "# This is a global variable and has a global scope (available inside and outside functions)\n",
    "name = 'Lucho'"
   ]
  },
  {
   "cell_type": "code",
   "execution_count": null,
   "id": "d83b81b0",
   "metadata": {},
   "outputs": [],
   "source": [
    "print(name)"
   ]
  },
  {
   "cell_type": "markdown",
   "id": "bb1b8b57",
   "metadata": {},
   "source": [
    "Global variables are available inside and outside from any function:"
   ]
  },
  {
   "cell_type": "code",
   "execution_count": null,
   "id": "ca2810f4",
   "metadata": {},
   "outputs": [],
   "source": [
    "def display_name_global():\n",
    "    print(f'My name is {name}!')\n",
    "\n",
    "# Executing the function prints the global variable's value\n",
    "# Recall that Winona Ryder has been distroyed after display_name() ends its execution\n",
    "display_name_global()"
   ]
  },
  {
   "cell_type": "markdown",
   "metadata": {},
   "source": [
    "Regarding best practices, relying on global variables can lead to code that is difficult to understand and maintain. \n",
    "\n",
    "* **Debugging Difficulty:** If `name` is altered in different parts of the program, it might be difficult to track where, how, and why its value is changing.\n",
    "\n",
    "* **Testing Challenges:** Functions that depend on global variables are harder to test because they depend on the external state.\n",
    "\n",
    "* **Lack of Reusability:** Functions that use global variables are less reusable in different contexts since they don't work independently of the surrounding code.\n",
    "\n",
    "* **Concurrency Issues:** In a multi-threaded environment, global variables can lead to race conditions and require careful synchronization.\n",
    "\n",
    "It would be better to do:"
   ]
  },
  {
   "cell_type": "code",
   "execution_count": null,
   "metadata": {},
   "outputs": [],
   "source": [
    "def display_name_global(my_name):\n",
    "    print(f'My name is {my_name}!')\n",
    "\n",
    "# Executing the function prints the global variable's value\n",
    "display_name_global(name)"
   ]
  },
  {
   "cell_type": "markdown",
   "metadata": {},
   "source": [
    "This way, `display_name_global()`  is more flexible and clear about its dependencies."
   ]
  },
  {
   "cell_type": "markdown",
   "id": "51f3e8a8",
   "metadata": {},
   "source": [
    "### Global and local variables toghether\n",
    "\n",
    "It is entirely possible to have both global and local versions of a variable with the same name.\n",
    "\n",
    "Let's say we have a global and a local variable, both named `name`.\n",
    "\n",
    "The global variable has been defined previously, and we can refer to it as follows:"
   ]
  },
  {
   "cell_type": "code",
   "execution_count": null,
   "id": "489bab9b",
   "metadata": {},
   "outputs": [],
   "source": [
    "name"
   ]
  },
  {
   "cell_type": "markdown",
   "id": "1ccfdf15",
   "metadata": {},
   "source": [
    "As can be seen, we have both a global and a local version of a variable named `name`:"
   ]
  },
  {
   "cell_type": "code",
   "execution_count": null,
   "id": "4ca1abc3",
   "metadata": {},
   "outputs": [],
   "source": [
    "display_name()"
   ]
  },
  {
   "cell_type": "code",
   "execution_count": null,
   "id": "ab34a030",
   "metadata": {},
   "outputs": [],
   "source": [
    "print(f\"name's identifierier: {id(name)}\")"
   ]
  },
  {
   "cell_type": "code",
   "execution_count": null,
   "id": "66842971",
   "metadata": {},
   "outputs": [],
   "source": [
    "def my_name():\n",
    "    name = 'Winona Ryder'\n",
    "    print(f'How are you, {name}? Your variable identifier is {id(name)}')\n",
    "\n",
    "my_name()"
   ]
  },
  {
   "cell_type": "markdown",
   "id": "c8a5411d",
   "metadata": {},
   "source": [
    "## Watch out!\n",
    "\n",
    "We can globalize variables:"
   ]
  },
  {
   "cell_type": "code",
   "execution_count": null,
   "id": "3e9b5295",
   "metadata": {},
   "outputs": [],
   "source": [
    "hola = 'Una cosa global'\n",
    "\n",
    "def my_sum(my_list, *integers):\n",
    "\n",
    "    hola = 'Otra cosa local' # local scope (available only indise this function)\n",
    "    \n",
    "    result = 0\n",
    "\n",
    "    for item in my_list:\n",
    "        result += item\n",
    "        \n",
    "    for x in integers:\n",
    "        result += x\n",
    "    \n",
    "    print('Local variable named \"hola\":', hola, id(hola), end='\\n\\n')\n",
    "    print('''If we execute the function we will see its output (what it returns), \n",
    "unless we assign the output to new variables.\n",
    "If we want to use this output later, we should assign it to new variables''')\n",
    "\n",
    "    return result, hola"
   ]
  },
  {
   "cell_type": "code",
   "execution_count": null,
   "id": "ac42a02b",
   "metadata": {},
   "outputs": [],
   "source": [
    "my_sum([1,2,3], 4,5)"
   ]
  },
  {
   "cell_type": "markdown",
   "metadata": {},
   "source": [
    "Clearly, we can not access the `result` variable because its scope is local to the function:"
   ]
  },
  {
   "cell_type": "markdown",
   "metadata": {},
   "source": [
    "Unless, we globalize the variable:"
   ]
  },
  {
   "cell_type": "code",
   "execution_count": null,
   "id": "e9e8e85b",
   "metadata": {},
   "outputs": [],
   "source": [
    "# We have the global variable called \"name\"\n",
    "print('Global variable:', hola, '-> with identifier:', id(hola), end='\\n\\n')\n",
    "\n",
    "# and we override our global variable with the output of the function\n",
    "result, hola = my_sum([1,2,3], 4)"
   ]
  },
  {
   "cell_type": "code",
   "execution_count": null,
   "id": "e31f149f",
   "metadata": {},
   "outputs": [],
   "source": [
    "print(\"We have 'globalized' our local variable:\", hola, '-> with identifier:', id(hola))\n",
    "print('Now, our variable \"hola\" has global scope with the id assigned to it when it was defined inside the function!')"
   ]
  },
  {
   "cell_type": "markdown",
   "id": "9161fe70",
   "metadata": {},
   "source": [
    "## Enclosing scopes\n",
    "\n",
    "Enclosing (or nonlocal) scope is a special scope that only exists for nested functions.\n",
    "\n",
    "If the local scope is an inner or nested function, then the enclosing scope is the scope of the outer or enclosing function. \n",
    "\n",
    "Therefore, the local scope has access to the variables that we define in the enclosing function."
   ]
  },
  {
   "cell_type": "code",
   "execution_count": null,
   "id": "cafb7fe7",
   "metadata": {},
   "outputs": [],
   "source": [
    "# We define a Modular (Global) variable\n",
    "z='!'\n",
    "\n",
    "def myfunc():\n",
    "    x = 'This variable is defined outside the most inner function, '\n",
    "    \n",
    "    def myinnerfunc():\n",
    "        y = 'but it is available inside the most inner function'\n",
    "        print(x+y+z)\n",
    "    \n",
    "    myinnerfunc()"
   ]
  },
  {
   "cell_type": "code",
   "execution_count": null,
   "id": "c56df9af",
   "metadata": {},
   "outputs": [],
   "source": [
    "myfunc()"
   ]
  }
 ],
 "metadata": {
  "kernelspec": {
   "display_name": "Python 3 (ipykernel)",
   "language": "python",
   "name": "python3"
  },
  "language_info": {
   "codemirror_mode": {
    "name": "ipython",
    "version": 3
   },
   "file_extension": ".py",
   "mimetype": "text/x-python",
   "name": "python",
   "nbconvert_exporter": "python",
   "pygments_lexer": "ipython3",
   "version": "3.11.5"
  },
  "toc": {
   "base_numbering": 1,
   "nav_menu": {},
   "number_sections": true,
   "sideBar": true,
   "skip_h1_title": true,
   "title_cell": "Table of Contents",
   "title_sidebar": "Contents",
   "toc_cell": false,
   "toc_position": {},
   "toc_section_display": true,
   "toc_window_display": false
  }
 },
 "nbformat": 4,
 "nbformat_minor": 5
}
