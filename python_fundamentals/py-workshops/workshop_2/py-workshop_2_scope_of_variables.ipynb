{
 "cells": [
  {
   "cell_type": "markdown",
   "id": "31d5fd5c",
   "metadata": {},
   "source": [
    "# Workshop: Scope of variables\n",
    "\n",
    "by [Luciano Gabbanelli](https://www.linkedin.com/in/luciano-gabbanelli)\n",
    "\n",
    "<img style=\"margin-right: 50px;\" width=80 src=\"https://media.giphy.com/media/KAq5w47R9rmTuvWOWa/giphy.gif\">\n",
    "\n",
    "<img width=80 src=\"../../../logos/Assembler.png\">\n",
    "\n",
    "***"
   ]
  },
  {
   "cell_type": "markdown",
   "metadata": {},
   "source": [
    "## The `id()` function\n",
    "\n",
    "The `id()` function returns a unique id (unique integer -identity-) for the specified object.\n",
    "\n",
    "All objects in Python has its own unique id.\n",
    "\n",
    "The id is assigned to the object when it is created.\n",
    "\n",
    "The id of an object is its memory address, which will be different each time the program is run, with the exception of certain objects that have a constant unique id, such as integers from -5 to 256 due to integer interning, and some strings due to string interning.\n",
    "\n",
    "> **Syntax**: `id(object)`\n",
    ">\n",
    "> `object` can be a class, variable, list, tuple, set, etc."
   ]
  },
  {
   "cell_type": "markdown",
   "metadata": {},
   "source": [
    "Let us start by defining some lists to begin our discussion:"
   ]
  },
  {
   "cell_type": "code",
   "execution_count": 6,
   "id": "1d85305f",
   "metadata": {},
   "outputs": [],
   "source": [
    "list_1 = [1,2,3]\n",
    "list_2 = [1,2,3]\n",
    "list_9 = [3,2,1]"
   ]
  },
  {
   "cell_type": "code",
   "execution_count": 7,
   "id": "c797f600",
   "metadata": {},
   "outputs": [
    {
     "name": "stdout",
     "output_type": "stream",
     "text": [
      "1997434890432\n",
      "1997434887808\n",
      "1997434891648\n"
     ]
    }
   ],
   "source": [
    "print(id(list_1),id(list_2), id(list_9), sep='\\n')"
   ]
  },
  {
   "cell_type": "code",
   "execution_count": 8,
   "id": "a5c63b1c",
   "metadata": {},
   "outputs": [
    {
     "name": "stdout",
     "output_type": "stream",
     "text": [
      "True\n",
      "True\n",
      "False\n"
     ]
    }
   ],
   "source": [
    "print(list_1 == list_9[::-1])\n",
    "print(list_1 == list_2)\n",
    "print(list_1 is list_2)"
   ]
  },
  {
   "cell_type": "markdown",
   "id": "818186c4",
   "metadata": {},
   "source": [
    "The last statement is **False** because the memory address is not the same!\n",
    "\n",
    "**They are not the same object!!**\n",
    "\n",
    "<div style=\"text-align: center;\">\n",
    "    <img width=\"300\" src=\"Images/id2.png\">\n",
    "</div>"
   ]
  },
  {
   "cell_type": "markdown",
   "metadata": {},
   "source": [
    "Now, let us define a new list equal to `list_1`"
   ]
  },
  {
   "cell_type": "code",
   "execution_count": 9,
   "id": "776eb3a6",
   "metadata": {},
   "outputs": [],
   "source": [
    "list_3 = list_1"
   ]
  },
  {
   "cell_type": "code",
   "execution_count": 10,
   "id": "e5a9aff6",
   "metadata": {},
   "outputs": [
    {
     "name": "stdout",
     "output_type": "stream",
     "text": [
      "True\n"
     ]
    }
   ],
   "source": [
    "print(id(list_3)==id(list_1))"
   ]
  },
  {
   "cell_type": "markdown",
   "metadata": {},
   "source": [
    "Clearly, both lists have the same content. Let us see what happens if we include new element into the list:"
   ]
  },
  {
   "cell_type": "code",
   "execution_count": 11,
   "id": "e3858c67",
   "metadata": {},
   "outputs": [],
   "source": [
    "list_3.append(4)"
   ]
  },
  {
   "cell_type": "code",
   "execution_count": 12,
   "id": "d79a5d45",
   "metadata": {},
   "outputs": [
    {
     "name": "stdout",
     "output_type": "stream",
     "text": [
      "[1, 2, 3, 4]\n"
     ]
    }
   ],
   "source": [
    "print(list_3)"
   ]
  },
  {
   "cell_type": "code",
   "execution_count": 13,
   "id": "4b7fee6c",
   "metadata": {},
   "outputs": [
    {
     "name": "stdout",
     "output_type": "stream",
     "text": [
      "[1, 2, 3, 4]\n"
     ]
    }
   ],
   "source": [
    "print(list_1)"
   ]
  },
  {
   "cell_type": "code",
   "execution_count": 14,
   "id": "b4472438",
   "metadata": {},
   "outputs": [
    {
     "name": "stdout",
     "output_type": "stream",
     "text": [
      "1997434890432\n",
      "1997434890432\n",
      "1997434887808\n"
     ]
    }
   ],
   "source": [
    "print(id(list_1))\n",
    "print(id(list_3))\n",
    "print(id(list_2))"
   ]
  },
  {
   "cell_type": "code",
   "execution_count": 15,
   "id": "b4296837",
   "metadata": {},
   "outputs": [
    {
     "data": {
      "text/plain": [
       "True"
      ]
     },
     "execution_count": 15,
     "metadata": {},
     "output_type": "execute_result"
    }
   ],
   "source": [
    "list_1 is list_3"
   ]
  },
  {
   "cell_type": "markdown",
   "id": "15e3d322",
   "metadata": {},
   "source": [
    "The last statement is **True** because the memory address is actally the same! \n",
    "\n",
    "**They are actually the same object!!**\n",
    "\n",
    "<div style=\"text-align: center;\">\n",
    "    <img width=\"300\" src=\"Images/id1.png\">\n",
    "</div>"
   ]
  },
  {
   "cell_type": "markdown",
   "metadata": {},
   "source": [
    "### Integer interning\n",
    "\n",
    "is a memory optimization technique that pre-allocates memory for integers in a certain range. This means that for these integers, Python will create a single integer object and all variables assigned with the same value within this range will reference the same object.\n",
    "\n",
    "These integers are used so frequently that this optimization helps save memory and eliminates the need to create a new object for each instance of these commonly used integers. It also improves performance because it allows Python to use faster identity comparisons (`is`) instead of equality comparisons (`==`) for integers in this range."
   ]
  },
  {
   "cell_type": "code",
   "execution_count": 16,
   "metadata": {},
   "outputs": [],
   "source": [
    "a = 5\n",
    "b = 5\n",
    "c = 257\n",
    "d = 257"
   ]
  },
  {
   "cell_type": "code",
   "execution_count": 17,
   "metadata": {},
   "outputs": [
    {
     "name": "stdout",
     "output_type": "stream",
     "text": [
      "a has the same id() as b? True\n",
      "c has the same id() than d? False\n"
     ]
    }
   ],
   "source": [
    "print(f'''a has the same id() as b? {a is b}\n",
    "c has the same id() than d? {c is d}''')"
   ]
  },
  {
   "cell_type": "code",
   "execution_count": 18,
   "metadata": {},
   "outputs": [
    {
     "data": {
      "text/plain": [
       "140727201403816"
      ]
     },
     "execution_count": 18,
     "metadata": {},
     "output_type": "execute_result"
    }
   ],
   "source": [
    "id(a)"
   ]
  },
  {
   "cell_type": "code",
   "execution_count": 19,
   "metadata": {},
   "outputs": [],
   "source": [
    "a = a+1"
   ]
  },
  {
   "cell_type": "code",
   "execution_count": 20,
   "metadata": {},
   "outputs": [
    {
     "data": {
      "text/plain": [
       "True"
      ]
     },
     "execution_count": 20,
     "metadata": {},
     "output_type": "execute_result"
    }
   ],
   "source": [
    "id(a) == id(6)"
   ]
  },
  {
   "cell_type": "markdown",
   "metadata": {},
   "source": [
    "Other optimization technique is string interning, where strings that are identical to each other use the same memory space.\n",
    "\n",
    "Interning strings can lead to performance improvements, especially in programs that compare strings frequently, since identity checks are faster than string equality checks."
   ]
  },
  {
   "cell_type": "markdown",
   "id": "0204fa79",
   "metadata": {},
   "source": [
    "## Variable scope\n",
    "\n",
    "refers to the context in which a variable is defined and where it can be accessed or modified (the region where a variable is recognized).\n",
    "\n",
    "Python, like many other programming languages, has both local and global scopes.\n",
    "\n",
    "### Local variables\n",
    "\n",
    "is one that is declared inside a function (or block) and is only accessible within that function (or block).\n",
    "\n",
    "**Lifetime:** of a local variable is limited to the execution of the function (or block). Once the function execution is complete, the local variable is destroyed."
   ]
  },
  {
   "cell_type": "code",
   "execution_count": 21,
   "id": "fbd6a3d0",
   "metadata": {},
   "outputs": [
    {
     "name": "stdout",
     "output_type": "stream",
     "text": [
      "How are you, Winona Ryder?\n"
     ]
    }
   ],
   "source": [
    "def display_name():\n",
    "    # This is a local variable and has a local scope (available only inside this function)\n",
    "    name = 'Winona Ryder'\n",
    "    print(f'How are you, {name}?')\n",
    "\n",
    "# Executing the function prints the local variable's value\n",
    "display_name()"
   ]
  },
  {
   "cell_type": "markdown",
   "id": "fb1ef82d",
   "metadata": {},
   "source": [
    "`name` is only available within the function where it was created (local scope).\n",
    "\n",
    "**We cannot access local variables from outside the funcition!**"
   ]
  },
  {
   "cell_type": "code",
   "execution_count": 22,
   "id": "4b5cf531",
   "metadata": {},
   "outputs": [
    {
     "ename": "NameError",
     "evalue": "name 'name' is not defined",
     "output_type": "error",
     "traceback": [
      "\u001b[1;31m---------------------------------------------------------------------------\u001b[0m",
      "\u001b[1;31mNameError\u001b[0m                                 Traceback (most recent call last)",
      "\u001b[1;32mc:\\Users\\Luciano Gabbanelli\\Desktop\\Documentos\\MDS\\Z_my\\master_data_science\\python_fundamentals\\py-workshops\\workshop_2\\py-workshop_2_scope_of_variables.ipynb Cell 28\u001b[0m line \u001b[0;36m1\n\u001b[1;32m----> <a href='vscode-notebook-cell:/c%3A/Users/Luciano%20Gabbanelli/Desktop/Documentos/MDS/Z_my/master_data_science/python_fundamentals/py-workshops/workshop_2/py-workshop_2_scope_of_variables.ipynb#X36sZmlsZQ%3D%3D?line=0'>1</a>\u001b[0m name\n",
      "\u001b[1;31mNameError\u001b[0m: name 'name' is not defined"
     ]
    }
   ],
   "source": [
    "name"
   ]
  },
  {
   "cell_type": "markdown",
   "id": "13c85f26",
   "metadata": {},
   "source": [
    "### Global variables\n",
    "\n",
    "Global variables are declared outside of functions, within the module that we are currently working in."
   ]
  },
  {
   "cell_type": "code",
   "execution_count": 23,
   "id": "49aa8722",
   "metadata": {},
   "outputs": [],
   "source": [
    "# This is a global variable and has a global scope (available inside and outside functions)\n",
    "name = 'Lucho'"
   ]
  },
  {
   "cell_type": "code",
   "execution_count": 24,
   "id": "d83b81b0",
   "metadata": {},
   "outputs": [
    {
     "name": "stdout",
     "output_type": "stream",
     "text": [
      "Lucho\n"
     ]
    }
   ],
   "source": [
    "print(name)"
   ]
  },
  {
   "cell_type": "markdown",
   "id": "bb1b8b57",
   "metadata": {},
   "source": [
    "Global variables are available inside and outside from any function:"
   ]
  },
  {
   "cell_type": "code",
   "execution_count": 25,
   "id": "ca2810f4",
   "metadata": {},
   "outputs": [
    {
     "name": "stdout",
     "output_type": "stream",
     "text": [
      "My name is Lucho!\n"
     ]
    }
   ],
   "source": [
    "def display_name_global():\n",
    "    print(f'My name is {name}!')\n",
    "\n",
    "# Executing the function prints the global variable's value\n",
    "# Recall that Winona Ryder has been distroyed after display_name() ends its execution\n",
    "display_name_global()"
   ]
  },
  {
   "cell_type": "markdown",
   "metadata": {},
   "source": [
    "Regarding best practices, relying on global variables can lead to code that is difficult to understand and maintain. \n",
    "\n",
    "* **Debugging Difficulty:** If `name` is altered in different parts of the program, it might be difficult to track where, how, and why its value is changing.\n",
    "\n",
    "* **Testing Challenges:** Functions that depend on global variables are harder to test because they depend on the external state.\n",
    "\n",
    "* **Lack of Reusability:** Functions that use global variables are less reusable in different contexts since they don't work independently of the surrounding code.\n",
    "\n",
    "* **Concurrency Issues:** In a multi-threaded environment, global variables can lead to race conditions and require careful synchronization.\n",
    "\n",
    "It would be better to do:"
   ]
  },
  {
   "cell_type": "code",
   "execution_count": 26,
   "metadata": {},
   "outputs": [
    {
     "name": "stdout",
     "output_type": "stream",
     "text": [
      "My name is Lucho!\n"
     ]
    }
   ],
   "source": [
    "def display_name_global(my_name):\n",
    "    print(f'My name is {my_name}!')\n",
    "\n",
    "# Executing the function prints the global variable's value\n",
    "display_name_global(name)"
   ]
  },
  {
   "cell_type": "markdown",
   "metadata": {},
   "source": [
    "This way, `display_name_global()`  is more flexible and clear about its dependencies."
   ]
  },
  {
   "cell_type": "markdown",
   "id": "51f3e8a8",
   "metadata": {},
   "source": [
    "### Global and local variables toghether\n",
    "\n",
    "It is entirely possible to have both global and local versions of a variable with the same name.\n",
    "\n",
    "Let's say we have a global and a local variable, both named `name`.\n",
    "\n",
    "The global variable has been defined previously, and we can refer to it as follows:"
   ]
  },
  {
   "cell_type": "code",
   "execution_count": 27,
   "id": "489bab9b",
   "metadata": {},
   "outputs": [
    {
     "data": {
      "text/plain": [
       "'Lucho'"
      ]
     },
     "execution_count": 27,
     "metadata": {},
     "output_type": "execute_result"
    }
   ],
   "source": [
    "name"
   ]
  },
  {
   "cell_type": "markdown",
   "id": "1ccfdf15",
   "metadata": {},
   "source": [
    "As can be seen, we have both a global and a local version of a variable named `name`:"
   ]
  },
  {
   "cell_type": "code",
   "execution_count": 28,
   "id": "4ca1abc3",
   "metadata": {},
   "outputs": [
    {
     "name": "stdout",
     "output_type": "stream",
     "text": [
      "How are you, Winona Ryder?\n"
     ]
    }
   ],
   "source": [
    "display_name()"
   ]
  },
  {
   "cell_type": "markdown",
   "id": "71b79f2c",
   "metadata": {},
   "source": [
    "Remember that the function containing a local variable named `name` has already been defined, as well as a global variable with the same name.\n",
    "\n",
    "<br>\n",
    "\n",
    "```python\n",
    "    name = 'Lucho'   # global scope (available inside and outside functions)\n",
    "\n",
    "    def display_name():\n",
    "        name = 'Winona Ryder'    # local scope (available only inside this function)\n",
    "\n",
    "        print(f'How are you, {name}?')\n",
    "```\n",
    "\n",
    "<br>\n",
    "\n",
    "If both are used, the local version of the variable will always be utilized within the function's scope when available."
   ]
  },
  {
   "cell_type": "code",
   "execution_count": 29,
   "id": "ab34a030",
   "metadata": {},
   "outputs": [
    {
     "name": "stdout",
     "output_type": "stream",
     "text": [
      "name's identifierier: 1997424216688\n"
     ]
    }
   ],
   "source": [
    "print(f\"name's identifierier: {id(name)}\")"
   ]
  },
  {
   "cell_type": "code",
   "execution_count": 30,
   "id": "66842971",
   "metadata": {},
   "outputs": [
    {
     "name": "stdout",
     "output_type": "stream",
     "text": [
      "How are you, Winona Ryder? Your variable identifier is 1997428378800\n"
     ]
    }
   ],
   "source": [
    "def my_name():\n",
    "    name = 'Winona Ryder'\n",
    "    print(f'How are you, {name}? Your variable identifier is {id(name)}')\n",
    "\n",
    "my_name()"
   ]
  },
  {
   "cell_type": "markdown",
   "metadata": {},
   "source": [
    "**If there is no local variable, Python will use the global version istead.**\n",
    "\n",
    "<br>\n",
    "\n",
    "<table>\n",
    "  <tr>\n",
    "    <td>\n",
    "      <p align=\"center\">\n",
    "        <img width=\"300\" src=\"Images/Scope.png\">\n",
    "      </p>\n",
    "    </td>\n",
    "    <td>\n",
    "      Python uses the LEGB rule:<br>\n",
    "      <pre>\n",
    "      L = Local Scope\n",
    "      E = Enclosing (Nonlocal) Scope\n",
    "      G = Global (Module) Scope\n",
    "      B = Built-in Scope\n",
    "      </pre>\n",
    "    </td>\n",
    "  </tr>\n",
    "</table>"
   ]
  },
  {
   "cell_type": "markdown",
   "id": "c8a5411d",
   "metadata": {},
   "source": [
    "## Watch out!\n",
    "\n",
    "We can globalize variables:"
   ]
  },
  {
   "cell_type": "code",
   "execution_count": 31,
   "id": "3e9b5295",
   "metadata": {},
   "outputs": [],
   "source": [
    "hola = 'Una cosa global'\n",
    "\n",
    "def my_sum(my_list, *integers):\n",
    "\n",
    "    hola = 'Otra cosa local' # local scope (available only inside this function)\n",
    "    \n",
    "    result = 0\n",
    "\n",
    "    for item in my_list:\n",
    "        result += item\n",
    "        \n",
    "    for x in integers:\n",
    "        result += x\n",
    "    \n",
    "    print('Local variable named \"hola\":', hola, id(hola), end='\\n\\n')\n",
    "    print('''If we execute the function we will see its output (what it returns), \n",
    "unless we assign the output to new variables.\n",
    "If we want to use this output later, we should assign it to new variables''')\n",
    "\n",
    "    return result, hola"
   ]
  },
  {
   "cell_type": "code",
   "execution_count": 32,
   "id": "ac42a02b",
   "metadata": {},
   "outputs": [
    {
     "name": "stdout",
     "output_type": "stream",
     "text": [
      "Local variable named \"hola\": Otra cosa local 1997434992560\n",
      "\n",
      "If we execute the function we will see its output (what it returns), \n",
      "unless we assign the output to new variables.\n",
      "If we want to use this output later, we should assign it to new variables\n"
     ]
    },
    {
     "data": {
      "text/plain": [
       "(15, 'Otra cosa local')"
      ]
     },
     "execution_count": 32,
     "metadata": {},
     "output_type": "execute_result"
    }
   ],
   "source": [
    "my_sum([1,2,3], 4,5)"
   ]
  },
  {
   "cell_type": "markdown",
   "metadata": {},
   "source": [
    "Clearly, we can not access the `result` variable because its scope is local to the function:"
   ]
  },
  {
   "cell_type": "code",
   "execution_count": 33,
   "id": "e131f600",
   "metadata": {},
   "outputs": [
    {
     "ename": "NameError",
     "evalue": "name 'result' is not defined",
     "output_type": "error",
     "traceback": [
      "\u001b[1;31m---------------------------------------------------------------------------\u001b[0m",
      "\u001b[1;31mNameError\u001b[0m                                 Traceback (most recent call last)",
      "\u001b[1;32mc:\\Users\\Luciano Gabbanelli\\Desktop\\Documentos\\MDS\\Z_my\\master_data_science\\python_fundamentals\\py-workshops\\workshop_2\\py-workshop_2_scope_of_variables.ipynb Cell 49\u001b[0m line \u001b[0;36m1\n\u001b[1;32m----> <a href='vscode-notebook-cell:/c%3A/Users/Luciano%20Gabbanelli/Desktop/Documentos/MDS/Z_my/master_data_science/python_fundamentals/py-workshops/workshop_2/py-workshop_2_scope_of_variables.ipynb#X66sZmlsZQ%3D%3D?line=0'>1</a>\u001b[0m result\n",
      "\u001b[1;31mNameError\u001b[0m: name 'result' is not defined"
     ]
    }
   ],
   "source": [
    "result"
   ]
  },
  {
   "cell_type": "markdown",
   "metadata": {},
   "source": [
    "Unless, we globalize the variable:"
   ]
  },
  {
   "cell_type": "code",
   "execution_count": 34,
   "id": "e9e8e85b",
   "metadata": {},
   "outputs": [
    {
     "name": "stdout",
     "output_type": "stream",
     "text": [
      "Global variable: Una cosa global -> with identifier: 1997434992432\n",
      "\n",
      "Local variable named \"hola\": Otra cosa local 1997434992560\n",
      "\n",
      "If we execute the function we will see its output (what it returns), \n",
      "unless we assign the output to new variables.\n",
      "If we want to use this output later, we should assign it to new variables\n"
     ]
    }
   ],
   "source": [
    "# We have the global variable called \"name\"\n",
    "print('Global variable:', hola, '-> with identifier:', id(hola), end='\\n\\n')\n",
    "\n",
    "# and we override our global variable with the output of the function\n",
    "result, hola = my_sum([1,2,3], 4)"
   ]
  },
  {
   "cell_type": "code",
   "execution_count": 35,
   "id": "e31f149f",
   "metadata": {},
   "outputs": [
    {
     "name": "stdout",
     "output_type": "stream",
     "text": [
      "We have 'globalized' our local variable: Otra cosa local -> with identifier: 1997434992560\n",
      "Now, our variable \"hola\" has global scope with the id assigned to it when it was defined inside the function!\n"
     ]
    }
   ],
   "source": [
    "print(\"We have 'globalized' our local variable:\", hola, '-> with identifier:', id(hola))\n",
    "print('Now, our variable \"hola\" has global scope with the id assigned to it when it was defined inside the function!')"
   ]
  },
  {
   "cell_type": "markdown",
   "id": "9161fe70",
   "metadata": {},
   "source": [
    "## Enclosing scopes\n",
    "\n",
    "Enclosing (or nonlocal) scope is a special scope that only exists for nested functions.\n",
    "\n",
    "If the local scope is an inner or nested function, then the enclosing scope is the scope of the outer or enclosing function. \n",
    "\n",
    "Therefore, the local scope has access to the variables that we define in the enclosing function."
   ]
  },
  {
   "cell_type": "code",
   "execution_count": 36,
   "id": "cafb7fe7",
   "metadata": {},
   "outputs": [],
   "source": [
    "# We define a Modular (Global) variable\n",
    "z='!'\n",
    "\n",
    "def myfunc():\n",
    "    x = 'This variable is defined outside the most inner function, '\n",
    "    \n",
    "    def myinnerfunc():\n",
    "        y = 'but it is available inside the most inner function'\n",
    "        print(x+y+z)\n",
    "    \n",
    "    myinnerfunc()"
   ]
  },
  {
   "cell_type": "code",
   "execution_count": 37,
   "id": "c56df9af",
   "metadata": {},
   "outputs": [
    {
     "name": "stdout",
     "output_type": "stream",
     "text": [
      "This variable is defined outside the most inner function, but it is available inside the most inner function!\n"
     ]
    }
   ],
   "source": [
    "myfunc()"
   ]
  },
  {
   "cell_type": "code",
   "execution_count": 38,
   "id": "32f5fc97",
   "metadata": {},
   "outputs": [
    {
     "data": {
      "text/plain": [
       "'!'"
      ]
     },
     "execution_count": 38,
     "metadata": {},
     "output_type": "execute_result"
    }
   ],
   "source": [
    "z"
   ]
  },
  {
   "cell_type": "code",
   "execution_count": 39,
   "metadata": {},
   "outputs": [
    {
     "data": {
      "text/plain": [
       "'global'"
      ]
     },
     "execution_count": 39,
     "metadata": {},
     "output_type": "execute_result"
    }
   ],
   "source": [
    "x"
   ]
  },
  {
   "cell_type": "code",
   "execution_count": 40,
   "metadata": {},
   "outputs": [
    {
     "ename": "NameError",
     "evalue": "name 'y' is not defined",
     "output_type": "error",
     "traceback": [
      "\u001b[1;31m---------------------------------------------------------------------------\u001b[0m",
      "\u001b[1;31mNameError\u001b[0m                                 Traceback (most recent call last)",
      "\u001b[1;32mc:\\Users\\Luciano Gabbanelli\\Desktop\\Documentos\\MDS\\Z_my\\master_data_science\\python_fundamentals\\py-workshops\\workshop_2\\py-workshop_2_scope_of_variables.ipynb Cell 58\u001b[0m line \u001b[0;36m1\n\u001b[1;32m----> <a href='vscode-notebook-cell:/c%3A/Users/Luciano%20Gabbanelli/Desktop/Documentos/MDS/Z_my/master_data_science/python_fundamentals/py-workshops/workshop_2/py-workshop_2_scope_of_variables.ipynb#Y111sZmlsZQ%3D%3D?line=0'>1</a>\u001b[0m y\n",
      "\u001b[1;31mNameError\u001b[0m: name 'y' is not defined"
     ]
    }
   ],
   "source": [
    "y"
   ]
  },
  {
   "cell_type": "markdown",
   "id": "cf33649e",
   "metadata": {},
   "source": [
    "Clearly, neither `x` nor `y` is available outside of either function.\n",
    "\n",
    "* We cannot use `y` outside `myinnerfunc()`.\n",
    "\n",
    "* We cannot use `x` outside `myfunc()`, but we can use `x` inside `myfunc()` or `myinnerfunc()`.\n",
    "\n",
    "<br>\n",
    "\n",
    "<h1><center>\n",
    "    <span style=\"color:blue\"> Unless we use the global keyword!!! </span>\n",
    "    </center></h1>"
   ]
  },
  {
   "cell_type": "markdown",
   "id": "8133377f",
   "metadata": {},
   "source": [
    "## The `global` Keyword\n",
    "\n",
    "The `global` keyword makes the variable global:"
   ]
  },
  {
   "cell_type": "code",
   "execution_count": 41,
   "id": "4b53105f",
   "metadata": {},
   "outputs": [],
   "source": [
    "def myfunc():\n",
    "    global x\n",
    "    x = 'This variable is defined outside the most inner function, '\n",
    "    \n",
    "    def myinnerfunc():\n",
    "        global y\n",
    "        y = 'but it is available inside the most inner function'\n",
    "        print(x+y+z)\n",
    "    \n",
    "    myinnerfunc()"
   ]
  },
  {
   "cell_type": "code",
   "execution_count": 42,
   "id": "954ef7eb",
   "metadata": {},
   "outputs": [
    {
     "name": "stdout",
     "output_type": "stream",
     "text": [
      "This variable is defined outside the most inner function, but it is available inside the most inner function!\n"
     ]
    }
   ],
   "source": [
    "myfunc()"
   ]
  },
  {
   "cell_type": "code",
   "execution_count": 43,
   "id": "f77ae3c1",
   "metadata": {},
   "outputs": [
    {
     "name": "stdout",
     "output_type": "stream",
     "text": [
      "This variable is defined outside the most inner function, but it is available inside the most inner function!\n",
      "\n",
      "If we use the global keyword, now both variables are available outside the functions.\n"
     ]
    }
   ],
   "source": [
    "print(x+y+z+ '\\n\\nIf we use the global keyword, now both variables are available outside the functions.')"
   ]
  },
  {
   "cell_type": "markdown",
   "id": "5f8afb2d",
   "metadata": {},
   "source": [
    "###  Other uses\n",
    "\n",
    "Additionally, the `global` keyword allows us to modify global variables from within a function's scope."
   ]
  },
  {
   "cell_type": "code",
   "execution_count": 44,
   "id": "19d9c563",
   "metadata": {},
   "outputs": [
    {
     "name": "stdout",
     "output_type": "stream",
     "text": [
      "300 -> 1997434346128\n",
      "3 -> 140727201403752\n"
     ]
    }
   ],
   "source": [
    "x = 300\n",
    "print(x, '->', id(x))\n",
    "\n",
    "x = 3\n",
    "print(x, '->', id(x))\n",
    "\n",
    "def myfunc():\n",
    "    global x\n",
    "    x = 200\n",
    "    print(x, '->', id(x))"
   ]
  },
  {
   "cell_type": "code",
   "execution_count": 45,
   "id": "3b3dd0b6",
   "metadata": {},
   "outputs": [
    {
     "name": "stdout",
     "output_type": "stream",
     "text": [
      "200 -> 140727201410056\n",
      "\n",
      "200 -> 140727201410056\n"
     ]
    }
   ],
   "source": [
    "myfunc()\n",
    "print()\n",
    "print(x, '->', id(x))"
   ]
  },
  {
   "cell_type": "markdown",
   "metadata": {},
   "source": [
    "**Warning:** Using the `global` keyword is generally not considered a good practice, especially in larger or more complex programs.\n",
    "\n",
    "<br>\n",
    "\n",
    "Instead of using global variables, it's often recommended to:\n",
    "\n",
    "* **Pass Variables as Parameters:** Instead of relying on a global variable, pass it as a parameter to your functions. This makes dependencies explicit and clear.\n",
    "\n",
    "* **Return Values:** Have functions return values instead of directly modifying globals. This can make the flow of data more obvious and easier to follow.\n",
    "\n",
    "* **Encapsulation:** Use classes to encapsulate data and provide methods to operate on that data, which can help keep state and behavior together.\n",
    "\n",
    "<br>\n",
    "\n",
    "**In conclusion, it is a good preactice to avoid reliance on global variables!**"
   ]
  },
  {
   "cell_type": "markdown",
   "metadata": {},
   "source": [
    "## To conclude, the `nonlocal` keyword\n",
    "\n",
    "Let us define a variable and modify it from the most inner function in nested functions."
   ]
  },
  {
   "cell_type": "code",
   "execution_count": 62,
   "metadata": {},
   "outputs": [
    {
     "name": "stdout",
     "output_type": "stream",
     "text": [
      "Here we have the variable: outer local\n",
      "Here we have the variable: nonlocal\n",
      "Here we have the variable: global inside innermost\n",
      "Inner: nonlocal because innermost() modifies the global variable x = \"global\"\n",
      "Outer: nonlocal because inner() modifies the variable x = \"outer local\"\n",
      "\n",
      "Global: global inside innermost\n"
     ]
    }
   ],
   "source": [
    "x = \"global\"\n",
    "\n",
    "def outer():\n",
    "    x = \"outer local\"\n",
    "    print(f'Here we have the variable: {x}')\n",
    "\n",
    "    def inner():\n",
    "        nonlocal x  # Refers to 'x' in the outer function\n",
    "        x = \"nonlocal\"\n",
    "        print(f'Here we have the variable: {x}')\n",
    "        \n",
    "        def innermost():\n",
    "            global x  # Refers to 'x' at the global level\n",
    "            x = \"global inside innermost\"\n",
    "            print(f'Here we have the variable: {x}')\n",
    "\n",
    "        innermost()\n",
    "        print(\"Inner:\", x, 'because innermost() modifies the global variable x = \"global\"')\n",
    "    \n",
    "    inner()\n",
    "    print(\"Outer:\", x, 'because inner() modifies the variable x = \"outer local\"\\n')\n",
    "\n",
    "outer()\n",
    "\n",
    "print(\"Global:\", x)"
   ]
  },
  {
   "cell_type": "markdown",
   "id": "99178339",
   "metadata": {},
   "source": [
    "**To conclude:**\n",
    "\n",
    "[Check this article!](https://favtutor.com/blogs/nonlocal-python#:~:text=The%20main%20difference%20is%20that,scope%20that%20is%20not%20global.)"
   ]
  }
 ],
 "metadata": {
  "kernelspec": {
   "display_name": "Python 3 (ipykernel)",
   "language": "python",
   "name": "python3"
  },
  "language_info": {
   "codemirror_mode": {
    "name": "ipython",
    "version": 3
   },
   "file_extension": ".py",
   "mimetype": "text/x-python",
   "name": "python",
   "nbconvert_exporter": "python",
   "pygments_lexer": "ipython3",
   "version": "3.11.5"
  },
  "toc": {
   "base_numbering": 1,
   "nav_menu": {},
   "number_sections": true,
   "sideBar": true,
   "skip_h1_title": true,
   "title_cell": "Table of Contents",
   "title_sidebar": "Contents",
   "toc_cell": false,
   "toc_position": {},
   "toc_section_display": true,
   "toc_window_display": false
  }
 },
 "nbformat": 4,
 "nbformat_minor": 5
}
