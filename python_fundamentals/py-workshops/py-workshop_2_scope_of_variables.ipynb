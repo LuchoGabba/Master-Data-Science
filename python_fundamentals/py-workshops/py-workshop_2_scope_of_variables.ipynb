{
 "cells": [
  {
   "cell_type": "markdown",
   "id": "31d5fd5c",
   "metadata": {},
   "source": [
    "# Workshop: Scope of variables\n",
    "\n",
    "by [Luciano Gabbanelli](https://www.linkedin.com/in/luciano-gabbanelli)\n",
    "\n",
    "<img style=\"margin-right: 50px;\" width=80 src=\"https://media.giphy.com/media/KAq5w47R9rmTuvWOWa/giphy.gif\">\n",
    "\n",
    "<img width=80 src=\"../../logos/Assembler.png\">\n",
    "\n",
    "***"
   ]
  },
  {
   "cell_type": "markdown",
   "metadata": {},
   "source": [
    "## The `id()` function\n",
    "\n",
    "The `id()` function returns a unique id (unique integer -identity-) for the specified object.\n",
    "\n",
    "All objects in Python has its own unique id.\n",
    "\n",
    "The id is assigned to the object when it is created.\n",
    "\n",
    "The id of an object is its memory address, which will be different each time the program is run, with the exception of certain objects that have a constant unique id, such as integers from -5 to 256 due to integer interning, and some strings due to string interning.\n",
    "\n",
    "> **Syntax**: `id(object)`\n",
    ">\n",
    "> `object` can be a class, variable, list, tuple, set, etc."
   ]
  },
  {
   "cell_type": "markdown",
   "metadata": {},
   "source": [
    "Let us start by defining some lists to begin our discussion:"
   ]
  },
  {
   "cell_type": "code",
   "execution_count": null,
   "id": "1d85305f",
   "metadata": {},
   "outputs": [],
   "source": [
    "list_1 = [1,2,3]\n",
    "list_2 = [1,2,3]\n",
    "list_9 = [3,2,1]"
   ]
  },
  {
   "cell_type": "code",
   "execution_count": null,
   "id": "c797f600",
   "metadata": {},
   "outputs": [],
   "source": [
    "print(id(list_1),id(list_2), id(list_9), sep='\\n')"
   ]
  },
  {
   "cell_type": "code",
   "execution_count": null,
   "id": "a5c63b1c",
   "metadata": {},
   "outputs": [],
   "source": [
    "print(list_1 == list_9[::-1])\n",
    "print(list_1 == list_2)\n",
    "print(list_1 is list_2)"
   ]
  },
  {
   "cell_type": "markdown",
   "id": "818186c4",
   "metadata": {},
   "source": [
    "The last statement is **False** because the memory address is not the same!\n",
    "\n",
    "**They are not the same object!!**"
   ]
  },
  {
   "cell_type": "markdown",
   "metadata": {},
   "source": [
    "<p align=\"center\">\n",
    "\n",
    "<img src='data:image/jpeg;base64,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'/>\n",
    "\n",
    "</p>"
   ]
  },
  {
   "cell_type": "markdown",
   "metadata": {},
   "source": [
    "Now, let us define a new list equal to `list_1`"
   ]
  },
  {
   "cell_type": "code",
   "execution_count": null,
   "id": "776eb3a6",
   "metadata": {},
   "outputs": [],
   "source": [
    "list_3 = list_1"
   ]
  },
  {
   "cell_type": "code",
   "execution_count": null,
   "id": "e5a9aff6",
   "metadata": {},
   "outputs": [],
   "source": [
    "print(id(list_3)==id(list_1))"
   ]
  },
  {
   "cell_type": "markdown",
   "metadata": {},
   "source": [
    "Clearly, both lists have the same content. Let us see what happens if we include new element into the list:"
   ]
  },
  {
   "cell_type": "code",
   "execution_count": null,
   "id": "e3858c67",
   "metadata": {},
   "outputs": [],
   "source": [
    "list_3.append(4)"
   ]
  },
  {
   "cell_type": "code",
   "execution_count": null,
   "id": "d79a5d45",
   "metadata": {},
   "outputs": [],
   "source": [
    "print(list_3)"
   ]
  },
  {
   "cell_type": "code",
   "execution_count": null,
   "id": "4b7fee6c",
   "metadata": {},
   "outputs": [],
   "source": [
    "print(list_1)"
   ]
  },
  {
   "cell_type": "code",
   "execution_count": null,
   "id": "b4472438",
   "metadata": {},
   "outputs": [],
   "source": [
    "print(id(list_1))\n",
    "print(id(list_3))\n",
    "print(id(list_2))"
   ]
  },
  {
   "cell_type": "code",
   "execution_count": null,
   "id": "b4296837",
   "metadata": {},
   "outputs": [],
   "source": [
    "list_1 is list_3"
   ]
  },
  {
   "cell_type": "markdown",
   "id": "15e3d322",
   "metadata": {},
   "source": [
    "The last statement is **True** because the memory address is actally the same! \n",
    "\n",
    "**They are actually the same object!!**"
   ]
  },
  {
   "cell_type": "markdown",
   "metadata": {},
   "source": [
    "<p align=\"center\">\n",
    "\n",
    "<img src='data:image/jpeg;base64,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'/>\n",
    "\n",
    "</p>"
   ]
  },
  {
   "cell_type": "markdown",
   "metadata": {},
   "source": [
    "### Integer interning\n",
    "\n",
    "is a memory optimization technique that pre-allocates memory for integers in a certain range. This means that for these integers, Python will create a single integer object and all variables assigned with the same value within this range will reference the same object.\n",
    "\n",
    "These integers are used so frequently that this optimization helps save memory and eliminates the need to create a new object for each instance of these commonly used integers. It also improves performance because it allows Python to use faster identity comparisons (`is`) instead of equality comparisons (`==`) for integers in this range."
   ]
  },
  {
   "cell_type": "code",
   "execution_count": null,
   "metadata": {},
   "outputs": [],
   "source": [
    "a = 5\n",
    "b = 5\n",
    "c = 257\n",
    "d = 257"
   ]
  },
  {
   "cell_type": "code",
   "execution_count": null,
   "metadata": {},
   "outputs": [],
   "source": [
    "print(f'''a has the same id() as b? {a is b}\n",
    "c has the same id() than d? {c is d}''')"
   ]
  },
  {
   "cell_type": "code",
   "execution_count": null,
   "metadata": {},
   "outputs": [],
   "source": [
    "id(a)"
   ]
  },
  {
   "cell_type": "code",
   "execution_count": null,
   "metadata": {},
   "outputs": [],
   "source": [
    "a = a+1"
   ]
  },
  {
   "cell_type": "code",
   "execution_count": null,
   "metadata": {},
   "outputs": [],
   "source": [
    "id(a) == id(6)"
   ]
  },
  {
   "cell_type": "markdown",
   "metadata": {},
   "source": [
    "Other optimization technique is string interning, where strings that are identical to each other use the same memory space.\n",
    "\n",
    "Interning strings can lead to performance improvements, especially in programs that compare strings frequently, since identity checks are faster than string equality checks."
   ]
  },
  {
   "cell_type": "markdown",
   "id": "0204fa79",
   "metadata": {},
   "source": [
    "## Variable scope\n",
    "\n",
    "refers to the context in which a variable is defined and where it can be accessed or modified (the region where a variable is recognized).\n",
    "\n",
    "Python, like many other programming languages, has both local and global scopes.\n",
    "\n",
    "### Local variables\n",
    "\n",
    "is one that is declared inside a function (or block) and is only accessible within that function (or block).\n",
    "\n",
    "**Lifetime:** of a local variable is limited to the execution of the function (or block). Once the function execution is complete, the local variable is destroyed."
   ]
  },
  {
   "cell_type": "code",
   "execution_count": null,
   "id": "fbd6a3d0",
   "metadata": {},
   "outputs": [],
   "source": [
    "def display_name():\n",
    "    # This is a local variable and has a local scope (available only indise this function)\n",
    "    name = 'Winona Ryder'\n",
    "    print(f'How are you, {name}?')\n",
    "\n",
    "# Executing the function prints the local variable's value\n",
    "display_name()"
   ]
  },
  {
   "cell_type": "markdown",
   "id": "fb1ef82d",
   "metadata": {},
   "source": [
    "`name` is only available within the function where it was created (local scope).\n",
    "\n",
    "**We cannot access local variables from outside the funcition!**"
   ]
  },
  {
   "cell_type": "code",
   "execution_count": null,
   "id": "4b5cf531",
   "metadata": {},
   "outputs": [],
   "source": [
    "name"
   ]
  },
  {
   "cell_type": "markdown",
   "id": "13c85f26",
   "metadata": {},
   "source": [
    "### Global variables\n",
    "\n",
    "Global variables are declared outside of functions, within the module that we are currently working in."
   ]
  },
  {
   "cell_type": "code",
   "execution_count": null,
   "id": "49aa8722",
   "metadata": {},
   "outputs": [],
   "source": [
    "# This is a global variable and has a global scope (available inside and outside functions)\n",
    "name = 'Lucho'"
   ]
  },
  {
   "cell_type": "code",
   "execution_count": null,
   "id": "d83b81b0",
   "metadata": {},
   "outputs": [],
   "source": [
    "print(name)"
   ]
  },
  {
   "cell_type": "markdown",
   "id": "bb1b8b57",
   "metadata": {},
   "source": [
    "Global variables are available inside and outside from any function:"
   ]
  },
  {
   "cell_type": "code",
   "execution_count": null,
   "id": "ca2810f4",
   "metadata": {},
   "outputs": [],
   "source": [
    "def display_name_global():\n",
    "    print(f'My name is {name}!')\n",
    "\n",
    "# Executing the function prints the global variable's value\n",
    "# Recall that Winona Ryder has been distroyed after display_name() ends its execution\n",
    "display_name_global()"
   ]
  },
  {
   "cell_type": "markdown",
   "metadata": {},
   "source": [
    "Regarding best practices, relying on global variables can lead to code that is difficult to understand and maintain. \n",
    "\n",
    "* Debugging Difficulty: If `name` is altered in different parts of the program, it might be difficult to track where, how, and why its value is changing.\n",
    "* **Testing Challenges:** Functions that depend on global variables are harder to test because they depend on the external state.\n",
    "* **Lack of Reusability:** Functions that use global variables are less reusable in different contexts since they don't work independently of the surrounding code.\n",
    "* **Concurrency Issues:** In a multi-threaded environment, global variables can lead to race conditions and require careful synchronization.\n",
    "\n",
    "It would be better to do:"
   ]
  },
  {
   "cell_type": "code",
   "execution_count": null,
   "metadata": {},
   "outputs": [],
   "source": [
    "def display_name_global(my_name):\n",
    "    print(f'My name is {my_name}!')\n",
    "\n",
    "# Executing the function prints the global variable's value\n",
    "display_name_global(name)"
   ]
  },
  {
   "cell_type": "markdown",
   "metadata": {},
   "source": [
    "This way, `display_name_global()`  is more flexible and clear about its dependencies."
   ]
  },
  {
   "cell_type": "markdown",
   "id": "51f3e8a8",
   "metadata": {},
   "source": [
    "### Global and local variables toghether\n",
    "\n",
    "It is entirely possible to have both global and local versions of a variable with the same name.\n",
    "\n",
    "Let's say we have a global and a local variable, both named `name`.\n",
    "\n",
    "The global variable has been defined previously, and we can refer to it as follows:"
   ]
  },
  {
   "cell_type": "code",
   "execution_count": null,
   "id": "489bab9b",
   "metadata": {},
   "outputs": [],
   "source": [
    "name"
   ]
  },
  {
   "cell_type": "markdown",
   "id": "1ccfdf15",
   "metadata": {},
   "source": [
    "As can be seen, we have both a global and a local version of a variable named `name`:"
   ]
  },
  {
   "cell_type": "code",
   "execution_count": null,
   "id": "4ca1abc3",
   "metadata": {},
   "outputs": [],
   "source": [
    "display_name()"
   ]
  },
  {
   "cell_type": "markdown",
   "id": "71b79f2c",
   "metadata": {},
   "source": [
    "Remember that the function containing a local variable named `name` has already been defined, as well as a global variable with the same name.\n",
    "\n",
    "> ``` \n",
    "> name = 'Lucho'   \n",
    "> # global scope (available inside and outside functions)\n",
    "> \n",
    ">\n",
    "> def display_name():\n",
    ">\n",
    ">       name = 'Winona Ryder'\n",
    ">       # local scope (available only indise this function)\n",
    ">\n",
    ">       print(f'How are you, {name}?')\n",
    ">```\n",
    "\n",
    "If both are used, the local version of the variable will always be utilized within the function's scope when available."
   ]
  },
  {
   "cell_type": "code",
   "execution_count": null,
   "id": "ab34a030",
   "metadata": {},
   "outputs": [],
   "source": [
    "print(f\"name's identifierier: {id(name)}\")"
   ]
  },
  {
   "cell_type": "code",
   "execution_count": null,
   "id": "66842971",
   "metadata": {},
   "outputs": [],
   "source": [
    "def my_name():\n",
    "    name = 'Winona Ryder'\n",
    "    print(f'How are you, {name}? Your variable identifier is {id(name)}')\n",
    "\n",
    "my_name()"
   ]
  },
  {
   "cell_type": "markdown",
   "id": "f791ef48",
   "metadata": {},
   "source": [
    "**If there is no local variable, Python will use the global version istead.**"
   ]
  },
  {
   "cell_type": "markdown",
   "metadata": {},
   "source": [
    "<p align=\"center\">\n",
    "\n",
    "<img src='data:image/jpeg;base64,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'/>\n",
    "\n",
    "</p>"
   ]
  },
  {
   "cell_type": "markdown",
   "id": "baa1a4a0",
   "metadata": {},
   "source": [
    "Python uses the LEGB rule:\n",
    "\n",
    "> ```\n",
    ">      L = Local Scope\n",
    "> \n",
    ">      E = Enclosing (Nonlocal) Scope\n",
    ">\n",
    ">      G = Global (Module) Scope\n",
    ">\n",
    ">      B = Built-in Scope\n",
    "> ```  "
   ]
  },
  {
   "cell_type": "markdown",
   "id": "c8a5411d",
   "metadata": {},
   "source": [
    "## Watch out!\n",
    "\n",
    "We can globalize variables:"
   ]
  },
  {
   "cell_type": "code",
   "execution_count": null,
   "id": "3e9b5295",
   "metadata": {},
   "outputs": [],
   "source": [
    "hola = 'Una cosa global'\n",
    "\n",
    "def my_sum(my_list, *integers):\n",
    "\n",
    "    hola = 'Otra cosa local' # local scope (available only indise this function)\n",
    "    \n",
    "    result = 0\n",
    "\n",
    "    for item in my_list:\n",
    "        result += item\n",
    "        \n",
    "    for x in integers:\n",
    "        result += x\n",
    "    \n",
    "    print('Local variable named \"hola\":', hola, id(hola), end='\\n\\n')\n",
    "    print('''If we execute the function we will see its output (what it returns), \n",
    "unless we assign the output to new variables.\n",
    "If we want to use this output later, we should assign it to new variables''')\n",
    "\n",
    "    return result, hola"
   ]
  },
  {
   "cell_type": "code",
   "execution_count": null,
   "id": "ac42a02b",
   "metadata": {},
   "outputs": [],
   "source": [
    "my_sum([1,2,3], 4,5)"
   ]
  },
  {
   "cell_type": "markdown",
   "metadata": {},
   "source": [
    "Clearly, we can not access the `result` variable because its scope is local to the function:"
   ]
  },
  {
   "cell_type": "code",
   "execution_count": null,
   "id": "e131f600",
   "metadata": {},
   "outputs": [],
   "source": [
    "result"
   ]
  },
  {
   "cell_type": "markdown",
   "metadata": {},
   "source": [
    "Unless, we globalize the variable:"
   ]
  },
  {
   "cell_type": "code",
   "execution_count": null,
   "id": "e9e8e85b",
   "metadata": {},
   "outputs": [],
   "source": [
    "# We have the global variable called \"name\"\n",
    "print('Global variable:', hola, '-> with identifier:', id(hola), end='\\n\\n')\n",
    "\n",
    "# and we override our global variable with the output of the function\n",
    "result, hola = my_sum([1,2,3], 4)"
   ]
  },
  {
   "cell_type": "code",
   "execution_count": null,
   "id": "e31f149f",
   "metadata": {},
   "outputs": [],
   "source": [
    "print(\"We have 'globalized' our local variable:\", hola, '-> with identifier:', id(hola))\n",
    "print('Now, our variable \"hola\" has global scope with the id assigned to it when it was defined inside the function!')"
   ]
  },
  {
   "cell_type": "markdown",
   "id": "9161fe70",
   "metadata": {},
   "source": [
    "## Enclosing scopes\n",
    "\n",
    "Enclosing (or nonlocal) scope is a special scope that only exists for nested functions.\n",
    "\n",
    "If the local scope is an inner or nested function, then the enclosing scope is the scope of the outer or enclosing function. \n",
    "\n",
    "Therefore, the local scope has access to the variables that we define in the enclosing function."
   ]
  },
  {
   "cell_type": "code",
   "execution_count": null,
   "id": "cafb7fe7",
   "metadata": {},
   "outputs": [],
   "source": [
    "# We define a Modular (Global) variable\n",
    "z='!'\n",
    "\n",
    "def myfunc():\n",
    "    x = 'This variable is defined outside the most inner function, '\n",
    "    \n",
    "    def myinnerfunc():\n",
    "        y = 'but it is available inside the most inner function'\n",
    "        print(x+y+z)\n",
    "    \n",
    "    myinnerfunc()"
   ]
  },
  {
   "cell_type": "code",
   "execution_count": null,
   "id": "c56df9af",
   "metadata": {},
   "outputs": [],
   "source": [
    "myfunc()"
   ]
  },
  {
   "cell_type": "code",
   "execution_count": null,
   "id": "32f5fc97",
   "metadata": {},
   "outputs": [],
   "source": [
    "z"
   ]
  },
  {
   "cell_type": "code",
   "execution_count": null,
   "metadata": {},
   "outputs": [],
   "source": [
    "x"
   ]
  },
  {
   "cell_type": "code",
   "execution_count": null,
   "metadata": {},
   "outputs": [],
   "source": [
    "y"
   ]
  },
  {
   "cell_type": "markdown",
   "id": "cf33649e",
   "metadata": {},
   "source": [
    "Clearly, neither `x` nor `y` is available outside of either function.\n",
    "\n",
    "* We cannot use `y` outside `myinnerfunc()`.\n",
    "\n",
    "* We cannot use `x` outside `myfunc()`, but we can use `x` inside `myfunc()` or `myinnerfunc()`.\n",
    "\n",
    "<br>\n",
    "\n",
    "<h1><center>\n",
    "    <span style=\"color:blue\"> Unless we use the global keyword!!! </span>\n",
    "    </center></h1>"
   ]
  },
  {
   "cell_type": "markdown",
   "id": "8133377f",
   "metadata": {},
   "source": [
    "## The Global Keyword\n",
    "\n",
    "The `global` keyword makes the variable global:"
   ]
  },
  {
   "cell_type": "code",
   "execution_count": null,
   "id": "4b53105f",
   "metadata": {},
   "outputs": [],
   "source": [
    "def myfunc():\n",
    "    global x\n",
    "    x = 'This variable is defined outside the most inner function, '\n",
    "    \n",
    "    def myinnerfunc():\n",
    "        global y\n",
    "        y = 'but it is available inside the most inner function'\n",
    "        print(x+y+z)\n",
    "    \n",
    "    myinnerfunc()"
   ]
  },
  {
   "cell_type": "code",
   "execution_count": null,
   "id": "954ef7eb",
   "metadata": {},
   "outputs": [],
   "source": [
    "myfunc()"
   ]
  },
  {
   "cell_type": "code",
   "execution_count": null,
   "id": "f77ae3c1",
   "metadata": {},
   "outputs": [],
   "source": [
    "print(x+y+z+ '\\n\\nIf we use the global keyword, now both variables are available outside the functions.')"
   ]
  },
  {
   "cell_type": "markdown",
   "id": "5f8afb2d",
   "metadata": {},
   "source": [
    "###  Other uses\n",
    "\n",
    "Additionally, the `global` keyword allows us to modify global variables from within a function's scope."
   ]
  },
  {
   "cell_type": "code",
   "execution_count": null,
   "id": "19d9c563",
   "metadata": {},
   "outputs": [],
   "source": [
    "x = 300\n",
    "print(x, '->', id(x))\n",
    "\n",
    "x = 3\n",
    "print(x, '->', id(x))\n",
    "\n",
    "def myfunc():\n",
    "    global x\n",
    "    x = 200\n",
    "    print(x, '->', id(x))"
   ]
  },
  {
   "cell_type": "code",
   "execution_count": null,
   "id": "3b3dd0b6",
   "metadata": {},
   "outputs": [],
   "source": [
    "myfunc()\n",
    "print()\n",
    "print(x, '->', id(x))"
   ]
  },
  {
   "cell_type": "markdown",
   "metadata": {},
   "source": [
    "**Warning:** Using the `global` keyword is generally not considered a good practice, especially in larger or more complex programs.\n",
    "\n",
    "Instead of using global variables, it's often recommended to:\n",
    "\n",
    "* **Pass Variables as Parameters:** Instead of relying on a global variable, pass it as a parameter to your functions. This makes dependencies explicit and clear.\n",
    "\n",
    "* **Return Values:** Have functions return values instead of directly modifying globals. This can make the flow of data more obvious and easier to follow.\n",
    "\n",
    "* **Encapsulation:** Use classes to encapsulate data and provide methods to operate on that data, which can help keep state and behavior together."
   ]
  },
  {
   "cell_type": "markdown",
   "id": "99178339",
   "metadata": {},
   "source": [
    "[Check this article!](https://favtutor.com/blogs/nonlocal-python#:~:text=The%20main%20difference%20is%20that,scope%20that%20is%20not%20global.)"
   ]
  }
 ],
 "metadata": {
  "kernelspec": {
   "display_name": "Python 3 (ipykernel)",
   "language": "python",
   "name": "python3"
  },
  "language_info": {
   "codemirror_mode": {
    "name": "ipython",
    "version": 3
   },
   "file_extension": ".py",
   "mimetype": "text/x-python",
   "name": "python",
   "nbconvert_exporter": "python",
   "pygments_lexer": "ipython3",
   "version": "3.11.5"
  },
  "toc": {
   "base_numbering": 1,
   "nav_menu": {},
   "number_sections": true,
   "sideBar": true,
   "skip_h1_title": true,
   "title_cell": "Table of Contents",
   "title_sidebar": "Contents",
   "toc_cell": false,
   "toc_position": {},
   "toc_section_display": true,
   "toc_window_display": false
  }
 },
 "nbformat": 4,
 "nbformat_minor": 5
}
