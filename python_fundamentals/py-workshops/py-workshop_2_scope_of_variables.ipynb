{
 "cells": [
  {
   "cell_type": "markdown",
   "id": "31d5fd5c",
   "metadata": {},
   "source": [
    "# Workshop: Scope of variables\n",
    "\n",
    "by [Luciano Gabbanelli](https://www.linkedin.com/in/luciano-gabbanelli)\n",
    "\n",
    "<img style=\"margin-right: 50px;\" width=80 src=\"https://media.giphy.com/media/KAq5w47R9rmTuvWOWa/giphy.gif\">\n",
    "\n",
    "<img width=80 src=\"../../logos/Assembler.png\">\n",
    "\n",
    "***"
   ]
  },
  {
   "cell_type": "markdown",
   "metadata": {},
   "source": [
    "## The `id()` function\n",
    "\n",
    "The `id()` function returns a unique id (unique integer -identity-) for the specified object.\n",
    "\n",
    "All objects in Python has its own unique id.\n",
    "\n",
    "The id is assigned to the object when it is created.\n",
    "\n",
    "The id is the object's memory address, and will be different for each time you run the program. (except for some object that has a constant unique id, like integers from -5 to 256, known as integer interning, or string interning).\n",
    "\n",
    "> **Syntax**: `id(object)`\n",
    ">\n",
    "> `object` can be a class, variable, list, tuple, set, etc."
   ]
  },
  {
   "cell_type": "markdown",
   "metadata": {},
   "source": [
    "Let us start by defining some lists to begin our discussion:"
   ]
  },
  {
   "cell_type": "code",
   "execution_count": 1,
   "id": "1d85305f",
   "metadata": {},
   "outputs": [],
   "source": [
    "list_1 = [1,2,3]\n",
    "list_2 = [1,2,3]\n",
    "list_9 = [3,2,1]"
   ]
  },
  {
   "cell_type": "code",
   "execution_count": 4,
   "id": "c797f600",
   "metadata": {},
   "outputs": [
    {
     "name": "stdout",
     "output_type": "stream",
     "text": [
      "2260871265920\n",
      "2260875430400\n",
      "2260871263424\n"
     ]
    }
   ],
   "source": [
    "print(id(list_1),id(list_2), id(list_9), sep='\\n')"
   ]
  },
  {
   "cell_type": "code",
   "execution_count": 13,
   "id": "a5c63b1c",
   "metadata": {},
   "outputs": [
    {
     "name": "stdout",
     "output_type": "stream",
     "text": [
      "True\n",
      "True\n",
      "False\n"
     ]
    }
   ],
   "source": [
    "print(list_1 == list_9[::-1])\n",
    "print(list_1 == list_2)\n",
    "print(list_1 is list_2)"
   ]
  },
  {
   "cell_type": "markdown",
   "id": "818186c4",
   "metadata": {},
   "source": [
    "The last statement is **False** because the memory address is not the same!\n",
    "\n",
    "**They are not the same object!!**"
   ]
  },
  {
   "cell_type": "markdown",
   "metadata": {},
   "source": [
    "<p align=\"center\">\n",
    "\n",
    "<img alt=\"\" src=\"data:image/jpeg;base64,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\" />\n",
    "\n",
    "</p>"
   ]
  },
  {
   "cell_type": "markdown",
   "metadata": {},
   "source": [
    "Now, let us define a new list equal to `list_1`"
   ]
  },
  {
   "cell_type": "code",
   "execution_count": 17,
   "id": "776eb3a6",
   "metadata": {},
   "outputs": [],
   "source": [
    "list_3 = list_1"
   ]
  },
  {
   "cell_type": "code",
   "execution_count": 15,
   "id": "e5a9aff6",
   "metadata": {},
   "outputs": [
    {
     "name": "stdout",
     "output_type": "stream",
     "text": [
      "True\n"
     ]
    }
   ],
   "source": [
    "print(id(list_3)==id(list_1))"
   ]
  },
  {
   "cell_type": "markdown",
   "metadata": {},
   "source": [
    "Clearly, both lists have the same content. Let us see what happens if we include new element into the list:"
   ]
  },
  {
   "cell_type": "code",
   "execution_count": 16,
   "id": "e3858c67",
   "metadata": {},
   "outputs": [],
   "source": [
    "list_3.append(4)"
   ]
  },
  {
   "cell_type": "code",
   "execution_count": 13,
   "id": "d79a5d45",
   "metadata": {},
   "outputs": [
    {
     "name": "stdout",
     "output_type": "stream",
     "text": [
      "[1, 2, 3, 4]\n"
     ]
    }
   ],
   "source": [
    "print(list_3)"
   ]
  },
  {
   "cell_type": "code",
   "execution_count": 14,
   "id": "4b7fee6c",
   "metadata": {},
   "outputs": [
    {
     "name": "stdout",
     "output_type": "stream",
     "text": [
      "[1, 2, 3, 4]\n"
     ]
    }
   ],
   "source": [
    "print(list_1)"
   ]
  },
  {
   "cell_type": "code",
   "execution_count": 15,
   "id": "b4472438",
   "metadata": {},
   "outputs": [
    {
     "name": "stdout",
     "output_type": "stream",
     "text": [
      "3004434848832\n",
      "3004434848832\n",
      "3004434833984\n"
     ]
    }
   ],
   "source": [
    "print(id(list_1))\n",
    "print(id(list_3))\n",
    "print(id(list_2))"
   ]
  },
  {
   "cell_type": "code",
   "execution_count": 16,
   "id": "b4296837",
   "metadata": {},
   "outputs": [
    {
     "data": {
      "text/plain": [
       "True"
      ]
     },
     "execution_count": 16,
     "metadata": {},
     "output_type": "execute_result"
    }
   ],
   "source": [
    "list_1 is list_3"
   ]
  },
  {
   "cell_type": "markdown",
   "id": "15e3d322",
   "metadata": {},
   "source": [
    "The last statement is **True** because the memory address is actally the same! \n",
    "\n",
    "**They are actually the same object!!**"
   ]
  },
  {
   "cell_type": "markdown",
   "metadata": {},
   "source": [
    "<p align=\"center\">\n",
    "\n",
    "<img alt=\"\" src=\"data:image/jpeg;base64,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\" />\n",
    "\n",
    "</p>"
   ]
  },
  {
   "cell_type": "code",
   "execution_count": null,
   "metadata": {},
   "outputs": [],
   "source": [
    "### Integer interning"
   ]
  },
  {
   "cell_type": "code",
   "execution_count": 8,
   "metadata": {},
   "outputs": [],
   "source": [
    "a = 5\n",
    "b = 5\n",
    "c = 257\n",
    "d = 257"
   ]
  },
  {
   "cell_type": "code",
   "execution_count": 12,
   "metadata": {},
   "outputs": [
    {
     "name": "stdout",
     "output_type": "stream",
     "text": [
      "a has the same id() as b? True\n",
      "c has the same id() than d? False\n"
     ]
    }
   ],
   "source": [
    "print(f'''a has the same id() as b? {a is b}\n",
    "c has the same id() than d? {c is d}''')"
   ]
  },
  {
   "cell_type": "markdown",
   "id": "0204fa79",
   "metadata": {},
   "source": [
    "## Scope of a variable\n",
    "\n",
    "The region that a variable is recognized.\n",
    "\n",
    "A variable is only available from inside the region it is created.\n",
    "\n",
    "A global and locally scoped versions of a variable can be created.\n",
    "\n",
    "### Local variables"
   ]
  },
  {
   "cell_type": "code",
   "execution_count": 29,
   "id": "fbd6a3d0",
   "metadata": {},
   "outputs": [],
   "source": [
    "def display_name():\n",
    "    name = 'Winona Ryder' # local scope (available only indise this function)\n",
    "    print(f'How are you, {name}?')"
   ]
  },
  {
   "cell_type": "code",
   "execution_count": 21,
   "id": "3138ce40",
   "metadata": {},
   "outputs": [
    {
     "name": "stdout",
     "output_type": "stream",
     "text": [
      "How are you, Winona Ryder?\n"
     ]
    }
   ],
   "source": [
    "display_name()"
   ]
  },
  {
   "cell_type": "markdown",
   "id": "fb1ef82d",
   "metadata": {},
   "source": [
    "`name` is only available within the function where it was created (local scope).\n",
    "\n",
    "**I cannot access local variables from outside the funcition!**"
   ]
  },
  {
   "cell_type": "code",
   "execution_count": 22,
   "id": "4b5cf531",
   "metadata": {},
   "outputs": [
    {
     "ename": "NameError",
     "evalue": "name 'name' is not defined",
     "output_type": "error",
     "traceback": [
      "\u001b[1;31m---------------------------------------------------------------------------\u001b[0m",
      "\u001b[1;31mNameError\u001b[0m                                 Traceback (most recent call last)",
      "Input \u001b[1;32mIn [22]\u001b[0m, in \u001b[0;36m<cell line: 1>\u001b[1;34m()\u001b[0m\n\u001b[1;32m----> 1\u001b[0m \u001b[43mname\u001b[49m\n",
      "\u001b[1;31mNameError\u001b[0m: name 'name' is not defined"
     ]
    }
   ],
   "source": [
    "name"
   ]
  },
  {
   "cell_type": "markdown",
   "id": "13c85f26",
   "metadata": {},
   "source": [
    "### Global variables\n",
    "\n",
    "Global variables are declared outside functions but within the module that you are working with."
   ]
  },
  {
   "cell_type": "code",
   "execution_count": 23,
   "id": "49aa8722",
   "metadata": {},
   "outputs": [],
   "source": [
    "name = 'Lucho'   # global scope (available inside and outside functions)"
   ]
  },
  {
   "cell_type": "code",
   "execution_count": 24,
   "id": "d83b81b0",
   "metadata": {},
   "outputs": [
    {
     "name": "stdout",
     "output_type": "stream",
     "text": [
      "Lucho\n"
     ]
    }
   ],
   "source": [
    "print(name)"
   ]
  },
  {
   "cell_type": "markdown",
   "id": "bb1b8b57",
   "metadata": {},
   "source": [
    "Global variables are available inside and outside from any function:"
   ]
  },
  {
   "cell_type": "code",
   "execution_count": 30,
   "id": "ca2810f4",
   "metadata": {},
   "outputs": [],
   "source": [
    "def display_name_global():\n",
    "    print(f'My name is {name}!')"
   ]
  },
  {
   "cell_type": "code",
   "execution_count": 31,
   "id": "a0bfa586",
   "metadata": {},
   "outputs": [
    {
     "name": "stdout",
     "output_type": "stream",
     "text": [
      "My name is Lucho!\n"
     ]
    }
   ],
   "source": [
    "display_name_global()"
   ]
  },
  {
   "cell_type": "markdown",
   "id": "51f3e8a8",
   "metadata": {},
   "source": [
    "### Global and local variables toghether\n",
    "\n",
    "It is entirely possible to have both, a global and a local version of the same named variable. \n",
    "\n",
    "Let us say, a global and a local variables called `name`.\n",
    "\n",
    "The global variable is already defined and we can call it:"
   ]
  },
  {
   "cell_type": "code",
   "execution_count": 32,
   "id": "489bab9b",
   "metadata": {},
   "outputs": [
    {
     "data": {
      "text/plain": [
       "'Lucho'"
      ]
     },
     "execution_count": 32,
     "metadata": {},
     "output_type": "execute_result"
    }
   ],
   "source": [
    "name"
   ]
  },
  {
   "cell_type": "markdown",
   "id": "1ccfdf15",
   "metadata": {},
   "source": [
    "We can have both a global and a local version of the same named variable:"
   ]
  },
  {
   "cell_type": "code",
   "execution_count": 33,
   "id": "4ca1abc3",
   "metadata": {},
   "outputs": [
    {
     "name": "stdout",
     "output_type": "stream",
     "text": [
      "How are you, Winona Ryder?\n"
     ]
    }
   ],
   "source": [
    "display_name()"
   ]
  },
  {
   "cell_type": "markdown",
   "id": "71b79f2c",
   "metadata": {},
   "source": [
    "Remember that the function with a local variable called `name` has been already defined as well as a global variable called `name`.\n",
    "\n",
    "> ``` \n",
    "> name = 'Lucho'   \n",
    "> # global scope (available inside and outside functions)\n",
    "> \n",
    ">\n",
    "> def display_name():\n",
    ">\n",
    ">       name = 'Winona Ryder'\n",
    ">\n",
    ">       # local scope (available only indise this function)\n",
    ">\n",
    ">       print(f'How are you, {name}?')\n",
    ">```"
   ]
  },
  {
   "cell_type": "markdown",
   "id": "d2913778",
   "metadata": {},
   "source": [
    "If you use both, your code will always use the local version of that variable inside the function if available."
   ]
  },
  {
   "cell_type": "code",
   "execution_count": 34,
   "id": "ab34a030",
   "metadata": {},
   "outputs": [
    {
     "name": "stdout",
     "output_type": "stream",
     "text": [
      "name's identifierier: 3004414302576\n"
     ]
    }
   ],
   "source": [
    "print(f\"name's identifierier: {id(name)}\")"
   ]
  },
  {
   "cell_type": "code",
   "execution_count": 35,
   "id": "66842971",
   "metadata": {},
   "outputs": [],
   "source": [
    "def my_name():\n",
    "    name = 'Winona Ryder'\n",
    "    print(f'How are you, {name}? Your variable identifier is {id(name)}')"
   ]
  },
  {
   "cell_type": "code",
   "execution_count": 36,
   "id": "4c56f41d",
   "metadata": {},
   "outputs": [
    {
     "name": "stdout",
     "output_type": "stream",
     "text": [
      "How are you, Winona Ryder? Your variable identifier is 3004450878832\n"
     ]
    }
   ],
   "source": [
    "my_name()"
   ]
  },
  {
   "cell_type": "markdown",
   "id": "f791ef48",
   "metadata": {},
   "source": [
    "**If there is no local variable, Python will use the global version istead.**"
   ]
  },
  {
   "cell_type": "markdown",
   "id": "baa1a4a0",
   "metadata": {},
   "source": [
    "<img align=\"left\" width=\"300\"  src=\"Images/Scope.png\">\n",
    "\n",
    "&nbsp; Python uses  the LEGB rule:\n",
    "\n",
    "> ```\n",
    ">          L = Local\n",
    "> \n",
    ">          E = Enclosing\n",
    ">\n",
    ">          G = Global\n",
    ">\n",
    ">          B = Built-in\n",
    "> ```  "
   ]
  },
  {
   "cell_type": "markdown",
   "id": "c8a5411d",
   "metadata": {},
   "source": [
    "## Watch out!"
   ]
  },
  {
   "cell_type": "code",
   "execution_count": 1,
   "id": "3e9b5295",
   "metadata": {},
   "outputs": [],
   "source": [
    "hola = 'Una cosa'\n",
    "def my_sum(my_list,*integers):\n",
    "    result = 0\n",
    "    hola = 'Otra cosa'     # local scope (available only indise this function)\n",
    "    for item in my_list:\n",
    "        result += item\n",
    "        \n",
    "    for x in integers:\n",
    "        result += x\n",
    "    \n",
    "    print ('Local variable:', hola,id(hola))\n",
    "    return result, hola"
   ]
  },
  {
   "cell_type": "code",
   "execution_count": 2,
   "id": "ac42a02b",
   "metadata": {},
   "outputs": [
    {
     "name": "stdout",
     "output_type": "stream",
     "text": [
      "Local variable: Otra cosa 2214369888560\n"
     ]
    },
    {
     "data": {
      "text/plain": [
       "(15, 'Otra cosa')"
      ]
     },
     "execution_count": 2,
     "metadata": {},
     "output_type": "execute_result"
    }
   ],
   "source": [
    "my_sum([1,2,3], 4,5)"
   ]
  },
  {
   "cell_type": "code",
   "execution_count": 3,
   "id": "e131f600",
   "metadata": {},
   "outputs": [
    {
     "ename": "NameError",
     "evalue": "name 'result' is not defined",
     "output_type": "error",
     "traceback": [
      "\u001b[1;31m---------------------------------------------------------------------------\u001b[0m",
      "\u001b[1;31mNameError\u001b[0m                                 Traceback (most recent call last)",
      "Input \u001b[1;32mIn [3]\u001b[0m, in \u001b[0;36m<cell line: 1>\u001b[1;34m()\u001b[0m\n\u001b[1;32m----> 1\u001b[0m \u001b[43mresult\u001b[49m\n",
      "\u001b[1;31mNameError\u001b[0m: name 'result' is not defined"
     ]
    }
   ],
   "source": [
    "result"
   ]
  },
  {
   "cell_type": "code",
   "execution_count": 4,
   "id": "e9e8e85b",
   "metadata": {},
   "outputs": [
    {
     "name": "stdout",
     "output_type": "stream",
     "text": [
      "Global variable: Una cosa -> with identifier: 2214369641328\n",
      "\n",
      "Local variable: Otra cosa 2214369888560\n",
      "Global variable: Otra cosa -> with identifier: 2214369888560\n",
      "\n"
     ]
    }
   ],
   "source": [
    "print('Global variable:', hola, '-> with identifier:', id(hola))\n",
    "print()\n",
    "\n",
    "result, hola = my_sum([1,2,3], 4)"
   ]
  },
  {
   "cell_type": "code",
   "execution_count": 5,
   "id": "e31f149f",
   "metadata": {},
   "outputs": [
    {
     "name": "stdout",
     "output_type": "stream",
     "text": [
      "I have 'globalized' my local variable: Otra cosa -> with identifier: 2214369888560\n"
     ]
    }
   ],
   "source": [
    "print(\"I have 'globalized' my local variable:\", hola, '-> with identifier:', id(hola))"
   ]
  },
  {
   "cell_type": "markdown",
   "id": "9161fe70",
   "metadata": {},
   "source": [
    "## Enclosing scopes\n",
    "\n",
    "Enclosing (or nonlocal) scope is a special scope that only exists for nested functions. If the local scope is an inner or nested function, then the enclosing scope is the scope of the outer or enclosing function. This scope contains the names that you define in the enclosing function."
   ]
  },
  {
   "cell_type": "code",
   "execution_count": 15,
   "id": "cafb7fe7",
   "metadata": {},
   "outputs": [],
   "source": [
    "z='!'\n",
    "def myfunc():\n",
    "    x = 'This variable is defined outside the most inner function, '\n",
    "    \n",
    "    def myinnerfunc():\n",
    "        y = 'but it is availebale in the most inner function'\n",
    "        print(x+y+z)\n",
    "    \n",
    "    myinnerfunc()"
   ]
  },
  {
   "cell_type": "code",
   "execution_count": 16,
   "id": "c56df9af",
   "metadata": {},
   "outputs": [],
   "source": [
    "myfunc()"
   ]
  },
  {
   "cell_type": "code",
   "execution_count": 10,
   "id": "32f5fc97",
   "metadata": {},
   "outputs": [
    {
     "data": {
      "text/plain": [
       "'!'"
      ]
     },
     "execution_count": 10,
     "metadata": {},
     "output_type": "execute_result"
    }
   ],
   "source": [
    "z"
   ]
  },
  {
   "cell_type": "markdown",
   "id": "cf33649e",
   "metadata": {},
   "source": [
    "Clearly, neither `x` nor `y` is available outside of either function.\n",
    "\n",
    "* I cannot use `y` outside `myinnerfunc()`.\n",
    "\n",
    "\n",
    "* I cannot use `x` outside `myfunc()`, but I can use `x` inside `myfunc()` or `myinnerfunc()`.\n",
    "\n",
    "<br>\n",
    "\n",
    "<h1><center>\n",
    "    <span style=\"color:blue\"> Unless I use the global keyword!!! </span>\n",
    "    </center></h1>"
   ]
  },
  {
   "cell_type": "markdown",
   "id": "8133377f",
   "metadata": {},
   "source": [
    "## The Global Keyword\n",
    "\n",
    "The `global` keyword makes the variable global."
   ]
  },
  {
   "cell_type": "code",
   "execution_count": 17,
   "id": "4b53105f",
   "metadata": {},
   "outputs": [],
   "source": [
    "def myfunc():\n",
    "    global x\n",
    "    x = 'This variable is defined outside the most inner function, '\n",
    "    \n",
    "    def myinnerfunc():\n",
    "        global y\n",
    "        y = 'but it is availebale in the most inner function.'\n",
    "        print(x+y)\n",
    "    \n",
    "    myinnerfunc()"
   ]
  },
  {
   "cell_type": "code",
   "execution_count": 18,
   "id": "954ef7eb",
   "metadata": {},
   "outputs": [
    {
     "name": "stdout",
     "output_type": "stream",
     "text": [
      "This variable is defined outside the most inner function, but it is availebale in the most inner function.\n"
     ]
    }
   ],
   "source": [
    "myfunc()"
   ]
  },
  {
   "cell_type": "code",
   "execution_count": 19,
   "id": "f77ae3c1",
   "metadata": {},
   "outputs": [
    {
     "name": "stdout",
     "output_type": "stream",
     "text": [
      "This variable is defined outside the most inner function, but it is availebale in the most inner function.\n",
      "\n",
      "If I use the global keyword, now both variables are available outside the functions.\n"
     ]
    }
   ],
   "source": [
    "print(x+y+ '\\n\\nIf I use the global keyword, now both variables are available outside the functions.')"
   ]
  },
  {
   "cell_type": "markdown",
   "id": "5f8afb2d",
   "metadata": {},
   "source": [
    "###  Other uses\n",
    "\n",
    "Also, use the `global` keyword if you want to make a change to a global variable inside a function."
   ]
  },
  {
   "cell_type": "code",
   "execution_count": 20,
   "id": "19d9c563",
   "metadata": {},
   "outputs": [
    {
     "name": "stdout",
     "output_type": "stream",
     "text": [
      "300 -> 2214398546320\n",
      "3 -> 2214282488176\n"
     ]
    }
   ],
   "source": [
    "x = 300\n",
    "print(x, '->', id(x))\n",
    "\n",
    "x = 3\n",
    "print(x, '->', id(x))\n",
    "\n",
    "def myfunc():\n",
    "    global x\n",
    "    x = 200\n",
    "    print(x, '->', id(x))"
   ]
  },
  {
   "cell_type": "code",
   "execution_count": 21,
   "id": "3b3dd0b6",
   "metadata": {},
   "outputs": [
    {
     "name": "stdout",
     "output_type": "stream",
     "text": [
      "200 -> 2214282683024\n",
      "200 -> 2214282683024\n"
     ]
    }
   ],
   "source": [
    "myfunc()\n",
    "\n",
    "print(x, '->', id(x))"
   ]
  },
  {
   "cell_type": "markdown",
   "id": "99178339",
   "metadata": {},
   "source": [
    "[Check this article!](https://favtutor.com/blogs/nonlocal-python#:~:text=The%20main%20difference%20is%20that,scope%20that%20is%20not%20global.)"
   ]
  }
 ],
 "metadata": {
  "kernelspec": {
   "display_name": "Python 3 (ipykernel)",
   "language": "python",
   "name": "python3"
  },
  "language_info": {
   "codemirror_mode": {
    "name": "ipython",
    "version": 3
   },
   "file_extension": ".py",
   "mimetype": "text/x-python",
   "name": "python",
   "nbconvert_exporter": "python",
   "pygments_lexer": "ipython3",
   "version": "3.11.5"
  },
  "toc": {
   "base_numbering": 1,
   "nav_menu": {},
   "number_sections": true,
   "sideBar": true,
   "skip_h1_title": true,
   "title_cell": "Table of Contents",
   "title_sidebar": "Contents",
   "toc_cell": false,
   "toc_position": {},
   "toc_section_display": true,
   "toc_window_display": false
  }
 },
 "nbformat": 4,
 "nbformat_minor": 5
}
