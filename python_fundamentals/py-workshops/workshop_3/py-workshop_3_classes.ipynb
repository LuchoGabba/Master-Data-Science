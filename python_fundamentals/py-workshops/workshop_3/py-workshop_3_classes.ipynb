{
 "cells": [
  {
   "cell_type": "markdown",
   "metadata": {},
   "source": [
    "## Python OOP in Action: Building a Media Library\n",
    "\n",
    "In this workshop, you'll create a system of classes representing different types of media content, such as books, movies, and podcasts. This setup will allow you to explore and demonstrate key concepts in Object-Oriented Programming (OOP), particularly polymorphism, inheritance, and method overriding.\n",
    "\n",
    "**Resources:**\n",
    "\n",
    "* Python Polymorphism Tutorial: Gain insights into how polymorphism works in Python, with examples and explanations. [Programiz Python Polymorphism](https://www.programiz.com/python-programming/polymorphism)\n",
    "\n",
    "* Python Official Documentation on Classes: [Python 3.10.4 Documentation](https://docs.python.org/3/tutorial/classes.html)"
   ]
  },
  {
   "cell_type": "markdown",
   "metadata": {},
   "source": [
    "**Tentative Roadmap:**\n",
    "\n",
    "1. Create a Base Class 'Media' and define its methods:\n",
    "\n",
    "    * **Base class constructor** initializes the `title` attribute.\n",
    "\n",
    "    * **Abstract Method** - `display_info()`: Include an abstract method `display_info()`. This method should be declared but not implemented, raising a `NotImplementedError(\"Subclasses must implement this method\")`. This design enforces that each subclass must provide its own specific implementation of this method, illustrating the concept of abstract methods in classes.\n",
    "\n",
    "    * **Method** - `media_type()`: This method should dynamically return the type of the media based on the class/subclass it's called from. This can be achieved using the `__class__` attribute, which provides the class of the instance. The `.__name__` attribute of the class can then be used to get the class name as a string, which will be 'Book', 'Movie', or 'Podcast' for instances of these classes.\n",
    "    \n",
    "    * **Method** - `display_title()`: This method should return the title of the media item. It provides a standard way to access the title attribute across all subclasses.\n",
    "\n",
    "    \n",
    "2. Define Subclasses with Specific Implementations:\n",
    "\n",
    "    * Create subclasses `Book`, `Movie`, and `Podcast`, inheriting from the `Media` class.\n",
    "\n",
    "    * In each subclass, implement the constructor to initialize class-specific attributes along with the `title` (add at least 2 more attributes).\n",
    "\n",
    "    * Override the `display_info()` method in each subclass to display information relevant to that particular media type, demonstrating method overriding and how subclasses can provide specific implementations of a general method provided by the base class.\n",
    "\n",
    "\n",
    "3. Explore Polymorphism:\n",
    "\n",
    "    * Understand and demonstrate polymorphism by implementing a function that takes a list of `Media` objects (which could be instances of `Book`, `Movie`, or `Podcast`) and calls the `display_info()` method on each.\n",
    "\n",
    "    * This function will highlight polymorphism, where the same method name (`display_info()`) behaves differently depending on the class of the object it's invoked on."
   ]
  },
  {
   "cell_type": "markdown",
   "metadata": {},
   "source": [
    "### 1. Define, inicialize and explore the `Media` class"
   ]
  },
  {
   "cell_type": "code",
   "execution_count": 3,
   "metadata": {},
   "outputs": [],
   "source": [
    "# Type your code here:\n",
    "\n",
    "# Base class\n",
    "class Media:\n",
    "    def __init__(self, title):\n",
    "        self.title = title\n",
    "\n",
    "    def display_info(self):\n",
    "        raise NotImplementedError(\"Subclasses must implement this method\")\n",
    "    \n",
    "    def media_type(self):\n",
    "        return f\"This is a '{self.__class__.__name__}' media item.\"\n",
    "\n",
    "    # Method to display the title of Media instance\n",
    "    def display_title(self):\n",
    "        return f\"'{self.__class__.__name__}' Title: {self.title}\""
   ]
  },
  {
   "cell_type": "code",
   "execution_count": 5,
   "metadata": {},
   "outputs": [
    {
     "name": "stdout",
     "output_type": "stream",
     "text": [
      "This is a 'Media' media item.\n",
      "'Media' Title: Generic Media Title\n"
     ]
    }
   ],
   "source": [
    "# Example of creating and displaying a Media instance\n",
    "generic_media = Media(\"Generic Media Title\")\n",
    "print(generic_media.media_type())\n",
    "print(generic_media.display_title())\n",
    "\n",
    "# This will raise an error because display_info() is not implemented in Media\n",
    "# print(generic_media.display_info())"
   ]
  },
  {
   "cell_type": "markdown",
   "metadata": {},
   "source": [
    "### 2. Define, inicialize and explore all subclasses: `Book`, `Movie` and `Podcast`"
   ]
  },
  {
   "cell_type": "code",
   "execution_count": 18,
   "metadata": {},
   "outputs": [],
   "source": [
    "# Subclass for books\n",
    "class Book(Media):\n",
    "    def __init__(self, title, author, pages):\n",
    "        super().__init__(title)\n",
    "        self.author = author\n",
    "        self.pages = pages\n",
    "\n",
    "    def display_info(self):\n",
    "        return f\"Book: {self.title} by {self.author}, {self.pages} pages\"\n",
    "\n",
    "# Subclass for movies\n",
    "class Movie(Media):\n",
    "    def __init__(self, title, director, duration):\n",
    "        super().__init__(title)\n",
    "        self.director = director\n",
    "        self.duration = duration\n",
    "\n",
    "    def display_info(self):\n",
    "        return f\"Movie: {self.title}, directed by {self.director}, Duration: {self.duration} minutes\"\n",
    "\n",
    "# Subclass for podcasts\n",
    "class Podcast(Media):\n",
    "    def __init__(self, title, host, episodes):\n",
    "        super().__init__(title)\n",
    "        self.host = host\n",
    "        self.episodes = episodes\n",
    "\n",
    "    def display_info(self):\n",
    "        return f\"Podcast: {self.title}, hosted by {self.host}, {self.episodes} episodes\""
   ]
  },
  {
   "cell_type": "code",
   "execution_count": 19,
   "metadata": {},
   "outputs": [],
   "source": [
    "# Creating instances of each media type\n",
    "book_Orwell = Book(\"1984\", \"George Orwell\", 328)\n",
    "movie = Movie(\"Inception\", \"Christopher Nolan\", 148)\n",
    "podcast = Podcast(\"Science Vs\", \"Wendy Zukerman\", 200)"
   ]
  },
  {
   "cell_type": "code",
   "execution_count": 20,
   "metadata": {},
   "outputs": [
    {
     "name": "stdout",
     "output_type": "stream",
     "text": [
      "Book: 1984 by George Orwell, 328 pages\n",
      "This is a 'Book' media item.\n",
      "Book Title: 1984\n"
     ]
    }
   ],
   "source": [
    "# Displaying the content of the book instance\n",
    "print(book_Orwell.display_info())\n",
    "print(book_Orwell.media_type())\n",
    "print(book_Orwell.display_title())"
   ]
  },
  {
   "cell_type": "markdown",
   "metadata": {},
   "source": [
    "### 3. Explore Polymorphism"
   ]
  },
  {
   "cell_type": "code",
   "execution_count": null,
   "metadata": {},
   "outputs": [],
   "source": [
    "# Function to display information of any media type\n",
    "def display_media_info(media_list):\n",
    "    for media in media_list:\n",
    "        print(media.display_info())\n",
    "        print(media.media_type())  # Calling the dynamic method"
   ]
  },
  {
   "cell_type": "code",
   "execution_count": null,
   "metadata": {},
   "outputs": [],
   "source": [
    "# Creating instances of each media type\n",
    "book = Book(\"1984\", \"George Orwell\", 328)\n",
    "movie = Movie(\"Inception\", \"Christopher Nolan\", 148)\n",
    "podcast = Podcast(\"Science Vs\", \"Wendy Zukerman\", 200)\n",
    "\n",
    "# Displaying information of all media instances\n",
    "media_items = [book, movie, podcast]\n",
    "display_media_info(media_items)"
   ]
  }
 ],
 "metadata": {
  "kernelspec": {
   "display_name": "Assembler",
   "language": "python",
   "name": "python3"
  },
  "language_info": {
   "codemirror_mode": {
    "name": "ipython",
    "version": 3
   },
   "file_extension": ".py",
   "mimetype": "text/x-python",
   "name": "python",
   "nbconvert_exporter": "python",
   "pygments_lexer": "ipython3",
   "version": "3.11.5"
  }
 },
 "nbformat": 4,
 "nbformat_minor": 2
}
