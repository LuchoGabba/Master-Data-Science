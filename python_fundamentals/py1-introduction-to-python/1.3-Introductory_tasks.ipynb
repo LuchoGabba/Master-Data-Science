{
 "cells": [
  {
   "cell_type": "markdown",
   "id": "413f4c2a",
   "metadata": {},
   "source": [
    "# Introductory Task Sheet:\n",
    "\n",
    "by [Luciano Gabbanelli](https://www.linkedin.com/in/luciano-gabbanelli-ph-d-75302218)"
   ]
  },
  {
   "cell_type": "markdown",
   "id": "fcc8fc33",
   "metadata": {},
   "source": [
    "<img style=\"margin-right: 50px;\" width=80 src=\"https://media.giphy.com/media/KAq5w47R9rmTuvWOWa/giphy.gif\">\n",
    "\n",
    "<img width=80 src=\"../../logos/Assembler.png\">\n",
    "\n",
    "***"
   ]
  },
  {
   "cell_type": "markdown",
   "id": "1eeef4db",
   "metadata": {},
   "source": [
    "# Important:\n",
    "\n",
    "- Comment your code explaining what each part does when you consider it.\n",
    "- We are asking about two types of problems. The first type are solved with code cells, and the second with markdown type cells (where the solution must be thought without executing code cells). This will be indicated in each problem.\n",
    "- Always respect the format of the solution and the instructions!"
   ]
  },
  {
   "cell_type": "markdown",
   "id": "9e90dfa2",
   "metadata": {},
   "source": [
    "# Recommendations:\n",
    "\n",
    "- There are as many ways to solve a problem as there are people in the world. Find yours!\n",
    "- Create as many variables as you want. They cost nothing and are worth it for the sake of clarity.\n",
    "- You can add cells if needed. \n",
    "- Remember that there are two types of cells: code and markdown. \n",
    "- Use both. Explanations never hurt.\n",
    "- There are several ways to approach the same problem. Try not to repeat your way of thinking. Explore different ways to achieve same results. \n",
    "- If different syntaxes lead to the same result, explore them. For example, if you use the print function, sometimes use f-strings, sometimes .format() and sometimes the syntax with %. Explore how each works.\n",
    "- Use internet in a smart way. Don't look at how to solve the problem in its entirety; it is better to learn methods that lead your logical reasoning to the solution.\n",
    "- Once you have a plan to address the problem, try breaking your code into manageable chunks.\n",
    "- Use `print()` and `type()` functions in the middle of your code to understand what your code is actually doing.\n",
    "- Use as many `print()` and `type()` as you consider until you understand the sintaxis."
   ]
  },
  {
   "cell_type": "markdown",
   "id": "92b04bae",
   "metadata": {},
   "source": [
    "***\n",
    "## Which number is bigger, $10^9$ or $9^{10}$?"
   ]
  },
  {
   "cell_type": "code",
   "execution_count": null,
   "id": "84a311d0",
   "metadata": {},
   "outputs": [],
   "source": [
    "# Type the code here:\n",
    "\n"
   ]
  },
  {
   "cell_type": "markdown",
   "id": "2fc21aa0",
   "metadata": {},
   "source": [
    "## Variables\n",
    "\n",
    "Store in a variable the result of the division of two integer variables. What type of variable is this result?"
   ]
  },
  {
   "cell_type": "code",
   "execution_count": null,
   "id": "ba518173",
   "metadata": {},
   "outputs": [],
   "source": [
    "# Type the code here:\n",
    "\n"
   ]
  },
  {
   "cell_type": "markdown",
   "id": "4f275752",
   "metadata": {},
   "source": [
    "## Rounding\n",
    "\n",
    "Let three numbers be `𝑎 = 5.5` , `𝑏 = 2.5` and `𝑐 = 𝑎 * 𝑏`.\n",
    "\n",
    "a. Enter these parameters as variables and print them rounded to an integer (int).\n",
    "\n",
    "b. Round `a` and `b` to an integer first, and then compute `c` as the product of `a` and `b` rounded.\n",
    "\n",
    "𝑐 . If you calculate `c` as the product of `a` and `b` (without rounding) and then round the result, what do you notice?"
   ]
  },
  {
   "cell_type": "code",
   "execution_count": null,
   "id": "eadec871",
   "metadata": {},
   "outputs": [],
   "source": [
    "# Type the code here:\n",
    "\n"
   ]
  },
  {
   "cell_type": "markdown",
   "id": "f549eb0f",
   "metadata": {},
   "source": [
    "## Variable type\n",
    "\n",
    "What type of variable does Python return when applying `round(x,n)`? \n",
    "\n",
    "(where `x` is a float and `n` is the number of decimal places one wishes to round to)\n",
    "\n",
    "Is it the same for n = 0, i.e. when rounded to an integer number?"
   ]
  },
  {
   "cell_type": "code",
   "execution_count": null,
   "id": "3f068ee2",
   "metadata": {},
   "outputs": [],
   "source": [
    "# Type the code here:\n",
    "\n"
   ]
  },
  {
   "cell_type": "markdown",
   "id": "8575e573",
   "metadata": {},
   "source": [
    "## Compound interest\n",
    "\n",
    "Suppose a principal amount of €500 is deposited in a bank and left for 5 years with interest compounded at 2% per annum. How much money do I end up with? (work only with two decimals)\n",
    "\n",
    "[Compound interest](https://es.wikipedia.org/wiki/Inter%C3%A9s_compuesto)"
   ]
  },
  {
   "cell_type": "code",
   "execution_count": null,
   "id": "bcc29833",
   "metadata": {},
   "outputs": [],
   "source": [
    "# Type the code here:\n",
    "\n"
   ]
  },
  {
   "cell_type": "markdown",
   "id": "b1e0567a",
   "metadata": {},
   "source": [
    "## Why not a simple square? \n",
    "Write a Python program that calculates the volume (in cubic meters) and the area (in square meters) of a sphere of any radius (in meters) entered as input. The output must be rounded to 2 digits for the volume and 3 for the area."
   ]
  },
  {
   "cell_type": "code",
   "execution_count": null,
   "id": "1a268113",
   "metadata": {},
   "outputs": [],
   "source": [
    "# Type the code here:\n",
    "\n"
   ]
  },
  {
   "cell_type": "markdown",
   "id": "00278986",
   "metadata": {},
   "source": [
    "## Try first to solve this without running code cells:\n",
    "\n",
    "- What value will you get from executing 5 > 5?"
   ]
  },
  {
   "cell_type": "markdown",
   "id": "27652d40",
   "metadata": {},
   "source": [
    "*Write the solution in this markdown cell:*\n",
    "\n",
    "\n",
    ".\n",
    "\n",
    "\n",
    "."
   ]
  },
  {
   "cell_type": "markdown",
   "id": "ea7113f9",
   "metadata": {},
   "source": [
    "- and from executing 5 >= 5?"
   ]
  },
  {
   "cell_type": "markdown",
   "id": "9cf3e653",
   "metadata": {},
   "source": [
    "*Write the solution in this markdown cell:*\n",
    "\n",
    "\n",
    ".\n",
    "\n",
    "\n",
    "."
   ]
  },
  {
   "cell_type": "markdown",
   "id": "556956df",
   "metadata": {},
   "source": [
    "- Are operators == and != valid for strings?"
   ]
  },
  {
   "cell_type": "markdown",
   "id": "e3a2302e",
   "metadata": {},
   "source": [
    "*Write the solution in this markdown cell:*\n",
    "\n",
    "\n",
    ".\n",
    "\n",
    "\n",
    "."
   ]
  },
  {
   "cell_type": "markdown",
   "id": "6f83b02b",
   "metadata": {},
   "source": [
    "## Of quotients and remainders\n",
    "\n",
    "Write a program that asks the user for an integer and reports the value of the quotient and the remainder when divided by seven."
   ]
  },
  {
   "cell_type": "code",
   "execution_count": null,
   "id": "3e689d17",
   "metadata": {
    "scrolled": true
   },
   "outputs": [],
   "source": [
    "# Type the code here:\n",
    "\n"
   ]
  },
  {
   "cell_type": "markdown",
   "id": "7e1aa3c0",
   "metadata": {},
   "source": [
    "## First steps on databases\n",
    "\n",
    "Make a Python program that prints on screen your data that will have been requested by keyboard:\n",
    "\n",
    "- Name(s)\n",
    "- Surname(s)\n",
    "- Age\n",
    "- Address\n",
    "- Mail\n",
    "\n",
    "Next, write a code that with the entered age computes the year of birth."
   ]
  },
  {
   "cell_type": "code",
   "execution_count": null,
   "id": "bb8493cc",
   "metadata": {},
   "outputs": [],
   "source": [
    "# Type the code here:\n",
    "\n"
   ]
  },
  {
   "cell_type": "markdown",
   "id": "45c0fa4a",
   "metadata": {},
   "source": [
    "## IVA\n",
    "\n",
    "Write a program that queries a product and its price, and returns the value of the IVA.\n",
    "Show the data on the screen, taking into account that if the entered price has more than 3 decimal places, we want it to be rounded to exactly 2."
   ]
  },
  {
   "cell_type": "code",
   "execution_count": null,
   "id": "4cd9a513",
   "metadata": {},
   "outputs": [],
   "source": [
    "# Type the code here:\n",
    "\n"
   ]
  },
  {
   "cell_type": "markdown",
   "id": "d6a06f7b",
   "metadata": {},
   "source": [
    "## Reverse a string!  🤨"
   ]
  },
  {
   "cell_type": "code",
   "execution_count": null,
   "id": "5d839d35",
   "metadata": {},
   "outputs": [],
   "source": [
    "# Type the code here:\n",
    "\n"
   ]
  },
  {
   "cell_type": "markdown",
   "id": "5b435efa",
   "metadata": {},
   "source": [
    "## Uppercase Half String  😮"
   ]
  },
  {
   "cell_type": "code",
   "execution_count": null,
   "id": "1f504919",
   "metadata": {},
   "outputs": [],
   "source": [
    "# Type the code here:\n"
   ]
  },
  {
   "cell_type": "markdown",
   "id": "2c14da84",
   "metadata": {},
   "source": [
    "## Domains\n",
    "\n",
    "In your company, colegues are studying the statistical distribution of mail's domains of clients. Save your email in a variable and create an algorithm that extracts the domain from it. Print it on screen."
   ]
  },
  {
   "cell_type": "code",
   "execution_count": null,
   "id": "88442013",
   "metadata": {},
   "outputs": [],
   "source": [
    "# Type the code here:\n",
    "\n"
   ]
  }
 ],
 "metadata": {
  "kernelspec": {
   "display_name": "Python 3 (ipykernel)",
   "language": "python",
   "name": "python3"
  },
  "language_info": {
   "codemirror_mode": {
    "name": "ipython",
    "version": 3
   },
   "file_extension": ".py",
   "mimetype": "text/x-python",
   "name": "python",
   "nbconvert_exporter": "python",
   "pygments_lexer": "ipython3",
   "version": "3.9.12"
  },
  "toc": {
   "base_numbering": 1,
   "nav_menu": {},
   "number_sections": true,
   "sideBar": true,
   "skip_h1_title": true,
   "title_cell": "Table of Contents",
   "title_sidebar": "Contents",
   "toc_cell": false,
   "toc_position": {
    "height": "calc(100% - 180px)",
    "left": "10px",
    "top": "150px",
    "width": "375.851px"
   },
   "toc_section_display": true,
   "toc_window_display": true
  }
 },
 "nbformat": 4,
 "nbformat_minor": 5
}
