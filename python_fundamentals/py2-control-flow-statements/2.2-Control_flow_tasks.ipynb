{
 "cells": [
  {
   "cell_type": "markdown",
   "id": "413f4c2a",
   "metadata": {},
   "source": [
    "# Control Flow Task Sheet\n",
    "\n",
    "# Conditionals, loops and other stuff\n",
    "\n",
    "by [Luciano Gabbanelli](https://www.linkedin.com/in/luciano-gabbanelli-ph-d-75302218)"
   ]
  },
  {
   "cell_type": "markdown",
   "id": "76f51d36",
   "metadata": {},
   "source": [
    "<img style=\"margin-right: 50px;\" width=80 src=\"https://media.giphy.com/media/KAq5w47R9rmTuvWOWa/giphy.gif\">\n",
    "\n",
    "<img width=80 src=\"../../logos/Assembler.png\">\n",
    "\n",
    "***"
   ]
  },
  {
   "cell_type": "markdown",
   "id": "1eeef4db",
   "metadata": {},
   "source": [
    "# Important:\n",
    "\n",
    "- Comment your code explaining what each part does when you consider it.\n",
    "- We are asking about two types of problems. The first type are solved with code cells, and the second with markdown type cells (where the solution must be thought without executing code cells). This will be indicated in each problem.\n",
    "- Always respect the format of the solution and the instructions!"
   ]
  },
  {
   "cell_type": "markdown",
   "id": "9e90dfa2",
   "metadata": {},
   "source": [
    "# Recommendations:\n",
    "\n",
    "- There are as many ways to solve a problem as there are people in the world. Find yours!\n",
    "- Create as many variables as you want. They cost nothing and are worth it for the sake of clarity.\n",
    "- You can add cells if needed. \n",
    "- Remember that there are two types of cells: code and markdown. Use both. Explanations never hurt.\n",
    "- There are several ways to approach the same problem. Try not to repeat your way of thinking.\n",
    "- If different syntaxes lead to the same result, explore them.\n",
    "- Use internet in a smart way. Don't look at how to solve the problem in its entirety; it is better to learn methods that lead your logical reasoning to the solution.\n",
    "- Once you have a plan to address the problem, try breaking your code into manageable chunks.\n",
    "- Use `print()` and `type()` functions in the middle of your code to understand what your code is actually doing."
   ]
  },
  {
   "cell_type": "markdown",
   "id": "8e40902a",
   "metadata": {},
   "source": [
    "***"
   ]
  },
  {
   "cell_type": "markdown",
   "id": "78e87338",
   "metadata": {},
   "source": [
    "## Ask for a word\n",
    "\n",
    "Ask for a word. If it begins with a vowel, print 'The word you entered begins with a vowel'. If it ends with 'd', 'n' or 's', print 'I like the word .....', replacing the dots with the word entered. Finally, if neither is the case, print 'This exercise does not make any sense."
   ]
  },
  {
   "cell_type": "code",
   "execution_count": null,
   "id": "231e35ab",
   "metadata": {},
   "outputs": [],
   "source": [
    "# Type the code here:\n",
    "\n"
   ]
  },
  {
   "cell_type": "markdown",
   "id": "5aee1ee4",
   "metadata": {},
   "source": [
    "## Even or odd\n",
    "\n",
    "Write a program that asks for an integer and writes to the screen:\n",
    "\n",
    "- “The number entered is EVEN”, if it is even.\n",
    "\n",
    "\n",
    "- “The number entered is ODD”, in case it is odd."
   ]
  },
  {
   "cell_type": "code",
   "execution_count": null,
   "id": "4fc3b5dd",
   "metadata": {},
   "outputs": [],
   "source": [
    "# Type the code here:\n",
    "\n"
   ]
  },
  {
   "cell_type": "markdown",
   "id": "0b9246d8",
   "metadata": {},
   "source": [
    "## Solve without coding\n",
    "\n",
    "- What does the following code return?\n",
    "\n",
    "> `for i in range(2,26,2):`\n",
    ">\n",
    "> $\\qquad$ `print(i)`\n",
    "\n",
    "- Also, what does `range(2,26,2)` return?\n",
    "- What type of variable is `range(2,26,2)`?"
   ]
  },
  {
   "cell_type": "markdown",
   "id": "94bdd8fb",
   "metadata": {},
   "source": [
    "*Write the solution in this markdown cell:*\n",
    "\n",
    "\n",
    ".\n",
    "\n",
    "\n",
    "."
   ]
  },
  {
   "cell_type": "markdown",
   "id": "235d8bab",
   "metadata": {},
   "source": [
    "## Are the following commands helpfull?\n",
    "\n",
    "Play around with them. Learn something :)\n",
    "\n",
    "- The first cell is an interactive cell. Try `help> True`, `help> 'What you want'`. When you are done type `help> quit`."
   ]
  },
  {
   "cell_type": "code",
   "execution_count": null,
   "id": "d167fc4e",
   "metadata": {},
   "outputs": [],
   "source": [
    "help()"
   ]
  },
  {
   "cell_type": "markdown",
   "id": "e1177aec",
   "metadata": {},
   "source": [
    "- Subsequent cells present other ways to get help. Run them."
   ]
  },
  {
   "cell_type": "code",
   "execution_count": null,
   "id": "b59478c3",
   "metadata": {},
   "outputs": [],
   "source": [
    "help(print)"
   ]
  },
  {
   "cell_type": "code",
   "execution_count": null,
   "id": "288e3677",
   "metadata": {},
   "outputs": [],
   "source": [
    "help('random thing')"
   ]
  },
  {
   "cell_type": "code",
   "execution_count": null,
   "id": "970e35a3",
   "metadata": {},
   "outputs": [],
   "source": [
    "?print"
   ]
  },
  {
   "cell_type": "code",
   "execution_count": null,
   "id": "2e2f3426",
   "metadata": {},
   "outputs": [],
   "source": [
    "help('math')"
   ]
  },
  {
   "cell_type": "code",
   "execution_count": null,
   "id": "3cc9db5f",
   "metadata": {},
   "outputs": [],
   "source": [
    "+?"
   ]
  },
  {
   "cell_type": "code",
   "execution_count": null,
   "id": "c04f8e5f",
   "metadata": {},
   "outputs": [],
   "source": [
    "??"
   ]
  },
  {
   "cell_type": "markdown",
   "id": "811114bb",
   "metadata": {},
   "source": [
    "## Major, minor, even or odd\n",
    "\n",
    "Ask for two integer numbers as input and print which one is greater. Consider the case where they are equal. Within the print itself, include a message indicating whether the number that is greater is even or not.\n",
    "\n",
    "**Tip:** Don't even think about nesting ifs!! It is not a good practice."
   ]
  },
  {
   "cell_type": "code",
   "execution_count": null,
   "id": "dbe9fbf8",
   "metadata": {},
   "outputs": [],
   "source": [
    "# Type the code here:\n",
    "\n"
   ]
  },
  {
   "cell_type": "markdown",
   "id": "ce2567e5",
   "metadata": {},
   "source": [
    "## Adding odd numbers\n",
    "\n",
    "Of the first 50 numbers, how much do only the odd numbers add up to?\n",
    "\n",
    "(*Answer: 625*)"
   ]
  },
  {
   "cell_type": "code",
   "execution_count": null,
   "id": "478fe4d2",
   "metadata": {},
   "outputs": [],
   "source": [
    "# Type the code here:\n",
    "\n"
   ]
  },
  {
   "cell_type": "markdown",
   "id": "c76ccd86",
   "metadata": {},
   "source": [
    "## How old would I be in the year...\n",
    "Ask for the year of birth as input, and then ask for any year, either in the past or in the future from that date. If the year is before your date of birth, print the remaining years to reach the date of birth (e.g. `10 years to go until I am born`). If the year is later, print how old you will be then."
   ]
  },
  {
   "cell_type": "code",
   "execution_count": null,
   "id": "7806145f",
   "metadata": {},
   "outputs": [],
   "source": [
    "# Type the code here:\n",
    "\n"
   ]
  },
  {
   "cell_type": "markdown",
   "id": "21563dfd",
   "metadata": {},
   "source": [
    "## Passwords"
   ]
  },
  {
   "cell_type": "markdown",
   "id": "ea7d433f",
   "metadata": {},
   "source": [
    "Suppose you are in charge of the logging part of a mail server. The operation is as follows: the password defined by a user is saved as a string in a variable and will not be changed again. First, implement this; choose any password you can think of.\n",
    "\n",
    "The subsequent operation is based on requesting a password on the screen and printing if the entered password is correct or not, when compared with the saved variable.\n",
    "\n",
    "**Extra difficulty (or extra simplicity):** the passwords on this page are not case sensitive, so if the password is 'dog', if the user enters 'DoG', 'DOG' or doG, logging in will be successful."
   ]
  },
  {
   "cell_type": "code",
   "execution_count": null,
   "id": "41e4c04a",
   "metadata": {},
   "outputs": [],
   "source": [
    "# Type the code here:\n",
    "\n"
   ]
  },
  {
   "cell_type": "markdown",
   "id": "8c17d7d5",
   "metadata": {},
   "source": [
    "## Isolated question: \n",
    "\n",
    "What happens if the `type()` function is applied on the response to `type()` on a variable? And what does it mean?\n",
    "\n",
    "***Tip:*** *lean on google when you're lost.*"
   ]
  },
  {
   "cell_type": "code",
   "execution_count": null,
   "id": "465ca630",
   "metadata": {},
   "outputs": [],
   "source": [
    "# Type the code here:\n",
    "\n"
   ]
  },
  {
   "cell_type": "markdown",
   "id": "87ae21d6",
   "metadata": {},
   "source": [
    "## Mean\n",
    "\n",
    "Write a program with the following steps:\n",
    "\n",
    "a- Ask how many numbers the user will enter in total (let us call it N).\\\n",
    "b- Ask the user to enter these N numbers (not necessarily integers, they can be decimals), one by one, each as input.\\\n",
    "c- Print on the screen the value of the average of those N numbers.\\\n",
    "d- The average of N numbers must be rounded up! 😎\n",
    "\n",
    "***Tip:*** *within the math library you can find two very useful methods: floor() and ceil()*"
   ]
  },
  {
   "cell_type": "code",
   "execution_count": null,
   "id": "b635513f",
   "metadata": {},
   "outputs": [],
   "source": [
    "# Type the code here:\n",
    "\n"
   ]
  },
  {
   "cell_type": "markdown",
   "id": "cfd2fc72",
   "metadata": {},
   "source": [
    "## Fibonacci? Who is Fibonacci?\n",
    "\n",
    "Keep this problem in mind. We will use it again in Functions."
   ]
  },
  {
   "cell_type": "markdown",
   "id": "3ed8c9b3",
   "metadata": {},
   "source": [
    "Have you heard of the Fibonacci sequence? Do you know their applications?\n",
    "\n",
    "The Fibonacci numbers are defined by the following equations:\n",
    "\n",
    "> $f_0 = 0$\n",
    ">\n",
    "> $f_1 = 1$\n",
    ">\n",
    "> $f_n = f_{n-1} + f_{n-2}$\n",
    "\n",
    "where $n$ corresponds to the natural numbers $(\\,\\mathbb{N}_0\\,)$. Using a `while`, of the first 20 elements of this sequence, print only the odd ones. \n",
    "\n",
    "**Help/solution:**\n",
    "- term 1: 1\n",
    "- term 2: 1\n",
    "- term 3: 2 (DO NOT PRINT, IT IS EVEN)\n",
    "- term 4: 3\n",
    "- term 5: 5\n",
    "- term 6: 8 (DO NOT PRINT, IT IS EVEN)\n",
    "- ...\n",
    "- term 20: 6765"
   ]
  },
  {
   "cell_type": "code",
   "execution_count": null,
   "id": "ae4dae83",
   "metadata": {},
   "outputs": [],
   "source": [
    "# Type the code here:\n",
    "\n"
   ]
  },
  {
   "cell_type": "markdown",
   "id": "b2209889",
   "metadata": {},
   "source": [
    "## Which word is longer?\n",
    "\n",
    "Write a program that receives words (composed only of alphabetic characters) as input, and indicates which word is the longest. The program must be able to receive as many words as one wants and, after entering the last word, the ingestion must be interrupted with any non-alphabetic character. If the words are the same length, print any of them (maybe just the fist one?).\n",
    "\n",
    "\n",
    "**Help:** the [isalpha()](https://www.programiz.com/python-programming/methods/string/isalpha) method can help you stop word ingestion. Think how to implement it."
   ]
  },
  {
   "cell_type": "code",
   "execution_count": null,
   "id": "3ed74d9f",
   "metadata": {},
   "outputs": [],
   "source": [
    "# Type the code here:\n",
    "\n"
   ]
  }
 ],
 "metadata": {
  "kernelspec": {
   "display_name": "Python 3 (ipykernel)",
   "language": "python",
   "name": "python3"
  },
  "language_info": {
   "codemirror_mode": {
    "name": "ipython",
    "version": 3
   },
   "file_extension": ".py",
   "mimetype": "text/x-python",
   "name": "python",
   "nbconvert_exporter": "python",
   "pygments_lexer": "ipython3",
   "version": "3.9.12"
  },
  "toc": {
   "base_numbering": 1,
   "nav_menu": {},
   "number_sections": true,
   "sideBar": true,
   "skip_h1_title": true,
   "title_cell": "Table of Contents",
   "title_sidebar": "Contents",
   "toc_cell": false,
   "toc_position": {
    "height": "calc(100% - 180px)",
    "left": "10px",
    "top": "150px",
    "width": "375.851px"
   },
   "toc_section_display": true,
   "toc_window_display": true
  }
 },
 "nbformat": 4,
 "nbformat_minor": 5
}
