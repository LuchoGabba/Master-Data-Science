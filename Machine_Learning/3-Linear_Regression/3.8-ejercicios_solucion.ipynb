{
  "cells": [
    {
      "cell_type": "markdown",
      "metadata": {
        "id": "UDdiULPcvAfO"
      },
      "source": [
        "<a href=\"https://colab.research.google.com/github/institutohumai/cursos-python/blob/master/MachineLearning/2_RegresionLinealMultiple/ejercicios/ejercicios_solucion.ipynb\"> <img src='https://colab.research.google.com/assets/colab-badge.svg' /> </a>"
      ]
    },
    {
      "cell_type": "markdown",
      "metadata": {
        "id": "ZdpRrfFfvAfQ"
      },
      "source": [
        "#<font color='#97171e'>AIT - Master in Data Science</font> 📈\n",
        "# **Module 8: Class 5 - Regresión Lineal Múltiple**\n",
        "\n",
        "### Práctica"
      ]
    },
    {
      "cell_type": "markdown",
      "metadata": {
        "id": "WxpOVd9wH-wy"
      },
      "source": [
        "<img src='https://i.postimg.cc/T1S4gBfm/stautistics.jpg' width=\"400\"/>"
      ]
    },
    {
      "cell_type": "markdown",
      "metadata": {
        "id": "_SPz9y5WvAfV"
      },
      "source": [
        "### Ajustando una regresión lineal a datos de inmuebles\n",
        "\n",
        "Vamos a hacer un modelo de regresión lineal usando los datos de Properati e interpretar los coeficientes"
      ]
    },
    {
      "cell_type": "markdown",
      "metadata": {
        "id": "gmJmBkK5vAfV"
      },
      "source": [
        "- Descargar los datos de `https://datasets-humai.s3.amazonaws.com/datasets/properati_caba_2021.csv` y leerlo en un Dataframe"
      ]
    },
    {
      "cell_type": "code",
      "execution_count": 1,
      "metadata": {
        "id": "yjlB3dHjHiiv"
      },
      "outputs": [],
      "source": [
        "import pandas as pd\n",
        "from sklearn.linear_model import LinearRegression\n",
        "df = pd.read_csv('https://datasets-humai.s3.amazonaws.com/datasets/properati_caba_2021.csv')"
      ]
    },
    {
      "cell_type": "markdown",
      "metadata": {
        "id": "GPQzlkBXvAfW"
      },
      "source": [
        "- Importar la clase `LinearRegression` de scikit-learn"
      ]
    },
    {
      "cell_type": "code",
      "execution_count": 2,
      "metadata": {
        "id": "346F2INFeweJ"
      },
      "outputs": [],
      "source": [
        "modelo_lineal = LinearRegression(fit_intercept=True)"
      ]
    },
    {
      "cell_type": "code",
      "execution_count": 3,
      "metadata": {
        "colab": {
          "base_uri": "https://localhost:8080/"
        },
        "id": "jV5qS-pYfDN8",
        "outputId": "af58ec4f-87c3-4951-be20-732ca646c24e"
      },
      "outputs": [
        {
          "data": {
            "text/plain": [
              "Index(['id', 'lat', 'lon', 'l3', 'rooms', 'bathrooms', 'surface_total',\n",
              "       'surface_covered', 'price', 'property_type'],\n",
              "      dtype='object')"
            ]
          },
          "execution_count": 3,
          "metadata": {},
          "output_type": "execute_result"
        }
      ],
      "source": [
        "df.columns"
      ]
    },
    {
      "cell_type": "markdown",
      "metadata": {
        "id": "LY-X6u3SvAfY"
      },
      "source": [
        "- Hacer una función que nos permita indicar una lista de columnas de los datos, y ajuste una regresión con respecto a 'price', devolviendo los coeficientes\n",
        "- Usando esa función, tomar 1000 muestras del conjunto de datos, guardando los coeficientes resultantes en un nuevo dataframe\n",
        "- Para cada uno de los coeficientes (de cada variable), calcular el coeficiente de variación:\n",
        "\n",
        "$$C_V = \\frac{\\sigma}{\\bar{x}}$$"
      ]
    },
    {
      "cell_type": "code",
      "execution_count": 6,
      "metadata": {
        "id": "lOZKQpmifEUq"
      },
      "outputs": [],
      "source": [
        "def print_betas(col_list):\n",
        "  sample = df.sample(1000)\n",
        "  X = sample[col_list]\n",
        "  y = sample['price']\n",
        "  modelo_lineal.fit(X,y)\n",
        "  for i in range(len(col_list)):\n",
        "    print(f'El coeficiente de la variable {col_list[i]} es {modelo_lineal.coef_[i]}')"
      ]
    },
    {
      "cell_type": "code",
      "execution_count": 7,
      "metadata": {
        "colab": {
          "base_uri": "https://localhost:8080/"
        },
        "id": "cVHa2ENCgjCG",
        "outputId": "e5ba190d-b771-4ad0-e11c-4c0b30c74496"
      },
      "outputs": [
        {
          "name": "stdout",
          "output_type": "stream",
          "text": [
            "El coeficiente de la variable surface_covered es 1904.632290507635\n",
            "El coeficiente de la variable surface_total es 1499.8957876723016\n",
            "El coeficiente de la variable surface_covered es 4285.452007587473\n",
            "El coeficiente de la variable surface_total es -308.0121309278884\n",
            "El coeficiente de la variable surface_covered es 3881.6596615357184\n",
            "El coeficiente de la variable surface_total es -368.63033254423146\n"
          ]
        }
      ],
      "source": [
        "for i in range(3):\n",
        "  print_betas(['surface_covered','surface_total'])"
      ]
    },
    {
      "cell_type": "code",
      "execution_count": 8,
      "metadata": {
        "colab": {
          "base_uri": "https://localhost:8080/"
        },
        "id": "YWMZaSgIgqB2",
        "outputId": "d2d20e3c-9469-4b23-c416-b5fb4c1645c7"
      },
      "outputs": [
        {
          "name": "stdout",
          "output_type": "stream",
          "text": [
            "El coeficiente de la variable bathrooms es 41896.600118391034\n",
            "El coeficiente de la variable surface_total es 2458.694012828061\n",
            "El coeficiente de la variable bathrooms es 119641.45070224321\n",
            "El coeficiente de la variable surface_total es 2247.8932463806696\n",
            "El coeficiente de la variable bathrooms es 85949.84130397989\n",
            "El coeficiente de la variable surface_total es 2085.8772580855803\n"
          ]
        }
      ],
      "source": [
        "for i in range(3):\n",
        "  print_betas(['bathrooms', 'surface_total'])"
      ]
    },
    {
      "cell_type": "code",
      "execution_count": 9,
      "metadata": {
        "id": "9gzuw9vBhE6q"
      },
      "outputs": [],
      "source": [
        "def coef_model(col_list):\n",
        "  sample = df.sample(50)\n",
        "  X = sample[col_list]\n",
        "  y = sample['price']\n",
        "  modelo_lineal.fit(X,y)\n",
        "  return modelo_lineal.coef_"
      ]
    },
    {
      "cell_type": "code",
      "execution_count": 10,
      "metadata": {
        "id": "Va-Nrt8IjCsm"
      },
      "outputs": [],
      "source": [
        "coefs = []\n",
        "for i in range(1000):\n",
        "  coefs.append(coef_model(['bathrooms', 'surface_total']))\n",
        "df_coef = pd.DataFrame(coefs)"
      ]
    },
    {
      "cell_type": "code",
      "execution_count": 11,
      "metadata": {
        "colab": {
          "base_uri": "https://localhost:8080/"
        },
        "id": "rWcEE_wejq1n",
        "outputId": "4bc1717b-8558-4679-ba9d-02880de4e5d7"
      },
      "outputs": [
        {
          "data": {
            "text/plain": [
              "1.0802440886473819"
            ]
          },
          "execution_count": 11,
          "metadata": {},
          "output_type": "execute_result"
        }
      ],
      "source": [
        "df_coef[0].std()/df_coef[0].mean()"
      ]
    },
    {
      "cell_type": "code",
      "execution_count": 12,
      "metadata": {
        "colab": {
          "base_uri": "https://localhost:8080/"
        },
        "id": "atpRYc6DjsJk",
        "outputId": "c861b977-decd-4255-b4b8-268656e08b49"
      },
      "outputs": [
        {
          "data": {
            "text/plain": [
              "0.7288941584516412"
            ]
          },
          "execution_count": 12,
          "metadata": {},
          "output_type": "execute_result"
        }
      ],
      "source": [
        "df_coef[1].std()/df_coef[1].mean()"
      ]
    },
    {
      "cell_type": "code",
      "execution_count": 13,
      "metadata": {
        "id": "tzL7B580kOde"
      },
      "outputs": [],
      "source": [
        "coefs = []\n",
        "for i in range(1000):\n",
        "  coefs.append(coef_model(['surface_covered','surface_total']))\n",
        "df_coef = pd.DataFrame(coefs)"
      ]
    },
    {
      "cell_type": "code",
      "execution_count": 14,
      "metadata": {
        "colab": {
          "base_uri": "https://localhost:8080/"
        },
        "id": "MbGb0xM2kXfK",
        "outputId": "a60eef65-41d8-4a0c-8a25-bd155500cb63"
      },
      "outputs": [
        {
          "data": {
            "text/plain": [
              "1.0721446346904189"
            ]
          },
          "execution_count": 14,
          "metadata": {},
          "output_type": "execute_result"
        }
      ],
      "source": [
        "df_coef[0].std()/df_coef[0].mean()"
      ]
    },
    {
      "cell_type": "code",
      "execution_count": 15,
      "metadata": {
        "colab": {
          "base_uri": "https://localhost:8080/"
        },
        "id": "08gpnS53kZfN",
        "outputId": "6747898e-b365-41ce-b37b-a4c9673aa2cc"
      },
      "outputs": [
        {
          "data": {
            "text/plain": [
              "-6.959321169468918"
            ]
          },
          "execution_count": 15,
          "metadata": {},
          "output_type": "execute_result"
        }
      ],
      "source": [
        "df_coef[1].std()/df_coef[1].mean()"
      ]
    },
    {
      "cell_type": "code",
      "execution_count": 16,
      "metadata": {
        "id": "c80FYQx3kar6"
      },
      "outputs": [],
      "source": [
        "coefs = []\n",
        "for i in range(1000):\n",
        "  coefs.append(coef_model(['lon','surface_total']))\n",
        "df_coef = pd.DataFrame(coefs)"
      ]
    },
    {
      "cell_type": "code",
      "execution_count": 17,
      "metadata": {
        "colab": {
          "base_uri": "https://localhost:8080/"
        },
        "id": "V2xEA3OiAPYf",
        "outputId": "0b348c62-d743-4981-f0ba-d243c7505ec3"
      },
      "outputs": [
        {
          "data": {
            "text/plain": [
              "0.8707960994722672"
            ]
          },
          "execution_count": 17,
          "metadata": {},
          "output_type": "execute_result"
        }
      ],
      "source": [
        "df_coef[0].std()/df_coef[0].mean()"
      ]
    },
    {
      "cell_type": "code",
      "execution_count": 18,
      "metadata": {
        "colab": {
          "base_uri": "https://localhost:8080/"
        },
        "id": "FH6Gom0OASbq",
        "outputId": "f9bb056c-cc66-460f-af23-f5e1c7773724"
      },
      "outputs": [
        {
          "data": {
            "text/plain": [
              "0.4148189530652467"
            ]
          },
          "execution_count": 18,
          "metadata": {},
          "output_type": "execute_result"
        }
      ],
      "source": [
        "df_coef[1].std()/df_coef[1].mean()"
      ]
    }
  ],
  "metadata": {
    "colab": {
      "provenance": []
    },
    "kernelspec": {
      "display_name": "Python 3",
      "name": "python3"
    },
    "language_info": {
      "codemirror_mode": {
        "name": "ipython",
        "version": 3
      },
      "file_extension": ".py",
      "mimetype": "text/x-python",
      "name": "python",
      "nbconvert_exporter": "python",
      "pygments_lexer": "ipython3",
      "version": "3.11.4"
    }
  },
  "nbformat": 4,
  "nbformat_minor": 0
}
