{
  "cells": [
    {
      "cell_type": "markdown",
      "metadata": {
        "id": "2ticwdBNvEa4"
      },
      "source": [
        "<a href=\"https://colab.research.google.com/github/institutohumai/cursos-python/blob/master/MachineLearning/2_RegresionLinealMultiple/ejercicios/ejercicios.ipynb\"> <img src='https://colab.research.google.com/assets/colab-badge.svg' /> </a>"
      ]
    },
    {
      "cell_type": "markdown",
      "metadata": {
        "id": "KMU8S_FhvEa5"
      },
      "source": [
        "#<font color='#97171e'>AIT - Master in Data Science</font> 📈\n",
        "# **Module 8: Class 5 - Regresión Lineal Múltiple**\n",
        "\n",
        "### Práctica"
      ]
    },
    {
      "cell_type": "markdown",
      "metadata": {
        "id": "WxpOVd9wH-wy"
      },
      "source": [
        "<img src='https://i.postimg.cc/T1S4gBfm/stautistics.jpg' width=\"400\"/>"
      ]
    },
    {
      "cell_type": "markdown",
      "metadata": {
        "id": "I6qB4Z4QvEa9"
      },
      "source": [
        "### Ajustando una regresión lineal a datos de inmuebles\n",
        "\n",
        "Vamos a hacer un modelo de regresión lineal usando los datos de Properati e interpretar los coeficientes"
      ]
    },
    {
      "cell_type": "markdown",
      "metadata": {
        "id": "fyCFBrFUvEa9"
      },
      "source": [
        "- Descargar los datos de `https://datasets-humai.s3.amazonaws.com/datasets/properati_caba_2021.csv` y leerlo en un Dataframe"
      ]
    },
    {
      "cell_type": "code",
      "execution_count": null,
      "metadata": {
        "id": "yjlB3dHjHiiv"
      },
      "outputs": [],
      "source": []
    },
    {
      "cell_type": "markdown",
      "metadata": {
        "id": "6QkiawWGvEa_"
      },
      "source": [
        "- Importar la clase `LinearRegression` de scikit-learn"
      ]
    },
    {
      "cell_type": "code",
      "execution_count": null,
      "metadata": {
        "id": "346F2INFeweJ"
      },
      "outputs": [],
      "source": []
    },
    {
      "cell_type": "markdown",
      "metadata": {
        "id": "D3BnFiYFvEbA"
      },
      "source": [
        "- Hacer una función que nos permita indicar una lista de columnas de los datos, y ajuste una regresión con respecto a 'price', devolviendo los coeficientes\n",
        "- Usando esa función, tomar 1000 muestras del conjunto de datos, guardando los coeficientes resultantes en un nuevo dataframe\n",
        "- Para cada uno de los coeficientes (de cada variable), calcular el coeficiente de variación:\n",
        "\n",
        "$$C_V = \\frac{\\sigma}{\\bar{x}}$$"
      ]
    },
    {
      "cell_type": "code",
      "execution_count": null,
      "metadata": {
        "id": "G6_gSYnSvEbA"
      },
      "outputs": [],
      "source": []
    },
    {
      "cell_type": "code",
      "execution_count": null,
      "metadata": {
        "id": "48VeSLCYvEbA"
      },
      "outputs": [],
      "source": []
    }
  ],
  "metadata": {
    "colab": {
      "provenance": []
    },
    "kernelspec": {
      "display_name": "Python 3",
      "name": "python3"
    },
    "language_info": {
      "name": "python"
    }
  },
  "nbformat": 4,
  "nbformat_minor": 0
}