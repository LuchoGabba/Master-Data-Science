{
  "cells": [
    {
      "cell_type": "markdown",
      "metadata": {
        "id": "_pw5mQGPxjgc"
      },
      "source": [
        "<a href=\"https://colab.research.google.com/github/institutohumai/cursos-python/blob/master/MachineLearning/10_AprendizajeNoSupervisado/ejercicios/ejercicios.ipynb\"> <img src='https://colab.research.google.com/assets/colab-badge.svg' /> </a>"
      ]
    },
    {
      "cell_type": "markdown",
      "metadata": {
        "id": "B838-2Bwxjgg"
      },
      "source": [
        "## *Instalación/Importación de las librerías*"
      ]
    },
    {
      "cell_type": "code",
      "execution_count": null,
      "metadata": {
        "colab": {
          "base_uri": "https://localhost:8080/",
          "height": 1000
        },
        "id": "E7VCPoZ8xjgh",
        "outputId": "97d08c08-3426-4143-81d3-26b50fa773c6"
      },
      "outputs": [],
      "source": [
        "# !pip install pyeph"
      ]
    },
    {
      "cell_type": "code",
      "execution_count": null,
      "metadata": {
        "id": "DVxqAP0ixjgj"
      },
      "outputs": [],
      "source": [
        "import pyeph\n",
        "import seaborn as sns\n",
        "import matplotlib.pyplot as plt\n",
        "import pandas as pd\n",
        "from  matplotlib.ticker import FuncFormatter\n",
        "import seaborn as sns\n",
        "from sklearn.preprocessing import StandardScaler\n",
        "import plotly.express as px\n",
        "import numpy as np\n"
      ]
    },
    {
      "cell_type": "markdown",
      "metadata": {
        "id": "J44emMS5xjgk"
      },
      "source": [
        "## Obtención y exploración de las bases de datos"
      ]
    },
    {
      "cell_type": "code",
      "execution_count": null,
      "metadata": {
        "colab": {
          "base_uri": "https://localhost:8080/"
        },
        "id": "ZZtJJ8tMxjgk",
        "outputId": "0836c3c9-98b3-4c52-f9ef-570557e85553"
      },
      "outputs": [],
      "source": [
        "eph = pyeph.get(data=\"eph\", year=2021, period=2, tipo_base='hogar')\n",
        "canastas = pyeph.get(data=\"canastas\") # canasta basica total y alimentaria\n",
        "adequi = pyeph.get(data=\"adulto-equivalente\") # adulto equivalente"
      ]
    },
    {
      "cell_type": "markdown",
      "metadata": {},
      "source": [
        "Imprima las 10 primeras entradas de `eph`, ejecuta el método `.info()` y averigue las columnas disponibles"
      ]
    },
    {
      "cell_type": "code",
      "execution_count": null,
      "metadata": {
        "colab": {
          "base_uri": "https://localhost:8080/",
          "height": 456
        },
        "id": "qMC7W_Nbxjgl",
        "outputId": "89d38f0d-05ec-47b3-ecdb-056eee8bbf92"
      },
      "outputs": [],
      "source": [
        "# Type your code here:\n"
      ]
    },
    {
      "cell_type": "markdown",
      "metadata": {},
      "source": [
        "Recomendamos ampliar la exploración de los datos a lo que considere necesario."
      ]
    },
    {
      "cell_type": "markdown",
      "metadata": {
        "id": "9bYEMSWECBZb"
      },
      "source": [
        "## Reducción a las variables de interés\n",
        "\n",
        "Vemos columnas de interes en la documentación de la encuentas:\n",
        "\n",
        "https://www.indec.gob.ar/ftp/cuadros/menusuperior/eph/EPH_registro_4T2021.pdf\n",
        "\n",
        "Las columnas de interés son las siguientes:"
      ]
    },
    {
      "cell_type": "code",
      "execution_count": null,
      "metadata": {
        "id": "t__EX05izD5z"
      },
      "outputs": [],
      "source": [
        "columnas = ['REGION', 'MAS_500', 'AGLOMERADO', 'IV1', 'IV2', 'IV3', 'V4',  'IV5', 'IV6', 'IV7',\n",
        " 'IV8', 'IV9', 'IV10', 'IV11', 'II1', 'II2', 'II3', 'II4_3', 'II7', 'II8', 'II9',\n",
        " 'ITF', 'IPCF', 'IX_TOT']"
      ]
    },
    {
      "cell_type": "markdown",
      "metadata": {},
      "source": [
        "Cree una variable llamada `eph_redux` que reduja el dataframe `eph` a las columnas de interés:"
      ]
    },
    {
      "cell_type": "code",
      "execution_count": null,
      "metadata": {
        "id": "KLOj7CfECLSq"
      },
      "outputs": [],
      "source": [
        "# Type your code here:\n"
      ]
    },
    {
      "cell_type": "markdown",
      "metadata": {
        "id": "J4lVOEuQEMMo"
      },
      "source": [
        "## Limpieza de los datos\n",
        "\n",
        "1. Si durante la exploración fue minucioso habrá notado que la columna `'IPCF'` contiene valores decimales definidos por medio de comas. A fin de mantener una consistencia y facilitar futuras operaciones numéricas, convierta esas comas en puntos decimales.\n",
        "\n",
        "2. ¿Esta transformación cambia el tipo de datos en dicha columna a `float`? Si no es así, conviértala a `float`.\n",
        "\n",
        "3. Si exploró la columna `'MAS_500'` y leyó la documentación, sabrá que los únicos valores existentes son:\n",
        "\n",
        "    &emsp; N ->  Conjunto de aglomerados de menos de 500.000 habitantes\n",
        "\n",
        "    &emsp; S -> Conjunto de aglomerados de 500.000 y más habitantes\n",
        "\n",
        "    Reemplace los valores como se indica a continuación para representarlos como booleanos:\n",
        "\n",
        "    &emsp; N -> 0\n",
        "\n",
        "    &emsp; S -> 1\n",
        "\n",
        "4. Chequee por medio del método `.info()` que todas las columnas salvo `'IPCF'` sean de tipo `int64`."
      ]
    },
    {
      "cell_type": "code",
      "execution_count": null,
      "metadata": {
        "colab": {
          "base_uri": "https://localhost:8080/"
        },
        "id": "iFiGkpwCC00U",
        "outputId": "83ba1580-36b8-4003-e25f-b435c8aa7469"
      },
      "outputs": [],
      "source": [
        "# Type your code here:\n"
      ]
    },
    {
      "cell_type": "markdown",
      "metadata": {
        "id": "Ro_HaS1zlGHj"
      },
      "source": [
        "## Gráficas de interés\n",
        "\n",
        "Graficamos algunas distribuciones del DataFrame `eph_redux` empleando la librería Seaborn:\n",
        "\n",
        "1. Un histograma que muestra la distribución de valores en la columna `'IPCF'`.\n",
        "\n",
        "2. Un histograma que muestra la distribución de valores en la columna `'IV1'`.\n",
        "\n",
        "3. Una visualización de relaciones bivariadas entre las siguientes columnas: `'II8'`, `'II9'`, `'ITF'`, `'IPCF'`, `'IX_TOT'` y `'IV1'` (utilice la función `pairplot`). Coloree los puntos de los gráficos de dispersión según los valores de la columna `'IV1'` (este procedimiento nos permitirá entender cómo la variable 'IV1' se relaciona con las demás)."
      ]
    },
    {
      "cell_type": "code",
      "execution_count": null,
      "metadata": {
        "colab": {
          "base_uri": "https://localhost:8080/",
          "height": 386
        },
        "id": "tABZWdtCGGqt",
        "outputId": "6d85c66f-1501-4fec-b111-9cdb7c07db49"
      },
      "outputs": [],
      "source": [
        "# Type your code here:\n"
      ]
    },
    {
      "cell_type": "markdown",
      "metadata": {
        "id": "FK2kwiu2Ik8H"
      },
      "source": [
        "## Reducción de dimensionalidades\n",
        "\n",
        "Suponiendo que tenemos conjuntos convexos podemos reducir dimensionalidad con PCA.\n",
        "\n",
        "Pero utilizaremos otros métodos menos estudiados:"
      ]
    },
    {
      "cell_type": "code",
      "execution_count": null,
      "metadata": {
        "colab": {
          "base_uri": "https://localhost:8080/"
        },
        "id": "KAmjW4V9JxKs",
        "outputId": "ddbc5215-2676-4eef-d041-3b3a11123e22"
      },
      "outputs": [],
      "source": [
        "# !pip install umap-learn"
      ]
    },
    {
      "cell_type": "code",
      "execution_count": null,
      "metadata": {
        "id": "XzDB5IYWM0i8"
      },
      "outputs": [],
      "source": [
        "import umap"
      ]
    },
    {
      "cell_type": "markdown",
      "metadata": {},
      "source": [
        "El dataset `eph_redux` contiene diversos indicadores socioeconómicos que pueden variar en magnitud, unidad y rango. Para muchos algoritmos de Machine Learning, es crucial que todas las características tengan la misma escala para que el modelo funcione correctamente.\n",
        "\n",
        "**Objetivo:** Llevar a cabo una normalización standard de las características y luego aplicar la técnica de reducción de dimensionalidad UMAP para obtener proyecciones en 2D y 3D.\n",
        "\n",
        "1. Instancie un objeto `StandardScaler` y utilice el método `fit_transform` para normalizar todas las columnas del dataset `eph_redux` utilizando Scikit-learn. Debes obtener un nuevo conjunto de datos llamado `eph_redux_scaled`.\n",
        "\n",
        "    **Reminder:** La normalización standard ajustará cada característica para que tenga una media de 0 y una desviación estándar de 1.\n",
        "\n",
        "2. Instancie dos objetos de la clase UMAP: uno con 2 componentes llamado `reducer_2d` y otro con 3 componentes llamado `reducer_3d`.\n",
        "\n",
        "3. Usa el objeto `reducer_2d` para obtener una proyección en 2D de `eph_redux_scaled`. Guárdala en una variable llamada `embedding_2d`.\n",
        "\n",
        "4. Usa el objeto `reducer_3d` para obtener una proyección en 3D de `eph_redux_scaled`. Guárdala en una variable llamada `embedding_3d`.\n",
        "\n",
        "5. Verifica las dimensiones de `embedding_2d` y `embedding_3d` para asegurarte de que tienes una representación con las dimensiones correctas."
      ]
    },
    {
      "cell_type": "code",
      "execution_count": null,
      "metadata": {
        "colab": {
          "base_uri": "https://localhost:8080/"
        },
        "id": "bTK6TOWGIov0",
        "outputId": "c4555a46-14ba-4425-d2bd-7ced2357ce5e"
      },
      "outputs": [],
      "source": [
        "# Type your code here:\n"
      ]
    },
    {
      "cell_type": "markdown",
      "metadata": {},
      "source": [
        "Si has llamado correctamente a las variables, las siguientes celdas plotean los resultados de la reducción dimensional.\n",
        "\n",
        "**En 2D:**"
      ]
    },
    {
      "cell_type": "code",
      "execution_count": null,
      "metadata": {},
      "outputs": [],
      "source": [
        "plt.figure(figsize=(10, 8))\n",
        "plt.scatter(embedding_2d[:, 0], embedding_2d[:, 1], cmap='Spectral', s=5)\n",
        "plt.colorbar(boundaries=np.arange(11)-0.5).set_ticks(np.arange(10))\n",
        "plt.title('UMAP projection of the EPH dataset (2D)', fontsize=18)\n",
        "plt.show()"
      ]
    },
    {
      "cell_type": "markdown",
      "metadata": {},
      "source": [
        "**En 3D:**"
      ]
    },
    {
      "cell_type": "code",
      "execution_count": null,
      "metadata": {},
      "outputs": [],
      "source": [
        "fig = plt.figure(figsize=(10, 8))\n",
        "ax = fig.add_subplot(111, projection='3d')\n",
        "scatter = ax.scatter(embedding_3d[:, 0], embedding_3d[:, 1], embedding_3d[:, 2], s=5)\n",
        "plt.title('UMAP projection of the EPH dataset (3D)', fontsize=18)\n",
        "plt.show()"
      ]
    },
    {
      "cell_type": "markdown",
      "metadata": {
        "id": "uNysVEsPM46k"
      },
      "source": [
        "## Clustering\n",
        "\n",
        "Ver métodos de sci-kit learn en:\n",
        "\n",
        "https://scikit-learn.org/stable/modules/clustering.html"
      ]
    },
    {
      "cell_type": "code",
      "execution_count": null,
      "metadata": {
        "id": "01XjA6B6M3oi"
      },
      "outputs": [],
      "source": [
        "from sklearn.cluster import AffinityPropagation\n",
        "from sklearn import metrics\n",
        "from sklearn.cluster import MiniBatchKMeans\n",
        "from sklearn.metrics import homogeneity_score"
      ]
    },
    {
      "cell_type": "markdown",
      "metadata": {},
      "source": [
        "### Clustering con Affinity Propagation en Datos Reducidos\n",
        "\n",
        "Dado el conjunto de datos embedding_2d, que representa una proyección 2D de un dataset original de alta dimensión, se desea identificar patrones o agrupaciones naturales en los datos.\n",
        "\n",
        "1. Utilice el método `AffinityPropagation` de Scikit-learn para llevar a cabo una técnica de clustering en `embedding_2d`. Ajuste el parámetro `preference` a -50 y establezca un `random_state` de 0 para garantizar la reproducibilidad.\n",
        "\n",
        "2. Determine el número estimado de clusters obtenido.\n",
        "\n",
        "3. Calcule el coeficiente de silueta para evaluar la calidad de los clusters formados. Use la métrica `\"sqeuclidean\"` para esta tarea.\n",
        "\n",
        "4. Imprima el número estimado de clusters y el coeficiente de Silhouette.\n",
        "\n",
        "**Nota:** El coeficiente de Silhouette (silueta) es una métrica que mide qué tan similares son los objetos dentro de su propio cluster en comparación con otros clusters. Los valores más altos indican una mejor definición de clusters."
      ]
    },
    {
      "cell_type": "code",
      "execution_count": null,
      "metadata": {
        "id": "oJAnHohEOl4b"
      },
      "outputs": [],
      "source": [
        "# Type your code here:\n"
      ]
    },
    {
      "cell_type": "markdown",
      "metadata": {},
      "source": [
        "Se tomó su tiempo, eh... Sabes por qué?\n",
        "\n",
        "El tamaño de `embedding_2d` es de 15,620 muestras con 2 características cada una.\n",
        "\n",
        "`AffinityPropagation` tiene una complejidad cuadrática respecto al número de muestras. Esto significa que el tiempo de ejecución aumentará drásticamente con la adición de más muestras. Con 15,620 muestras, el algoritmo tiene que procesar en el orden de \n",
        "$15620^2$, o más de 244 millones de pares de muestras.\n",
        "\n",
        "😌"
      ]
    },
    {
      "cell_type": "markdown",
      "metadata": {},
      "source": [
        "### Clustering con MiniBatchKMeans en Embeddings 2D\n",
        "\n",
        "Continuemos con el mismo conjunto de datos reducido a 2 dimensiones, `embedding_2d`. La tarea es evaluar el rendimiento de `MiniBatchKMeans` con diferentes números de clusters para identificar la cantidad óptima.\n",
        "\n",
        "Pasos a seguir:\n",
        "\n",
        "1. Defina una lista de posibles cantidades de clusters a considerar: 2, 3, 5, 7, 10 y 13, que serán los hiperparámetros del modelo.\n",
        "\n",
        "2. Inicialice listas vacías `iner_list` y `homo_list` para almacenar la inercia y la homogeneidad de cada configuración, respectivamente.\n",
        "\n",
        "3. Inicialice un diccionario llamado `estimators` para guardar los modelos `MiniBatchKMeans` con diferentes números de clusters.\n",
        "\n",
        "4. Para cada cantidad de clusters en la lista:\n",
        "\n",
        "    * Cree una instancia de `MiniBatchKMeans` con el número actual de clusters.\n",
        "\n",
        "    * Ajuste el modelo al conjunto de datos `embedding_2d`.\n",
        "\n",
        "    * Almacene la inercia (`.inertia_`) del modelo en iner_list.\n",
        "\n",
        "**Nota:** En la solución proporcionada, solo se ha trabajado con la inercia. Si se quisieras trabajar también con la homogeneidad, debería calcularla y agregarla a homo_list en este paso. Lo dejo como ejercicio."
      ]
    },
    {
      "cell_type": "code",
      "execution_count": null,
      "metadata": {
        "id": "1Q_hSKJHPcWZ"
      },
      "outputs": [],
      "source": [
        "# Type your code here:\n"
      ]
    },
    {
      "cell_type": "markdown",
      "metadata": {},
      "source": [
        "**Visualización de la Inercia:**\n",
        "\n",
        "Analice `iner_list` para identificar la cantidad de clusters que minimiza la inercia. Utiliza Plotly para graficar cómo varía la inercia con diferentes números de clusters.\n",
        "\n",
        "* En el eje X, coloca el rango de los números de clusters (`K`).\n",
        "\n",
        "* En el eje Y, coloca los valores de inercia de la lista `iner_list`."
      ]
    },
    {
      "cell_type": "code",
      "execution_count": null,
      "metadata": {
        "colab": {
          "base_uri": "https://localhost:8080/",
          "height": 542
        },
        "id": "XpZ5igNkRTGC",
        "outputId": "45e627d7-2ba0-4342-aed2-a67f924bf4f1"
      },
      "outputs": [],
      "source": [
        "# Type your code here:\n"
      ]
    },
    {
      "cell_type": "markdown",
      "metadata": {},
      "source": [
        "En las siguientes celdas, tomemos uno de las entradas de nuestro diccionario `estimators`; `K=5`. Los valores indican a qué cluster pertenece cada punto.\n",
        "\n",
        "Se compara con la `.shape` de `embedding_2d`."
      ]
    },
    {
      "cell_type": "code",
      "execution_count": null,
      "metadata": {
        "colab": {
          "base_uri": "https://localhost:8080/"
        },
        "id": "l_HrY8U5TXi0",
        "outputId": "78862c4d-31ed-4f60-b985-da3a7886d142"
      },
      "outputs": [],
      "source": [
        "estimators[5].labels_.reshape(-1, 1).shape"
      ]
    },
    {
      "cell_type": "code",
      "execution_count": null,
      "metadata": {
        "colab": {
          "base_uri": "https://localhost:8080/"
        },
        "id": "IFE__GiCTx03",
        "outputId": "cf1981c5-ad20-4223-a460-a2b1d7d2aff7"
      },
      "outputs": [],
      "source": [
        "embedding_2d.shape"
      ]
    },
    {
      "cell_type": "markdown",
      "metadata": {},
      "source": [
        "**Preparación de datos para la visualización:**\n",
        "\n",
        "Crea un DataFrame llamado `data` que contenga las coordenadas de `embedding_2d` y las etiquetas del modelo con 5 clusters. \n",
        "\n",
        "Las columnas podrían llamarse `'x'`, `'y'` y `'cluster'` respectivamente.\n",
        "\n",
        "Imprima las 5 primeras entradas del dataframe."
      ]
    },
    {
      "cell_type": "code",
      "execution_count": null,
      "metadata": {
        "id": "9w72WvwpTiPn"
      },
      "outputs": [],
      "source": [
        "# Type your code here:\n"
      ]
    },
    {
      "cell_type": "markdown",
      "metadata": {},
      "source": [
        "**Visualización de los Clusters:**\n",
        "\n",
        "Utilizando Plotly, crea un gráfico de dispersión de los datos en `data`.\n",
        "\n",
        "Usa las columnas `'x'` e `'y'` para los ejes X e Y respectivamente.\n",
        "\n",
        "Colorea los puntos según la columna `'cluster'` para distinguir entre los diferentes clusters."
      ]
    },
    {
      "cell_type": "code",
      "execution_count": null,
      "metadata": {
        "id": "PFk0ax-4O5i1"
      },
      "outputs": [],
      "source": [
        "# Type your code here:\n"
      ]
    }
  ],
  "metadata": {
    "colab": {
      "provenance": []
    },
    "kernelspec": {
      "display_name": "Python 3.8.8 ('base')",
      "language": "python",
      "name": "python3"
    },
    "language_info": {
      "codemirror_mode": {
        "name": "ipython",
        "version": 3
      },
      "file_extension": ".py",
      "mimetype": "text/x-python",
      "name": "python",
      "nbconvert_exporter": "python",
      "pygments_lexer": "ipython3",
      "version": "3.11.5"
    },
    "vscode": {
      "interpreter": {
        "hash": "988c801e8fa6188d3e53012a7256361dd6100dad47899d4700f624e035bcb20b"
      }
    }
  },
  "nbformat": 4,
  "nbformat_minor": 0
}
