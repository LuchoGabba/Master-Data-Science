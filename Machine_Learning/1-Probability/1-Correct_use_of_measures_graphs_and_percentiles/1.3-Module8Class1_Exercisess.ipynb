{
  "nbformat": 4,
  "nbformat_minor": 0,
  "metadata": {
    "colab": {
      "provenance": []
    },
    "kernelspec": {
      "name": "python3",
      "display_name": "Python 3"
    },
    "language_info": {
      "name": "python"
    }
  },
  "cells": [
    {
      "cell_type": "markdown",
      "source": [
        "#<font color='#97171e'>AIT - Master in Data Science</font> 📈\n",
        "# **Module 8: Class 1-Exercises**\n",
        "\n",
        "In the following sections we'll use a dataset from 2013 that has information about students from a Statistics slass of [Bratislava Comenius University](https://fses.uniba.sk/en/) and their friends.\n",
        "\n",
        "The file **responses.csv** has 1010 rows and 150 columns (139 numerical and 11 categorical). There are missing values.\n",
        "\n",
        "To ease the job, the original variable names were changed. The original names are stored in **columns.csv**.\n",
        "\n",
        "The original answers were in Slovak but they were translated to English.\n",
        "\n",
        "The surveyed people were from Slovakia and they were between 15 and 30 years old.\n",
        "\n",
        "More details can be found in the following [document](https://docs.google.com/document/d/1YI94OKNvQSRY6oiocuUVjVWLP8r9N1wc1DiqHqcHEEY/edit?usp=sharing)."
      ],
      "metadata": {
        "id": "1_kJEFG3AQXu"
      }
    },
    {
      "cell_type": "markdown",
      "source": [
        "## <a id=\"location\"><font color='#97171e'>**Exercise 1**</font></a>\n",
        "\n",
        "Replace the missing values in 'Weight' column considering the symmetry and outliers to choose suitable values for the replacement."
      ],
      "metadata": {
        "id": "36eWG1IYBumP"
      }
    },
    {
      "cell_type": "code",
      "source": [],
      "metadata": {
        "id": "lau6tO-FcuB3"
      },
      "execution_count": null,
      "outputs": []
    },
    {
      "cell_type": "markdown",
      "source": [
        "## <a id=\"location\"><font color='#97171e'>**Exercise 2**</font></a>\n",
        "\n",
        "In each case make a suitable graph."
      ],
      "metadata": {
        "id": "ZMxzaB15WRXD"
      }
    },
    {
      "cell_type": "markdown",
      "source": [
        "### Visualization to show the amount of siblings, detecting outliers."
      ],
      "metadata": {
        "id": "dCs4u1sbCnCr"
      }
    },
    {
      "cell_type": "code",
      "source": [],
      "metadata": {
        "id": "p22Rcc5tcsIV"
      },
      "execution_count": null,
      "outputs": []
    },
    {
      "cell_type": "markdown",
      "source": [
        "### Visualization to show the distribution of the heights."
      ],
      "metadata": {
        "id": "aEU997O0EZ-1"
      }
    },
    {
      "cell_type": "code",
      "source": [],
      "metadata": {
        "id": "mP8jVQZecscT"
      },
      "execution_count": null,
      "outputs": []
    },
    {
      "cell_type": "markdown",
      "source": [
        "### Visualization that shows the relationship between height and weight"
      ],
      "metadata": {
        "id": "t_CDYKNcE4Bq"
      }
    },
    {
      "cell_type": "code",
      "source": [],
      "metadata": {
        "id": "dJ_x54ejcs5_"
      },
      "execution_count": null,
      "outputs": []
    },
    {
      "cell_type": "markdown",
      "source": [
        "### Visualization that shows the amount of people of each age"
      ],
      "metadata": {
        "id": "6z7iSOMzbSUe"
      }
    },
    {
      "cell_type": "code",
      "source": [],
      "metadata": {
        "id": "33kuyeB4ctnH"
      },
      "execution_count": null,
      "outputs": []
    }
  ]
}