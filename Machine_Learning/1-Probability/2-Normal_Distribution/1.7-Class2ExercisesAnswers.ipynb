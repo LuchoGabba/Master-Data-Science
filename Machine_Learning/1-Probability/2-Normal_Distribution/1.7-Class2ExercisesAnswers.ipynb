{
  "nbformat": 4,
  "nbformat_minor": 0,
  "metadata": {
    "colab": {
      "provenance": []
    },
    "kernelspec": {
      "name": "python3",
      "display_name": "Python 3"
    },
    "language_info": {
      "name": "python"
    }
  },
  "cells": [
    {
      "cell_type": "markdown",
      "source": [
        "#<font color='#97171e'>AIT - Master in Data Science</font> 📈\n",
        "# **Module 8: Class 2-Exercises**"
      ],
      "metadata": {
        "id": "G5rv-GvWIUBV"
      }
    },
    {
      "cell_type": "markdown",
      "source": [
        "## **<font color='#97171e'>Ejercicio 1</font>**\n",
        "\n",
        "El menor tiempo logrado por une atleta en una carrera de 400m es llamado su \"personal best\" (PB). Los PBs de les atletas en un club siguen una distribución normal con esperanza de 49.2 segundos y std de 2.8 segundos.\n"
      ],
      "metadata": {
        "id": "spLvt1EERLoX"
      }
    },
    {
      "cell_type": "code",
      "source": [
        "from scipy.stats import norm\n",
        "\n",
        "mean, std = 49.2, 2.8"
      ],
      "metadata": {
        "id": "EKpUX83VMg-c"
      },
      "execution_count": null,
      "outputs": []
    },
    {
      "cell_type": "markdown",
      "source": [
        "### Hallar la probabilidad de que une atleta de este club tenga un PB entre 46 y 53 segundos."
      ],
      "metadata": {
        "id": "QikteQj_NAOJ"
      }
    },
    {
      "cell_type": "code",
      "source": [
        "# P(46<=Z<=53)\n",
        "norm.cdf(53, mean, std)-norm.cdf(46, mean, std)"
      ],
      "metadata": {
        "colab": {
          "base_uri": "https://localhost:8080/"
        },
        "id": "7ljO2nTQ-sIV",
        "outputId": "93da9f3a-4cff-4d6a-9e88-ea586fff047d"
      },
      "execution_count": null,
      "outputs": [
        {
          "output_type": "execute_result",
          "data": {
            "text/plain": [
              "0.7860831339188188"
            ]
          },
          "metadata": {},
          "execution_count": 4
        }
      ]
    },
    {
      "cell_type": "markdown",
      "source": [
        "### Se sabe que el 92% de les atletas de este club tienen PBs de más de t segundos. Hallar el valor de t."
      ],
      "metadata": {
        "id": "Clpb1L4KNfBk"
      }
    },
    {
      "cell_type": "code",
      "source": [
        "norm.ppf(0.92, mean, std)"
      ],
      "metadata": {
        "id": "Ykngwo_QNcFU",
        "colab": {
          "base_uri": "https://localhost:8080/"
        },
        "outputId": "011e206f-fcd9-422a-dd9d-5b7e23ee12bc"
      },
      "execution_count": null,
      "outputs": [
        {
          "output_type": "execute_result",
          "data": {
            "text/plain": [
              "53.13420036886698"
            ]
          },
          "metadata": {},
          "execution_count": 10
        }
      ]
    },
    {
      "cell_type": "markdown",
      "source": [
        "### Tres atletas del club son seleccionades al azar. Calcular la probabilidad de que exactamente 2 tengan PBs menores a 46 segundos⭐️"
      ],
      "metadata": {
        "id": "MreooVoOHUVH"
      }
    },
    {
      "cell_type": "code",
      "source": [
        "from scipy.stats import binom\n",
        "\n",
        "# P(Z<=46)\n",
        "menor_46 = norm.cdf(46, mean, std)\n",
        "\n",
        "# X binom(3, menor_46)\n",
        "n, p = 3, menor_46\n",
        "\n",
        "binom.pmf(2, n, p)"
      ],
      "metadata": {
        "id": "6Lrf_Ei-HUVH",
        "colab": {
          "base_uri": "https://localhost:8080/"
        },
        "outputId": "f7aa01ab-ed02-4be4-88cb-8626e9f2cd01"
      },
      "execution_count": null,
      "outputs": [
        {
          "output_type": "execute_result",
          "data": {
            "text/plain": [
              "0.041964006595717904"
            ]
          },
          "metadata": {},
          "execution_count": 14
        }
      ]
    },
    {
      "cell_type": "markdown",
      "source": [
        "## **<font color='#97171e'>Ejercicio 2</font>** ⭐️\n",
        "\n",
        "El volumen de tinta de un tipo de cartucho tiene una distribución normal con esperanza 30ml y std 1.5ml. La gente de la oficina usa un total de 8 cartuchos de este estilo por mes. Calcular la cantidad de cartuchos por mes que contienen menos de 28.9ml de tinta.\n"
      ],
      "metadata": {
        "id": "K5Rpu2rKHMy_"
      }
    },
    {
      "cell_type": "code",
      "source": [
        "mean, std = 30, 1.5\n",
        "\n",
        "menos_cant = norm.cdf(28.9, mean, std)\n",
        "\n",
        "print(8*menos_cant)"
      ],
      "metadata": {
        "id": "XgDutiqeHMzE",
        "colab": {
          "base_uri": "https://localhost:8080/"
        },
        "outputId": "624e6d8f-292f-4102-c019-fa40aa135f27"
      },
      "execution_count": null,
      "outputs": [
        {
          "output_type": "stream",
          "name": "stdout",
          "text": [
            "1.853420597078384\n"
          ]
        }
      ]
    },
    {
      "cell_type": "markdown",
      "source": [
        "## **<font color='#97171e'>Ejercicio 3</font>**\n",
        "\n",
        "El diámetro de las manzanas de una huerta tienen distribución normal con esperanza 5.7cm y std 0.8 cm. Aquellas manzanas que tienen diámetro entre 4.1 cm y 5cm pueden ser utilizadas para hacer manzanas caramelizadas.\n"
      ],
      "metadata": {
        "id": "_AvMEsRMIbGf"
      }
    },
    {
      "cell_type": "markdown",
      "source": [
        "### Hallar la probabilidad de que una manzana seleccionada al azar pueda ser utilizada para hacerse caramelizada."
      ],
      "metadata": {
        "id": "zmriHMEIHMzE"
      }
    },
    {
      "cell_type": "code",
      "source": [
        "mean, std = 5.7, 0.8\n",
        "\n",
        "norm.cdf(5, mean, std)-norm.cdf(4.1, mean, std)"
      ],
      "metadata": {
        "id": "DdauHJyaHMzE",
        "colab": {
          "base_uri": "https://localhost:8080/"
        },
        "outputId": "ee4eab88-9236-4674-bc0b-d856bf8c082f"
      },
      "execution_count": null,
      "outputs": [
        {
          "output_type": "execute_result",
          "data": {
            "text/plain": [
              "0.16803682090433134"
            ]
          },
          "metadata": {},
          "execution_count": 2
        }
      ]
    },
    {
      "cell_type": "markdown",
      "source": [
        "### 250 manzanas son elegidas al azar. Usar una aproximación apropiada para calcular la probabilidad de que menos de 50 de ellas puedan ser utilizadas para ser caramelizadas."
      ],
      "metadata": {
        "id": "9peatjHUJCN3"
      }
    },
    {
      "cell_type": "code",
      "source": [
        "from math import sqrt\n",
        "# Proba 1 manzana elegida al azar puede caramelizarse\n",
        "\n",
        "manzana_caramel = norm.cdf(5, mean, std)-norm.cdf(4.1, mean, std)\n",
        "\n",
        "# X normal(np, npq)\n",
        "\n",
        "mean2 = 250*manzana_caramel\n",
        "std2 = sqrt(250*manzana_caramel*(1-manzana_caramel))\n",
        "\n",
        "norm.cdf(49.5, loc=mean2, scale=std2)"
      ],
      "metadata": {
        "id": "7OPppBqqJCN3",
        "colab": {
          "base_uri": "https://localhost:8080/"
        },
        "outputId": "22253635-4768-4dbc-dabb-dd621512d3c5"
      },
      "execution_count": null,
      "outputs": [
        {
          "output_type": "execute_result",
          "data": {
            "text/plain": [
              "0.8974364365617424"
            ]
          },
          "metadata": {},
          "execution_count": 8
        }
      ]
    }
  ]
}