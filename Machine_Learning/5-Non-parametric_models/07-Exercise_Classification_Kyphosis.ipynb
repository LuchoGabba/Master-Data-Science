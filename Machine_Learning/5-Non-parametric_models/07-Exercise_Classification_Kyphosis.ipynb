{
 "cells": [
  {
   "cell_type": "markdown",
   "id": "6c7ddc28",
   "metadata": {},
   "source": [
    "# Exercise Kyphosis\n",
    "\n",
    "In this exercise we'll work with data about Kyphosis pain, original source of the data can be found in: https://www.kaggle.com/code/srolka/kyphosis-decision-tree-and-random-forest/data\n",
    "\n",
    "Kyphosis is a medical condition that causes a forward curving of the back. It can occur at any age but is most common in older women. Here, the data frame has 81 rows and 4 columns . representing data on patients who have had corrective spinal surgery\n",
    "\n",
    "Data contains the following columns:\n",
    "* Kyphosis:\n",
    "    * absent\n",
    "    * present\n",
    "* Age:\n",
    "    * In months\n",
    "* Number:\n",
    "    * From 2 to 10\n",
    "    * The number of vertebrae involved\n",
    "* Start:\n",
    "    * From 1 to 18\n",
    "    * The number of the first vertebra operated on.\n",
    "\n",
    "With the following data you should be able to do:\n",
    "* Explore the data\n",
    "* Perform a data pre-processing\n",
    "* Use Decission Tree model\n",
    "* Evaluate the model with confussion matrix \n",
    "* Evaluate the model with classification report\n",
    "\n",
    "## Solution"
   ]
  },
  {
   "cell_type": "code",
   "execution_count": 1,
   "id": "9a0956ef",
   "metadata": {},
   "outputs": [],
   "source": [
    "# Type your code here:"
   ]
  }
 ],
 "metadata": {
  "kernelspec": {
   "display_name": "Python 3",
   "language": "python",
   "name": "python3"
  },
  "language_info": {
   "codemirror_mode": {
    "name": "ipython",
    "version": 3
   },
   "file_extension": ".py",
   "mimetype": "text/x-python",
   "name": "python",
   "nbconvert_exporter": "python",
   "pygments_lexer": "ipython3",
   "version": "3.7.6"
  }
 },
 "nbformat": 4,
 "nbformat_minor": 5
}
